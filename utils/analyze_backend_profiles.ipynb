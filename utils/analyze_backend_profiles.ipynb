{
 "cells": [
  {
   "cell_type": "markdown",
   "metadata": {},
   "source": [
    "# Setup"
   ]
  },
  {
   "cell_type": "code",
   "execution_count": 34,
   "metadata": {},
   "outputs": [],
   "source": [
    "import pandas as pd\n",
    "import seaborn as sns\n",
    "import tracemalloc\n",
    "import linecache\n",
    "from src.profiling import load_pkl\n",
    "from src.viz import plot_grouped_barchart, _bytes_to_readable_fmt\n",
    "import yappi\n",
    "from velour.client import Client\n",
    "import warnings"
   ]
  },
  {
   "cell_type": "markdown",
   "metadata": {},
   "source": [
    "## cprofile\n",
    "\n",
    "Use this command to analyze CProfile reports in snakeviz:\n",
    "\n",
    "```\n",
    "snakeviz utils/profiles/create_groundtruths.cprofile\n",
    "```"
   ]
  },
  {
   "cell_type": "markdown",
   "metadata": {},
   "source": [
    "## tracemalloc"
   ]
  },
  {
   "cell_type": "code",
   "execution_count": 35,
   "metadata": {},
   "outputs": [],
   "source": [
    "tracemalloc_path = 'profiles/create_groundtruths.tracemalloc'\n",
    "snapshot = tracemalloc.Snapshot.load(tracemalloc_path)\n",
    "tracemalloc_dct = load_pkl(tracemalloc_path + '.pkl')"
   ]
  },
  {
   "cell_type": "code",
   "execution_count": 46,
   "metadata": {},
   "outputs": [
    {
     "name": "stdout",
     "output_type": "stream",
     "text": [
      "Original size: 961.7 kB\n",
      "Final size: 1.1 MB\n",
      "Percent Change: 20.701585%\n",
      "\n",
      "Original peak: 1.9 MB\n",
      "Final peak: 1.6 MB\n",
      "Percent Change: -13.880409%\n"
     ]
    }
   ],
   "source": [
    "def _print_tracemalloc_peaks(dct:dict):\n",
    "    size_pct = (dct[\"second_size\"]-dct[\"first_size\"])/dct[\"first_size\"]\n",
    "    print(f'Original size: {_bytes_to_readable_fmt(dct[\"first_size\"], 0)}')\n",
    "    print(f'Final size: {_bytes_to_readable_fmt(dct[\"second_size\"], 0)}')\n",
    "    print(f'Percent Change: {size_pct:2%}')\n",
    "    print('')\n",
    "\n",
    "    size_pct = (dct[\"second_peak\"]-dct[\"first_peak\"])/dct[\"first_peak\"]\n",
    "    print(f'Original peak: {_bytes_to_readable_fmt(dct[\"first_peak\"], 0)}')\n",
    "    print(f'Final peak: {_bytes_to_readable_fmt(dct[\"second_peak\"], 0)}')\n",
    "    print(f'Percent Change: {size_pct:2%}')\n",
    "\n",
    "\n",
    "_print_tracemalloc_peaks(tracemalloc_dct)"
   ]
  },
  {
   "cell_type": "code",
   "execution_count": 25,
   "metadata": {},
   "outputs": [
    {
     "name": "stdout",
     "output_type": "stream",
     "text": [
      "Top 10 lines\n",
      "#1: /Users/nthorlind/git/sw/velour/api/velour_api/backend/core/annotation.py:25: 0.9 KiB\n",
      "    loc: /Users/nthorlind/git/sw/velour/api/velour_api/backend/core/annotation.py:25\n",
      "    func: def create_annotation(\n",
      "#2: /Users/nthorlind/git/sw/velour/api/velour_api/backend/stateflow.py:97: 0.9 KiB\n",
      "    loc: /Users/nthorlind/git/sw/velour/api/velour_api/backend/stateflow.py:97\n",
      "    func: def wrapper(*args, **kwargs):\n",
      "#3: /Users/nthorlind/git/sw/velour/api/velour_api/backend/core/metadata.py:14: 0.8 KiB\n",
      "    loc: /Users/nthorlind/git/sw/velour/api/velour_api/backend/core/metadata.py:14\n",
      "    func: def create_metadatum(\n",
      "#4: /Users/nthorlind/git/sw/velour/api/velour_api/schemas/stateflow.py:160: 0.6 KiB\n",
      "    loc: /Users/nthorlind/git/sw/velour/api/velour_api/schemas/stateflow.py:160\n",
      "    func: def set_dataset_status(self, dataset_name: str, status: State):\n",
      "#5: /Users/nthorlind/git/sw/velour/api/velour_api/backend/query/groundtruth.py:8: 0.5 KiB\n",
      "    loc: /Users/nthorlind/git/sw/velour/api/velour_api/backend/query/groundtruth.py:8\n",
      "    func: def create_groundtruth(\n",
      "#6: /Users/nthorlind/git/sw/velour/api/velour_api/backend/core/dataset.py:44: 0.5 KiB\n",
      "    loc: /Users/nthorlind/git/sw/velour/api/velour_api/backend/core/dataset.py:44\n",
      "    func: def create_datum(\n",
      "#7: /Users/nthorlind/git/sw/velour/api/velour_api/backend/core/metadata.py:62: 0.4 KiB\n",
      "    loc: /Users/nthorlind/git/sw/velour/api/velour_api/backend/core/metadata.py:62\n",
      "    func: def create_metadata(\n",
      "#8: /Users/nthorlind/git/sw/velour/api/velour_api/main.py:56: 0.4 KiB\n",
      "    loc: /Users/nthorlind/git/sw/velour/api/velour_api/main.py:56\n",
      "    func: @app.post(\n",
      "#9: /Users/nthorlind/git/sw/velour/api/velour_api/enums.py:99: 0.4 KiB\n",
      "    loc: /Users/nthorlind/git/sw/velour/api/velour_api/enums.py:99\n",
      "    func: def next(self):\n",
      "#10: /Users/nthorlind/git/sw/velour/api/velour_api/backend/core/label.py:9: 0.4 KiB\n",
      "    loc: /Users/nthorlind/git/sw/velour/api/velour_api/backend/core/label.py:9\n",
      "    func: def create_label(\n",
      "28 other: 6.0 KiB\n",
      "Total allocated size: 11.9 KiB\n"
     ]
    }
   ],
   "source": [
    "\n",
    "def _display_top_tracemalloc(snapshot:tracemalloc.Snapshot, key_type:str='lineno', limit:int=10):\n",
    "    snapshot = snapshot.filter_traces((\n",
    "        tracemalloc.Filter(False, \"<frozen importlib._bootstrap>\"),\n",
    "        tracemalloc.Filter(False, \"<unknown>\"),\n",
    "        tracemalloc.Filter(True, '*/velour/*')\n",
    "    ))\n",
    "    top_stats = snapshot.statistics(key_type)\n",
    "\n",
    "    print(\"Top %s lines\" % limit)\n",
    "    for index, stat in enumerate(top_stats[:limit], 1):\n",
    "        frame = stat.traceback[0]\n",
    "        print(\"#%s: %s:%s: %.1f KiB\"\n",
    "              % (index, frame.filename, frame.lineno, stat.size / 1024))\n",
    "        line = linecache.getline(frame.filename, frame.lineno).strip()\n",
    "        if line:\n",
    "            print('    loc: %s:%s' % (frame.filename, frame.lineno))\n",
    "            print('    func: %s' % line)\n",
    "\n",
    "    other = top_stats[limit:]\n",
    "    if other:\n",
    "        size = sum(stat.size for stat in other)\n",
    "        print(\"%s other: %.1f KiB\" % (len(other), size / 1024))\n",
    "    total = sum(stat.size for stat in top_stats)\n",
    "    print(\"Total allocated size: %.1f KiB\" % (total / 1024))\n",
    "\n",
    "_display_top_tracemalloc(snapshot=snapshot)"
   ]
  },
  {
   "cell_type": "markdown",
   "metadata": {},
   "source": [
    "## yappi\n",
    "\n",
    "Difficult to visualize without KCacheGrind or outside tools."
   ]
  },
  {
   "cell_type": "code",
   "execution_count": 7,
   "metadata": {},
   "outputs": [
    {
     "name": "stdout",
     "output_type": "stream",
     "text": [
      "\n",
      "Clock type: WALL\n",
      "Ordered by: tsub, desc\n",
      "\n",
      "name                                  ncall  tsub      ttot      tavg      \n",
      "..hon3.11/asyncio/tasks.py:627 sleep  17     1.511360  1.511749  0.088926\n",
      "..y:311 _set_result_unless_cancelled  17     0.000153  0.000413  0.000024\n",
      "..icorn/server.py:235 Server.on_tick  17     0.000125  0.000246  0.000014\n",
      "..tils/src/profiling.py:86 wrap_func  2/1    0.000038  1.658119  0.829059\n",
      "..3.11/email/utils.py:126 formatdate  2      0.000019  0.000107  0.000053\n",
      "...py:117 _format_timetuple_and_zone  2      0.000018  0.000018  0.000009\n",
      "..email/utils.py:155 format_datetime  2      0.000013  0.000060  0.000030\n",
      "..thon3.11/copyreg.py:113 _slotnames  4      0.000011  0.000017  0.000004\n",
      "..orn/server.py:226 Server.main_loop  1      0.000000  0.000000  0.000000\n",
      "../uvicorn/server.py:63 Server.serve  1      0.000000  0.000000  0.000000\n"
     ]
    }
   ],
   "source": [
    "stats = yappi.get_func_stats()\n",
    "stats.add(\"profiles/create_groundtruths.yappi\")\n",
    "\n",
    "stats.sort(\"tsub\", \"desc\").print_all()"
   ]
  }
 ],
 "metadata": {
  "kernelspec": {
   "display_name": "Python 3",
   "language": "python",
   "name": "python3"
  },
  "language_info": {
   "codemirror_mode": {
    "name": "ipython",
    "version": 3
   },
   "file_extension": ".py",
   "mimetype": "text/x-python",
   "name": "python",
   "nbconvert_exporter": "python",
   "pygments_lexer": "ipython3",
   "version": "3.11.5"
  },
  "orig_nbformat": 4
 },
 "nbformat": 4,
 "nbformat_minor": 2
}
