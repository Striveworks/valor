{
 "cells": [
  {
   "cell_type": "markdown",
   "metadata": {},
   "source": [
    "# Setup"
   ]
  },
  {
   "cell_type": "code",
   "execution_count": 1,
   "metadata": {},
   "outputs": [],
   "source": [
    "import pandas as pd\n",
    "import seaborn as sns\n",
    "import os\n",
    "import linecache\n",
    "\n",
    "from src.profiling import load_pkl\n",
    "from src.viz import plot_grouped_barchart, convert_shortened_bytes_to_int, bytes_to_readable_fmt\n",
    "import tracemalloc\n",
    "import warnings\n",
    "import yappi\n",
    "warnings.filterwarnings(\"ignore\")\n",
    "sns.set_style(\"whitegrid\")"
   ]
  },
  {
   "cell_type": "markdown",
   "metadata": {},
   "source": [
    "# Analyze Overall Results"
   ]
  },
  {
   "cell_type": "code",
   "execution_count": 4,
   "metadata": {},
   "outputs": [
    {
     "data": {
      "text/plain": [
       "Index(['client', 'dataset_name', 'n_images', 'n_annotations', 'n_labels',\n",
       "       'start', 'total_runtime_seconds', 'exception',\n",
       "       'postgis/postgis_disk_space', 'postgis/postgis_cpu_util',\n",
       "       'postgis/postgis_mem_util', 'redis_disk_space', 'redis_cpu_util',\n",
       "       'redis_mem_util', 'total_runtime_minutes',\n",
       "       'postgis/postgis_disk_space_used', 'postgis/postgis_disk_space_virtual',\n",
       "       'postgis/postgis_disk_space_total', 'redis_disk_space_used',\n",
       "       'redis_disk_space_virtual', 'redis_disk_space_total',\n",
       "       'client_tracemalloc_top10'],\n",
       "      dtype='object')"
      ]
     },
     "execution_count": 4,
     "metadata": {},
     "output_type": "execute_result"
    }
   ],
   "source": [
    "files_to_load = ['profiling']\n",
    "\n",
    "results = []\n",
    "for file in files_to_load:\n",
    "    results += load_pkl(f\"{os.getcwd()}/profiles/{file}.pkl\")\n",
    "\n",
    "df = pd.DataFrame.from_records(results)\n",
    "\n",
    "df['total_runtime_minutes'] = df['total_runtime_seconds'] / 60\n",
    "\n",
    "# parse docker output into bytes\n",
    "for col in ['postgis/postgis_disk_space', 'redis_disk_space']:\n",
    "    split_df = df.loc[:, col].str.split('(', expand=True)\n",
    "    split_df[1] = split_df[1].replace(to_replace='\\)', value=\"\", regex=True).replace(to_replace='virtual ', value=\"\", regex=True)\n",
    "    split_df = split_df.applymap(convert_shortened_bytes_to_int)\n",
    "    split_df.columns = [f'{col}_used', f'{col}_virtual']\n",
    "    split_df[f'{col}_total'] = split_df.sum(axis=1)\n",
    "    df = pd.concat([df, split_df], axis=1)\n",
    "\n",
    "for col in ['postgis/postgis_cpu_util', 'redis_cpu_util', 'postgis/postgis_mem_util', 'redis_mem_util']:\n",
    "    df[col] = df[col].str.rstrip('%').astype('float') / 100.0\n",
    "\n",
    "\n",
    "# combine tracemalloc columns\n",
    "df['client_tracemalloc_top10'] = df[[i for i in range(10)]].apply(dict, axis=1)\n",
    "df.drop([i for i in range(10)], axis=1, inplace=True)\n",
    "df.columns"
   ]
  },
  {
   "cell_type": "code",
   "execution_count": 5,
   "metadata": {},
   "outputs": [
    {
     "data": {
      "text/html": [
       "<div>\n",
       "<style scoped>\n",
       "    .dataframe tbody tr th:only-of-type {\n",
       "        vertical-align: middle;\n",
       "    }\n",
       "\n",
       "    .dataframe tbody tr th {\n",
       "        vertical-align: top;\n",
       "    }\n",
       "\n",
       "    .dataframe thead th {\n",
       "        text-align: right;\n",
       "    }\n",
       "</style>\n",
       "<table border=\"1\" class=\"dataframe\">\n",
       "  <thead>\n",
       "    <tr style=\"text-align: right;\">\n",
       "      <th></th>\n",
       "      <th>client</th>\n",
       "      <th>dataset_name</th>\n",
       "      <th>n_images</th>\n",
       "      <th>n_annotations</th>\n",
       "      <th>n_labels</th>\n",
       "      <th>start</th>\n",
       "      <th>total_runtime_seconds</th>\n",
       "      <th>exception</th>\n",
       "      <th>postgis/postgis_disk_space</th>\n",
       "      <th>postgis/postgis_cpu_util</th>\n",
       "      <th>...</th>\n",
       "      <th>redis_cpu_util</th>\n",
       "      <th>redis_mem_util</th>\n",
       "      <th>total_runtime_minutes</th>\n",
       "      <th>postgis/postgis_disk_space_used</th>\n",
       "      <th>postgis/postgis_disk_space_virtual</th>\n",
       "      <th>postgis/postgis_disk_space_total</th>\n",
       "      <th>redis_disk_space_used</th>\n",
       "      <th>redis_disk_space_virtual</th>\n",
       "      <th>redis_disk_space_total</th>\n",
       "      <th>client_tracemalloc_top10</th>\n",
       "    </tr>\n",
       "  </thead>\n",
       "  <tbody>\n",
       "    <tr>\n",
       "      <th>0</th>\n",
       "      <td>&lt;velour.client.Client object at 0x147886a90&gt;</td>\n",
       "      <td>profiling16</td>\n",
       "      <td>2</td>\n",
       "      <td>2</td>\n",
       "      <td>2</td>\n",
       "      <td>168336.837575</td>\n",
       "      <td>1.78</td>\n",
       "      <td></td>\n",
       "      <td>63B (virtual 593MB)</td>\n",
       "      <td>0.0001</td>\n",
       "      <td>...</td>\n",
       "      <td>0.0024</td>\n",
       "      <td>0.0018</td>\n",
       "      <td>0.029667</td>\n",
       "      <td>63</td>\n",
       "      <td>621805568</td>\n",
       "      <td>621805631</td>\n",
       "      <td>0</td>\n",
       "      <td>191889408</td>\n",
       "      <td>191889408</td>\n",
       "      <td>{0: {'filename': '/Users/nthorlind/git/sw/velo...</td>\n",
       "    </tr>\n",
       "  </tbody>\n",
       "</table>\n",
       "<p>1 rows × 22 columns</p>\n",
       "</div>"
      ],
      "text/plain": [
       "                                         client dataset_name  n_images  \\\n",
       "0  <velour.client.Client object at 0x147886a90>  profiling16         2   \n",
       "\n",
       "   n_annotations  n_labels          start  total_runtime_seconds exception  \\\n",
       "0              2         2  168336.837575                   1.78             \n",
       "\n",
       "  postgis/postgis_disk_space  postgis/postgis_cpu_util  ...  redis_cpu_util  \\\n",
       "0        63B (virtual 593MB)                    0.0001  ...          0.0024   \n",
       "\n",
       "  redis_mem_util  total_runtime_minutes  postgis/postgis_disk_space_used  \\\n",
       "0         0.0018               0.029667                               63   \n",
       "\n",
       "   postgis/postgis_disk_space_virtual  postgis/postgis_disk_space_total  \\\n",
       "0                           621805568                         621805631   \n",
       "\n",
       "   redis_disk_space_used  redis_disk_space_virtual  redis_disk_space_total  \\\n",
       "0                      0                 191889408               191889408   \n",
       "\n",
       "                            client_tracemalloc_top10  \n",
       "0  {0: {'filename': '/Users/nthorlind/git/sw/velo...  \n",
       "\n",
       "[1 rows x 22 columns]"
      ]
     },
     "execution_count": 5,
     "metadata": {},
     "output_type": "execute_result"
    }
   ],
   "source": [
    "df.head(5)"
   ]
  },
  {
   "cell_type": "markdown",
   "metadata": {},
   "source": [
    "## Total Runtime"
   ]
  },
  {
   "cell_type": "code",
   "execution_count": 6,
   "metadata": {},
   "outputs": [
    {
     "data": {
      "image/png": "[encoded data removed]",
      "text/plain": [
       "<Figure size 640x480 with 1 Axes>"
      ]
     },
     "metadata": {},
     "output_type": "display_data"
    }
   ],
   "source": [
    "plot_grouped_barchart(df=df, x=\"n_images\", y=\"total_runtime_minutes\", hue=None)\n"
   ]
  },
  {
   "cell_type": "code",
   "execution_count": 7,
   "metadata": {},
   "outputs": [
    {
     "data": {
      "image/png": "[encoded data removed]",
      "text/plain": [
       "<Figure size 598.611x500 with 1 Axes>"
      ]
     },
     "metadata": {},
     "output_type": "display_data"
    }
   ],
   "source": [
    "plot_grouped_barchart(df=df, x=\"n_images\", y=\"total_runtime_minutes\", hue='n_annotations')\n"
   ]
  },
  {
   "cell_type": "markdown",
   "metadata": {},
   "source": [
    "## Docker Stats"
   ]
  },
  {
   "cell_type": "code",
   "execution_count": 8,
   "metadata": {},
   "outputs": [
    {
     "data": {
      "text/html": [
       "<div>\n",
       "<style scoped>\n",
       "    .dataframe tbody tr th:only-of-type {\n",
       "        vertical-align: middle;\n",
       "    }\n",
       "\n",
       "    .dataframe tbody tr th {\n",
       "        vertical-align: top;\n",
       "    }\n",
       "\n",
       "    .dataframe thead th {\n",
       "        text-align: right;\n",
       "    }\n",
       "</style>\n",
       "<table border=\"1\" class=\"dataframe\">\n",
       "  <thead>\n",
       "    <tr style=\"text-align: right;\">\n",
       "      <th></th>\n",
       "      <th>client</th>\n",
       "      <th>dataset_name</th>\n",
       "      <th>n_images</th>\n",
       "      <th>n_annotations</th>\n",
       "      <th>n_labels</th>\n",
       "      <th>start</th>\n",
       "      <th>total_runtime_seconds</th>\n",
       "      <th>exception</th>\n",
       "      <th>postgis/postgis_disk_space</th>\n",
       "      <th>postgis/postgis_cpu_util</th>\n",
       "      <th>...</th>\n",
       "      <th>redis_cpu_util</th>\n",
       "      <th>redis_mem_util</th>\n",
       "      <th>total_runtime_minutes</th>\n",
       "      <th>postgis/postgis_disk_space_used</th>\n",
       "      <th>postgis/postgis_disk_space_virtual</th>\n",
       "      <th>postgis/postgis_disk_space_total</th>\n",
       "      <th>redis_disk_space_used</th>\n",
       "      <th>redis_disk_space_virtual</th>\n",
       "      <th>redis_disk_space_total</th>\n",
       "      <th>client_tracemalloc_top10</th>\n",
       "    </tr>\n",
       "  </thead>\n",
       "  <tbody>\n",
       "    <tr>\n",
       "      <th>0</th>\n",
       "      <td>&lt;velour.client.Client object at 0x147886a90&gt;</td>\n",
       "      <td>profiling16</td>\n",
       "      <td>2</td>\n",
       "      <td>2</td>\n",
       "      <td>2</td>\n",
       "      <td>168336.837575</td>\n",
       "      <td>1.78</td>\n",
       "      <td></td>\n",
       "      <td>63B (virtual 593MB)</td>\n",
       "      <td>0.0001</td>\n",
       "      <td>...</td>\n",
       "      <td>0.0024</td>\n",
       "      <td>0.0018</td>\n",
       "      <td>0.029667</td>\n",
       "      <td>63</td>\n",
       "      <td>621805568</td>\n",
       "      <td>621805631</td>\n",
       "      <td>0</td>\n",
       "      <td>191889408</td>\n",
       "      <td>191889408</td>\n",
       "      <td>{0: {'filename': '/Users/nthorlind/git/sw/velo...</td>\n",
       "    </tr>\n",
       "  </tbody>\n",
       "</table>\n",
       "<p>1 rows × 22 columns</p>\n",
       "</div>"
      ],
      "text/plain": [
       "                                         client dataset_name  n_images  \\\n",
       "0  <velour.client.Client object at 0x147886a90>  profiling16         2   \n",
       "\n",
       "   n_annotations  n_labels          start  total_runtime_seconds exception  \\\n",
       "0              2         2  168336.837575                   1.78             \n",
       "\n",
       "  postgis/postgis_disk_space  postgis/postgis_cpu_util  ...  redis_cpu_util  \\\n",
       "0        63B (virtual 593MB)                    0.0001  ...          0.0024   \n",
       "\n",
       "  redis_mem_util  total_runtime_minutes  postgis/postgis_disk_space_used  \\\n",
       "0         0.0018               0.029667                               63   \n",
       "\n",
       "   postgis/postgis_disk_space_virtual  postgis/postgis_disk_space_total  \\\n",
       "0                           621805568                         621805631   \n",
       "\n",
       "   redis_disk_space_used  redis_disk_space_virtual  redis_disk_space_total  \\\n",
       "0                      0                 191889408               191889408   \n",
       "\n",
       "                            client_tracemalloc_top10  \n",
       "0  {0: {'filename': '/Users/nthorlind/git/sw/velo...  \n",
       "\n",
       "[1 rows x 22 columns]"
      ]
     },
     "execution_count": 8,
     "metadata": {},
     "output_type": "execute_result"
    }
   ],
   "source": [
    "df"
   ]
  },
  {
   "cell_type": "markdown",
   "metadata": {},
   "source": [
    "### postgis"
   ]
  },
  {
   "cell_type": "code",
   "execution_count": 9,
   "metadata": {},
   "outputs": [
    {
     "data": {
      "image/png": "[encoded data removed]",
      "text/plain": [
       "<Figure size 640x480 with 1 Axes>"
      ]
     },
     "metadata": {},
     "output_type": "display_data"
    }
   ],
   "source": [
    "plot_grouped_barchart(df=df, x=\"n_images\", y=\"postgis/postgis_disk_space_total\", hue=None, y_axis_label='total disk space used by postgis', convert_bytes=True)\n"
   ]
  },
  {
   "cell_type": "code",
   "execution_count": 10,
   "metadata": {},
   "outputs": [
    {
     "data": {
      "image/png": "[encoded data removed]",
      "text/plain": [
       "<Figure size 640x480 with 1 Axes>"
      ]
     },
     "metadata": {},
     "output_type": "display_data"
    }
   ],
   "source": [
    "# NOTE: mem_util is the memory usage at the time the snapshot was taken, not the overall peak memory usage\n",
    "plot_grouped_barchart(df=df, x=\"n_images\", y=\"postgis/postgis_mem_util\", hue=None, y_axis_label='memory used by postgis after profiling function call', convert_perc=True)"
   ]
  },
  {
   "cell_type": "markdown",
   "metadata": {},
   "source": [
    "### redis"
   ]
  },
  {
   "cell_type": "code",
   "execution_count": 11,
   "metadata": {},
   "outputs": [
    {
     "data": {
      "image/png": "[encoded data removed]",
      "text/plain": [
       "<Figure size 640x480 with 1 Axes>"
      ]
     },
     "metadata": {},
     "output_type": "display_data"
    }
   ],
   "source": [
    "plot_grouped_barchart(df=df, x=\"n_images\", y=\"redis_disk_space_total\", hue=None, y_axis_label='total disk space used by postgis', convert_bytes=True)\n"
   ]
  },
  {
   "cell_type": "code",
   "execution_count": 12,
   "metadata": {},
   "outputs": [
    {
     "data": {
      "image/png": "[encoded data removed]",
      "text/plain": [
       "<Figure size 640x480 with 1 Axes>"
      ]
     },
     "metadata": {},
     "output_type": "display_data"
    }
   ],
   "source": [
    "# NOTE: mem_util is the memory usage at the time the snapshot was taken, not the overall peak memory usage\n",
    "plot_grouped_barchart(df=df, x=\"n_images\", y=\"redis_mem_util\", hue=None, y_axis_label='memory used by redis after profiling function call', convert_perc=True)"
   ]
  },
  {
   "cell_type": "markdown",
   "metadata": {},
   "source": [
    "# Analyze Backend Profiles"
   ]
  },
  {
   "cell_type": "markdown",
   "metadata": {},
   "source": [
    "## cprofile\n",
    "\n",
    "Use this command to analyze CProfile reports in snakeviz:\n",
    "\n",
    "```\n",
    "snakeviz utils/profiles/create_groundtruths.cprofile\n",
    "snakeviz utils/profiles/create_predictions.cprofile\n",
    "snakeviz utils/profiles/create_ap_metrics.cprofile\n",
    "\n",
    "```"
   ]
  },
  {
   "cell_type": "markdown",
   "metadata": {},
   "source": [
    "## tracemalloc"
   ]
  },
  {
   "cell_type": "markdown",
   "metadata": {},
   "source": [
    "### create_groundtruth"
   ]
  },
  {
   "cell_type": "code",
   "execution_count": 4,
   "metadata": {},
   "outputs": [
    {
     "name": "stdout",
     "output_type": "stream",
     "text": [
      "Original size: 958.5 KB\n",
      "Final size: 1.1 MB\n",
      "Percent Change: 16.798604%\n",
      "\n"
     ]
    }
   ],
   "source": [
    "function_to_analyze = 'create_groundtruths'\n",
    "\n",
    "def _print_tracemalloc_peaks(dct:dict):\n",
    "    size_pct = (dct[\"second_size\"]-dct[\"first_size\"])/dct[\"first_size\"]\n",
    "    print(f'Original size: {bytes_to_readable_fmt(dct[\"first_size\"], 0)}')\n",
    "    print(f'Final size: {bytes_to_readable_fmt(dct[\"second_size\"], 0)}')\n",
    "    print(f'Percent Change: {size_pct:2%}')\n",
    "    print('')\n",
    "\n",
    "tracemalloc_path = f'profiles/{function_to_analyze}.tracemalloc'\n",
    "snapshot = tracemalloc.Snapshot.load(tracemalloc_path)\n",
    "tracemalloc_dct = load_pkl(tracemalloc_path + '.pkl')\n",
    "\n",
    "\n",
    "_print_tracemalloc_peaks(tracemalloc_dct)"
   ]
  },
  {
   "cell_type": "code",
   "execution_count": 7,
   "metadata": {},
   "outputs": [
    {
     "name": "stdout",
     "output_type": "stream",
     "text": [
      "Top 10 lines\n",
      "#1: /Users/nthorlind/git/sw/velour/utils/src/profiling.py:68: 1.1 KiB\n",
      "    loc: /Users/nthorlind/git/sw/velour/utils/src/profiling.py:68\n",
      "    func: with open(\n",
      "#2: /Users/nthorlind/git/sw/velour/api/velour_api/backend/core/annotation.py:25: 0.9 KiB\n",
      "    loc: /Users/nthorlind/git/sw/velour/api/velour_api/backend/core/annotation.py:25\n",
      "    func: def create_annotation(\n",
      "#3: /Users/nthorlind/git/sw/velour/api/velour_api/backend/stateflow.py:97: 0.9 KiB\n",
      "    loc: /Users/nthorlind/git/sw/velour/api/velour_api/backend/stateflow.py:97\n",
      "    func: def wrapper(*args, **kwargs):\n",
      "#4: /Users/nthorlind/git/sw/velour/api/velour_api/schemas/stateflow.py:216: 0.8 KiB\n",
      "    loc: /Users/nthorlind/git/sw/velour/api/velour_api/schemas/stateflow.py:216\n",
      "    func: def set_inference_status(\n",
      "#5: /Users/nthorlind/git/sw/velour/api/velour_api/backend/jobs.py:66: 0.7 KiB\n",
      "    loc: /Users/nthorlind/git/sw/velour/api/velour_api/backend/jobs.py:66\n",
      "    func: return Stateflow(**info)\n",
      "#6: /Users/nthorlind/git/sw/velour/api/velour_api/backend/core/metadata.py:14: 0.7 KiB\n",
      "    loc: /Users/nthorlind/git/sw/velour/api/velour_api/backend/core/metadata.py:14\n",
      "    func: def create_metadatum(\n",
      "#7: /Users/nthorlind/git/sw/velour/api/velour_api/backend/query/prediction.py:8: 0.6 KiB\n",
      "    loc: /Users/nthorlind/git/sw/velour/api/velour_api/backend/query/prediction.py:8\n",
      "    func: def create_prediction(\n",
      "#8: /Users/nthorlind/git/sw/velour/api/velour_api/schemas/stateflow.py:160: 0.6 KiB\n",
      "    loc: /Users/nthorlind/git/sw/velour/api/velour_api/schemas/stateflow.py:160\n",
      "    func: def set_dataset_status(self, dataset_name: str, status: State):\n",
      "#9: /Users/nthorlind/git/sw/velour/api/velour_api/schemas/geometry.py:176: 0.5 KiB\n",
      "    loc: /Users/nthorlind/git/sw/velour/api/velour_api/schemas/geometry.py:176\n",
      "    func: points_string = [\" \".join([str(pt.x), str(pt.y)]) for pt in pts]\n",
      "#10: /Users/nthorlind/git/sw/velour/api/velour_api/enums.py:99: 0.5 KiB\n",
      "    loc: /Users/nthorlind/git/sw/velour/api/velour_api/enums.py:99\n",
      "    func: def next(self):\n",
      "50 other: 11.7 KiB\n",
      "Total allocated size: 19.0 KiB\n"
     ]
    }
   ],
   "source": [
    "\n",
    "def _display_top_tracemalloc(snapshot:tracemalloc.Snapshot, key_type:str='lineno', limit:int=10):\n",
    "    snapshot = snapshot.filter_traces((\n",
    "        tracemalloc.Filter(False, \"<frozen importlib._bootstrap>\"),\n",
    "        tracemalloc.Filter(False, \"<unknown>\"),\n",
    "        tracemalloc.Filter(True, '*/velour/*')\n",
    "    ))\n",
    "    top_stats = snapshot.statistics(key_type)\n",
    "\n",
    "    print(\"Top %s lines\" % limit)\n",
    "    for index, stat in enumerate(top_stats[:limit], 1):\n",
    "        frame = stat.traceback[0]\n",
    "        print(\"#%s: %s:%s: %.1f KiB\"\n",
    "              % (index, frame.filename, frame.lineno, stat.size / 1024))\n",
    "        line = linecache.getline(frame.filename, frame.lineno).strip()\n",
    "        if line:\n",
    "            print('    loc: %s:%s' % (frame.filename, frame.lineno))\n",
    "            print('    func: %s' % line)\n",
    "\n",
    "    other = top_stats[limit:]\n",
    "    if other:\n",
    "        size = sum(stat.size for stat in other)\n",
    "        print(\"%s other: %.1f KiB\" % (len(other), size / 1024))\n",
    "    total = sum(stat.size for stat in top_stats)\n",
    "    print(\"Total allocated size: %.1f KiB\" % (total / 1024))\n",
    "\n",
    "_display_top_tracemalloc(snapshot=snapshot)"
   ]
  },
  {
   "cell_type": "markdown",
   "metadata": {},
   "source": [
    "### create_predictions"
   ]
  },
  {
   "cell_type": "code",
   "execution_count": 8,
   "metadata": {},
   "outputs": [
    {
     "name": "stdout",
     "output_type": "stream",
     "text": [
      "Original size: 1.3 MB\n",
      "Final size: 1.5 MB\n",
      "Percent Change: 10.795458%\n",
      "\n"
     ]
    }
   ],
   "source": [
    "function_to_analyze = 'create_predictions'\n",
    "\n",
    "tracemalloc_path = f'profiles/{function_to_analyze}.tracemalloc'\n",
    "snapshot = tracemalloc.Snapshot.load(tracemalloc_path)\n",
    "tracemalloc_dct = load_pkl(tracemalloc_path + '.pkl')\n",
    "\n",
    "\n",
    "_print_tracemalloc_peaks(tracemalloc_dct)"
   ]
  },
  {
   "cell_type": "code",
   "execution_count": 9,
   "metadata": {},
   "outputs": [
    {
     "name": "stdout",
     "output_type": "stream",
     "text": [
      "Top 10 lines\n",
      "#1: /Users/nthorlind/git/sw/velour/utils/src/profiling.py:68: 1.1 KiB\n",
      "    loc: /Users/nthorlind/git/sw/velour/utils/src/profiling.py:68\n",
      "    func: with open(\n",
      "#2: /Users/nthorlind/git/sw/velour/api/velour_api/backend/core/annotation.py:25: 0.9 KiB\n",
      "    loc: /Users/nthorlind/git/sw/velour/api/velour_api/backend/core/annotation.py:25\n",
      "    func: def create_annotation(\n",
      "#3: /Users/nthorlind/git/sw/velour/api/velour_api/backend/stateflow.py:97: 0.9 KiB\n",
      "    loc: /Users/nthorlind/git/sw/velour/api/velour_api/backend/stateflow.py:97\n",
      "    func: def wrapper(*args, **kwargs):\n",
      "#4: /Users/nthorlind/git/sw/velour/api/velour_api/schemas/stateflow.py:216: 0.8 KiB\n",
      "    loc: /Users/nthorlind/git/sw/velour/api/velour_api/schemas/stateflow.py:216\n",
      "    func: def set_inference_status(\n",
      "#5: /Users/nthorlind/git/sw/velour/api/velour_api/backend/jobs.py:66: 0.7 KiB\n",
      "    loc: /Users/nthorlind/git/sw/velour/api/velour_api/backend/jobs.py:66\n",
      "    func: return Stateflow(**info)\n",
      "#6: /Users/nthorlind/git/sw/velour/api/velour_api/backend/core/metadata.py:14: 0.7 KiB\n",
      "    loc: /Users/nthorlind/git/sw/velour/api/velour_api/backend/core/metadata.py:14\n",
      "    func: def create_metadatum(\n",
      "#7: /Users/nthorlind/git/sw/velour/api/velour_api/backend/query/prediction.py:8: 0.6 KiB\n",
      "    loc: /Users/nthorlind/git/sw/velour/api/velour_api/backend/query/prediction.py:8\n",
      "    func: def create_prediction(\n",
      "#8: /Users/nthorlind/git/sw/velour/api/velour_api/schemas/stateflow.py:160: 0.6 KiB\n",
      "    loc: /Users/nthorlind/git/sw/velour/api/velour_api/schemas/stateflow.py:160\n",
      "    func: def set_dataset_status(self, dataset_name: str, status: State):\n",
      "#9: /Users/nthorlind/git/sw/velour/api/velour_api/schemas/geometry.py:176: 0.5 KiB\n",
      "    loc: /Users/nthorlind/git/sw/velour/api/velour_api/schemas/geometry.py:176\n",
      "    func: points_string = [\" \".join([str(pt.x), str(pt.y)]) for pt in pts]\n",
      "#10: /Users/nthorlind/git/sw/velour/api/velour_api/enums.py:99: 0.5 KiB\n",
      "    loc: /Users/nthorlind/git/sw/velour/api/velour_api/enums.py:99\n",
      "    func: def next(self):\n",
      "50 other: 11.7 KiB\n",
      "Total allocated size: 19.0 KiB\n"
     ]
    }
   ],
   "source": [
    "_display_top_tracemalloc(snapshot=snapshot)"
   ]
  },
  {
   "cell_type": "markdown",
   "metadata": {},
   "source": [
    "### create_ap_metrics"
   ]
  },
  {
   "cell_type": "code",
   "execution_count": 10,
   "metadata": {},
   "outputs": [
    {
     "name": "stdout",
     "output_type": "stream",
     "text": [
      "Original size: 1.3 MB\n",
      "Final size: 1.7 MB\n",
      "Percent Change: 27.854302%\n",
      "\n"
     ]
    }
   ],
   "source": [
    "function_to_analyze = 'create_ap_metrics'\n",
    "\n",
    "tracemalloc_path = f'profiles/{function_to_analyze}.tracemalloc'\n",
    "snapshot = tracemalloc.Snapshot.load(tracemalloc_path)\n",
    "tracemalloc_dct = load_pkl(tracemalloc_path + '.pkl')\n",
    "\n",
    "\n",
    "_print_tracemalloc_peaks(tracemalloc_dct)"
   ]
  },
  {
   "cell_type": "code",
   "execution_count": 11,
   "metadata": {},
   "outputs": [
    {
     "name": "stdout",
     "output_type": "stream",
     "text": [
      "Top 10 lines\n",
      "#1: /Users/nthorlind/git/sw/velour/utils/src/profiling.py:68: 1.3 KiB\n",
      "    loc: /Users/nthorlind/git/sw/velour/utils/src/profiling.py:68\n",
      "    func: with open(\n",
      "#2: /Users/nthorlind/git/sw/velour/api/velour_api/backend/core/annotation.py:294: 1.3 KiB\n",
      "    loc: /Users/nthorlind/git/sw/velour/api/velour_api/backend/core/annotation.py:294\n",
      "    func: def get_annotation_type(\n",
      "#3: /Users/nthorlind/git/sw/velour/api/velour_api/backend/query/label.py:46: 1.2 KiB\n",
      "    loc: /Users/nthorlind/git/sw/velour/api/velour_api/backend/query/label.py:46\n",
      "    func: def _get_model_labels(\n",
      "#4: /Users/nthorlind/git/sw/velour/api/velour_api/backend/jobs.py:66: 1.2 KiB\n",
      "    loc: /Users/nthorlind/git/sw/velour/api/velour_api/backend/jobs.py:66\n",
      "    func: return Stateflow(**info)\n",
      "#5: /Users/nthorlind/git/sw/velour/api/velour_api/backend/core/label.py:105: 1.0 KiB\n",
      "    loc: /Users/nthorlind/git/sw/velour/api/velour_api/backend/core/label.py:105\n",
      "    func: def get_dataset_labels_query(\n",
      "#6: /Users/nthorlind/git/sw/velour/api/velour_api/schemas/stateflow.py:216: 0.8 KiB\n",
      "    loc: /Users/nthorlind/git/sw/velour/api/velour_api/schemas/stateflow.py:216\n",
      "    func: def set_inference_status(\n",
      "#7: /Users/nthorlind/git/sw/velour/api/velour_api/backend/core/annotation.py:25: 0.8 KiB\n",
      "    loc: /Users/nthorlind/git/sw/velour/api/velour_api/backend/core/annotation.py:25\n",
      "    func: def create_annotation(\n",
      "#8: /Users/nthorlind/git/sw/velour/api/velour_api/backend/core/metadata.py:14: 0.7 KiB\n",
      "    loc: /Users/nthorlind/git/sw/velour/api/velour_api/backend/core/metadata.py:14\n",
      "    func: def create_metadatum(\n",
      "#9: /Users/nthorlind/git/sw/velour/api/velour_api/backend/stateflow.py:165: 0.7 KiB\n",
      "    loc: /Users/nthorlind/git/sw/velour/api/velour_api/backend/stateflow.py:165\n",
      "    func: def wrapper(*args, **kwargs):\n",
      "#10: /Users/nthorlind/git/sw/velour/api/velour_api/backend/stateflow.py:97: 0.7 KiB\n",
      "    loc: /Users/nthorlind/git/sw/velour/api/velour_api/backend/stateflow.py:97\n",
      "    func: def wrapper(*args, **kwargs):\n",
      "81 other: 18.8 KiB\n",
      "Total allocated size: 28.4 KiB\n"
     ]
    }
   ],
   "source": [
    "_display_top_tracemalloc(snapshot=snapshot)"
   ]
  },
  {
   "cell_type": "markdown",
   "metadata": {},
   "source": [
    "## yappi\n",
    "\n",
    "NOTE: This profiler is difficult to visualize without kCacheGrind. Prefer cprofile for now."
   ]
  },
  {
   "cell_type": "code",
   "execution_count": 11,
   "metadata": {},
   "outputs": [
    {
     "name": "stdout",
     "output_type": "stream",
     "text": [
      "\n",
      "Clock type: WALL\n",
      "Ordered by: tsub, desc\n",
      "\n",
      "name                                  ncall  tsub      ttot      tavg      \n",
      "..hon3.11/asyncio/tasks.py:627 sleep  4      0.212044  0.212353  0.053088\n",
      "..y:311 _set_result_unless_cancelled  4      0.000127  0.000225  0.000056\n",
      "..icorn/server.py:235 Server.on_tick  4      0.000046  0.000046  0.000012\n",
      "..ils/src/profiling.py:185 wrap_func  2/1    0.000013  0.423179  0.211589\n",
      "../uvicorn/server.py:63 Server.serve  1      0.000000  0.000000  0.000000\n",
      "..orn/server.py:226 Server.main_loop  1      0.000000  0.000000  0.000000\n"
     ]
    }
   ],
   "source": [
    "stats = yappi.get_func_stats()\n",
    "stats.add(\"profiles/create_groundtruths.yappi\")\n",
    "\n",
    "stats.sort(\"tsub\", \"desc\").print_all()"
   ]
  },
  {
   "cell_type": "code",
   "execution_count": 12,
   "metadata": {},
   "outputs": [
    {
     "name": "stdout",
     "output_type": "stream",
     "text": [
      "\n",
      "Clock type: WALL\n",
      "Ordered by: tsub, desc\n",
      "\n",
      "name                                  ncall  tsub      ttot      tavg      \n",
      "..hon3.11/asyncio/tasks.py:627 sleep  5      0.302461  0.302574  0.060515\n",
      "..ils/src/profiling.py:184 wrap_func  6/5    0.000043  1.041713  0.173619\n",
      "..y:311 _set_result_unless_cancelled  5      0.000043  0.000100  0.000020\n",
      "..icorn/server.py:235 Server.on_tick  5      0.000038  0.000125  0.000025\n",
      "..3.11/email/utils.py:126 formatdate  1      0.000027  0.000080  0.000080\n",
      "..email/utils.py:155 format_datetime  1      0.000015  0.000039  0.000039\n",
      "...py:117 _format_timetuple_and_zone  1      0.000013  0.000013  0.000013\n",
      "../uvicorn/server.py:63 Server.serve  1      0.000000  0.000000  0.000000\n",
      "..orn/server.py:226 Server.main_loop  1      0.000000  0.000000  0.000000\n"
     ]
    }
   ],
   "source": [
    "stats = yappi.get_func_stats()\n",
    "stats.add(\"profiles/create_predictions.yappi\")\n",
    "\n",
    "stats.sort(\"tsub\", \"desc\").print_all()"
   ]
  },
  {
   "cell_type": "code",
   "execution_count": 13,
   "metadata": {},
   "outputs": [
    {
     "name": "stdout",
     "output_type": "stream",
     "text": [
      "\n",
      "Clock type: WALL\n",
      "Ordered by: tsub, desc\n",
      "\n",
      "name                                  ncall  tsub      ttot      tavg      \n",
      "..hon3.11/asyncio/tasks.py:627 sleep  8      0.504982  0.505173  0.063147\n",
      "..y:311 _set_result_unless_cancelled  8      0.000079  0.000177  0.000022\n",
      "..ils/src/profiling.py:184 wrap_func  7/6    0.000053  1.208926  0.172704\n",
      "..icorn/server.py:235 Server.on_tick  8      0.000050  0.000137  0.000017\n",
      "..3.11/email/utils.py:126 formatdate  1      0.000027  0.000080  0.000080\n",
      "..email/utils.py:155 format_datetime  1      0.000015  0.000039  0.000039\n",
      "...py:117 _format_timetuple_and_zone  1      0.000013  0.000013  0.000013\n",
      "../uvicorn/server.py:63 Server.serve  1      0.000000  0.000000  0.000000\n",
      "..orn/server.py:226 Server.main_loop  1      0.000000  0.000000  0.000000\n"
     ]
    }
   ],
   "source": [
    "stats = yappi.get_func_stats()\n",
    "stats.add(\"profiles/create_ap_metrics.yappi\")\n",
    "\n",
    "stats.sort(\"tsub\", \"desc\").print_all()"
   ]
  }
 ],
 "metadata": {
  "kernelspec": {
   "display_name": "Python 3",
   "language": "python",
   "name": "python3"
  },
  "language_info": {
   "codemirror_mode": {
    "name": "ipython",
    "version": 3
   },
   "file_extension": ".py",
   "mimetype": "text/x-python",
   "name": "python",
   "nbconvert_exporter": "python",
   "pygments_lexer": "ipython3",
   "version": "3.11.5"
  },
  "orig_nbformat": 4
 },
 "nbformat": 4,
 "nbformat_minor": 2
}
