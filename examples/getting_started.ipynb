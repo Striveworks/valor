{
 "cells": [
  {
   "attachments": {},
   "cell_type": "markdown",
   "metadata": {},
   "source": [
    "# **Velour Dataset Integrations**"
   ]
  },
  {
   "attachments": {},
   "cell_type": "markdown",
   "metadata": {},
   "source": [
    "Velour is crafted to seamlessly integrate with your existing workflows.\n",
    "\n",
    "Our client is equipped to handle a wide array of tasks, including classification, object detection, and semantic segmentation.\n",
    "\n",
    "When it comes to integration, think of it as creating a dataloader. The Velour datasets are structured in a hierarchy of standard types that abstract into the datatypes you provide. \n",
    "\n",
    "At the top level, you'll find `velour.Dataset` which contains a list of `velour.GroundTruth`, which, in turn, consist of `velour.Datum` and `velour.Annotation`.\n",
    "\n",
    "The ultimate objective is to effortlessly map all available metadata into Velour, empowering you to utilize it later for precise evaluations and effective stratification."
   ]
  },
  {
   "cell_type": "code",
   "execution_count": 1,
   "metadata": {},
   "outputs": [],
   "source": [
    "import json\n",
    "from pathlib import Path\n",
    "\n",
    "from velour import (\n",
    "    Client,\n",
    "    Dataset,\n",
    "    Model,\n",
    "    Datum,\n",
    "    Annotation,\n",
    "    GroundTruth, \n",
    "    Prediction,\n",
    "    Label,\n",
    ")\n",
    "from velour.schemas import (\n",
    "    BoundingBox, \n",
    "    Polygon, \n",
    "    BasicPolygon, \n",
    "    Point,\n",
    ")\n",
    "from velour.enums import TaskType"
   ]
  },
  {
   "cell_type": "code",
   "execution_count": 2,
   "metadata": {},
   "outputs": [
    {
     "name": "stdout",
     "output_type": "stream",
     "text": [
      "Succesfully connected to http://0.0.0.0:8000/.\n"
     ]
    }
   ],
   "source": [
    "client = Client(\"http://0.0.0.0:8000\")"
   ]
  },
  {
   "attachments": {},
   "cell_type": "markdown",
   "metadata": {},
   "source": [
    "# **Creating a Dataset**"
   ]
  },
  {
   "cell_type": "code",
   "execution_count": 3,
   "metadata": {},
   "outputs": [],
   "source": [
    "dataset = Dataset(\n",
    "    client=client,   \n",
    "    name=\"myDataset\",\n",
    "    metadata={        # optional, metadata can take `str`, `int`, `float` value types.\n",
    "        \"some_string\": \"hello_world\",\n",
    "        \"some_number\": 1234,\n",
    "        \"a_different_number\": 1.234,\n",
    "    },\n",
    "    geospatial=None,  # optional, define a GeoJSON\n",
    "    reset=True,\n",
    ")"
   ]
  },
  {
   "attachments": {},
   "cell_type": "markdown",
   "metadata": {},
   "source": [
    "# **Create GroundTruths**"
   ]
  },
  {
   "attachments": {},
   "cell_type": "markdown",
   "metadata": {},
   "source": [
    "### **Image Classification**"
   ]
  },
  {
   "cell_type": "code",
   "execution_count": 4,
   "metadata": {},
   "outputs": [],
   "source": [
    "image_classifications = [\n",
    "    {\"path\": \"a/b/c/img1.png\", \"annotations\": [{\"class_label\": \"dog\"}]},\n",
    "    {\"path\": \"a/b/c/img2.png\", \"annotations\": [{\"class_label\": \"cat\"}]}\n",
    "]"
   ]
  },
  {
   "cell_type": "code",
   "execution_count": 5,
   "metadata": {},
   "outputs": [],
   "source": [
    "def create_groundtruth_from_image_classification_dict(element: dict):\n",
    "    \n",
    "    # create Datum using filename, save the full filepath into metadata\n",
    "    datum = Datum(\n",
    "        uid=Path(element[\"path\"]).stem,\n",
    "        metadata={\n",
    "            \"path\": element[\"path\"]\n",
    "        }\n",
    "    )\n",
    "\n",
    "    # create Annotation\n",
    "    annotations = [\n",
    "        Annotation(\n",
    "            task_type=TaskType.CLASSIFICATION,\n",
    "            labels=[\n",
    "                Label(key=key, value=value)\n",
    "                for label in element[\"annotations\"]\n",
    "                for key, value in label.items()\n",
    "            ]\n",
    "        )\n",
    "    ]\n",
    "\n",
    "    # create and return GroundTruth\n",
    "    return GroundTruth(\n",
    "        datum=datum,\n",
    "        annotations=annotations,\n",
    "    )"
   ]
  },
  {
   "cell_type": "code",
   "execution_count": 6,
   "metadata": {},
   "outputs": [
    {
     "name": "stdout",
     "output_type": "stream",
     "text": [
      "{'datum': {'dataset': 'myDataset', 'uid': 'img1', 'metadata': {'path': 'a/b/c/img1.png'}, 'geospatial': {}}, 'annotations': [{'task_type': 'classification', 'labels': [{'key': 'class_label', 'value': 'dog', 'score': None}], 'metadata': {}, 'bounding_box': None, 'polygon': None, 'multipolygon': None, 'raster': None, 'jsonb': None}]}\n",
      "{'datum': {'dataset': 'myDataset', 'uid': 'img2', 'metadata': {'path': 'a/b/c/img2.png'}, 'geospatial': {}}, 'annotations': [{'task_type': 'classification', 'labels': [{'key': 'class_label', 'value': 'cat', 'score': None}], 'metadata': {}, 'bounding_box': None, 'polygon': None, 'multipolygon': None, 'raster': None, 'jsonb': None}]}\n"
     ]
    }
   ],
   "source": [
    "for element in image_classifications:\n",
    "    # create groundtruth\n",
    "    groundtruth = create_groundtruth_from_image_classification_dict(element)\n",
    "\n",
    "    # add groundtruth to dataset\n",
    "    dataset.add_groundtruth(groundtruth)\n",
    "    \n",
    "    print(groundtruth)"
   ]
  },
  {
   "attachments": {},
   "cell_type": "markdown",
   "metadata": {},
   "source": [
    "### **Image Object Detection**"
   ]
  },
  {
   "cell_type": "code",
   "execution_count": 7,
   "metadata": {},
   "outputs": [],
   "source": [
    "object_detections = [\n",
    "    {\"path\": \"a/b/c/img3.png\", \"annotations\": [{\"class_label\": \"dog\", \"bbox\": {\"xmin\": 16, \"ymin\": 130, \"xmax\": 70, \"ymax\": 150}}, {\"class_label\": \"person\", \"bbox\": {\"xmin\": 89, \"ymin\": 10, \"xmax\": 97, \"ymax\": 110}}]},\n",
    "    {\"path\": \"a/b/c/img4.png\", \"annotations\": [{\"class_label\": \"cat\", \"bbox\": {\"xmin\": 500, \"ymin\": 220, \"xmax\": 530, \"ymax\": 260}}]},\n",
    "    {\"path\": \"a/b/c/img5.png\", \"annotations\": []}\n",
    "]"
   ]
  },
  {
   "cell_type": "code",
   "execution_count": 8,
   "metadata": {},
   "outputs": [],
   "source": [
    "def create_groundtruth_from_object_detection_dict(element: dict):\n",
    "    \n",
    "    # create Datum using filename, save the full filepath into metadata\n",
    "    datum = Datum(\n",
    "        uid=Path(element[\"path\"]).stem,\n",
    "        metadata={\n",
    "            \"path\": element[\"path\"] \n",
    "        }\n",
    "    )\n",
    "\n",
    "    # create Annotations\n",
    "    annotations = [\n",
    "        Annotation(\n",
    "            task_type=TaskType.DETECTION,\n",
    "            labels=[Label(key=\"class_label\", value=annotation[\"class_label\"])],\n",
    "            bounding_box=BoundingBox.from_extrema(\n",
    "                xmin=annotation[\"bbox\"][\"xmin\"],\n",
    "                xmax=annotation[\"bbox\"][\"xmax\"],\n",
    "                ymin=annotation[\"bbox\"][\"ymin\"],\n",
    "                ymax=annotation[\"bbox\"][\"ymax\"],\n",
    "            )\n",
    "        )\n",
    "        for annotation in element[\"annotations\"]\n",
    "        if len(annotation) > 0\n",
    "    ]\n",
    "\n",
    "    # create and return GroundTruth\n",
    "    return GroundTruth(\n",
    "        datum=datum,\n",
    "        annotations=annotations,\n",
    "    )"
   ]
  },
  {
   "cell_type": "code",
   "execution_count": 9,
   "metadata": {},
   "outputs": [
    {
     "name": "stdout",
     "output_type": "stream",
     "text": [
      "{'datum': {'dataset': 'myDataset', 'uid': 'img3', 'metadata': {'path': 'a/b/c/img3.png'}, 'geospatial': {}}, 'annotations': [{'task_type': 'object-detection', 'labels': [{'key': 'class_label', 'value': 'dog', 'score': None}], 'metadata': {}, 'bounding_box': {'polygon': {'points': [{'x': 16.0, 'y': 130.0}, {'x': 70.0, 'y': 130.0}, {'x': 70.0, 'y': 150.0}, {'x': 16.0, 'y': 150.0}]}}, 'polygon': None, 'multipolygon': None, 'raster': None, 'jsonb': None}, {'task_type': 'object-detection', 'labels': [{'key': 'class_label', 'value': 'person', 'score': None}], 'metadata': {}, 'bounding_box': {'polygon': {'points': [{'x': 89.0, 'y': 10.0}, {'x': 97.0, 'y': 10.0}, {'x': 97.0, 'y': 110.0}, {'x': 89.0, 'y': 110.0}]}}, 'polygon': None, 'multipolygon': None, 'raster': None, 'jsonb': None}]}\n",
      "{'datum': {'dataset': 'myDataset', 'uid': 'img4', 'metadata': {'path': 'a/b/c/img4.png'}, 'geospatial': {}}, 'annotations': [{'task_type': 'object-detection', 'labels': [{'key': 'class_label', 'value': 'cat', 'score': None}], 'metadata': {}, 'bounding_box': {'polygon': {'points': [{'x': 500.0, 'y': 220.0}, {'x': 530.0, 'y': 220.0}, {'x': 530.0, 'y': 260.0}, {'x': 500.0, 'y': 260.0}]}}, 'polygon': None, 'multipolygon': None, 'raster': None, 'jsonb': None}]}\n",
      "{'datum': {'dataset': 'myDataset', 'uid': 'img5', 'metadata': {'path': 'a/b/c/img5.png'}, 'geospatial': {}}, 'annotations': []}\n"
     ]
    },
    {
     "name": "stderr",
     "output_type": "stream",
     "text": [
      "/home/czaloom/velour/.env-velour/lib/python3.10/site-packages/velour/coretypes.py:808: UserWarning: GroundTruth for datum with uid `img5` contains no annotations.\n",
      "  warnings.warn(\n"
     ]
    }
   ],
   "source": [
    "for element in object_detections:\n",
    "    # create groundtruth\n",
    "    groundtruth = create_groundtruth_from_object_detection_dict(element)\n",
    "\n",
    "    # add groundtruth to dataset\n",
    "    dataset.add_groundtruth(groundtruth)\n",
    "    \n",
    "    print(groundtruth)"
   ]
  },
  {
   "attachments": {},
   "cell_type": "markdown",
   "metadata": {},
   "source": [
    "### **Image Semantic Segmentation**"
   ]
  },
  {
   "cell_type": "code",
   "execution_count": 10,
   "metadata": {},
   "outputs": [],
   "source": [
    "image_segmentations = [\n",
    "    {\"path\": \"a/b/c/img6.png\", \"annotations\": [{\"class_label\": \"dog\", \"contour\": [[{\"x\": 10.0, \"y\": 15.5}, {\"x\": 20.9, \"y\": 50.2}, {\"x\": 25.9, \"y\": 28.4}]]}]},\n",
    "    {\"path\": \"a/b/c/img7.png\", \"annotations\": [{\"class_label\": \"cat\", \"contour\": [[{\"x\": 97.2, \"y\": 40.2}, {\"x\": 33.33, \"y\": 44.3}, {\"x\": 10.9, \"y\": 18.7}]]}]},\n",
    "    {\"path\": \"a/b/c/img8.png\", \"annotations\": [{\"class_label\": \"car\", \"contour\": [[{\"x\": 10.0, \"y\": 15.5}, {\"x\": 20.9, \"y\": 50.2}, {\"x\": 25.9, \"y\": 28.4}], [{\"x\": 60.0, \"y\": 15.5}, {\"x\": 70.9, \"y\": 50.2}, {\"x\": 75.9, \"y\": 28.4}]]}]}\n",
    "]"
   ]
  },
  {
   "cell_type": "code",
   "execution_count": 11,
   "metadata": {},
   "outputs": [],
   "source": [
    "def create_groundtruth_from_image_segmentation_dict(element: dict):\n",
    "    \n",
    "    # create Datum using filename, save the full filepath into metadata\n",
    "    datum = Datum(\n",
    "        uid=Path(element[\"path\"]).stem,\n",
    "        metadata={\n",
    "            \"path\": element[\"path\"] \n",
    "        }\n",
    "    )\n",
    "\n",
    "    # create Annotations\n",
    "    annotations = [\n",
    "        Annotation(\n",
    "            task_type=TaskType.SEGMENTATION,\n",
    "            labels=[Label(key=\"class_label\", value=annotation[\"class_label\"])],\n",
    "            polygon=Polygon(\n",
    "                boundary=BasicPolygon(\n",
    "                    points=[\n",
    "                        Point(p[\"x\"], p[\"y\"])\n",
    "                        for p in annotation[\"contour\"][0]\n",
    "                    ],\n",
    "                ),\n",
    "                holes=[\n",
    "                    BasicPolygon(\n",
    "                        points=[\n",
    "                            Point(p[\"x\"], p[\"y\"])\n",
    "                            for p in hole\n",
    "                        ]\n",
    "                    )\n",
    "                    for hole in annotation[\"contour\"][1:]\n",
    "                ]\n",
    "            )\n",
    "        )\n",
    "        for annotation in element[\"annotations\"]\n",
    "        if len(annotation[\"contour\"]) > 0\n",
    "    ]\n",
    "\n",
    "    # create and return GroundTruth\n",
    "    return GroundTruth(\n",
    "        datum=datum,\n",
    "        annotations=annotations,\n",
    "    )"
   ]
  },
  {
   "cell_type": "code",
   "execution_count": 12,
   "metadata": {},
   "outputs": [
    {
     "name": "stdout",
     "output_type": "stream",
     "text": [
      "{'datum': {'dataset': 'myDataset', 'uid': 'img6', 'metadata': {'path': 'a/b/c/img6.png'}, 'geospatial': {}}, 'annotations': [{'task_type': 'semantic-segmentation', 'labels': [{'key': 'class_label', 'value': 'dog', 'score': None}], 'metadata': {}, 'bounding_box': None, 'polygon': {'boundary': {'points': [{'x': 10.0, 'y': 15.5}, {'x': 20.9, 'y': 50.2}, {'x': 25.9, 'y': 28.4}]}, 'holes': []}, 'multipolygon': None, 'raster': None, 'jsonb': None}]}\n",
      "{'datum': {'dataset': 'myDataset', 'uid': 'img7', 'metadata': {'path': 'a/b/c/img7.png'}, 'geospatial': {}}, 'annotations': [{'task_type': 'semantic-segmentation', 'labels': [{'key': 'class_label', 'value': 'cat', 'score': None}], 'metadata': {}, 'bounding_box': None, 'polygon': {'boundary': {'points': [{'x': 97.2, 'y': 40.2}, {'x': 33.33, 'y': 44.3}, {'x': 10.9, 'y': 18.7}]}, 'holes': []}, 'multipolygon': None, 'raster': None, 'jsonb': None}]}\n",
      "{'datum': {'dataset': 'myDataset', 'uid': 'img8', 'metadata': {'path': 'a/b/c/img8.png'}, 'geospatial': {}}, 'annotations': [{'task_type': 'semantic-segmentation', 'labels': [{'key': 'class_label', 'value': 'car', 'score': None}], 'metadata': {}, 'bounding_box': None, 'polygon': {'boundary': {'points': [{'x': 10.0, 'y': 15.5}, {'x': 20.9, 'y': 50.2}, {'x': 25.9, 'y': 28.4}]}, 'holes': [{'points': [{'x': 60.0, 'y': 15.5}, {'x': 70.9, 'y': 50.2}, {'x': 75.9, 'y': 28.4}]}]}, 'multipolygon': None, 'raster': None, 'jsonb': None}]}\n"
     ]
    }
   ],
   "source": [
    "for element in image_segmentations:\n",
    "    # create groundtruth\n",
    "    groundtruth = create_groundtruth_from_image_segmentation_dict(element)\n",
    "\n",
    "    # add groundtruth to dataset\n",
    "    dataset.add_groundtruth(groundtruth)\n",
    "    \n",
    "    print(groundtruth)"
   ]
  },
  {
   "attachments": {},
   "cell_type": "markdown",
   "metadata": {},
   "source": [
    "### **Text Classification**"
   ]
  },
  {
   "cell_type": "code",
   "execution_count": 13,
   "metadata": {},
   "outputs": [],
   "source": [
    "text_classifications = [\n",
    "    {\"path\": \"a/b/c/text1.txt\", \"annotations\": [{\"sentiment\": {\"context\": \"Is the content of this product review postive?\", \"label\": \"positive\"}}]}\n",
    "]"
   ]
  },
  {
   "cell_type": "code",
   "execution_count": 14,
   "metadata": {},
   "outputs": [],
   "source": [
    "def create_groundtruth_from_text_classification_dict(element: dict):\n",
    "    \n",
    "    # create Datum using filename, save the full filepath into metadata\n",
    "    datum = Datum(\n",
    "        uid=Path(element[\"path\"]).stem,\n",
    "        metadata={\n",
    "            \"path\": element[\"path\"],\n",
    "            \"context\": element[\"annotations\"][0][\"sentiment\"][\"context\"]\n",
    "        }\n",
    "    )\n",
    "\n",
    "    # create Annotation\n",
    "    annotations = [\n",
    "        Annotation(\n",
    "            task_type=TaskType.CLASSIFICATION,\n",
    "            labels=[\n",
    "                Label(\n",
    "                    key=\"label\", \n",
    "                    value=element[\"annotations\"][0][\"sentiment\"][\"label\"]\n",
    "                )\n",
    "            ]\n",
    "        )\n",
    "    ]\n",
    "\n",
    "    # create and return GroundTruth\n",
    "    return GroundTruth(\n",
    "        datum=datum,\n",
    "        annotations=annotations,\n",
    "    )"
   ]
  },
  {
   "cell_type": "code",
   "execution_count": 15,
   "metadata": {},
   "outputs": [
    {
     "name": "stdout",
     "output_type": "stream",
     "text": [
      "{'datum': {'dataset': 'myDataset', 'uid': 'text1', 'metadata': {'path': 'a/b/c/text1.txt', 'context': 'Is the content of this product review postive?'}, 'geospatial': {}}, 'annotations': [{'task_type': 'classification', 'labels': [{'key': 'label', 'value': 'positive', 'score': None}], 'metadata': {}, 'bounding_box': None, 'polygon': None, 'multipolygon': None, 'raster': None, 'jsonb': None}]}\n"
     ]
    }
   ],
   "source": [
    "for element in text_classifications:\n",
    "    # create groundtruth\n",
    "    groundtruth = create_groundtruth_from_text_classification_dict(element)\n",
    "\n",
    "    # add groundtruth to dataset\n",
    "    dataset.add_groundtruth(groundtruth)\n",
    "    \n",
    "    print(groundtruth)"
   ]
  },
  {
   "attachments": {},
   "cell_type": "markdown",
   "metadata": {},
   "source": [
    "### **Text Token Classification**\n",
    "\n",
    "This example is nuanced because the way datums are communicated is different between the source dictionary and Velour.\n",
    "\n",
    "Specifically, the location of the token is considered the `Datum` as it encodes what the subject of comparison is. We can apply this by encoding the positions into the `Datum` uid. As long as the model shares the same tokenizer as the dataset we can guarantee that this will lead to proper evaluation."
   ]
  },
  {
   "cell_type": "code",
   "execution_count": 16,
   "metadata": {},
   "outputs": [],
   "source": [
    "token_classifications = [\n",
    "    {\"path\": \"a/b/c/text2.text\", \"annotations\": [{\"token_classification\": {\"start_position\": 19, \"end_position\": 22, \"label\": \"place\"}}]}\n",
    "]"
   ]
  },
  {
   "cell_type": "code",
   "execution_count": 17,
   "metadata": {},
   "outputs": [],
   "source": [
    "def create_groundtruth_from_token_classification_dict(element: dict):\n",
    "\n",
    "    filename = Path(element[\"path\"]).stem\n",
    "    start_position = element[\"annotations\"][0][\"token_classification\"][\"start_position\"]\n",
    "    end_position = element[\"annotations\"][0][\"token_classification\"][\"end_position\"]\n",
    "    \n",
    "    # create Datum using filename, save the full filepath into metadata\n",
    "    datum = Datum(\n",
    "        uid=f\"{filename}_{start_position}_{end_position}\",\n",
    "        metadata={\n",
    "            \"path\": element[\"path\"],\n",
    "            \"filename\": filename,\n",
    "            \"start_position\": start_position,\n",
    "            \"end_position\": end_position,\n",
    "        }\n",
    "    )\n",
    "\n",
    "    # create Annotation\n",
    "    annotations = [\n",
    "        Annotation(\n",
    "            task_type=TaskType.CLASSIFICATION,\n",
    "            labels=[\n",
    "                Label(\n",
    "                    key=\"label\", \n",
    "                    value=element[\"annotations\"][0][\"token_classification\"]['label']\n",
    "                )\n",
    "            ],\n",
    "        )\n",
    "    ]\n",
    "\n",
    "    # create and return GroundTruth\n",
    "    return GroundTruth(\n",
    "        datum=datum,\n",
    "        annotations=annotations,\n",
    "    )"
   ]
  },
  {
   "cell_type": "code",
   "execution_count": 18,
   "metadata": {},
   "outputs": [
    {
     "name": "stdout",
     "output_type": "stream",
     "text": [
      "{'datum': {'dataset': 'myDataset', 'uid': 'text2_19_22', 'metadata': {'path': 'a/b/c/text2.text', 'filename': 'text2', 'start_position': 19, 'end_position': 22}, 'geospatial': {}}, 'annotations': [{'task_type': 'classification', 'labels': [{'key': 'label', 'value': 'place', 'score': None}], 'metadata': {}, 'bounding_box': None, 'polygon': None, 'multipolygon': None, 'raster': None, 'jsonb': None}]}\n"
     ]
    }
   ],
   "source": [
    "for element in token_classifications:\n",
    "    # create groundtruth\n",
    "    groundtruth = create_groundtruth_from_token_classification_dict(element)\n",
    "\n",
    "    # add groundtruth to dataset\n",
    "    dataset.add_groundtruth(groundtruth)\n",
    "    \n",
    "    print(groundtruth)"
   ]
  },
  {
   "attachments": {},
   "cell_type": "markdown",
   "metadata": {},
   "source": [
    "# **Datatset Finalization**\n",
    "\n",
    "Now that we are done creating `GroundTruth` objects we can move on to finalizing the `Dataset`. This is required for evaluation but not for `Model` creation so it could also be done later. Velour makes this a requirement for traceability reasons, you can be certain that a `Dataset` that was finalized weeks ago will still be the same today.\n",
    "\n"
   ]
  },
  {
   "cell_type": "code",
   "execution_count": 19,
   "metadata": {},
   "outputs": [
    {
     "data": {
      "text/plain": [
       "<Response [200]>"
      ]
     },
     "execution_count": 19,
     "metadata": {},
     "output_type": "execute_result"
    }
   ],
   "source": [
    "dataset.finalize()"
   ]
  },
  {
   "attachments": {},
   "cell_type": "markdown",
   "metadata": {},
   "source": [
    "For reference by the model populate a dictionary of Datums"
   ]
  },
  {
   "cell_type": "code",
   "execution_count": 20,
   "metadata": {},
   "outputs": [],
   "source": [
    "datums_by_uid = {\n",
    "    datum.uid: datum\n",
    "    for datum in dataset.get_datums()\n",
    "}"
   ]
  },
  {
   "attachments": {},
   "cell_type": "markdown",
   "metadata": {},
   "source": [
    "# **Creating a Model**"
   ]
  },
  {
   "cell_type": "code",
   "execution_count": 21,
   "metadata": {},
   "outputs": [],
   "source": [
    "model = Model(\n",
    "    client=client,\n",
    "    name=\"myModel\",\n",
    "    metadata={\n",
    "        \"foo\": \"bar\",\n",
    "        \"some_number\": 4321,\n",
    "    },\n",
    "    geospatial=None,\n",
    "    reset=True,\n",
    ")"
   ]
  },
  {
   "attachments": {},
   "cell_type": "markdown",
   "metadata": {},
   "source": [
    "# **Create Predictions**"
   ]
  },
  {
   "attachments": {},
   "cell_type": "markdown",
   "metadata": {},
   "source": [
    "### **Image Classification**"
   ]
  },
  {
   "cell_type": "code",
   "execution_count": 22,
   "metadata": {},
   "outputs": [],
   "source": [
    "image_classifications = [\n",
    "    {\"path\": \"a/b/c/img1.png\", \"annotations\": [{\"class_label\": \"dog\", \"score\": 0.9}, {\"class_label\": \"cat\", \"score\": 0.1}]},\n",
    "    {\"path\": \"a/b/c/img2.png\", \"annotations\": [{\"class_label\": \"dog\", \"score\": 0.1}, {\"class_label\": \"cat\", \"score\": 0.9}]}\n",
    "]"
   ]
  },
  {
   "cell_type": "code",
   "execution_count": 23,
   "metadata": {},
   "outputs": [],
   "source": [
    "def create_prediction_from_image_classification_dict(element: dict) -> Prediction:\n",
    "    \n",
    "    # get datum from dataset using filename\n",
    "    uid=Path(element[\"path\"]).stem\n",
    "    datum = datums_by_uid[uid]\n",
    "\n",
    "    # create Annotation\n",
    "    annotations = [\n",
    "        Annotation(\n",
    "            task_type=TaskType.CLASSIFICATION,\n",
    "            labels=[\n",
    "                Label(key=\"class_label\", value=label[\"class_label\"], score=label[\"score\"])\n",
    "                for label in element[\"annotations\"]\n",
    "            ]\n",
    "        )\n",
    "    ]\n",
    "\n",
    "    # create and return Prediction\n",
    "    return Prediction(\n",
    "        model=model,\n",
    "        datum=datum,\n",
    "        annotations=annotations,\n",
    "    )"
   ]
  },
  {
   "cell_type": "code",
   "execution_count": 24,
   "metadata": {},
   "outputs": [
    {
     "name": "stdout",
     "output_type": "stream",
     "text": [
      "{'datum': {'dataset': 'myDataset', 'uid': 'img1', 'metadata': {'path': 'a/b/c/img1.png'}, 'geospatial': {}}, 'model': 'myModel', 'annotations': [{'task_type': 'classification', 'labels': [{'key': 'class_label', 'value': 'dog', 'score': 0.9}, {'key': 'class_label', 'value': 'cat', 'score': 0.1}], 'metadata': {}, 'bounding_box': None, 'polygon': None, 'multipolygon': None, 'raster': None, 'jsonb': None}]}\n",
      "{'datum': {'dataset': 'myDataset', 'uid': 'img2', 'metadata': {'path': 'a/b/c/img2.png'}, 'geospatial': {}}, 'model': 'myModel', 'annotations': [{'task_type': 'classification', 'labels': [{'key': 'class_label', 'value': 'dog', 'score': 0.1}, {'key': 'class_label', 'value': 'cat', 'score': 0.9}], 'metadata': {}, 'bounding_box': None, 'polygon': None, 'multipolygon': None, 'raster': None, 'jsonb': None}]}\n"
     ]
    }
   ],
   "source": [
    "for element in image_classifications:\n",
    "    # create prediction\n",
    "    prediction = create_prediction_from_image_classification_dict(element)\n",
    "\n",
    "    # add prediction to dataset\n",
    "    model.add_prediction(prediction)\n",
    "    \n",
    "    print(prediction)"
   ]
  },
  {
   "attachments": {},
   "cell_type": "markdown",
   "metadata": {},
   "source": [
    "### **Image Object Detection**"
   ]
  },
  {
   "cell_type": "code",
   "execution_count": 25,
   "metadata": {},
   "outputs": [],
   "source": [
    "object_detections = [\n",
    "    {\"path\": \"a/b/c/img3.png\", \"annotations\": [\n",
    "        {\"labels\": [{\"class_label\": \"dog\", \"score\": 0.8}, {\"class_label\": \"cat\", \"score\": 0.1}, {\"class_label\": \"person\", \"score\": 0.1}], \"bbox\": {\"xmin\": 16, \"ymin\": 130, \"xmax\": 70, \"ymax\": 150}}, \n",
    "        {\"labels\": [{\"class_label\": \"dog\", \"score\": 0.05}, {\"class_label\": \"cat\", \"score\": 0.05}, {\"class_label\": \"person\", \"score\": 0.9}], \"bbox\": {\"xmin\": 89, \"ymin\": 10, \"xmax\": 97, \"ymax\": 110}}\n",
    "    ]},\n",
    "    {\"path\": \"a/b/c/img4.png\", \"annotations\": [\n",
    "        {\"labels\": [{\"class_label\": \"dog\", \"score\": 0.8}, {\"class_label\": \"cat\", \"score\": 0.1}, {\"class_label\": \"person\", \"score\": 0.1}], \"bbox\": {\"xmin\": 500, \"ymin\": 220, \"xmax\": 530, \"ymax\": 260}}\n",
    "    ]},\n",
    "    {\"path\": \"a/b/c/img5.png\", \"annotations\": []}\n",
    "]"
   ]
  },
  {
   "cell_type": "code",
   "execution_count": 26,
   "metadata": {},
   "outputs": [],
   "source": [
    "def create_prediction_from_object_detection_dict(element: dict) -> Prediction:\n",
    "    \n",
    "    # get datum from dataset using filename\n",
    "    uid=Path(element[\"path\"]).stem\n",
    "    datum = datums_by_uid[uid]\n",
    "\n",
    "    # create Annotations\n",
    "    annotations = [\n",
    "        Annotation(\n",
    "            task_type=TaskType.DETECTION,\n",
    "            labels=[\n",
    "                Label(key=\"class_label\", value=label[\"class_label\"], score=label[\"score\"])\n",
    "                for label in annotation[\"labels\"]\n",
    "            ],\n",
    "            bounding_box=BoundingBox.from_extrema(\n",
    "                xmin=annotation[\"bbox\"][\"xmin\"],\n",
    "                xmax=annotation[\"bbox\"][\"xmax\"],\n",
    "                ymin=annotation[\"bbox\"][\"ymin\"],\n",
    "                ymax=annotation[\"bbox\"][\"ymax\"],\n",
    "            )\n",
    "        )\n",
    "        for annotation in element[\"annotations\"]\n",
    "        if len(annotation) > 0\n",
    "    ]\n",
    "\n",
    "    # create and return Prediction\n",
    "    return Prediction(\n",
    "        datum=datum,\n",
    "        annotations=annotations,\n",
    "    )"
   ]
  },
  {
   "cell_type": "code",
   "execution_count": 27,
   "metadata": {},
   "outputs": [
    {
     "name": "stdout",
     "output_type": "stream",
     "text": [
      "{'datum': {'dataset': 'myDataset', 'uid': 'img3', 'metadata': {'path': 'a/b/c/img3.png'}, 'geospatial': {}}, 'model': 'myModel', 'annotations': [{'task_type': 'object-detection', 'labels': [{'key': 'class_label', 'value': 'dog', 'score': 0.8}, {'key': 'class_label', 'value': 'cat', 'score': 0.1}, {'key': 'class_label', 'value': 'person', 'score': 0.1}], 'metadata': {}, 'bounding_box': {'polygon': {'points': [{'x': 16.0, 'y': 130.0}, {'x': 70.0, 'y': 130.0}, {'x': 70.0, 'y': 150.0}, {'x': 16.0, 'y': 150.0}]}}, 'polygon': None, 'multipolygon': None, 'raster': None, 'jsonb': None}, {'task_type': 'object-detection', 'labels': [{'key': 'class_label', 'value': 'dog', 'score': 0.05}, {'key': 'class_label', 'value': 'cat', 'score': 0.05}, {'key': 'class_label', 'value': 'person', 'score': 0.9}], 'metadata': {}, 'bounding_box': {'polygon': {'points': [{'x': 89.0, 'y': 10.0}, {'x': 97.0, 'y': 10.0}, {'x': 97.0, 'y': 110.0}, {'x': 89.0, 'y': 110.0}]}}, 'polygon': None, 'multipolygon': None, 'raster': None, 'jsonb': None}]}\n",
      "{'datum': {'dataset': 'myDataset', 'uid': 'img4', 'metadata': {'path': 'a/b/c/img4.png'}, 'geospatial': {}}, 'model': 'myModel', 'annotations': [{'task_type': 'object-detection', 'labels': [{'key': 'class_label', 'value': 'dog', 'score': 0.8}, {'key': 'class_label', 'value': 'cat', 'score': 0.1}, {'key': 'class_label', 'value': 'person', 'score': 0.1}], 'metadata': {}, 'bounding_box': {'polygon': {'points': [{'x': 500.0, 'y': 220.0}, {'x': 530.0, 'y': 220.0}, {'x': 530.0, 'y': 260.0}, {'x': 500.0, 'y': 260.0}]}}, 'polygon': None, 'multipolygon': None, 'raster': None, 'jsonb': None}]}\n",
      "{'datum': {'dataset': 'myDataset', 'uid': 'img5', 'metadata': {'path': 'a/b/c/img5.png'}, 'geospatial': {}}, 'model': 'myModel', 'annotations': []}\n"
     ]
    },
    {
     "name": "stderr",
     "output_type": "stream",
     "text": [
      "/home/czaloom/velour/.env-velour/lib/python3.10/site-packages/velour/coretypes.py:1103: UserWarning: Prediction for datum with uid `img5` contains no annotations.\n",
      "  warnings.warn(\n"
     ]
    }
   ],
   "source": [
    "for element in object_detections:\n",
    "    # create prediction\n",
    "    prediction = create_prediction_from_object_detection_dict(element)\n",
    "\n",
    "    # add prediction to model\n",
    "    model.add_prediction(prediction)\n",
    "    \n",
    "    print(prediction)"
   ]
  },
  {
   "attachments": {},
   "cell_type": "markdown",
   "metadata": {},
   "source": [
    "### **Image Semantic Segmentation**"
   ]
  },
  {
   "cell_type": "code",
   "execution_count": 28,
   "metadata": {},
   "outputs": [],
   "source": [
    "image_segmentations = [\n",
    "    {\n",
    "        \"path\": \"a/b/c/img6.png\", \n",
    "        \"annotations\": [\n",
    "            {\n",
    "                \"class_label\": \"dog\",\n",
    "                \"contour\": [[{\"x\": 10.0, \"y\": 15.5}, {\"x\": 20.9, \"y\": 50.2}, {\"x\": 25.9, \"y\": 28.4}]]\n",
    "            }\n",
    "        ]\n",
    "    },\n",
    "    {\n",
    "        \"path\": \"a/b/c/img7.png\", \n",
    "        \"annotations\": [\n",
    "            {\n",
    "                \"class_label\": \"cat\",\n",
    "                \"contour\": [[{\"x\": 97.2, \"y\": 40.2}, {\"x\": 33.33, \"y\": 44.3}, {\"x\": 10.9, \"y\": 18.7}]]\n",
    "            }\n",
    "        ]   \n",
    "    },\n",
    "    {\n",
    "        \"path\": \"a/b/c/img8.png\", \n",
    "        \"annotations\": [\n",
    "            {\n",
    "                \"class_label\": \"car\",\n",
    "                \"contour\": [[{\"x\": 10.0, \"y\": 15.5}, {\"x\": 20.9, \"y\": 50.2}, {\"x\": 25.9, \"y\": 28.4}], [{\"x\": 60.0, \"y\": 15.5}, {\"x\": 70.9, \"y\": 50.2}, {\"x\": 75.9, \"y\": 28.4}]]\n",
    "            }\n",
    "        ]\n",
    "    }\n",
    "]"
   ]
  },
  {
   "cell_type": "code",
   "execution_count": 29,
   "metadata": {},
   "outputs": [],
   "source": [
    "def create_prediction_from_image_segmentation_dict(element: dict) -> Prediction:\n",
    "    \n",
    "    # get datum from dataset using filename\n",
    "    uid=Path(element[\"path\"]).stem\n",
    "    datum = datums_by_uid[uid]\n",
    "\n",
    "\n",
    "    # create Annotations\n",
    "    annotations = [\n",
    "        Annotation(\n",
    "            task_type=TaskType.SEGMENTATION,\n",
    "            labels=[\n",
    "                Label(key=\"class_label\", value=annotation[\"class_label\"])\n",
    "            ],\n",
    "            polygon=Polygon(\n",
    "                boundary=BasicPolygon(\n",
    "                    points=[\n",
    "                        Point(p[\"x\"], p[\"y\"])\n",
    "                        for p in annotation[\"contour\"][0]\n",
    "                    ],\n",
    "                ),\n",
    "                holes=[\n",
    "                    BasicPolygon(\n",
    "                        points=[\n",
    "                            Point(p[\"x\"], p[\"y\"])\n",
    "                            for p in hole\n",
    "                        ]\n",
    "                    )\n",
    "                    for hole in annotation[\"contour\"][1:]\n",
    "                ]\n",
    "            )\n",
    "        )\n",
    "        for annotation in element[\"annotations\"]\n",
    "        if len(annotation[\"contour\"]) > 0\n",
    "    ]\n",
    "\n",
    "    # create and return Prediction\n",
    "    return Prediction(\n",
    "        datum=datum,\n",
    "        annotations=annotations,\n",
    "    )"
   ]
  },
  {
   "cell_type": "code",
   "execution_count": 30,
   "metadata": {},
   "outputs": [
    {
     "name": "stdout",
     "output_type": "stream",
     "text": [
      "{'datum': {'dataset': 'myDataset', 'uid': 'img6', 'metadata': {'path': 'a/b/c/img6.png'}, 'geospatial': {}}, 'model': 'myModel', 'annotations': [{'task_type': 'semantic-segmentation', 'labels': [{'key': 'class_label', 'value': 'dog', 'score': None}], 'metadata': {}, 'bounding_box': None, 'polygon': {'boundary': {'points': [{'x': 10.0, 'y': 15.5}, {'x': 20.9, 'y': 50.2}, {'x': 25.9, 'y': 28.4}]}, 'holes': []}, 'multipolygon': None, 'raster': None, 'jsonb': None}]}\n",
      "{'datum': {'dataset': 'myDataset', 'uid': 'img7', 'metadata': {'path': 'a/b/c/img7.png'}, 'geospatial': {}}, 'model': 'myModel', 'annotations': [{'task_type': 'semantic-segmentation', 'labels': [{'key': 'class_label', 'value': 'cat', 'score': None}], 'metadata': {}, 'bounding_box': None, 'polygon': {'boundary': {'points': [{'x': 97.2, 'y': 40.2}, {'x': 33.33, 'y': 44.3}, {'x': 10.9, 'y': 18.7}]}, 'holes': []}, 'multipolygon': None, 'raster': None, 'jsonb': None}]}\n",
      "{'datum': {'dataset': 'myDataset', 'uid': 'img8', 'metadata': {'path': 'a/b/c/img8.png'}, 'geospatial': {}}, 'model': 'myModel', 'annotations': [{'task_type': 'semantic-segmentation', 'labels': [{'key': 'class_label', 'value': 'car', 'score': None}], 'metadata': {}, 'bounding_box': None, 'polygon': {'boundary': {'points': [{'x': 10.0, 'y': 15.5}, {'x': 20.9, 'y': 50.2}, {'x': 25.9, 'y': 28.4}]}, 'holes': [{'points': [{'x': 60.0, 'y': 15.5}, {'x': 70.9, 'y': 50.2}, {'x': 75.9, 'y': 28.4}]}]}, 'multipolygon': None, 'raster': None, 'jsonb': None}]}\n"
     ]
    }
   ],
   "source": [
    "for element in image_segmentations:\n",
    "    # create prediction\n",
    "    prediction = create_prediction_from_image_segmentation_dict(element)\n",
    "\n",
    "    # add prediction to model\n",
    "    model.add_prediction(prediction)\n",
    "    \n",
    "    print(prediction)"
   ]
  },
  {
   "attachments": {},
   "cell_type": "markdown",
   "metadata": {},
   "source": [
    "### **Text Classification**"
   ]
  },
  {
   "cell_type": "code",
   "execution_count": 31,
   "metadata": {},
   "outputs": [],
   "source": [
    "text_classifications = [\n",
    "    {\n",
    "        \"path\": \"a/b/c/text1.txt\",\n",
    "        \"annotations\": [\n",
    "            {\"sentiment\": \n",
    "                {\n",
    "                    \"context\": \"Is the content of this product review postive?\", \n",
    "                    \"labels\": [\n",
    "                        {\"label\": \"positive\", \"score\": 0.8},\n",
    "                        {\"label\": \"negative\", \"score\": 0.2}\n",
    "                    ]\n",
    "                }\n",
    "            }\n",
    "        ]\n",
    "    }\n",
    "]"
   ]
  },
  {
   "cell_type": "code",
   "execution_count": 32,
   "metadata": {},
   "outputs": [],
   "source": [
    "def create_prediction_from_text_classification_dict(element: dict) -> Prediction:\n",
    "    \n",
    "    # get datum from dataset using filename\n",
    "    uid=Path(element[\"path\"]).stem\n",
    "    datum = datums_by_uid[uid]\n",
    "\n",
    "    # create Annotation\n",
    "    annotations = [\n",
    "        Annotation(\n",
    "            task_type=TaskType.CLASSIFICATION,\n",
    "            labels=[\n",
    "                Label(\n",
    "                    key=\"label\", \n",
    "                    value=label[\"label\"],\n",
    "                    score=label[\"score\"],\n",
    "                )\n",
    "                for label in element[\"annotations\"][0][\"sentiment\"][\"labels\"]\n",
    "            ]\n",
    "        )\n",
    "    ]\n",
    "\n",
    "    # create and return Prediction\n",
    "    return Prediction(\n",
    "        datum=datum,\n",
    "        annotations=annotations,\n",
    "    )"
   ]
  },
  {
   "cell_type": "code",
   "execution_count": 33,
   "metadata": {},
   "outputs": [
    {
     "name": "stdout",
     "output_type": "stream",
     "text": [
      "{'datum': {'dataset': 'myDataset', 'uid': 'text1', 'metadata': {'path': 'a/b/c/text1.txt', 'context': 'Is the content of this product review postive?'}, 'geospatial': {}}, 'model': 'myModel', 'annotations': [{'task_type': 'classification', 'labels': [{'key': 'label', 'value': 'positive', 'score': 0.8}, {'key': 'label', 'value': 'negative', 'score': 0.2}], 'metadata': {}, 'bounding_box': None, 'polygon': None, 'multipolygon': None, 'raster': None, 'jsonb': None}]}\n"
     ]
    }
   ],
   "source": [
    "for element in text_classifications:\n",
    "    # create prediction\n",
    "    prediction = create_prediction_from_text_classification_dict(element)\n",
    "\n",
    "    # add prediction to model\n",
    "    model.add_prediction(prediction)\n",
    "    \n",
    "    print(prediction)"
   ]
  },
  {
   "attachments": {},
   "cell_type": "markdown",
   "metadata": {},
   "source": [
    "# **Model Finalization**\n",
    "\n",
    "Now that we are done creating `Prediction` objects we can move on to finalizing the `Model` over the existing `Dataset`. This is required for evaluation for traceability reasons, you can be certain that an inference run will be as useful tomorrow as it is today.\n",
    "\n"
   ]
  },
  {
   "cell_type": "code",
   "execution_count": 34,
   "metadata": {},
   "outputs": [],
   "source": [
    "model.finalize_inferences(dataset)"
   ]
  },
  {
   "attachments": {},
   "cell_type": "markdown",
   "metadata": {},
   "source": [
    "# **Exploring the Client**"
   ]
  },
  {
   "cell_type": "code",
   "execution_count": 35,
   "metadata": {},
   "outputs": [
    {
     "data": {
      "text/plain": [
       "[{'id': 10,\n",
       "  'name': 'myDataset',\n",
       "  'metadata': {'some_number': 1234.0,\n",
       "   'some_string': 'hello_world',\n",
       "   'a_different_number': 1.234},\n",
       "  'geospatial': {}}]"
      ]
     },
     "execution_count": 35,
     "metadata": {},
     "output_type": "execute_result"
    }
   ],
   "source": [
    "client.get_datasets()"
   ]
  },
  {
   "cell_type": "code",
   "execution_count": 36,
   "metadata": {},
   "outputs": [
    {
     "data": {
      "text/plain": [
       "[{'id': 10,\n",
       "  'name': 'myModel',\n",
       "  'metadata': {'foo': 'bar', 'some_number': 4321.0},\n",
       "  'geospatial': {}}]"
      ]
     },
     "execution_count": 36,
     "metadata": {},
     "output_type": "execute_result"
    }
   ],
   "source": [
    "client.get_models()"
   ]
  },
  {
   "attachments": {},
   "cell_type": "markdown",
   "metadata": {},
   "source": [
    "# **Exploring the Dataset**"
   ]
  },
  {
   "attachments": {},
   "cell_type": "markdown",
   "metadata": {},
   "source": [
    "`Dataset.get_datums()`"
   ]
  },
  {
   "cell_type": "code",
   "execution_count": 37,
   "metadata": {},
   "outputs": [
    {
     "name": "stdout",
     "output_type": "stream",
     "text": [
      "{'dataset': 'myDataset', 'uid': 'img1', 'metadata': {'path': 'a/b/c/img1.png'}, 'geospatial': {}}\n",
      "{'dataset': 'myDataset', 'uid': 'img2', 'metadata': {'path': 'a/b/c/img2.png'}, 'geospatial': {}}\n",
      "{'dataset': 'myDataset', 'uid': 'img3', 'metadata': {'path': 'a/b/c/img3.png'}, 'geospatial': {}}\n",
      "{'dataset': 'myDataset', 'uid': 'img4', 'metadata': {'path': 'a/b/c/img4.png'}, 'geospatial': {}}\n",
      "{'dataset': 'myDataset', 'uid': 'img5', 'metadata': {'path': 'a/b/c/img5.png'}, 'geospatial': {}}\n",
      "{'dataset': 'myDataset', 'uid': 'img6', 'metadata': {'path': 'a/b/c/img6.png'}, 'geospatial': {}}\n",
      "{'dataset': 'myDataset', 'uid': 'img7', 'metadata': {'path': 'a/b/c/img7.png'}, 'geospatial': {}}\n",
      "{'dataset': 'myDataset', 'uid': 'img8', 'metadata': {'path': 'a/b/c/img8.png'}, 'geospatial': {}}\n",
      "{'dataset': 'myDataset', 'uid': 'text1', 'metadata': {'path': 'a/b/c/text1.txt', 'context': 'Is the content of this product review postive?'}, 'geospatial': {}}\n",
      "{'dataset': 'myDataset', 'uid': 'text2_19_22', 'metadata': {'path': 'a/b/c/text2.text', 'filename': 'text2', 'end_position': 22.0, 'start_position': 19.0}, 'geospatial': {}}\n"
     ]
    }
   ],
   "source": [
    "for datum in dataset.get_datums():\n",
    "    print(datum)"
   ]
  },
  {
   "attachments": {},
   "cell_type": "markdown",
   "metadata": {},
   "source": [
    "`Dataset.get_groundtruth(uid: str)`"
   ]
  },
  {
   "cell_type": "code",
   "execution_count": 38,
   "metadata": {},
   "outputs": [
    {
     "name": "stdout",
     "output_type": "stream",
     "text": [
      "{'datum': {'dataset': 'myDataset', 'uid': 'img1', 'metadata': {'path': 'a/b/c/img1.png'}, 'geospatial': {}}, 'annotations': [{'task_type': 'classification', 'labels': [{'key': 'class_label', 'value': 'dog', 'score': None}], 'metadata': {}, 'bounding_box': None, 'polygon': None, 'multipolygon': None, 'raster': None, 'jsonb': None}]}\n",
      "{'datum': {'dataset': 'myDataset', 'uid': 'img2', 'metadata': {'path': 'a/b/c/img2.png'}, 'geospatial': {}}, 'annotations': [{'task_type': 'classification', 'labels': [{'key': 'class_label', 'value': 'cat', 'score': None}], 'metadata': {}, 'bounding_box': None, 'polygon': None, 'multipolygon': None, 'raster': None, 'jsonb': None}]}\n",
      "{'datum': {'dataset': 'myDataset', 'uid': 'img3', 'metadata': {'path': 'a/b/c/img3.png'}, 'geospatial': {}}, 'annotations': [{'task_type': 'object-detection', 'labels': [{'key': 'class_label', 'value': 'dog', 'score': None}], 'metadata': {}, 'bounding_box': {'polygon': {'points': [{'x': 16.0, 'y': 130.0}, {'x': 70.0, 'y': 130.0}, {'x': 70.0, 'y': 150.0}, {'x': 16.0, 'y': 150.0}]}}, 'polygon': None, 'multipolygon': None, 'raster': None, 'jsonb': None}, {'task_type': 'object-detection', 'labels': [{'key': 'class_label', 'value': 'person', 'score': None}], 'metadata': {}, 'bounding_box': {'polygon': {'points': [{'x': 89.0, 'y': 10.0}, {'x': 97.0, 'y': 10.0}, {'x': 97.0, 'y': 110.0}, {'x': 89.0, 'y': 110.0}]}}, 'polygon': None, 'multipolygon': None, 'raster': None, 'jsonb': None}]}\n",
      "{'datum': {'dataset': 'myDataset', 'uid': 'img4', 'metadata': {'path': 'a/b/c/img4.png'}, 'geospatial': {}}, 'annotations': [{'task_type': 'object-detection', 'labels': [{'key': 'class_label', 'value': 'cat', 'score': None}], 'metadata': {}, 'bounding_box': {'polygon': {'points': [{'x': 500.0, 'y': 220.0}, {'x': 530.0, 'y': 220.0}, {'x': 530.0, 'y': 260.0}, {'x': 500.0, 'y': 260.0}]}}, 'polygon': None, 'multipolygon': None, 'raster': None, 'jsonb': None}]}\n",
      "{'datum': {'dataset': 'myDataset', 'uid': 'img5', 'metadata': {'path': 'a/b/c/img5.png'}, 'geospatial': {}}, 'annotations': []}\n",
      "{'datum': {'dataset': 'myDataset', 'uid': 'img6', 'metadata': {'path': 'a/b/c/img6.png'}, 'geospatial': {}}, 'annotations': [{'task_type': 'semantic-segmentation', 'labels': [{'key': 'class_label', 'value': 'dog', 'score': None}], 'metadata': {}, 'bounding_box': None, 'polygon': {'boundary': {'points': [{'x': 10.0, 'y': 15.5}, {'x': 20.9, 'y': 50.2}, {'x': 25.9, 'y': 28.4}]}, 'holes': None}, 'multipolygon': None, 'raster': None, 'jsonb': None}]}\n",
      "{'datum': {'dataset': 'myDataset', 'uid': 'img7', 'metadata': {'path': 'a/b/c/img7.png'}, 'geospatial': {}}, 'annotations': [{'task_type': 'semantic-segmentation', 'labels': [{'key': 'class_label', 'value': 'cat', 'score': None}], 'metadata': {}, 'bounding_box': None, 'polygon': {'boundary': {'points': [{'x': 97.2, 'y': 40.2}, {'x': 33.33, 'y': 44.3}, {'x': 10.9, 'y': 18.7}]}, 'holes': None}, 'multipolygon': None, 'raster': None, 'jsonb': None}]}\n",
      "{'datum': {'dataset': 'myDataset', 'uid': 'img8', 'metadata': {'path': 'a/b/c/img8.png'}, 'geospatial': {}}, 'annotations': [{'task_type': 'semantic-segmentation', 'labels': [{'key': 'class_label', 'value': 'car', 'score': None}], 'metadata': {}, 'bounding_box': None, 'polygon': {'boundary': {'points': [{'x': 10.0, 'y': 15.5}, {'x': 20.9, 'y': 50.2}, {'x': 25.9, 'y': 28.4}]}, 'holes': [{'points': [{'x': 60.0, 'y': 15.5}, {'x': 70.9, 'y': 50.2}, {'x': 75.9, 'y': 28.4}]}]}, 'multipolygon': None, 'raster': None, 'jsonb': None}]}\n",
      "{'datum': {'dataset': 'myDataset', 'uid': 'text1', 'metadata': {'path': 'a/b/c/text1.txt', 'context': 'Is the content of this product review postive?'}, 'geospatial': {}}, 'annotations': [{'task_type': 'classification', 'labels': [{'key': 'label', 'value': 'positive', 'score': None}], 'metadata': {}, 'bounding_box': None, 'polygon': None, 'multipolygon': None, 'raster': None, 'jsonb': None}]}\n",
      "{'datum': {'dataset': 'myDataset', 'uid': 'text2_19_22', 'metadata': {'path': 'a/b/c/text2.text', 'filename': 'text2', 'end_position': 22.0, 'start_position': 19.0}, 'geospatial': {}}, 'annotations': [{'task_type': 'classification', 'labels': [{'key': 'label', 'value': 'place', 'score': None}], 'metadata': {}, 'bounding_box': None, 'polygon': None, 'multipolygon': None, 'raster': None, 'jsonb': None}]}\n"
     ]
    }
   ],
   "source": [
    "for datum in dataset.get_datums():\n",
    "    groundtruth = dataset.get_groundtruth(datum)\n",
    "    print(groundtruth)"
   ]
  },
  {
   "attachments": {},
   "cell_type": "markdown",
   "metadata": {},
   "source": [
    "`Dataset.get_labels()`"
   ]
  },
  {
   "cell_type": "code",
   "execution_count": 39,
   "metadata": {},
   "outputs": [
    {
     "name": "stdout",
     "output_type": "stream",
     "text": [
      "{'key': 'class_label', 'value': 'car', 'score': None}\n",
      "{'key': 'class_label', 'value': 'cat', 'score': None}\n",
      "{'key': 'label', 'value': 'positive', 'score': None}\n",
      "{'key': 'class_label', 'value': 'person', 'score': None}\n",
      "{'key': 'class_label', 'value': 'dog', 'score': None}\n",
      "{'key': 'label', 'value': 'place', 'score': None}\n"
     ]
    }
   ],
   "source": [
    "for label in dataset.get_labels():\n",
    "    print(label)"
   ]
  },
  {
   "attachments": {},
   "cell_type": "markdown",
   "metadata": {},
   "source": [
    "# **Exploring the Model**"
   ]
  },
  {
   "attachments": {},
   "cell_type": "markdown",
   "metadata": {},
   "source": [
    "`Model.get_prediction(datum: Datum)`"
   ]
  },
  {
   "cell_type": "code",
   "execution_count": 40,
   "metadata": {},
   "outputs": [
    {
     "name": "stdout",
     "output_type": "stream",
     "text": [
      "{'datum': {'dataset': 'myDataset', 'uid': 'img1', 'metadata': {'path': 'a/b/c/img1.png'}, 'geospatial': {}}, 'model': 'myModel', 'annotations': [{'task_type': 'classification', 'labels': [{'key': 'class_label', 'value': 'dog', 'score': 0.9}, {'key': 'class_label', 'value': 'cat', 'score': 0.1}], 'metadata': {}, 'bounding_box': None, 'polygon': None, 'multipolygon': None, 'raster': None, 'jsonb': None}]}\n",
      "{'datum': {'dataset': 'myDataset', 'uid': 'img2', 'metadata': {'path': 'a/b/c/img2.png'}, 'geospatial': {}}, 'model': 'myModel', 'annotations': [{'task_type': 'classification', 'labels': [{'key': 'class_label', 'value': 'dog', 'score': 0.1}, {'key': 'class_label', 'value': 'cat', 'score': 0.9}], 'metadata': {}, 'bounding_box': None, 'polygon': None, 'multipolygon': None, 'raster': None, 'jsonb': None}]}\n",
      "{'datum': {'dataset': 'myDataset', 'uid': 'img3', 'metadata': {'path': 'a/b/c/img3.png'}, 'geospatial': {}}, 'model': 'myModel', 'annotations': [{'task_type': 'object-detection', 'labels': [{'key': 'class_label', 'value': 'dog', 'score': 0.8}, {'key': 'class_label', 'value': 'cat', 'score': 0.1}, {'key': 'class_label', 'value': 'person', 'score': 0.1}], 'metadata': {}, 'bounding_box': {'polygon': {'points': [{'x': 16.0, 'y': 130.0}, {'x': 70.0, 'y': 130.0}, {'x': 70.0, 'y': 150.0}, {'x': 16.0, 'y': 150.0}]}}, 'polygon': None, 'multipolygon': None, 'raster': None, 'jsonb': None}, {'task_type': 'object-detection', 'labels': [{'key': 'class_label', 'value': 'dog', 'score': 0.05}, {'key': 'class_label', 'value': 'cat', 'score': 0.05}, {'key': 'class_label', 'value': 'person', 'score': 0.9}], 'metadata': {}, 'bounding_box': {'polygon': {'points': [{'x': 89.0, 'y': 10.0}, {'x': 97.0, 'y': 10.0}, {'x': 97.0, 'y': 110.0}, {'x': 89.0, 'y': 110.0}]}}, 'polygon': None, 'multipolygon': None, 'raster': None, 'jsonb': None}]}\n",
      "{'datum': {'dataset': 'myDataset', 'uid': 'img4', 'metadata': {'path': 'a/b/c/img4.png'}, 'geospatial': {}}, 'model': 'myModel', 'annotations': [{'task_type': 'object-detection', 'labels': [{'key': 'class_label', 'value': 'dog', 'score': 0.8}, {'key': 'class_label', 'value': 'cat', 'score': 0.1}, {'key': 'class_label', 'value': 'person', 'score': 0.1}], 'metadata': {}, 'bounding_box': {'polygon': {'points': [{'x': 500.0, 'y': 220.0}, {'x': 530.0, 'y': 220.0}, {'x': 530.0, 'y': 260.0}, {'x': 500.0, 'y': 260.0}]}}, 'polygon': None, 'multipolygon': None, 'raster': None, 'jsonb': None}]}\n",
      "{'datum': {'dataset': 'myDataset', 'uid': 'img5', 'metadata': {'path': 'a/b/c/img5.png'}, 'geospatial': {}}, 'model': 'myModel', 'annotations': []}\n",
      "{'datum': {'dataset': 'myDataset', 'uid': 'img6', 'metadata': {'path': 'a/b/c/img6.png'}, 'geospatial': {}}, 'model': 'myModel', 'annotations': [{'task_type': 'semantic-segmentation', 'labels': [{'key': 'class_label', 'value': 'dog', 'score': None}], 'metadata': {}, 'bounding_box': None, 'polygon': {'boundary': {'points': [{'x': 10.0, 'y': 15.5}, {'x': 20.9, 'y': 50.2}, {'x': 25.9, 'y': 28.4}]}, 'holes': None}, 'multipolygon': None, 'raster': None, 'jsonb': None}]}\n",
      "{'datum': {'dataset': 'myDataset', 'uid': 'img7', 'metadata': {'path': 'a/b/c/img7.png'}, 'geospatial': {}}, 'model': 'myModel', 'annotations': [{'task_type': 'semantic-segmentation', 'labels': [{'key': 'class_label', 'value': 'cat', 'score': None}], 'metadata': {}, 'bounding_box': None, 'polygon': {'boundary': {'points': [{'x': 97.2, 'y': 40.2}, {'x': 33.33, 'y': 44.3}, {'x': 10.9, 'y': 18.7}]}, 'holes': None}, 'multipolygon': None, 'raster': None, 'jsonb': None}]}\n",
      "{'datum': {'dataset': 'myDataset', 'uid': 'img8', 'metadata': {'path': 'a/b/c/img8.png'}, 'geospatial': {}}, 'model': 'myModel', 'annotations': [{'task_type': 'semantic-segmentation', 'labels': [{'key': 'class_label', 'value': 'car', 'score': None}], 'metadata': {}, 'bounding_box': None, 'polygon': {'boundary': {'points': [{'x': 10.0, 'y': 15.5}, {'x': 20.9, 'y': 50.2}, {'x': 25.9, 'y': 28.4}]}, 'holes': [{'points': [{'x': 60.0, 'y': 15.5}, {'x': 70.9, 'y': 50.2}, {'x': 75.9, 'y': 28.4}]}]}, 'multipolygon': None, 'raster': None, 'jsonb': None}]}\n",
      "{'datum': {'dataset': 'myDataset', 'uid': 'text1', 'metadata': {'path': 'a/b/c/text1.txt', 'context': 'Is the content of this product review postive?'}, 'geospatial': {}}, 'model': 'myModel', 'annotations': [{'task_type': 'classification', 'labels': [{'key': 'label', 'value': 'positive', 'score': 0.8}, {'key': 'label', 'value': 'negative', 'score': 0.2}], 'metadata': {}, 'bounding_box': None, 'polygon': None, 'multipolygon': None, 'raster': None, 'jsonb': None}]}\n",
      "{'datum': {'dataset': 'myDataset', 'uid': 'text2_19_22', 'metadata': {'path': 'a/b/c/text2.text', 'filename': 'text2', 'end_position': 22.0, 'start_position': 19.0}, 'geospatial': {}}, 'model': 'myModel', 'annotations': []}\n"
     ]
    }
   ],
   "source": [
    "for datum in dataset.get_datums():\n",
    "    print(model.get_prediction(datum))"
   ]
  },
  {
   "attachments": {},
   "cell_type": "markdown",
   "metadata": {},
   "source": [
    "`Model.get_labels()`"
   ]
  },
  {
   "cell_type": "code",
   "execution_count": 41,
   "metadata": {},
   "outputs": [
    {
     "name": "stdout",
     "output_type": "stream",
     "text": [
      "{'key': 'class_label', 'value': 'car', 'score': None}\n",
      "{'key': 'class_label', 'value': 'cat', 'score': None}\n",
      "{'key': 'label', 'value': 'positive', 'score': None}\n",
      "{'key': 'label', 'value': 'negative', 'score': None}\n",
      "{'key': 'class_label', 'value': 'person', 'score': None}\n",
      "{'key': 'class_label', 'value': 'dog', 'score': None}\n"
     ]
    }
   ],
   "source": [
    "for label in model.get_labels():\n",
    "    print(label)"
   ]
  },
  {
   "attachments": {},
   "cell_type": "markdown",
   "metadata": {},
   "source": [
    "# **Introduction to Evaluation**"
   ]
  },
  {
   "cell_type": "code",
   "execution_count": 42,
   "metadata": {},
   "outputs": [],
   "source": [
    "eval1 = model.evaluate_classification(dataset)\n",
    "eval1.wait_for_completion()"
   ]
  },
  {
   "cell_type": "code",
   "execution_count": 43,
   "metadata": {},
   "outputs": [
    {
     "ename": "HTTPError",
     "evalue": "500 Server Error: Internal Server Error for url: http://0.0.0.0:8000/evaluations/1",
     "output_type": "error",
     "traceback": [
      "\u001b[0;31m---------------------------------------------------------------------------\u001b[0m",
      "\u001b[0;31mJSONDecodeError\u001b[0m                           Traceback (most recent call last)",
      "File \u001b[0;32m~/velour/.env-velour/lib/python3.10/site-packages/requests/models.py:971\u001b[0m, in \u001b[0;36mResponse.json\u001b[0;34m(self, **kwargs)\u001b[0m\n\u001b[1;32m    970\u001b[0m \u001b[39mtry\u001b[39;00m:\n\u001b[0;32m--> 971\u001b[0m     \u001b[39mreturn\u001b[39;00m complexjson\u001b[39m.\u001b[39;49mloads(\u001b[39mself\u001b[39;49m\u001b[39m.\u001b[39;49mtext, \u001b[39m*\u001b[39;49m\u001b[39m*\u001b[39;49mkwargs)\n\u001b[1;32m    972\u001b[0m \u001b[39mexcept\u001b[39;00m JSONDecodeError \u001b[39mas\u001b[39;00m e:\n\u001b[1;32m    973\u001b[0m     \u001b[39m# Catch JSON-related errors and raise as requests.JSONDecodeError\u001b[39;00m\n\u001b[1;32m    974\u001b[0m     \u001b[39m# This aliases json.JSONDecodeError and simplejson.JSONDecodeError\u001b[39;00m\n",
      "File \u001b[0;32m/usr/lib/python3.10/json/__init__.py:346\u001b[0m, in \u001b[0;36mloads\u001b[0;34m(s, cls, object_hook, parse_float, parse_int, parse_constant, object_pairs_hook, **kw)\u001b[0m\n\u001b[1;32m    343\u001b[0m \u001b[39mif\u001b[39;00m (\u001b[39mcls\u001b[39m \u001b[39mis\u001b[39;00m \u001b[39mNone\u001b[39;00m \u001b[39mand\u001b[39;00m object_hook \u001b[39mis\u001b[39;00m \u001b[39mNone\u001b[39;00m \u001b[39mand\u001b[39;00m\n\u001b[1;32m    344\u001b[0m         parse_int \u001b[39mis\u001b[39;00m \u001b[39mNone\u001b[39;00m \u001b[39mand\u001b[39;00m parse_float \u001b[39mis\u001b[39;00m \u001b[39mNone\u001b[39;00m \u001b[39mand\u001b[39;00m\n\u001b[1;32m    345\u001b[0m         parse_constant \u001b[39mis\u001b[39;00m \u001b[39mNone\u001b[39;00m \u001b[39mand\u001b[39;00m object_pairs_hook \u001b[39mis\u001b[39;00m \u001b[39mNone\u001b[39;00m \u001b[39mand\u001b[39;00m \u001b[39mnot\u001b[39;00m kw):\n\u001b[0;32m--> 346\u001b[0m     \u001b[39mreturn\u001b[39;00m _default_decoder\u001b[39m.\u001b[39;49mdecode(s)\n\u001b[1;32m    347\u001b[0m \u001b[39mif\u001b[39;00m \u001b[39mcls\u001b[39m \u001b[39mis\u001b[39;00m \u001b[39mNone\u001b[39;00m:\n",
      "File \u001b[0;32m/usr/lib/python3.10/json/decoder.py:337\u001b[0m, in \u001b[0;36mJSONDecoder.decode\u001b[0;34m(self, s, _w)\u001b[0m\n\u001b[1;32m    333\u001b[0m \u001b[39m\u001b[39m\u001b[39m\"\"\"Return the Python representation of ``s`` (a ``str`` instance\u001b[39;00m\n\u001b[1;32m    334\u001b[0m \u001b[39mcontaining a JSON document).\u001b[39;00m\n\u001b[1;32m    335\u001b[0m \n\u001b[1;32m    336\u001b[0m \u001b[39m\"\"\"\u001b[39;00m\n\u001b[0;32m--> 337\u001b[0m obj, end \u001b[39m=\u001b[39m \u001b[39mself\u001b[39;49m\u001b[39m.\u001b[39;49mraw_decode(s, idx\u001b[39m=\u001b[39;49m_w(s, \u001b[39m0\u001b[39;49m)\u001b[39m.\u001b[39;49mend())\n\u001b[1;32m    338\u001b[0m end \u001b[39m=\u001b[39m _w(s, end)\u001b[39m.\u001b[39mend()\n",
      "File \u001b[0;32m/usr/lib/python3.10/json/decoder.py:355\u001b[0m, in \u001b[0;36mJSONDecoder.raw_decode\u001b[0;34m(self, s, idx)\u001b[0m\n\u001b[1;32m    354\u001b[0m \u001b[39mexcept\u001b[39;00m \u001b[39mStopIteration\u001b[39;00m \u001b[39mas\u001b[39;00m err:\n\u001b[0;32m--> 355\u001b[0m     \u001b[39mraise\u001b[39;00m JSONDecodeError(\u001b[39m\"\u001b[39m\u001b[39mExpecting value\u001b[39m\u001b[39m\"\u001b[39m, s, err\u001b[39m.\u001b[39mvalue) \u001b[39mfrom\u001b[39;00m \u001b[39mNone\u001b[39;00m\n\u001b[1;32m    356\u001b[0m \u001b[39mreturn\u001b[39;00m obj, end\n",
      "\u001b[0;31mJSONDecodeError\u001b[0m: Expecting value: line 1 column 1 (char 0)",
      "\nDuring handling of the above exception, another exception occurred:\n",
      "\u001b[0;31mJSONDecodeError\u001b[0m                           Traceback (most recent call last)",
      "File \u001b[0;32m~/velour/.env-velour/lib/python3.10/site-packages/velour/client.py:80\u001b[0m, in \u001b[0;36mClient._requests_wrapper\u001b[0;34m(self, method_name, endpoint, *args, **kwargs)\u001b[0m\n\u001b[1;32m     79\u001b[0m \u001b[39mtry\u001b[39;00m:\n\u001b[0;32m---> 80\u001b[0m     \u001b[39mraise\u001b[39;00m ClientException(resp\u001b[39m.\u001b[39;49mjson()[\u001b[39m\"\u001b[39m\u001b[39mdetail\u001b[39m\u001b[39m\"\u001b[39m])\n\u001b[1;32m     81\u001b[0m \u001b[39mexcept\u001b[39;00m (requests\u001b[39m.\u001b[39mexceptions\u001b[39m.\u001b[39mJSONDecodeError, \u001b[39mKeyError\u001b[39;00m):\n",
      "File \u001b[0;32m~/velour/.env-velour/lib/python3.10/site-packages/requests/models.py:975\u001b[0m, in \u001b[0;36mResponse.json\u001b[0;34m(self, **kwargs)\u001b[0m\n\u001b[1;32m    972\u001b[0m \u001b[39mexcept\u001b[39;00m JSONDecodeError \u001b[39mas\u001b[39;00m e:\n\u001b[1;32m    973\u001b[0m     \u001b[39m# Catch JSON-related errors and raise as requests.JSONDecodeError\u001b[39;00m\n\u001b[1;32m    974\u001b[0m     \u001b[39m# This aliases json.JSONDecodeError and simplejson.JSONDecodeError\u001b[39;00m\n\u001b[0;32m--> 975\u001b[0m     \u001b[39mraise\u001b[39;00m RequestsJSONDecodeError(e\u001b[39m.\u001b[39mmsg, e\u001b[39m.\u001b[39mdoc, e\u001b[39m.\u001b[39mpos)\n",
      "\u001b[0;31mJSONDecodeError\u001b[0m: Expecting value: line 1 column 1 (char 0)",
      "\nDuring handling of the above exception, another exception occurred:\n",
      "\u001b[0;31mHTTPError\u001b[0m                                 Traceback (most recent call last)",
      "Cell \u001b[0;32mIn[43], line 1\u001b[0m\n\u001b[0;32m----> 1\u001b[0m eval1\u001b[39m.\u001b[39;49mresults()\n",
      "File \u001b[0;32m~/velour/.env-velour/lib/python3.10/site-packages/velour/coretypes.py:963\u001b[0m, in \u001b[0;36mEvaluation.results\u001b[0;34m(self)\u001b[0m\n\u001b[1;32m    953\u001b[0m \u001b[39m@property\u001b[39m\n\u001b[1;32m    954\u001b[0m \u001b[39mdef\u001b[39;00m \u001b[39mresults\u001b[39m(\u001b[39mself\u001b[39m) \u001b[39m-\u001b[39m\u001b[39m>\u001b[39m EvaluationResult:\n\u001b[1;32m    955\u001b[0m \u001b[39m    \u001b[39m\u001b[39m\"\"\"\u001b[39;00m\n\u001b[1;32m    956\u001b[0m \u001b[39m    The results of the evaluation job.\u001b[39;00m\n\u001b[1;32m    957\u001b[0m \n\u001b[0;32m   (...)\u001b[0m\n\u001b[1;32m    961\u001b[0m \u001b[39m        The results from the evaluation.\u001b[39;00m\n\u001b[1;32m    962\u001b[0m \u001b[39m    \"\"\"\u001b[39;00m\n\u001b[0;32m--> 963\u001b[0m     result \u001b[39m=\u001b[39m \u001b[39mself\u001b[39;49m\u001b[39m.\u001b[39;49mclient\u001b[39m.\u001b[39;49m_requests_get_rel_host(\n\u001b[1;32m    964\u001b[0m         \u001b[39mf\u001b[39;49m\u001b[39m\"\u001b[39;49m\u001b[39mevaluations/\u001b[39;49m\u001b[39m{\u001b[39;49;00m\u001b[39mself\u001b[39;49m\u001b[39m.\u001b[39;49mevaluation_id\u001b[39m}\u001b[39;49;00m\u001b[39m\"\u001b[39;49m\n\u001b[1;32m    965\u001b[0m     )\u001b[39m.\u001b[39mjson()\n\u001b[1;32m    966\u001b[0m     \u001b[39mreturn\u001b[39;00m EvaluationResult(\u001b[39m*\u001b[39m\u001b[39m*\u001b[39mresult)\n",
      "File \u001b[0;32m~/velour/.env-velour/lib/python3.10/site-packages/velour/client.py:98\u001b[0m, in \u001b[0;36mClient._requests_get_rel_host\u001b[0;34m(self, endpoint, *args, **kwargs)\u001b[0m\n\u001b[1;32m     94\u001b[0m \u001b[39mdef\u001b[39;00m \u001b[39m_requests_get_rel_host\u001b[39m(\u001b[39mself\u001b[39m, endpoint: \u001b[39mstr\u001b[39m, \u001b[39m*\u001b[39margs, \u001b[39m*\u001b[39m\u001b[39m*\u001b[39mkwargs):\n\u001b[1;32m     95\u001b[0m \u001b[39m    \u001b[39m\u001b[39m\"\"\"\u001b[39;00m\n\u001b[1;32m     96\u001b[0m \u001b[39m    Helper for handling GET requests.\u001b[39;00m\n\u001b[1;32m     97\u001b[0m \u001b[39m    \"\"\"\u001b[39;00m\n\u001b[0;32m---> 98\u001b[0m     \u001b[39mreturn\u001b[39;00m \u001b[39mself\u001b[39;49m\u001b[39m.\u001b[39;49m_requests_wrapper(\n\u001b[1;32m     99\u001b[0m         method_name\u001b[39m=\u001b[39;49m\u001b[39m\"\u001b[39;49m\u001b[39mget\u001b[39;49m\u001b[39m\"\u001b[39;49m, endpoint\u001b[39m=\u001b[39;49mendpoint, \u001b[39m*\u001b[39;49margs, \u001b[39m*\u001b[39;49m\u001b[39m*\u001b[39;49mkwargs\n\u001b[1;32m    100\u001b[0m     )\n",
      "File \u001b[0;32m~/velour/.env-velour/lib/python3.10/site-packages/velour/client.py:82\u001b[0m, in \u001b[0;36mClient._requests_wrapper\u001b[0;34m(self, method_name, endpoint, *args, **kwargs)\u001b[0m\n\u001b[1;32m     80\u001b[0m         \u001b[39mraise\u001b[39;00m ClientException(resp\u001b[39m.\u001b[39mjson()[\u001b[39m\"\u001b[39m\u001b[39mdetail\u001b[39m\u001b[39m\"\u001b[39m])\n\u001b[1;32m     81\u001b[0m     \u001b[39mexcept\u001b[39;00m (requests\u001b[39m.\u001b[39mexceptions\u001b[39m.\u001b[39mJSONDecodeError, \u001b[39mKeyError\u001b[39;00m):\n\u001b[0;32m---> 82\u001b[0m         resp\u001b[39m.\u001b[39;49mraise_for_status()\n\u001b[1;32m     84\u001b[0m \u001b[39mreturn\u001b[39;00m resp\n",
      "File \u001b[0;32m~/velour/.env-velour/lib/python3.10/site-packages/requests/models.py:1021\u001b[0m, in \u001b[0;36mResponse.raise_for_status\u001b[0;34m(self)\u001b[0m\n\u001b[1;32m   1016\u001b[0m     http_error_msg \u001b[39m=\u001b[39m (\n\u001b[1;32m   1017\u001b[0m         \u001b[39mf\u001b[39m\u001b[39m\"\u001b[39m\u001b[39m{\u001b[39;00m\u001b[39mself\u001b[39m\u001b[39m.\u001b[39mstatus_code\u001b[39m}\u001b[39;00m\u001b[39m Server Error: \u001b[39m\u001b[39m{\u001b[39;00mreason\u001b[39m}\u001b[39;00m\u001b[39m for url: \u001b[39m\u001b[39m{\u001b[39;00m\u001b[39mself\u001b[39m\u001b[39m.\u001b[39murl\u001b[39m}\u001b[39;00m\u001b[39m\"\u001b[39m\n\u001b[1;32m   1018\u001b[0m     )\n\u001b[1;32m   1020\u001b[0m \u001b[39mif\u001b[39;00m http_error_msg:\n\u001b[0;32m-> 1021\u001b[0m     \u001b[39mraise\u001b[39;00m HTTPError(http_error_msg, response\u001b[39m=\u001b[39m\u001b[39mself\u001b[39m)\n",
      "\u001b[0;31mHTTPError\u001b[0m: 500 Server Error: Internal Server Error for url: http://0.0.0.0:8000/evaluations/1"
     ]
    }
   ],
   "source": [
    "eval1.results()"
   ]
  }
 ],
 "metadata": {
  "kernelspec": {
   "display_name": ".env-velour",
   "language": "python",
   "name": "python3"
  },
  "language_info": {
   "codemirror_mode": {
    "name": "ipython",
    "version": 3
   },
   "file_extension": ".py",
   "mimetype": "text/x-python",
   "name": "python",
   "nbconvert_exporter": "python",
   "pygments_lexer": "ipython3",
   "version": "3.10.12"
  },
  "orig_nbformat": 4
 },
 "nbformat": 4,
 "nbformat_minor": 2
}
