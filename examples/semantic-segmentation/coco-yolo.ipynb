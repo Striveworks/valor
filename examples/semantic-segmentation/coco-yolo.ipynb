{
 "cells": [
  {
   "attachments": {},
   "cell_type": "markdown",
   "id": "38ec8ecc",
   "metadata": {},
   "source": [
    "Creating a dataset integration.\n",
    "\n",
    "This tutorial will cover how a velour dataset integration can be made to speed up your workflow.\n",
    "\n",
    "An integration can be useful if your organization uses a standard format for data \n",
    "or for when you just use a certain dataset often. We will use the COCO Panoptic dataset \n",
    "in this notebook to show ..."
   ]
  },
  {
   "cell_type": "code",
   "execution_count": 7,
   "id": "a4d0a509-7500-44ba-b951-3566d4a4fac1",
   "metadata": {},
   "outputs": [],
   "source": [
    "import os\n",
    "import zipfile\n",
    "import tempfile\n",
    "import json\n",
    "import PIL.Image\n",
    "import requests\n",
    "import numpy as np\n",
    "from tqdm import tqdm\n",
    "from io import BytesIO\n",
    "from copy import deepcopy\n",
    "from pathlib import Path, PosixPath\n",
    "from typing import Any, Dict, List, Tuple, Union\n",
    "from collections import defaultdict\n",
    "\n",
    "from velour import Client, Dataset, Model, Datum, Prediction\n",
    "from velour.enums import TaskType, JobStatus\n",
    "from velour.viz import create_combined_segmentation_mask\n",
    "\n",
    "import coco_integration as coco\n",
    "import yolo_integration as yolo\n",
    "\n",
    "import ultralytics"
   ]
  },
  {
   "cell_type": "code",
   "execution_count": 8,
   "id": "dffd30d4",
   "metadata": {},
   "outputs": [
    {
     "name": "stdout",
     "output_type": "stream",
     "text": [
      "Succesfully connected to http://localhost:8000/.\n"
     ]
    }
   ],
   "source": [
    "# connect\n",
    "client = Client(\"http://localhost:8000\")"
   ]
  },
  {
   "attachments": {},
   "cell_type": "markdown",
   "id": "37d2bfeb",
   "metadata": {},
   "source": [
    "Using `coco_integration` create a dataset from COCO Panoptic trainval2017."
   ]
  },
  {
   "cell_type": "code",
   "execution_count": 9,
   "id": "89ddd815",
   "metadata": {},
   "outputs": [
    {
     "name": "stdout",
     "output_type": "stream",
     "text": [
      "coco already exists at ./coco!\n"
     ]
    },
    {
     "name": "stderr",
     "output_type": "stream",
     "text": [
      "100%|██████████| 2/2 [00:00<00:00, 59.64it/s]\n"
     ]
    }
   ],
   "source": [
    "velour_dataset = coco.create_dataset_from_coco_panoptic(client, limit=2, reset=True)"
   ]
  },
  {
   "attachments": {},
   "cell_type": "markdown",
   "id": "40af5eec",
   "metadata": {},
   "source": [
    "Create a `Model` using the standard Velour initializer."
   ]
  },
  {
   "cell_type": "code",
   "execution_count": 10,
   "id": "0e2750a6",
   "metadata": {},
   "outputs": [],
   "source": [
    "velour_model = Model(client, \"yolov8n-seg\")"
   ]
  },
  {
   "attachments": {},
   "cell_type": "markdown",
   "id": "1981a303",
   "metadata": {},
   "source": [
    "Create predictions using YOLOv8 and upload these to Velour using `Model.add_prediction`"
   ]
  },
  {
   "cell_type": "code",
   "execution_count": 11,
   "id": "57d622af",
   "metadata": {},
   "outputs": [
    {
     "name": "stderr",
     "output_type": "stream",
     "text": [
      "100%|██████████| 2/2 [00:02<00:00,  1.46s/it]\n"
     ]
    }
   ],
   "source": [
    "inference_engine = ultralytics.YOLO(f\"{velour_model.name}.pt\")\n",
    "\n",
    "for datum in tqdm(velour_dataset.get_datums()):\n",
    "\n",
    "    image = coco.download_image(datum)\n",
    "\n",
    "    results = inference_engine(image, verbose=False)\n",
    "\n",
    "    # convert YOLO result into Velour Prediction\n",
    "    prediction : Prediction = yolo.parse_yolo_object_detection(\n",
    "        results,            # raw inference\n",
    "        datum=datum,        # velour datum\n",
    "        label_key='name',   # label_key override\n",
    "    )\n",
    "\n",
    "    # add prediction to the model\n",
    "    velour_model.add_prediction(prediction)"
   ]
  },
  {
   "attachments": {},
   "cell_type": "markdown",
   "id": "44b5fe08",
   "metadata": {},
   "source": [
    "The `coco_integration` handles dataset finalization internally. Since we only defined annotation parsers for YOLO we will have to finalize our inferences manually."
   ]
  },
  {
   "cell_type": "code",
   "execution_count": 12,
   "id": "50f19430",
   "metadata": {},
   "outputs": [],
   "source": [
    "velour_model.finalize_inferences(velour_dataset)"
   ]
  },
  {
   "attachments": {},
   "cell_type": "markdown",
   "id": "159693f4",
   "metadata": {},
   "source": [
    "# Exploring the Dataset"
   ]
  },
  {
   "cell_type": "code",
   "execution_count": 14,
   "id": "a5fc2c33",
   "metadata": {},
   "outputs": [
    {
     "data": {
      "text/plain": [
       "'139'"
      ]
     },
     "execution_count": 14,
     "metadata": {},
     "output_type": "execute_result"
    }
   ],
   "source": [
    "groundtruth_139 = velour_dataset.get_groundtruth('139')\n",
    "groundtruth_139.datum.uid"
   ]
  },
  {
   "cell_type": "code",
   "execution_count": 15,
   "id": "14939a3a",
   "metadata": {},
   "outputs": [
    {
     "ename": "NameError",
     "evalue": "name 'download_image' is not defined",
     "output_type": "error",
     "traceback": [
      "\u001b[0;31m---------------------------------------------------------------------------\u001b[0m",
      "\u001b[0;31mNameError\u001b[0m                                 Traceback (most recent call last)",
      "Cell \u001b[0;32mIn[15], line 1\u001b[0m\n\u001b[0;32m----> 1\u001b[0m download_image(groundtruth_139\u001b[39m.\u001b[39mdatum)\n",
      "\u001b[0;31mNameError\u001b[0m: name 'download_image' is not defined"
     ]
    }
   ],
   "source": [
    "download_image(groundtruth_139.datum)"
   ]
  },
  {
   "cell_type": "code",
   "execution_count": null,
   "id": "737e3e25-aa4a-4934-ad5f-da770bffa44a",
   "metadata": {},
   "outputs": [],
   "source": [
    "instance_mask, instance_legend = create_combined_segmentation_mask(\n",
    "    [groundtruth_139], \n",
    "    label_key=\"name\",\n",
    "    task_type=TaskType.DETECTION,\n",
    ")"
   ]
  },
  {
   "cell_type": "code",
   "execution_count": null,
   "id": "9febaa28-6cfd-426b-b637-437bc5594687",
   "metadata": {},
   "outputs": [],
   "source": [
    "instance_mask"
   ]
  },
  {
   "cell_type": "code",
   "execution_count": null,
   "id": "fd651c08-c554-4fb2-9dab-4b44679c500d",
   "metadata": {},
   "outputs": [],
   "source": [
    "for k, v in instance_legend.items():\n",
    "    print(k)\n",
    "    display(v)"
   ]
  },
  {
   "cell_type": "code",
   "execution_count": null,
   "id": "ec1592a5-375a-4472-98d6-01f519ce2538",
   "metadata": {},
   "outputs": [],
   "source": [
    "semantic_mask, semantic_legend = create_combined_segmentation_mask(\n",
    "    [groundtruth_139], \n",
    "    label_key=\"name\",\n",
    "    task_type=TaskType.SEGMENTATION,\n",
    ")"
   ]
  },
  {
   "cell_type": "code",
   "execution_count": null,
   "id": "e68e5396-03b8-45ad-bed6-9c9c06315da2",
   "metadata": {},
   "outputs": [],
   "source": [
    "semantic_mask"
   ]
  },
  {
   "cell_type": "code",
   "execution_count": null,
   "id": "300e6751-68bb-482f-99b6-e0ee8b28c1ef",
   "metadata": {},
   "outputs": [],
   "source": [
    "for k, v in semantic_legend.items():\n",
    "    print(k)\n",
    "    display(v)"
   ]
  }
 ],
 "metadata": {
  "kernelspec": {
   "display_name": ".env-velour",
   "language": "python",
   "name": "python3"
  },
  "language_info": {
   "codemirror_mode": {
    "name": "ipython",
    "version": 3
   },
   "file_extension": ".py",
   "mimetype": "text/x-python",
   "name": "python",
   "nbconvert_exporter": "python",
   "pygments_lexer": "ipython3",
   "version": "3.10.12"
  }
 },
 "nbformat": 4,
 "nbformat_minor": 5
}
