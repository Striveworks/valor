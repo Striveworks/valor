{
 "cells": [
  {
   "attachments": {},
   "cell_type": "markdown",
   "id": "38ec8ecc",
   "metadata": {},
   "source": [
    "# **COCO-YOLO for Object Detection**\n",
    "\n",
    "This tutorial will cover how a velour dataset integration can be made to speed up your workflow.\n",
    "\n",
    "An integration can be useful if your organization uses a standard format for data \n",
    "or for when you just use a certain dataset often. We will use the COCO Panoptic dataset \n",
    "in this notebook to show ..."
   ]
  },
  {
   "cell_type": "code",
   "execution_count": 4,
   "id": "a4d0a509-7500-44ba-b951-3566d4a4fac1",
   "metadata": {},
   "outputs": [],
   "source": [
    "import os\n",
    "import zipfile\n",
    "import tempfile\n",
    "import json\n",
    "import PIL.Image\n",
    "import requests\n",
    "import numpy as np\n",
    "from tqdm import tqdm\n",
    "from io import BytesIO\n",
    "from copy import deepcopy\n",
    "from pathlib import Path, PosixPath\n",
    "from typing import Any, Dict, List, Tuple, Union\n",
    "from collections import defaultdict\n",
    "\n",
    "from velour import Client, Dataset, Model, Datum, Annotation, Prediction, Label\n",
    "from velour.enums import TaskType, JobStatus\n",
    "from velour.viz import create_combined_segmentation_mask\n",
    "\n",
    "import integrations.coco_integration as coco\n",
    "import integrations.yolo_integration as yolo\n",
    "\n",
    "import ultralytics"
   ]
  },
  {
   "cell_type": "code",
   "execution_count": 5,
   "id": "dffd30d4",
   "metadata": {},
   "outputs": [
    {
     "name": "stderr",
     "output_type": "stream",
     "text": [
      "WARNING:root:The Velour client isn't versioned.\n"
     ]
    },
    {
     "name": "stdout",
     "output_type": "stream",
     "text": [
      "Successfully connected to host at http://localhost:8000/\n"
     ]
    }
   ],
   "source": [
    "# connect\n",
    "client = Client(\"http://localhost:8000\")"
   ]
  },
  {
   "attachments": {},
   "cell_type": "markdown",
   "id": "37d2bfeb",
   "metadata": {},
   "source": [
    "Using `coco_integration` create a dataset from COCO Panoptic trainval2017."
   ]
  },
  {
   "cell_type": "code",
   "execution_count": 6,
   "id": "89ddd815",
   "metadata": {},
   "outputs": [
    {
     "name": "stderr",
     "output_type": "stream",
     "text": [
      "Downloading:   0%|          | 706k/821M [00:00<19:02, 753kB/s]    \n"
     ]
    },
    {
     "ename": "KeyboardInterrupt",
     "evalue": "",
     "output_type": "error",
     "traceback": [
      "\u001b[0;31m---------------------------------------------------------------------------\u001b[0m",
      "\u001b[0;31mKeyboardInterrupt\u001b[0m                         Traceback (most recent call last)",
      "Cell \u001b[0;32mIn[6], line 1\u001b[0m\n\u001b[0;32m----> 1\u001b[0m velour_dataset \u001b[39m=\u001b[39m coco\u001b[39m.\u001b[39;49mcreate_dataset_from_coco_panoptic(client, limit\u001b[39m=\u001b[39;49m\u001b[39m2\u001b[39;49m, reset\u001b[39m=\u001b[39;49m\u001b[39mTrue\u001b[39;49;00m)\n",
      "File \u001b[0;32m~/velour/examples/object-detection/integrations/coco_integration.py:278\u001b[0m, in \u001b[0;36mcreate_dataset_from_coco_panoptic\u001b[0;34m(client, name, destination, coco_url, annotations_zipfile, masks_path, limit, reset)\u001b[0m\n\u001b[1;32m    253\u001b[0m \u001b[39m\u001b[39m\u001b[39m\"\"\"\u001b[39;00m\n\u001b[1;32m    254\u001b[0m \u001b[39mCreates Dataset and associated GroundTruths.\u001b[39;00m\n\u001b[1;32m    255\u001b[0m \n\u001b[0;32m   (...)\u001b[0m\n\u001b[1;32m    274\u001b[0m \n\u001b[1;32m    275\u001b[0m \u001b[39m\"\"\"\u001b[39;00m\n\u001b[1;32m    277\u001b[0m \u001b[39m# download and unzip coco dataset\u001b[39;00m\n\u001b[0;32m--> 278\u001b[0m data \u001b[39m=\u001b[39m download_coco_panoptic(\n\u001b[1;32m    279\u001b[0m     destination\u001b[39m=\u001b[39;49mdestination,\n\u001b[1;32m    280\u001b[0m     coco_url\u001b[39m=\u001b[39;49mcoco_url,\n\u001b[1;32m    281\u001b[0m     annotations_zipfile\u001b[39m=\u001b[39;49mannotations_zipfile,\n\u001b[1;32m    282\u001b[0m )\n\u001b[1;32m    284\u001b[0m \u001b[39m# slice if limited\u001b[39;00m\n\u001b[1;32m    285\u001b[0m \u001b[39mif\u001b[39;00m limit \u001b[39m>\u001b[39m \u001b[39m0\u001b[39m:\n",
      "File \u001b[0;32m~/velour/examples/object-detection/integrations/coco_integration.py:52\u001b[0m, in \u001b[0;36mdownload_coco_panoptic\u001b[0;34m(destination, coco_url, annotations_zipfile)\u001b[0m\n\u001b[1;32m     48\u001b[0m \u001b[39mwith\u001b[39;00m tempfile\u001b[39m.\u001b[39mTemporaryFile() \u001b[39mas\u001b[39;00m temp_file:\n\u001b[1;32m     49\u001b[0m     \u001b[39m# Initialize tqdm with the total file size\u001b[39;00m\n\u001b[1;32m     50\u001b[0m     \u001b[39mwith\u001b[39;00m tqdm(total\u001b[39m=\u001b[39mtotal_size, unit\u001b[39m=\u001b[39m\u001b[39m'\u001b[39m\u001b[39mB\u001b[39m\u001b[39m'\u001b[39m, unit_scale\u001b[39m=\u001b[39m\u001b[39mTrue\u001b[39;00m, unit_divisor\u001b[39m=\u001b[39m\u001b[39m1024\u001b[39m, desc\u001b[39m=\u001b[39m\u001b[39m\"\u001b[39m\u001b[39mDownloading\u001b[39m\u001b[39m\"\u001b[39m) \u001b[39mas\u001b[39;00m pbar:\n\u001b[1;32m     51\u001b[0m         \u001b[39m# Iterate over the response content and update progress\u001b[39;00m\n\u001b[0;32m---> 52\u001b[0m         \u001b[39mfor\u001b[39;00m chunk \u001b[39min\u001b[39;00m response\u001b[39m.\u001b[39miter_content(chunk_size\u001b[39m=\u001b[39m\u001b[39m1024\u001b[39m):\n\u001b[1;32m     53\u001b[0m             \u001b[39mif\u001b[39;00m chunk:\n\u001b[1;32m     54\u001b[0m                 temp_file\u001b[39m.\u001b[39mwrite(chunk)\n",
      "File \u001b[0;32m~/velour/.env-velour/lib/python3.10/site-packages/requests/models.py:816\u001b[0m, in \u001b[0;36mResponse.iter_content.<locals>.generate\u001b[0;34m()\u001b[0m\n\u001b[1;32m    814\u001b[0m \u001b[39mif\u001b[39;00m \u001b[39mhasattr\u001b[39m(\u001b[39mself\u001b[39m\u001b[39m.\u001b[39mraw, \u001b[39m\"\u001b[39m\u001b[39mstream\u001b[39m\u001b[39m\"\u001b[39m):\n\u001b[1;32m    815\u001b[0m     \u001b[39mtry\u001b[39;00m:\n\u001b[0;32m--> 816\u001b[0m         \u001b[39myield from\u001b[39;00m \u001b[39mself\u001b[39m\u001b[39m.\u001b[39mraw\u001b[39m.\u001b[39mstream(chunk_size, decode_content\u001b[39m=\u001b[39m\u001b[39mTrue\u001b[39;00m)\n\u001b[1;32m    817\u001b[0m     \u001b[39mexcept\u001b[39;00m ProtocolError \u001b[39mas\u001b[39;00m e:\n\u001b[1;32m    818\u001b[0m         \u001b[39mraise\u001b[39;00m ChunkedEncodingError(e)\n",
      "File \u001b[0;32m~/velour/.env-velour/lib/python3.10/site-packages/urllib3/response.py:934\u001b[0m, in \u001b[0;36mHTTPResponse.stream\u001b[0;34m(self, amt, decode_content)\u001b[0m\n\u001b[1;32m    932\u001b[0m \u001b[39melse\u001b[39;00m:\n\u001b[1;32m    933\u001b[0m     \u001b[39mwhile\u001b[39;00m \u001b[39mnot\u001b[39;00m is_fp_closed(\u001b[39mself\u001b[39m\u001b[39m.\u001b[39m_fp) \u001b[39mor\u001b[39;00m \u001b[39mlen\u001b[39m(\u001b[39mself\u001b[39m\u001b[39m.\u001b[39m_decoded_buffer) \u001b[39m>\u001b[39m \u001b[39m0\u001b[39m:\n\u001b[0;32m--> 934\u001b[0m         data \u001b[39m=\u001b[39m \u001b[39mself\u001b[39;49m\u001b[39m.\u001b[39;49mread(amt\u001b[39m=\u001b[39;49mamt, decode_content\u001b[39m=\u001b[39;49mdecode_content)\n\u001b[1;32m    936\u001b[0m         \u001b[39mif\u001b[39;00m data:\n\u001b[1;32m    937\u001b[0m             \u001b[39myield\u001b[39;00m data\n",
      "File \u001b[0;32m~/velour/.env-velour/lib/python3.10/site-packages/urllib3/response.py:877\u001b[0m, in \u001b[0;36mHTTPResponse.read\u001b[0;34m(self, amt, decode_content, cache_content)\u001b[0m\n\u001b[1;32m    874\u001b[0m     \u001b[39mif\u001b[39;00m \u001b[39mlen\u001b[39m(\u001b[39mself\u001b[39m\u001b[39m.\u001b[39m_decoded_buffer) \u001b[39m>\u001b[39m\u001b[39m=\u001b[39m amt:\n\u001b[1;32m    875\u001b[0m         \u001b[39mreturn\u001b[39;00m \u001b[39mself\u001b[39m\u001b[39m.\u001b[39m_decoded_buffer\u001b[39m.\u001b[39mget(amt)\n\u001b[0;32m--> 877\u001b[0m data \u001b[39m=\u001b[39m \u001b[39mself\u001b[39;49m\u001b[39m.\u001b[39;49m_raw_read(amt)\n\u001b[1;32m    879\u001b[0m flush_decoder \u001b[39m=\u001b[39m amt \u001b[39mis\u001b[39;00m \u001b[39mNone\u001b[39;00m \u001b[39mor\u001b[39;00m (amt \u001b[39m!=\u001b[39m \u001b[39m0\u001b[39m \u001b[39mand\u001b[39;00m \u001b[39mnot\u001b[39;00m data)\n\u001b[1;32m    881\u001b[0m \u001b[39mif\u001b[39;00m \u001b[39mnot\u001b[39;00m data \u001b[39mand\u001b[39;00m \u001b[39mlen\u001b[39m(\u001b[39mself\u001b[39m\u001b[39m.\u001b[39m_decoded_buffer) \u001b[39m==\u001b[39m \u001b[39m0\u001b[39m:\n",
      "File \u001b[0;32m~/velour/.env-velour/lib/python3.10/site-packages/urllib3/response.py:812\u001b[0m, in \u001b[0;36mHTTPResponse._raw_read\u001b[0;34m(self, amt)\u001b[0m\n\u001b[1;32m    809\u001b[0m fp_closed \u001b[39m=\u001b[39m \u001b[39mgetattr\u001b[39m(\u001b[39mself\u001b[39m\u001b[39m.\u001b[39m_fp, \u001b[39m\"\u001b[39m\u001b[39mclosed\u001b[39m\u001b[39m\"\u001b[39m, \u001b[39mFalse\u001b[39;00m)\n\u001b[1;32m    811\u001b[0m \u001b[39mwith\u001b[39;00m \u001b[39mself\u001b[39m\u001b[39m.\u001b[39m_error_catcher():\n\u001b[0;32m--> 812\u001b[0m     data \u001b[39m=\u001b[39m \u001b[39mself\u001b[39;49m\u001b[39m.\u001b[39;49m_fp_read(amt) \u001b[39mif\u001b[39;00m \u001b[39mnot\u001b[39;00m fp_closed \u001b[39melse\u001b[39;00m \u001b[39mb\u001b[39m\u001b[39m\"\u001b[39m\u001b[39m\"\u001b[39m\n\u001b[1;32m    813\u001b[0m     \u001b[39mif\u001b[39;00m amt \u001b[39mis\u001b[39;00m \u001b[39mnot\u001b[39;00m \u001b[39mNone\u001b[39;00m \u001b[39mand\u001b[39;00m amt \u001b[39m!=\u001b[39m \u001b[39m0\u001b[39m \u001b[39mand\u001b[39;00m \u001b[39mnot\u001b[39;00m data:\n\u001b[1;32m    814\u001b[0m         \u001b[39m# Platform-specific: Buggy versions of Python.\u001b[39;00m\n\u001b[1;32m    815\u001b[0m         \u001b[39m# Close the connection when no data is returned\u001b[39;00m\n\u001b[0;32m   (...)\u001b[0m\n\u001b[1;32m    820\u001b[0m         \u001b[39m# not properly close the connection in all cases. There is\u001b[39;00m\n\u001b[1;32m    821\u001b[0m         \u001b[39m# no harm in redundantly calling close.\u001b[39;00m\n\u001b[1;32m    822\u001b[0m         \u001b[39mself\u001b[39m\u001b[39m.\u001b[39m_fp\u001b[39m.\u001b[39mclose()\n",
      "File \u001b[0;32m~/velour/.env-velour/lib/python3.10/site-packages/urllib3/response.py:797\u001b[0m, in \u001b[0;36mHTTPResponse._fp_read\u001b[0;34m(self, amt)\u001b[0m\n\u001b[1;32m    794\u001b[0m     \u001b[39mreturn\u001b[39;00m buffer\u001b[39m.\u001b[39mgetvalue()\n\u001b[1;32m    795\u001b[0m \u001b[39melse\u001b[39;00m:\n\u001b[1;32m    796\u001b[0m     \u001b[39m# StringIO doesn't like amt=None\u001b[39;00m\n\u001b[0;32m--> 797\u001b[0m     \u001b[39mreturn\u001b[39;00m \u001b[39mself\u001b[39;49m\u001b[39m.\u001b[39;49m_fp\u001b[39m.\u001b[39;49mread(amt) \u001b[39mif\u001b[39;00m amt \u001b[39mis\u001b[39;00m \u001b[39mnot\u001b[39;00m \u001b[39mNone\u001b[39;00m \u001b[39melse\u001b[39;00m \u001b[39mself\u001b[39m\u001b[39m.\u001b[39m_fp\u001b[39m.\u001b[39mread()\n",
      "File \u001b[0;32m/usr/lib/python3.10/http/client.py:466\u001b[0m, in \u001b[0;36mHTTPResponse.read\u001b[0;34m(self, amt)\u001b[0m\n\u001b[1;32m    463\u001b[0m \u001b[39mif\u001b[39;00m \u001b[39mself\u001b[39m\u001b[39m.\u001b[39mlength \u001b[39mis\u001b[39;00m \u001b[39mnot\u001b[39;00m \u001b[39mNone\u001b[39;00m \u001b[39mand\u001b[39;00m amt \u001b[39m>\u001b[39m \u001b[39mself\u001b[39m\u001b[39m.\u001b[39mlength:\n\u001b[1;32m    464\u001b[0m     \u001b[39m# clip the read to the \"end of response\"\u001b[39;00m\n\u001b[1;32m    465\u001b[0m     amt \u001b[39m=\u001b[39m \u001b[39mself\u001b[39m\u001b[39m.\u001b[39mlength\n\u001b[0;32m--> 466\u001b[0m s \u001b[39m=\u001b[39m \u001b[39mself\u001b[39;49m\u001b[39m.\u001b[39;49mfp\u001b[39m.\u001b[39;49mread(amt)\n\u001b[1;32m    467\u001b[0m \u001b[39mif\u001b[39;00m \u001b[39mnot\u001b[39;00m s \u001b[39mand\u001b[39;00m amt:\n\u001b[1;32m    468\u001b[0m     \u001b[39m# Ideally, we would raise IncompleteRead if the content-length\u001b[39;00m\n\u001b[1;32m    469\u001b[0m     \u001b[39m# wasn't satisfied, but it might break compatibility.\u001b[39;00m\n\u001b[1;32m    470\u001b[0m     \u001b[39mself\u001b[39m\u001b[39m.\u001b[39m_close_conn()\n",
      "File \u001b[0;32m/usr/lib/python3.10/socket.py:705\u001b[0m, in \u001b[0;36mSocketIO.readinto\u001b[0;34m(self, b)\u001b[0m\n\u001b[1;32m    703\u001b[0m \u001b[39mwhile\u001b[39;00m \u001b[39mTrue\u001b[39;00m:\n\u001b[1;32m    704\u001b[0m     \u001b[39mtry\u001b[39;00m:\n\u001b[0;32m--> 705\u001b[0m         \u001b[39mreturn\u001b[39;00m \u001b[39mself\u001b[39;49m\u001b[39m.\u001b[39;49m_sock\u001b[39m.\u001b[39;49mrecv_into(b)\n\u001b[1;32m    706\u001b[0m     \u001b[39mexcept\u001b[39;00m timeout:\n\u001b[1;32m    707\u001b[0m         \u001b[39mself\u001b[39m\u001b[39m.\u001b[39m_timeout_occurred \u001b[39m=\u001b[39m \u001b[39mTrue\u001b[39;00m\n",
      "\u001b[0;31mKeyboardInterrupt\u001b[0m: "
     ]
    }
   ],
   "source": [
    "velour_dataset = coco.create_dataset_from_coco_panoptic(client, limit=2, reset=True)"
   ]
  },
  {
   "attachments": {},
   "cell_type": "markdown",
   "id": "40af5eec",
   "metadata": {},
   "source": [
    "Create a `Model` using the standard Velour initializer."
   ]
  },
  {
   "cell_type": "code",
   "execution_count": null,
   "id": "0e2750a6",
   "metadata": {},
   "outputs": [],
   "source": [
    "velour_model = Model(client, \"yolov8n-seg\", reset=True)"
   ]
  },
  {
   "attachments": {},
   "cell_type": "markdown",
   "id": "1981a303",
   "metadata": {},
   "source": [
    "Create predictions using YOLOv8 and upload these to Velour using `Model.add_prediction`"
   ]
  },
  {
   "cell_type": "code",
   "execution_count": null,
   "id": "57d622af",
   "metadata": {},
   "outputs": [],
   "source": [
    "inference_engine = ultralytics.YOLO(f\"{velour_model.name}.pt\")\n",
    "\n",
    "for datum in tqdm(velour_dataset.get_datums()):\n",
    "\n",
    "    image = coco.download_image(datum)\n",
    "\n",
    "    results = inference_engine(image, verbose=False)\n",
    "\n",
    "    # convert YOLO result into Velour Prediction\n",
    "    prediction : Prediction = yolo.parse_object_detection(\n",
    "        results,            # raw inference\n",
    "        datum=datum,        # velour datum\n",
    "        label_key='name',   # label_key override\n",
    "    )\n",
    "\n",
    "    # add prediction to the model\n",
    "    velour_model.add_prediction(prediction)"
   ]
  },
  {
   "attachments": {},
   "cell_type": "markdown",
   "id": "44b5fe08",
   "metadata": {},
   "source": [
    "The `coco_integration` handles dataset finalization internally. Since we only defined annotation parsers for YOLO we will have to finalize our inferences manually."
   ]
  },
  {
   "cell_type": "code",
   "execution_count": null,
   "id": "50f19430",
   "metadata": {},
   "outputs": [],
   "source": [
    "velour_model.finalize_inferences(velour_dataset)"
   ]
  },
  {
   "attachments": {},
   "cell_type": "markdown",
   "id": "159693f4",
   "metadata": {},
   "source": [
    "# **Exploring the Dataset**"
   ]
  },
  {
   "cell_type": "code",
   "execution_count": null,
   "id": "a5fc2c33",
   "metadata": {},
   "outputs": [],
   "source": [
    "groundtruth_139 = velour_dataset.get_groundtruth('139')\n",
    "groundtruth_139.datum.uid"
   ]
  },
  {
   "cell_type": "code",
   "execution_count": null,
   "id": "14939a3a",
   "metadata": {},
   "outputs": [],
   "source": [
    "coco.download_image(groundtruth_139.datum)"
   ]
  },
  {
   "cell_type": "code",
   "execution_count": null,
   "id": "737e3e25-aa4a-4934-ad5f-da770bffa44a",
   "metadata": {},
   "outputs": [],
   "source": [
    "instance_mask, instance_legend = create_combined_segmentation_mask(\n",
    "    [groundtruth_139], \n",
    "    label_key=\"name\",\n",
    "    task_type=TaskType.DETECTION,\n",
    ")"
   ]
  },
  {
   "cell_type": "code",
   "execution_count": null,
   "id": "9febaa28-6cfd-426b-b637-437bc5594687",
   "metadata": {},
   "outputs": [],
   "source": [
    "instance_mask"
   ]
  },
  {
   "cell_type": "code",
   "execution_count": null,
   "id": "fd651c08-c554-4fb2-9dab-4b44679c500d",
   "metadata": {},
   "outputs": [],
   "source": [
    "for k, v in instance_legend.items():\n",
    "    print(k)\n",
    "    display(v)"
   ]
  },
  {
   "attachments": {},
   "cell_type": "markdown",
   "id": "3e8e7aab",
   "metadata": {},
   "source": [
    "# **Creating an Evaluation**"
   ]
  },
  {
   "cell_type": "code",
   "execution_count": null,
   "id": "50f5d932",
   "metadata": {},
   "outputs": [],
   "source": [
    "eval1 = velour_model.evaluate_detection(velour_dataset)\n",
    "eval1.wait_for_completion()"
   ]
  },
  {
   "cell_type": "code",
   "execution_count": null,
   "id": "0c92dd45",
   "metadata": {},
   "outputs": [],
   "source": [
    "eval1.results().dataframe"
   ]
  },
  {
   "attachments": {},
   "cell_type": "markdown",
   "id": "c63f4491",
   "metadata": {},
   "source": [
    "### **Evaluations with Filters**"
   ]
  },
  {
   "cell_type": "code",
   "execution_count": null,
   "id": "0aebd5f3",
   "metadata": {},
   "outputs": [],
   "source": [
    "eval2 = velour_model.evaluate_detection(\n",
    "    velour_dataset,\n",
    "    filters=[\n",
    "        Label.key == \"name\",\n",
    "    ]\n",
    ")\n",
    "eval2.wait_for_completion()"
   ]
  },
  {
   "cell_type": "code",
   "execution_count": null,
   "id": "136e72b9",
   "metadata": {},
   "outputs": [],
   "source": [
    "eval2.results().dataframe"
   ]
  },
  {
   "cell_type": "code",
   "execution_count": null,
   "id": "e5a537d6",
   "metadata": {},
   "outputs": [],
   "source": [
    "eval3 = velour_model.evaluate_detection(\n",
    "    velour_dataset,\n",
    "    filters=[\n",
    "        Label.key == \"name\",\n",
    "        Annotation.geometric_area <= 2000\n",
    "    ]\n",
    ")\n",
    "eval3.wait_for_completion()"
   ]
  },
  {
   "cell_type": "code",
   "execution_count": null,
   "id": "61e41d6a",
   "metadata": {},
   "outputs": [],
   "source": [
    "eval3.results().dataframe"
   ]
  }
 ],
 "metadata": {
  "kernelspec": {
   "display_name": ".env-velour",
   "language": "python",
   "name": "python3"
  },
  "language_info": {
   "codemirror_mode": {
    "name": "ipython",
    "version": 3
   },
   "file_extension": ".py",
   "mimetype": "text/x-python",
   "name": "python",
   "nbconvert_exporter": "python",
   "pygments_lexer": "ipython3",
   "version": "3.10.12"
  }
 },
 "nbformat": 4,
 "nbformat_minor": 5
}
