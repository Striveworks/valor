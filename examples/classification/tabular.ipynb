{
 "cells": [
  {
   "cell_type": "markdown",
   "id": "0644bdbe-38da-478e-8673-802a5cb59da0",
   "metadata": {},
   "source": [
    "# Tabular data example"
   ]
  },
  {
   "cell_type": "code",
   "execution_count": 1,
   "id": "f9daebe8-0bb4-41eb-8359-9cadaa4a7779",
   "metadata": {},
   "outputs": [
    {
     "ename": "ModuleNotFoundError",
     "evalue": "No module named 'sklearn'",
     "output_type": "error",
     "traceback": [
      "\u001b[0;31m---------------------------------------------------------------------------\u001b[0m",
      "\u001b[0;31mModuleNotFoundError\u001b[0m                       Traceback (most recent call last)",
      "\u001b[1;32m/Users/nthorlind/git/sw/velour/sample_notebooks/tabular.ipynb Cell 2\u001b[0m line \u001b[0;36m5\n\u001b[1;32m      <a href='vscode-notebook-cell:/Users/nthorlind/git/sw/velour/sample_notebooks/tabular.ipynb#W1sZmlsZQ%3D%3D?line=1'>2</a>\u001b[0m \u001b[39mfrom\u001b[39;00m \u001b[39mvelour\u001b[39;00m\u001b[39m.\u001b[39;00m\u001b[39menums\u001b[39;00m \u001b[39mimport\u001b[39;00m TaskType\n\u001b[1;32m      <a href='vscode-notebook-cell:/Users/nthorlind/git/sw/velour/sample_notebooks/tabular.ipynb#W1sZmlsZQ%3D%3D?line=2'>3</a>\u001b[0m \u001b[39mfrom\u001b[39;00m \u001b[39mvelour\u001b[39;00m \u001b[39mimport\u001b[39;00m schemas\n\u001b[0;32m----> <a href='vscode-notebook-cell:/Users/nthorlind/git/sw/velour/sample_notebooks/tabular.ipynb#W1sZmlsZQ%3D%3D?line=4'>5</a>\u001b[0m \u001b[39mfrom\u001b[39;00m \u001b[39msklearn\u001b[39;00m\u001b[39m.\u001b[39;00m\u001b[39mmodel_selection\u001b[39;00m \u001b[39mimport\u001b[39;00m train_test_split\n\u001b[1;32m      <a href='vscode-notebook-cell:/Users/nthorlind/git/sw/velour/sample_notebooks/tabular.ipynb#W1sZmlsZQ%3D%3D?line=5'>6</a>\u001b[0m \u001b[39mfrom\u001b[39;00m \u001b[39msklearn\u001b[39;00m\u001b[39m.\u001b[39;00m\u001b[39mdatasets\u001b[39;00m \u001b[39mimport\u001b[39;00m load_breast_cancer\n\u001b[1;32m      <a href='vscode-notebook-cell:/Users/nthorlind/git/sw/velour/sample_notebooks/tabular.ipynb#W1sZmlsZQ%3D%3D?line=6'>7</a>\u001b[0m \u001b[39mfrom\u001b[39;00m \u001b[39msklearn\u001b[39;00m\u001b[39m.\u001b[39;00m\u001b[39mlinear_model\u001b[39;00m \u001b[39mimport\u001b[39;00m LogisticRegression\n",
      "\u001b[0;31mModuleNotFoundError\u001b[0m: No module named 'sklearn'"
     ]
    }
   ],
   "source": [
    "from velour import Dataset, Model, Datum, Annotation, GroundTruth, Prediction\n",
    "from velour.enums import TaskType\n",
    "from velour import schemas\n",
    "\n",
    "from sklearn.model_selection import train_test_split\n",
    "from sklearn.datasets import load_breast_cancer\n",
    "from sklearn.linear_model import LogisticRegression\n",
    "from sklearn.preprocessing import StandardScaler\n",
    "from sklearn.pipeline import make_pipeline"
   ]
  },
  {
   "cell_type": "code",
   "execution_count": null,
   "id": "1f27d7ab-acb1-461d-9ad8-7684c95526a9",
   "metadata": {},
   "outputs": [
    {
     "name": "stdout",
     "output_type": "stream",
     "text": [
      "Succesfully connected to http://localhost:8000/.\n"
     ]
    }
   ],
   "source": [
    "from velour.client import Client, ClientException\n",
    "\n",
    "client = Client(\"http://localhost:8000\")"
   ]
  },
  {
   "cell_type": "code",
   "execution_count": null,
   "id": "b2c72cd1-50f7-4e85-9e25-d0ed35b1d1e0",
   "metadata": {},
   "outputs": [],
   "source": [
    "dset = load_breast_cancer()\n",
    "X, y, target_names = dset[\"data\"], dset[\"target\"], dset[\"target_names\"]\n",
    "X_train, X_test, y_train, y_test = train_test_split(X, y)\n",
    "\n",
    "pipe = make_pipeline(StandardScaler(), LogisticRegression())"
   ]
  },
  {
   "cell_type": "code",
   "execution_count": null,
   "id": "17924b71-8899-42cb-9160-2d41ee0e580a",
   "metadata": {},
   "outputs": [
    {
     "data": {
      "text/plain": [
       "((426, 30), array([1, 1, 0, 0]), array(['malignant', 'benign'], dtype='<U9'))"
      ]
     },
     "execution_count": 26,
     "metadata": {},
     "output_type": "execute_result"
    }
   ],
   "source": [
    "X_train.shape, y_train[:4], target_names"
   ]
  },
  {
   "cell_type": "code",
   "execution_count": null,
   "id": "1acd3e50-e345-4a63-b43a-10ce479e6673",
   "metadata": {},
   "outputs": [
    {
     "data": {
      "text/html": [
       "<style>#sk-container-id-3 {color: black;}#sk-container-id-3 pre{padding: 0;}#sk-container-id-3 div.sk-toggleable {background-color: white;}#sk-container-id-3 label.sk-toggleable__label {cursor: pointer;display: block;width: 100%;margin-bottom: 0;padding: 0.3em;box-sizing: border-box;text-align: center;}#sk-container-id-3 label.sk-toggleable__label-arrow:before {content: \"▸\";float: left;margin-right: 0.25em;color: #696969;}#sk-container-id-3 label.sk-toggleable__label-arrow:hover:before {color: black;}#sk-container-id-3 div.sk-estimator:hover label.sk-toggleable__label-arrow:before {color: black;}#sk-container-id-3 div.sk-toggleable__content {max-height: 0;max-width: 0;overflow: hidden;text-align: left;background-color: #f0f8ff;}#sk-container-id-3 div.sk-toggleable__content pre {margin: 0.2em;color: black;border-radius: 0.25em;background-color: #f0f8ff;}#sk-container-id-3 input.sk-toggleable__control:checked~div.sk-toggleable__content {max-height: 200px;max-width: 100%;overflow: auto;}#sk-container-id-3 input.sk-toggleable__control:checked~label.sk-toggleable__label-arrow:before {content: \"▾\";}#sk-container-id-3 div.sk-estimator input.sk-toggleable__control:checked~label.sk-toggleable__label {background-color: #d4ebff;}#sk-container-id-3 div.sk-label input.sk-toggleable__control:checked~label.sk-toggleable__label {background-color: #d4ebff;}#sk-container-id-3 input.sk-hidden--visually {border: 0;clip: rect(1px 1px 1px 1px);clip: rect(1px, 1px, 1px, 1px);height: 1px;margin: -1px;overflow: hidden;padding: 0;position: absolute;width: 1px;}#sk-container-id-3 div.sk-estimator {font-family: monospace;background-color: #f0f8ff;border: 1px dotted black;border-radius: 0.25em;box-sizing: border-box;margin-bottom: 0.5em;}#sk-container-id-3 div.sk-estimator:hover {background-color: #d4ebff;}#sk-container-id-3 div.sk-parallel-item::after {content: \"\";width: 100%;border-bottom: 1px solid gray;flex-grow: 1;}#sk-container-id-3 div.sk-label:hover label.sk-toggleable__label {background-color: #d4ebff;}#sk-container-id-3 div.sk-serial::before {content: \"\";position: absolute;border-left: 1px solid gray;box-sizing: border-box;top: 0;bottom: 0;left: 50%;z-index: 0;}#sk-container-id-3 div.sk-serial {display: flex;flex-direction: column;align-items: center;background-color: white;padding-right: 0.2em;padding-left: 0.2em;position: relative;}#sk-container-id-3 div.sk-item {position: relative;z-index: 1;}#sk-container-id-3 div.sk-parallel {display: flex;align-items: stretch;justify-content: center;background-color: white;position: relative;}#sk-container-id-3 div.sk-item::before, #sk-container-id-3 div.sk-parallel-item::before {content: \"\";position: absolute;border-left: 1px solid gray;box-sizing: border-box;top: 0;bottom: 0;left: 50%;z-index: -1;}#sk-container-id-3 div.sk-parallel-item {display: flex;flex-direction: column;z-index: 1;position: relative;background-color: white;}#sk-container-id-3 div.sk-parallel-item:first-child::after {align-self: flex-end;width: 50%;}#sk-container-id-3 div.sk-parallel-item:last-child::after {align-self: flex-start;width: 50%;}#sk-container-id-3 div.sk-parallel-item:only-child::after {width: 0;}#sk-container-id-3 div.sk-dashed-wrapped {border: 1px dashed gray;margin: 0 0.4em 0.5em 0.4em;box-sizing: border-box;padding-bottom: 0.4em;background-color: white;}#sk-container-id-3 div.sk-label label {font-family: monospace;font-weight: bold;display: inline-block;line-height: 1.2em;}#sk-container-id-3 div.sk-label-container {text-align: center;}#sk-container-id-3 div.sk-container {/* jupyter's `normalize.less` sets `[hidden] { display: none; }` but bootstrap.min.css set `[hidden] { display: none !important; }` so we also need the `!important` here to be able to override the default hidden behavior on the sphinx rendered scikit-learn.org. See: https://github.com/scikit-learn/scikit-learn/issues/21755 */display: inline-block !important;position: relative;}#sk-container-id-3 div.sk-text-repr-fallback {display: none;}</style><div id=\"sk-container-id-3\" class=\"sk-top-container\"><div class=\"sk-text-repr-fallback\"><pre>Pipeline(steps=[(&#x27;standardscaler&#x27;, StandardScaler()),\n",
       "                (&#x27;logisticregression&#x27;, LogisticRegression())])</pre><b>In a Jupyter environment, please rerun this cell to show the HTML representation or trust the notebook. <br />On GitHub, the HTML representation is unable to render, please try loading this page with nbviewer.org.</b></div><div class=\"sk-container\" hidden><div class=\"sk-item sk-dashed-wrapped\"><div class=\"sk-label-container\"><div class=\"sk-label sk-toggleable\"><input class=\"sk-toggleable__control sk-hidden--visually\" id=\"sk-estimator-id-7\" type=\"checkbox\" ><label for=\"sk-estimator-id-7\" class=\"sk-toggleable__label sk-toggleable__label-arrow\">Pipeline</label><div class=\"sk-toggleable__content\"><pre>Pipeline(steps=[(&#x27;standardscaler&#x27;, StandardScaler()),\n",
       "                (&#x27;logisticregression&#x27;, LogisticRegression())])</pre></div></div></div><div class=\"sk-serial\"><div class=\"sk-item\"><div class=\"sk-estimator sk-toggleable\"><input class=\"sk-toggleable__control sk-hidden--visually\" id=\"sk-estimator-id-8\" type=\"checkbox\" ><label for=\"sk-estimator-id-8\" class=\"sk-toggleable__label sk-toggleable__label-arrow\">StandardScaler</label><div class=\"sk-toggleable__content\"><pre>StandardScaler()</pre></div></div></div><div class=\"sk-item\"><div class=\"sk-estimator sk-toggleable\"><input class=\"sk-toggleable__control sk-hidden--visually\" id=\"sk-estimator-id-9\" type=\"checkbox\" ><label for=\"sk-estimator-id-9\" class=\"sk-toggleable__label sk-toggleable__label-arrow\">LogisticRegression</label><div class=\"sk-toggleable__content\"><pre>LogisticRegression()</pre></div></div></div></div></div></div></div>"
      ],
      "text/plain": [
       "Pipeline(steps=[('standardscaler', StandardScaler()),\n",
       "                ('logisticregression', LogisticRegression())])"
      ]
     },
     "execution_count": 27,
     "metadata": {},
     "output_type": "execute_result"
    }
   ],
   "source": [
    "pipe.fit(X_train, y_train)"
   ]
  },
  {
   "cell_type": "code",
   "execution_count": null,
   "id": "62614d98-ff13-4df4-a646-401686024777",
   "metadata": {},
   "outputs": [],
   "source": [
    "y_train_probs = pipe.predict_proba(X_train)\n",
    "y_test_probs = pipe.predict_proba(X_test)"
   ]
  },
  {
   "cell_type": "code",
   "execution_count": null,
   "id": "f44da676-9584-4048-a6ca-0ffd2133d0b7",
   "metadata": {},
   "outputs": [
    {
     "data": {
      "text/plain": [
       "array([[1.81293032e-01, 8.18706968e-01],\n",
       "       [3.28318897e-03, 9.96716811e-01],\n",
       "       [9.99952034e-01, 4.79656750e-05],\n",
       "       [9.92904189e-01, 7.09581098e-03]])"
      ]
     },
     "execution_count": 29,
     "metadata": {},
     "output_type": "execute_result"
    }
   ],
   "source": [
    "y_train_probs[:4]"
   ]
  },
  {
   "attachments": {},
   "cell_type": "markdown",
   "id": "8f56b6d4-1d93-4bc6-9fa8-c7a379da7793",
   "metadata": {
    "tags": []
   },
   "source": [
    "## Velour Dataset ingestion\n",
    "\n",
    "We now ingest the groundtruth labels into velour. For each sample, velour expects a list of `Label` objects. Each `Label` has a key and value. Allowing key/value labels and having a single row be annotated by multiple labels supports multi-label classification.\n",
    "\n",
    "In this example there's just a single label per element and we'll set the class key to \"class\". The `add_groundtruth` method returns the ids of the newly created groundtruth."
   ]
  },
  {
   "attachments": {},
   "cell_type": "markdown",
   "id": "a94b837a",
   "metadata": {},
   "source": [
    "Create datasets"
   ]
  },
  {
   "cell_type": "code",
   "execution_count": null,
   "id": "d057a41e",
   "metadata": {},
   "outputs": [],
   "source": [
    "# reset (only needed if restarting each run)\n",
    "client.delete_dataset(\"breast-cancer-train\", timeout=5)\n",
    "client.delete_dataset(\"breast-cancer-test\", timeout=5)\n",
    "\n",
    "# create or get train dataset\n",
    "try:\n",
    "    velour_train_dataset = Dataset.create(client, \"breast-cancer-train\")\n",
    "except ClientException:\n",
    "    velour_train_dataset = Dataset.get(client, \"breast-cancer-train\")\n",
    "\n",
    "# create or get test dataset\n",
    "try:\n",
    "    velour_test_dataset = Dataset.create(client, \"breast-cancer-test\")\n",
    "except ClientException:\n",
    "    velour_test_dataset = Dataset.get(client, \"breast-cancer-test\")"
   ]
  },
  {
   "attachments": {},
   "cell_type": "markdown",
   "id": "e13603a9",
   "metadata": {},
   "source": [
    "Format data"
   ]
  },
  {
   "cell_type": "code",
   "execution_count": null,
   "id": "dfe9c8da",
   "metadata": {},
   "outputs": [],
   "source": [
    "# format training groundtruths\n",
    "training_groundtruths = [\n",
    "    GroundTruth(\n",
    "        datum=Datum(\n",
    "            uid=f\"train{i}\",\n",
    "        ),\n",
    "        annotations=[\n",
    "            Annotation(\n",
    "                task_type=TaskType.CLASSIFICATION,\n",
    "                labels=[schemas.Label(key=\"class\", value=target_names[t])]\n",
    "            )\n",
    "        ]\n",
    "    )\n",
    "    for i, t in enumerate(y_train)\n",
    "]\n",
    "\n",
    "# format testing groundtruths\n",
    "testing_groundtruths = [\n",
    "    GroundTruth(\n",
    "        datum=Datum(\n",
    "            uid=f\"test{i}\",\n",
    "        ),\n",
    "        annotations=[\n",
    "            Annotation(\n",
    "                task_type=TaskType.CLASSIFICATION,\n",
    "                labels=[schemas.Label(key=\"class\", value=target_names[t])]\n",
    "            )\n",
    "        ]\n",
    "    )\n",
    "    for i, t in enumerate(y_test)\n",
    "]"
   ]
  },
  {
   "attachments": {},
   "cell_type": "markdown",
   "id": "fbe34ea7",
   "metadata": {},
   "source": [
    "Ingest data"
   ]
  },
  {
   "cell_type": "code",
   "execution_count": null,
   "id": "f6376385",
   "metadata": {},
   "outputs": [],
   "source": [
    "# add the training groundtruths\n",
    "for gt in training_groundtruths:\n",
    "    velour_train_dataset.add_groundtruth(gt)\n",
    "\n",
    "# add the testing groundtruths\n",
    "for gt in testing_groundtruths:\n",
    "    velour_test_dataset.add_groundtruth(gt)"
   ]
  },
  {
   "attachments": {},
   "cell_type": "markdown",
   "id": "b64f440e",
   "metadata": {},
   "source": [
    "Finalize datasets, necessary for evaluation"
   ]
  },
  {
   "cell_type": "code",
   "execution_count": null,
   "id": "3dcf3ba5",
   "metadata": {},
   "outputs": [
    {
     "data": {
      "text/plain": [
       "<Response [200]>"
      ]
     },
     "execution_count": 33,
     "metadata": {},
     "output_type": "execute_result"
    }
   ],
   "source": [
    "velour_train_dataset.finalize()\n",
    "velour_test_dataset.finalize()"
   ]
  },
  {
   "cell_type": "markdown",
   "id": "b7afc2c0-27b1-4eb4-8dad-5a78f72fabb6",
   "metadata": {},
   "source": [
    "## Model inference ingestion\n",
    "\n",
    "Now we create a velour model and post the predictions on the two datasets. Each prediction should be a list of `ScoredLabel`, which consist of a label and a confidence score. The confidence scores over all of the classes in a key must sum to (approximately) 1."
   ]
  },
  {
   "attachments": {},
   "cell_type": "markdown",
   "id": "112445e5",
   "metadata": {},
   "source": [
    "Create model"
   ]
  },
  {
   "cell_type": "code",
   "execution_count": null,
   "id": "cd50d4af-c1b3-421e-b625-0000d52b1fd6",
   "metadata": {},
   "outputs": [],
   "source": [
    "# rest (only necessary if restarting)\n",
    "client.delete_model(\"breast-cancer-linear-model\")\n",
    "\n",
    "# create or get model\n",
    "try:\n",
    "    velour_model = Model.create(client, \"breast-cancer-linear-model\")\n",
    "except ClientException:\n",
    "    velour_model = Model.get(client, \"breast-cancer-linear-model\")"
   ]
  },
  {
   "attachments": {},
   "cell_type": "markdown",
   "id": "1e273bd9",
   "metadata": {},
   "source": [
    "Format predictions"
   ]
  },
  {
   "cell_type": "code",
   "execution_count": null,
   "id": "3a59cd3b",
   "metadata": {},
   "outputs": [],
   "source": [
    "training_predictions = [\n",
    "    Prediction(\n",
    "        datum=Datum(\n",
    "            dataset=velour_train_dataset.name,\n",
    "            uid=f\"train{i}\",\n",
    "        ),\n",
    "        annotations=[\n",
    "            Annotation(\n",
    "                task_type=TaskType.CLASSIFICATION,\n",
    "                labels=[\n",
    "                    schemas.Label(\n",
    "                        key=\"class\", \n",
    "                        value=target_names[j],\n",
    "                        score=p,\n",
    "                    )                        \n",
    "                    for j, p in enumerate(prob)\n",
    "                ]\n",
    "            )\n",
    "        ]\n",
    "    )\n",
    "    for i, prob in enumerate(y_train_probs)\n",
    "]\n",
    "\n",
    "testing_predictions = [\n",
    "    Prediction(\n",
    "        datum=Datum(\n",
    "            dataset=velour_test_dataset.name,\n",
    "            uid=f\"test{i}\",\n",
    "        ),\n",
    "        annotations=[\n",
    "            Annotation(\n",
    "                task_type=TaskType.CLASSIFICATION,\n",
    "                labels=[\n",
    "                    schemas.Label(\n",
    "                        key=\"class\",\n",
    "                        value=target_names[j],\n",
    "                        score=p,\n",
    "                    )                        \n",
    "                    for j, p in enumerate(prob)\n",
    "                ]\n",
    "            )\n",
    "        ]\n",
    "    )\n",
    "    for i, prob in enumerate(y_test_probs)\n",
    "]"
   ]
  },
  {
   "cell_type": "code",
   "execution_count": null,
   "id": "ea24dd77-5dde-4e78-aa9f-df88b2026578",
   "metadata": {},
   "outputs": [],
   "source": [
    "# add the train predictions\n",
    "for pd in training_predictions:\n",
    "    velour_model.add_prediction(pd)\n",
    "\n",
    "# add the test predictions\n",
    "for pd in testing_predictions:\n",
    "    velour_model.add_prediction(pd)"
   ]
  },
  {
   "attachments": {},
   "cell_type": "markdown",
   "id": "95bb883e",
   "metadata": {},
   "source": [
    "finalize models, necessary for evaluation"
   ]
  },
  {
   "cell_type": "code",
   "execution_count": null,
   "id": "67f7cfd2-4784-466d-90b8-32c813fb7997",
   "metadata": {},
   "outputs": [],
   "source": [
    "velour_model.finalize_inferences(velour_train_dataset)\n",
    "velour_model.finalize_inferences(velour_test_dataset)"
   ]
  },
  {
   "attachments": {},
   "cell_type": "markdown",
   "id": "8e03088d",
   "metadata": {},
   "source": [
    "evaluate"
   ]
  },
  {
   "cell_type": "code",
   "execution_count": null,
   "id": "4ba0e545-4eaa-4f6b-8d62-f3a63018e168",
   "metadata": {},
   "outputs": [],
   "source": [
    "train_eval_job = velour_model.evaluate_classification(velour_train_dataset)\n",
    "train_eval_job.wait_for_completion()"
   ]
  },
  {
   "cell_type": "code",
   "execution_count": null,
   "id": "751fb1c9-3cde-4458-933e-78a10af7dbea",
   "metadata": {},
   "outputs": [
    {
     "data": {
      "text/plain": [
       "<JobStatus.DONE: 'done'>"
      ]
     },
     "execution_count": 39,
     "metadata": {},
     "output_type": "execute_result"
    }
   ],
   "source": [
    "train_eval_job.status"
   ]
  },
  {
   "cell_type": "code",
   "execution_count": null,
   "id": "ac5f7bb7-7b05-401d-bcac-16378ff6b63b",
   "metadata": {},
   "outputs": [
    {
     "data": {
      "text/plain": [
       "{'dataset': 'breast-cancer-train',\n",
       " 'model': 'breast-cancer-linear-model',\n",
       " 'settings': {'task_type': 'classification'},\n",
       " 'job_id': 35,\n",
       " 'status': 'done',\n",
       " 'metrics': [{'type': 'Accuracy',\n",
       "   'parameters': {'label_key': 'class'},\n",
       "   'value': 0.9859154929577465},\n",
       "  {'type': 'ROCAUC',\n",
       "   'parameters': {'label_key': 'class'},\n",
       "   'value': 0.9971562666173447},\n",
       "  {'type': 'Precision',\n",
       "   'value': 0.9878787878787879,\n",
       "   'label': {'key': 'class', 'value': 'malignant'}},\n",
       "  {'type': 'Recall',\n",
       "   'value': 0.9760479041916168,\n",
       "   'label': {'key': 'class', 'value': 'malignant'}},\n",
       "  {'type': 'F1',\n",
       "   'value': 0.9819277108433735,\n",
       "   'label': {'key': 'class', 'value': 'malignant'}},\n",
       "  {'type': 'Precision',\n",
       "   'value': 0.9846743295019157,\n",
       "   'label': {'key': 'class', 'value': 'benign'}},\n",
       "  {'type': 'Recall',\n",
       "   'value': 0.9922779922779923,\n",
       "   'label': {'key': 'class', 'value': 'benign'}},\n",
       "  {'type': 'F1',\n",
       "   'value': 0.9884615384615385,\n",
       "   'label': {'key': 'class', 'value': 'benign'}}],\n",
       " 'confusion_matrices': [{'label_key': 'class',\n",
       "   'entries': [{'prediction': 'benign', 'groundtruth': 'benign', 'count': 257},\n",
       "    {'prediction': 'benign', 'groundtruth': 'malignant', 'count': 4},\n",
       "    {'prediction': 'malignant', 'groundtruth': 'benign', 'count': 2},\n",
       "    {'prediction': 'malignant', 'groundtruth': 'malignant', 'count': 163}]}]}"
      ]
     },
     "execution_count": 40,
     "metadata": {},
     "output_type": "execute_result"
    }
   ],
   "source": [
    "train_eval_job.metrics"
   ]
  },
  {
   "cell_type": "code",
   "execution_count": null,
   "id": "0a2149cf-2107-41fd-91ca-24a9fd5b143e",
   "metadata": {},
   "outputs": [
    {
     "ename": "ClientException",
     "evalue": "Not Found",
     "output_type": "error",
     "traceback": [
      "\u001b[0;31m---------------------------------------------------------------------------\u001b[0m",
      "\u001b[0;31mClientException\u001b[0m                           Traceback (most recent call last)",
      "Cell \u001b[0;32mIn[41], line 1\u001b[0m\n\u001b[0;32m----> 1\u001b[0m train_eval_job\u001b[39m.\u001b[39;49mconfusion_matrices\n",
      "File \u001b[0;32m~/velour/.env-chariot/lib/python3.11/site-packages/velour/client.py:324\u001b[0m, in \u001b[0;36mEvaluation.confusion_matrices\u001b[0;34m(self)\u001b[0m\n\u001b[1;32m    322\u001b[0m \u001b[39mif\u001b[39;00m \u001b[39mself\u001b[39m\u001b[39m.\u001b[39mstatus \u001b[39m!=\u001b[39m JobStatus\u001b[39m.\u001b[39mDONE:\n\u001b[1;32m    323\u001b[0m     \u001b[39mreturn\u001b[39;00m []\n\u001b[0;32m--> 324\u001b[0m \u001b[39mreturn\u001b[39;00m \u001b[39mself\u001b[39;49m\u001b[39m.\u001b[39;49m_client\u001b[39m.\u001b[39;49m_requests_get_rel_host(\n\u001b[1;32m    325\u001b[0m     \u001b[39mf\u001b[39;49m\u001b[39m\"\u001b[39;49m\u001b[39mevaluations/\u001b[39;49m\u001b[39m{\u001b[39;49;00m\u001b[39mself\u001b[39;49m\u001b[39m.\u001b[39;49m_id\u001b[39m}\u001b[39;49;00m\u001b[39m/confusion-matrices\u001b[39;49m\u001b[39m\"\u001b[39;49m\n\u001b[1;32m    326\u001b[0m )\u001b[39m.\u001b[39mjson()\n",
      "File \u001b[0;32m~/velour/.env-chariot/lib/python3.11/site-packages/velour/client.py:92\u001b[0m, in \u001b[0;36mClient._requests_get_rel_host\u001b[0;34m(self, endpoint, *args, **kwargs)\u001b[0m\n\u001b[1;32m     91\u001b[0m \u001b[39mdef\u001b[39;00m \u001b[39m_requests_get_rel_host\u001b[39m(\u001b[39mself\u001b[39m, endpoint: \u001b[39mstr\u001b[39m, \u001b[39m*\u001b[39margs, \u001b[39m*\u001b[39m\u001b[39m*\u001b[39mkwargs):\n\u001b[0;32m---> 92\u001b[0m     \u001b[39mreturn\u001b[39;00m \u001b[39mself\u001b[39;49m\u001b[39m.\u001b[39;49m_requests_wrapper(\n\u001b[1;32m     93\u001b[0m         method_name\u001b[39m=\u001b[39;49m\u001b[39m\"\u001b[39;49m\u001b[39mget\u001b[39;49m\u001b[39m\"\u001b[39;49m, endpoint\u001b[39m=\u001b[39;49mendpoint, \u001b[39m*\u001b[39;49margs, \u001b[39m*\u001b[39;49m\u001b[39m*\u001b[39;49mkwargs\n\u001b[1;32m     94\u001b[0m     )\n",
      "File \u001b[0;32m~/velour/.env-chariot/lib/python3.11/site-packages/velour/client.py:80\u001b[0m, in \u001b[0;36mClient._requests_wrapper\u001b[0;34m(self, method_name, endpoint, *args, **kwargs)\u001b[0m\n\u001b[1;32m     78\u001b[0m \u001b[39mif\u001b[39;00m \u001b[39mnot\u001b[39;00m resp\u001b[39m.\u001b[39mok:\n\u001b[1;32m     79\u001b[0m     \u001b[39mtry\u001b[39;00m:\n\u001b[0;32m---> 80\u001b[0m         \u001b[39mraise\u001b[39;00m ClientException(resp\u001b[39m.\u001b[39mjson()[\u001b[39m\"\u001b[39m\u001b[39mdetail\u001b[39m\u001b[39m\"\u001b[39m])\n\u001b[1;32m     81\u001b[0m     \u001b[39mexcept\u001b[39;00m (requests\u001b[39m.\u001b[39mexceptions\u001b[39m.\u001b[39mJSONDecodeError, \u001b[39mKeyError\u001b[39;00m):\n\u001b[1;32m     82\u001b[0m         resp\u001b[39m.\u001b[39mraise_for_status()\n",
      "\u001b[0;31mClientException\u001b[0m: Not Found"
     ]
    }
   ],
   "source": [
    "train_eval_job.confusion_matrices"
   ]
  },
  {
   "cell_type": "code",
   "execution_count": null,
   "id": "ef36f1a0",
   "metadata": {},
   "outputs": [],
   "source": [
    "test_eval_job = velour_model.evaluate_classification(velour_test_dataset)\n",
    "test_eval_job.wait_for_completion()"
   ]
  },
  {
   "cell_type": "code",
   "execution_count": null,
   "id": "3dea85d9-621b-426c-9860-76df3be4a652",
   "metadata": {},
   "outputs": [],
   "source": [
    "test_eval_job.metrics"
   ]
  },
  {
   "cell_type": "code",
   "execution_count": null,
   "id": "4d504d62",
   "metadata": {},
   "outputs": [],
   "source": [
    "test_eval_job.confusion_matrices"
   ]
  },
  {
   "attachments": {},
   "cell_type": "markdown",
   "id": "0910069b",
   "metadata": {},
   "source": [
    "evaluation metrics in a Pandas dataframe"
   ]
  },
  {
   "cell_type": "code",
   "execution_count": null,
   "id": "10540153-e77f-4267-963f-b6bee33a28d6",
   "metadata": {},
   "outputs": [],
   "source": [
    "settings_and_dfs = velour_model.get_metric_dataframes()"
   ]
  },
  {
   "cell_type": "code",
   "execution_count": null,
   "id": "a86f6efd-8cd6-4374-9d2c-bdfe2acddb47",
   "metadata": {},
   "outputs": [],
   "source": [
    "settings = settings_and_dfs[0][\"settings\"]\n",
    "df = settings_and_dfs[0][\"df\"]"
   ]
  },
  {
   "cell_type": "code",
   "execution_count": null,
   "id": "4080460b-cc95-4187-ad08-11d7e850862b",
   "metadata": {},
   "outputs": [],
   "source": [
    "print(settings)"
   ]
  },
  {
   "cell_type": "code",
   "execution_count": null,
   "id": "aa3b5681-bbfe-4588-a60d-81092fbc18f1",
   "metadata": {},
   "outputs": [],
   "source": [
    "df"
   ]
  },
  {
   "cell_type": "markdown",
   "id": "22e447e7-0da4-49ae-af0a-8baa1446b4e7",
   "metadata": {},
   "source": [
    "## Sanity check scikit-learn classification report"
   ]
  },
  {
   "cell_type": "code",
   "execution_count": null,
   "id": "8d84a09d-9f10-42c0-92cb-6fbf53f11f85",
   "metadata": {},
   "outputs": [],
   "source": [
    "from sklearn.metrics import classification_report"
   ]
  },
  {
   "cell_type": "code",
   "execution_count": null,
   "id": "347c180e-9913-4aa4-994e-de507da32d72",
   "metadata": {},
   "outputs": [],
   "source": [
    "y_train_preds = pipe.predict(X_train)"
   ]
  },
  {
   "cell_type": "code",
   "execution_count": null,
   "id": "4c279575-7540-443b-8b45-f246569cba3c",
   "metadata": {},
   "outputs": [],
   "source": [
    "print(classification_report(y_train, y_train_preds, digits=6, target_names=target_names))"
   ]
  }
 ],
 "metadata": {
  "kernelspec": {
   "display_name": ".env-velour",
   "language": "python",
   "name": "python3"
  },
  "language_info": {
   "codemirror_mode": {
    "name": "ipython",
    "version": 3
   },
   "file_extension": ".py",
   "mimetype": "text/x-python",
   "name": "python",
   "nbconvert_exporter": "python",
   "pygments_lexer": "ipython3",
   "version": "3.11.0"
  }
 },
 "nbformat": 4,
 "nbformat_minor": 5
}
