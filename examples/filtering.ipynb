{
 "cells": [
  {
   "cell_type": "code",
   "execution_count": 1,
   "metadata": {},
   "outputs": [
    {
     "name": "stdout",
     "output_type": "stream",
     "text": [
      "Successfully connected to host at http://localhost:8000/\n"
     ]
    }
   ],
   "source": [
    "from valor import connect\n",
    "connect(\"http://localhost:8000\")"
   ]
  },
  {
   "cell_type": "code",
   "execution_count": 17,
   "metadata": {},
   "outputs": [],
   "source": [
    "import datetime\n",
    "\n",
    "from valor import (\n",
    "    Annotation,\n",
    "    Client,\n",
    "    Dataset,\n",
    "    Datum,\n",
    "    Filter,\n",
    "    GroundTruth,\n",
    "    Label,\n",
    ")\n",
    "from valor.schemas import And, Or, Box, Polygon, Point\n",
    "\n",
    "client = Client()"
   ]
  },
  {
   "attachments": {},
   "cell_type": "markdown",
   "metadata": {},
   "source": [
    "# Example - Swimmers and boats.\n",
    "\n",
    "This example demonstrates how to create and query a dataset containing images annotated with boats, swimmers, and fish."
   ]
  },
  {
   "cell_type": "code",
   "execution_count": 3,
   "metadata": {},
   "outputs": [],
   "source": [
    "# Define the data for the example\n",
    "contains_boat_swimmer = [\n",
    "    (\"uid1\", False, False),\n",
    "    (\"uid2\", True, False),\n",
    "    (\"uid3\", False, True),\n",
    "    (\"uid4\", True, True),\n",
    "]\n",
    "\n",
    "# Create a bounding box for annotations\n",
    "box = Box.from_extrema(0, 10, 0, 10)\n",
    "\n",
    "# Define labels for annotations\n",
    "swimmer_label = Label(key=\"class\", value=\"swimmer\")\n",
    "boat_label = Label(key=\"class\", value=\"boat\")\n",
    "fish_label = Label(key=\"class\", value=\"fish\")\n",
    "\n",
    "# Create a dataset for the images\n",
    "dataset1 = Dataset.create(\"dataset1\")\n",
    "\n",
    "# Add annotations to the dataset\n",
    "for uid, is_boat, is_swimmer in contains_boat_swimmer:\n",
    "    annotations = [\n",
    "        Annotation(\n",
    "            labels=[boat_label if is_boat else fish_label],\n",
    "            bounding_box=box,\n",
    "            is_instance=True,\n",
    "        ),\n",
    "        Annotation(\n",
    "            labels=[swimmer_label if is_swimmer else fish_label],\n",
    "            bounding_box=box,\n",
    "            is_instance=True,\n",
    "        ),\n",
    "    ]\n",
    "    dataset1.add_groundtruth(GroundTruth(datum=Datum(uid=uid), annotations=annotations))"
   ]
  },
  {
   "attachments": {},
   "cell_type": "markdown",
   "metadata": {},
   "source": [
    "Show all datums in the dataset."
   ]
  },
  {
   "cell_type": "code",
   "execution_count": 4,
   "metadata": {},
   "outputs": [
    {
     "data": {
      "text/plain": [
       "[Datum({'uid': 'uid4', 'metadata': {}}),\n",
       " Datum({'uid': 'uid3', 'metadata': {}}),\n",
       " Datum({'uid': 'uid2', 'metadata': {}}),\n",
       " Datum({'uid': 'uid1', 'metadata': {}})]"
      ]
     },
     "execution_count": 4,
     "metadata": {},
     "output_type": "execute_result"
    }
   ],
   "source": [
    "dataset1.get_datums()"
   ]
  },
  {
   "attachments": {},
   "cell_type": "markdown",
   "metadata": {},
   "source": [
    "Query the dataset for images containing just fish"
   ]
  },
  {
   "cell_type": "code",
   "execution_count": 5,
   "metadata": {},
   "outputs": [],
   "source": [
    "just_fish = dataset1.get_datums(\n",
    "    Filter(\n",
    "        datums=And(\n",
    "            Label.key == \"class\",\n",
    "            Label.value != \"boat\",\n",
    "            Label.value != \"swimmer\",\n",
    "        )\n",
    "    )\n",
    ")\n",
    "assert len(just_fish) == 1\n",
    "assert just_fish[0].uid == \"uid1\""
   ]
  },
  {
   "attachments": {},
   "cell_type": "markdown",
   "metadata": {},
   "source": [
    "Query the dataset for images containing no swimmers (only boats)"
   ]
  },
  {
   "cell_type": "code",
   "execution_count": 6,
   "metadata": {},
   "outputs": [],
   "source": [
    "no_swimmers = dataset1.get_datums(\n",
    "    Filter(\n",
    "        datums=And(\n",
    "            Label.key == \"class\",\n",
    "            Label.value == \"boat\",\n",
    "            Label.value != \"swimmer\",\n",
    "        )\n",
    "    )\n",
    ")\n",
    "assert len(no_swimmers) == 1\n",
    "assert no_swimmers[0].uid == \"uid2\""
   ]
  },
  {
   "attachments": {},
   "cell_type": "markdown",
   "metadata": {},
   "source": [
    "Query the dataset for images containing no boats (only swimmers)"
   ]
  },
  {
   "cell_type": "code",
   "execution_count": 7,
   "metadata": {},
   "outputs": [],
   "source": [
    "no_boats = dataset1.get_datums(\n",
    "    Filter(\n",
    "        datums=And(\n",
    "            Label.key == \"class\",\n",
    "            Label.value != \"boat\",\n",
    "            Label.value == \"swimmer\",\n",
    "        )\n",
    "    )\n",
    ")\n",
    "assert len(no_boats) == 1\n",
    "assert no_boats[0].uid == \"uid3\""
   ]
  },
  {
   "attachments": {},
   "cell_type": "markdown",
   "metadata": {},
   "source": [
    "Query the dataset for images contains either swimmers or boats but not both."
   ]
  },
  {
   "cell_type": "code",
   "execution_count": 8,
   "metadata": {},
   "outputs": [],
   "source": [
    "no_boats = dataset1.get_datums(\n",
    "    Filter(\n",
    "        datums=Or(\n",
    "            And(\n",
    "                Label.key == \"class\",\n",
    "                Label.value != \"boat\",\n",
    "                Label.value == \"swimmer\",\n",
    "            ),\n",
    "            And(\n",
    "                Label.key == \"class\",\n",
    "                Label.value == \"boat\",\n",
    "                Label.value != \"swimmer\",\n",
    "            )\n",
    "        )\n",
    "    )\n",
    ")\n",
    "assert len(no_boats) == 2\n",
    "uids = {datum.uid for datum in no_boats}\n",
    "assert \"uid2\" in uids\n",
    "assert \"uid3\" in uids"
   ]
  },
  {
   "attachments": {},
   "cell_type": "markdown",
   "metadata": {},
   "source": [
    "Query the dataset for images containing both swimmers and boats"
   ]
  },
  {
   "cell_type": "code",
   "execution_count": 9,
   "metadata": {},
   "outputs": [],
   "source": [
    "swimmers_and_boats = dataset1.get_datums(\n",
    "    Filter(\n",
    "        datums=And(\n",
    "            Label.key == \"class\",\n",
    "            Label.value == \"boat\",\n",
    "            Label.value == \"swimmer\",\n",
    "        )\n",
    "    )\n",
    ")\n",
    "assert len(swimmers_and_boats) == 1\n",
    "assert swimmers_and_boats[0].uid == \"uid4\""
   ]
  },
  {
   "attachments": {},
   "cell_type": "markdown",
   "metadata": {},
   "source": [
    "# Example - Swimmers w/ Boats of different sizes.\n",
    "\n",
    "This example demonstrates how to create and query a dataset containing images annotated with boats, swimmers, and fish.\n",
    "\n",
    "In this example, the boats are bounded by either a small bbox (5x5) or large bbox (10x10)."
   ]
  },
  {
   "cell_type": "code",
   "execution_count": 10,
   "metadata": {},
   "outputs": [],
   "source": [
    "contains_boat_swimmer = (\n",
    "    (\"uid1\", False, False),\n",
    "    (\"uid2\", True, False),\n",
    "    (\"uid3\", False, True),\n",
    "    (\"uid4\", True, True),\n",
    ")\n",
    "\n",
    "small_box = Box.from_extrema(0, 5, 0, 5)\n",
    "large_box = Box.from_extrema(0, 10, 0, 10)\n",
    "\n",
    "swimmer = Label(key=\"class\", value=\"swimmer\")\n",
    "boat = Label(key=\"class\", value=\"boat\")\n",
    "fish = Label(key=\"class\", value=\"fish\")\n",
    "\n",
    "dataset2 = Dataset.create(\"dataset2\")\n",
    "for uid, is_large_boat, is_swimmer in contains_boat_swimmer:\n",
    "    dataset2.add_groundtruth(\n",
    "        GroundTruth(\n",
    "            datum=Datum(uid=uid),\n",
    "            annotations=[\n",
    "                Annotation(\n",
    "                    labels=[boat],\n",
    "                    bounding_box=large_box if is_large_boat else small_box,\n",
    "                    is_instance=True,\n",
    "                ),\n",
    "                Annotation(\n",
    "                    labels=[swimmer if is_swimmer else fish],\n",
    "                    bounding_box=small_box,\n",
    "                    is_instance=True,\n",
    "                ),\n",
    "            ],\n",
    "        )\n",
    "    )"
   ]
  },
  {
   "attachments": {},
   "cell_type": "markdown",
   "metadata": {},
   "source": [
    "No swimmer, small boats"
   ]
  },
  {
   "cell_type": "code",
   "execution_count": 11,
   "metadata": {},
   "outputs": [],
   "source": [
    "no_swimmer_small_boats = dataset2.get_datums(\n",
    "    Filter(\n",
    "        datums=And(\n",
    "            Label.key == \"class\",\n",
    "            Label.value != \"swimmer\",\n",
    "        ),\n",
    "        annotations=And(\n",
    "            Label.key == \"class\",\n",
    "            Label.value == \"boat\",\n",
    "            Annotation.bounding_box.area < 50,\n",
    "        ),\n",
    "    )\n",
    ")\n",
    "assert len(no_swimmer_small_boats) == 1\n",
    "assert no_swimmer_small_boats[0].uid == \"uid1\""
   ]
  },
  {
   "attachments": {},
   "cell_type": "markdown",
   "metadata": {},
   "source": [
    "No swimmer, large boats"
   ]
  },
  {
   "cell_type": "code",
   "execution_count": 12,
   "metadata": {},
   "outputs": [],
   "source": [
    "no_swimmer_large_boats = dataset2.get_datums(\n",
    "    Filter(\n",
    "        datums=And(\n",
    "            Label.key == \"class\",\n",
    "            Label.value != \"swimmer\",\n",
    "        ),\n",
    "        annotations=And(\n",
    "            Label.key == \"class\",\n",
    "            Label.value == \"boat\",\n",
    "            Annotation.bounding_box.area > 50,\n",
    "        ),\n",
    "    )\n",
    ")\n",
    "assert len(no_swimmer_large_boats) == 1\n",
    "assert no_swimmer_large_boats[0].uid == \"uid2\""
   ]
  },
  {
   "attachments": {},
   "cell_type": "markdown",
   "metadata": {},
   "source": [
    "Swimmer with small boats"
   ]
  },
  {
   "cell_type": "code",
   "execution_count": 13,
   "metadata": {},
   "outputs": [],
   "source": [
    "swimmer_with_small_boats = dataset2.get_datums(\n",
    "    Filter(\n",
    "        datums=And(\n",
    "            Label.key == \"class\",\n",
    "            Label.value == \"swimmer\",\n",
    "        ),\n",
    "        annotations=And(\n",
    "            Label.key == \"class\",\n",
    "            Label.value == \"boat\",\n",
    "            Annotation.bounding_box.area < 50,\n",
    "        ),\n",
    "    )\n",
    ")\n",
    "assert len(swimmer_with_small_boats) == 1\n",
    "assert swimmer_with_small_boats[0].uid == \"uid3\""
   ]
  },
  {
   "attachments": {},
   "cell_type": "markdown",
   "metadata": {},
   "source": [
    "Swimmer with large boat"
   ]
  },
  {
   "cell_type": "code",
   "execution_count": 14,
   "metadata": {},
   "outputs": [],
   "source": [
    "swimmers_and_boats = dataset2.get_datums(\n",
    "    Filter(\n",
    "        datums=And(\n",
    "            Label.key == \"class\",\n",
    "            Label.value == \"swimmer\",\n",
    "        ),\n",
    "        annotations=And(\n",
    "            Label.key == \"class\",\n",
    "            Label.value == \"boat\",\n",
    "            Annotation.bounding_box.area > 50,\n",
    "        ),\n",
    "    )\n",
    ")\n",
    "assert len(swimmers_and_boats) == 1\n",
    "assert swimmers_and_boats[0].uid == \"uid4\""
   ]
  },
  {
   "attachments": {},
   "cell_type": "markdown",
   "metadata": {},
   "source": [
    "# Example - Geospatial + Time of Year\n",
    "\n",
    "This example demonstrates how to create and query a dataset containing images annotated with a time and region."
   ]
  },
  {
   "cell_type": "code",
   "execution_count": 18,
   "metadata": {},
   "outputs": [],
   "source": [
    "# regions\n",
    "geojson_alaska = Polygon(\n",
    "    [\n",
    "        [\n",
    "            (\n",
    "                -170.7603599457809,\n",
    "                68.84625981507392\n",
    "            ),\n",
    "            (\n",
    "                -170.7603599457809,\n",
    "                58.53538829807735\n",
    "            ),\n",
    "            (\n",
    "                -141.3435514691004,\n",
    "                58.53538829807735\n",
    "            ),\n",
    "            (\n",
    "                -141.3435514691004,\n",
    "                68.84625981507392\n",
    "            ),\n",
    "            (\n",
    "                -170.7603599457809,\n",
    "                68.84625981507392\n",
    "            )\n",
    "        ]\n",
    "    ]\n",
    ")\n",
    "geojson_australia = Polygon(\n",
    "    [\n",
    "        [\n",
    "            (\n",
    "                113.26697231702212,\n",
    "                -12.835622232181265\n",
    "            ),\n",
    "            (\n",
    "                113.26697231702212,\n",
    "                -40.757486033452935\n",
    "            ),\n",
    "            (\n",
    "                157.67091884462127,\n",
    "                -40.757486033452935\n",
    "            ),\n",
    "            (\n",
    "                157.67091884462127,\n",
    "                -12.835622232181265\n",
    "            ),\n",
    "            (\n",
    "                113.26697231702212,\n",
    "                -12.835622232181265\n",
    "            )\n",
    "        ]\n",
    "    ]\n",
    ")\n",
    "\n",
    "# cities\n",
    "geojson_austrailia_sydney = Point((151.27740157112845, -33.78747691475676))\n",
    "geojson_alaska_anchorage = Point((-149.75306358105365, 61.21554843271193))"
   ]
  },
  {
   "cell_type": "code",
   "execution_count": 19,
   "metadata": {},
   "outputs": [
    {
     "ename": "ClientException",
     "evalue": "[{'type': 'value_error', 'loc': ['body', 0, 'datum', 'metadata'], 'msg': \"Value error, Metadata value '{'type': 'Box', 'coordinates': [[(-170.7603599457809, 68.84625981507392), (-170.7603599457809, 58.53538829807735), (-141.3435514691004, 58.53538829807735), (-141.3435514691004, 68.84625981507392), (-170.7603599457809, 68.84625981507392)]]}' failed validation for type 'geojson'. Validation error: Class 'box' is not a supported GeoJSON geometry type.\", 'input': {'month': {'type': 'date', 'value': '2024-01-01'}, 'region': {'type': 'geojson', 'value': {'type': 'Box', 'coordinates': [[[-170.7603599457809, 68.84625981507392], [-170.7603599457809, 58.53538829807735], [-141.3435514691004, 58.53538829807735], [-141.3435514691004, 68.84625981507392], [-170.7603599457809, 68.84625981507392]]]}}}, 'ctx': {'error': {}}, 'url': 'https://errors.pydantic.dev/2.6/v/value_error'}]",
     "output_type": "error",
     "traceback": [
      "\u001b[0;31m---------------------------------------------------------------------------\u001b[0m",
      "\u001b[0;31mTypeError\u001b[0m                                 Traceback (most recent call last)",
      "File \u001b[0;32m~/valor/.env-velour/lib/python3.10/site-packages/valor/exceptions.py:169\u001b[0m, in \u001b[0;36mraise_client_exception\u001b[0;34m(resp)\u001b[0m\n\u001b[1;32m    168\u001b[0m \u001b[39mtry\u001b[39;00m:\n\u001b[0;32m--> 169\u001b[0m     error_dict \u001b[39m=\u001b[39m json\u001b[39m.\u001b[39;49mloads(resp_json[\u001b[39m\"\u001b[39;49m\u001b[39mdetail\u001b[39;49m\u001b[39m\"\u001b[39;49m])\n\u001b[1;32m    170\u001b[0m     cls_name \u001b[39m=\u001b[39m error_dict[\u001b[39m\"\u001b[39m\u001b[39mname\u001b[39m\u001b[39m\"\u001b[39m]\n",
      "File \u001b[0;32m/usr/lib/python3.10/json/__init__.py:339\u001b[0m, in \u001b[0;36mloads\u001b[0;34m(s, cls, object_hook, parse_float, parse_int, parse_constant, object_pairs_hook, **kw)\u001b[0m\n\u001b[1;32m    338\u001b[0m \u001b[39mif\u001b[39;00m \u001b[39mnot\u001b[39;00m \u001b[39misinstance\u001b[39m(s, (\u001b[39mbytes\u001b[39m, \u001b[39mbytearray\u001b[39m)):\n\u001b[0;32m--> 339\u001b[0m     \u001b[39mraise\u001b[39;00m \u001b[39mTypeError\u001b[39;00m(\u001b[39mf\u001b[39m\u001b[39m'\u001b[39m\u001b[39mthe JSON object must be str, bytes or bytearray, \u001b[39m\u001b[39m'\u001b[39m\n\u001b[1;32m    340\u001b[0m                     \u001b[39mf\u001b[39m\u001b[39m'\u001b[39m\u001b[39mnot \u001b[39m\u001b[39m{\u001b[39;00ms\u001b[39m.\u001b[39m\u001b[39m__class__\u001b[39m\u001b[39m.\u001b[39m\u001b[39m__name__\u001b[39m\u001b[39m}\u001b[39;00m\u001b[39m'\u001b[39m)\n\u001b[1;32m    341\u001b[0m s \u001b[39m=\u001b[39m s\u001b[39m.\u001b[39mdecode(detect_encoding(s), \u001b[39m'\u001b[39m\u001b[39msurrogatepass\u001b[39m\u001b[39m'\u001b[39m)\n",
      "\u001b[0;31mTypeError\u001b[0m: the JSON object must be str, bytes or bytearray, not list",
      "\nDuring handling of the above exception, another exception occurred:\n",
      "\u001b[0;31mClientException\u001b[0m                           Traceback (most recent call last)",
      "Cell \u001b[0;32mIn[19], line 20\u001b[0m\n\u001b[1;32m     18\u001b[0m dataset3 \u001b[39m=\u001b[39m Dataset\u001b[39m.\u001b[39mcreate(\u001b[39m\"\u001b[39m\u001b[39mdataset3\u001b[39m\u001b[39m\"\u001b[39m)\n\u001b[1;32m     19\u001b[0m \u001b[39mfor\u001b[39;00m i \u001b[39min\u001b[39;00m \u001b[39mrange\u001b[39m(\u001b[39m1\u001b[39m, \u001b[39m13\u001b[39m):\n\u001b[0;32m---> 20\u001b[0m     dataset3\u001b[39m.\u001b[39;49madd_groundtruth(\n\u001b[1;32m     21\u001b[0m         GroundTruth(\n\u001b[1;32m     22\u001b[0m             datum\u001b[39m=\u001b[39;49mDatum(\n\u001b[1;32m     23\u001b[0m                 uid\u001b[39m=\u001b[39;49m\u001b[39mf\u001b[39;49m\u001b[39m\"\u001b[39;49m\u001b[39malaska_\u001b[39;49m\u001b[39m{\u001b[39;49;00mmap_idx_to_month[i]\u001b[39m}\u001b[39;49;00m\u001b[39m\"\u001b[39;49m, \n\u001b[1;32m     24\u001b[0m                 metadata\u001b[39m=\u001b[39;49m{\n\u001b[1;32m     25\u001b[0m                     \u001b[39m\"\u001b[39;49m\u001b[39mmonth\u001b[39;49m\u001b[39m\"\u001b[39;49m: datetime\u001b[39m.\u001b[39;49mdate(\u001b[39m2024\u001b[39;49m, i, \u001b[39m1\u001b[39;49m), \n\u001b[1;32m     26\u001b[0m                     \u001b[39m\"\u001b[39;49m\u001b[39mregion\u001b[39;49m\u001b[39m\"\u001b[39;49m: geojson_alaska,\n\u001b[1;32m     27\u001b[0m                 }\n\u001b[1;32m     28\u001b[0m             ),\n\u001b[1;32m     29\u001b[0m             annotations\u001b[39m=\u001b[39;49m[\n\u001b[1;32m     30\u001b[0m                 Annotation(\n\u001b[1;32m     31\u001b[0m                     labels\u001b[39m=\u001b[39;49m[vehicle],\n\u001b[1;32m     32\u001b[0m                 ),\n\u001b[1;32m     33\u001b[0m             ],\n\u001b[1;32m     34\u001b[0m         )\n\u001b[1;32m     35\u001b[0m     )\n\u001b[1;32m     36\u001b[0m     dataset3\u001b[39m.\u001b[39madd_groundtruth(\n\u001b[1;32m     37\u001b[0m         GroundTruth(\n\u001b[1;32m     38\u001b[0m             datum\u001b[39m=\u001b[39mDatum(\n\u001b[0;32m   (...)\u001b[0m\n\u001b[1;32m     50\u001b[0m         )\n\u001b[1;32m     51\u001b[0m     )\n",
      "File \u001b[0;32m~/valor/.env-velour/lib/python3.10/site-packages/valor/coretypes.py:459\u001b[0m, in \u001b[0;36mDataset.add_groundtruth\u001b[0;34m(self, groundtruth)\u001b[0m\n\u001b[1;32m    447\u001b[0m \u001b[39mdef\u001b[39;00m \u001b[39madd_groundtruth\u001b[39m(\n\u001b[1;32m    448\u001b[0m     \u001b[39mself\u001b[39m,\n\u001b[1;32m    449\u001b[0m     groundtruth: GroundTruth,\n\u001b[1;32m    450\u001b[0m ) \u001b[39m-\u001b[39m\u001b[39m>\u001b[39m \u001b[39mNone\u001b[39;00m:\n\u001b[1;32m    451\u001b[0m \u001b[39m    \u001b[39m\u001b[39m\"\"\"\u001b[39;00m\n\u001b[1;32m    452\u001b[0m \u001b[39m    Add a ground truth to the dataset.\u001b[39;00m\n\u001b[1;32m    453\u001b[0m \n\u001b[0;32m   (...)\u001b[0m\n\u001b[1;32m    457\u001b[0m \u001b[39m        The ground truth to create.\u001b[39;00m\n\u001b[1;32m    458\u001b[0m \u001b[39m    \"\"\"\u001b[39;00m\n\u001b[0;32m--> 459\u001b[0m     Client(\u001b[39mself\u001b[39;49m\u001b[39m.\u001b[39;49mconn)\u001b[39m.\u001b[39;49mcreate_groundtruths(\n\u001b[1;32m    460\u001b[0m         dataset\u001b[39m=\u001b[39;49m\u001b[39mself\u001b[39;49m,\n\u001b[1;32m    461\u001b[0m         groundtruths\u001b[39m=\u001b[39;49m[groundtruth],\n\u001b[1;32m    462\u001b[0m     )\n",
      "File \u001b[0;32m~/valor/.env-velour/lib/python3.10/site-packages/valor/coretypes.py:1225\u001b[0m, in \u001b[0;36mClient.create_groundtruths\u001b[0;34m(self, dataset, groundtruths, ignore_existing_datums)\u001b[0m\n\u001b[1;32m   1223\u001b[0m     groundtruth_dict[\u001b[39m\"\u001b[39m\u001b[39mdataset_name\u001b[39m\u001b[39m\"\u001b[39m] \u001b[39m=\u001b[39m dataset\u001b[39m.\u001b[39mname\n\u001b[1;32m   1224\u001b[0m     groundtruths_json\u001b[39m.\u001b[39mappend(groundtruth_dict)\n\u001b[0;32m-> 1225\u001b[0m \u001b[39mself\u001b[39;49m\u001b[39m.\u001b[39;49mconn\u001b[39m.\u001b[39;49mcreate_groundtruths(\n\u001b[1;32m   1226\u001b[0m     groundtruths_json, ignore_existing_datums\u001b[39m=\u001b[39;49mignore_existing_datums\n\u001b[1;32m   1227\u001b[0m )\n",
      "File \u001b[0;32m~/valor/.env-velour/lib/python3.10/site-packages/valor/client.py:325\u001b[0m, in \u001b[0;36mClientConnection.create_groundtruths\u001b[0;34m(self, groundtruths, ignore_existing_datums)\u001b[0m\n\u001b[1;32m    308\u001b[0m \u001b[39mdef\u001b[39;00m \u001b[39mcreate_groundtruths\u001b[39m(\n\u001b[1;32m    309\u001b[0m     \u001b[39mself\u001b[39m, groundtruths: List[\u001b[39mdict\u001b[39m], ignore_existing_datums: \u001b[39mbool\u001b[39m \u001b[39m=\u001b[39m \u001b[39mFalse\u001b[39;00m\n\u001b[1;32m    310\u001b[0m ) \u001b[39m-\u001b[39m\u001b[39m>\u001b[39m \u001b[39mNone\u001b[39;00m:\n\u001b[1;32m    311\u001b[0m \u001b[39m    \u001b[39m\u001b[39m\"\"\"\u001b[39;00m\n\u001b[1;32m    312\u001b[0m \u001b[39m    Creates ground truths.\u001b[39;00m\n\u001b[1;32m    313\u001b[0m \n\u001b[0;32m   (...)\u001b[0m\n\u001b[1;32m    323\u001b[0m \u001b[39m        Default is False.\u001b[39;00m\n\u001b[1;32m    324\u001b[0m \u001b[39m    \"\"\"\u001b[39;00m\n\u001b[0;32m--> 325\u001b[0m     \u001b[39mself\u001b[39;49m\u001b[39m.\u001b[39;49m_requests_post_rel_host(\n\u001b[1;32m    326\u001b[0m         \u001b[39m\"\u001b[39;49m\u001b[39mgroundtruths\u001b[39;49m\u001b[39m\"\u001b[39;49m,\n\u001b[1;32m    327\u001b[0m         json\u001b[39m=\u001b[39;49mgroundtruths,\n\u001b[1;32m    328\u001b[0m         params\u001b[39m=\u001b[39;49m{\u001b[39m\"\u001b[39;49m\u001b[39mignore_existing_datums\u001b[39;49m\u001b[39m\"\u001b[39;49m: ignore_existing_datums},\n\u001b[1;32m    329\u001b[0m     )\n",
      "File \u001b[0;32m~/valor/.env-velour/lib/python3.10/site-packages/valor/client.py:280\u001b[0m, in \u001b[0;36mClientConnection._requests_post_rel_host\u001b[0;34m(self, endpoint, *args, **kwargs)\u001b[0m\n\u001b[1;32m    276\u001b[0m \u001b[39mdef\u001b[39;00m \u001b[39m_requests_post_rel_host\u001b[39m(\u001b[39mself\u001b[39m, endpoint: \u001b[39mstr\u001b[39m, \u001b[39m*\u001b[39margs, \u001b[39m*\u001b[39m\u001b[39m*\u001b[39mkwargs):\n\u001b[1;32m    277\u001b[0m \u001b[39m    \u001b[39m\u001b[39m\"\"\"\u001b[39;00m\n\u001b[1;32m    278\u001b[0m \u001b[39m    Helper for handling POST requests.\u001b[39;00m\n\u001b[1;32m    279\u001b[0m \u001b[39m    \"\"\"\u001b[39;00m\n\u001b[0;32m--> 280\u001b[0m     \u001b[39mreturn\u001b[39;00m \u001b[39mself\u001b[39;49m\u001b[39m.\u001b[39;49m_requests_wrapper(\n\u001b[1;32m    281\u001b[0m         method_name\u001b[39m=\u001b[39;49m\u001b[39m\"\u001b[39;49m\u001b[39mpost\u001b[39;49m\u001b[39m\"\u001b[39;49m, endpoint\u001b[39m=\u001b[39;49mendpoint, \u001b[39m*\u001b[39;49margs, \u001b[39m*\u001b[39;49m\u001b[39m*\u001b[39;49mkwargs\n\u001b[1;32m    282\u001b[0m     )\n",
      "File \u001b[0;32m~/valor/.env-velour/lib/python3.10/site-packages/valor/client.py:269\u001b[0m, in \u001b[0;36mClientConnection._requests_wrapper\u001b[0;34m(self, method_name, endpoint, ignore_auth, max_retries_on_timeout, initial_timeout, exponential_backoff, *args, **kwargs)\u001b[0m\n\u001b[1;32m    267\u001b[0m         \u001b[39mself\u001b[39m\u001b[39m.\u001b[39m_get_access_token_from_username_and_password()\n\u001b[1;32m    268\u001b[0m     \u001b[39melse\u001b[39;00m:\n\u001b[0;32m--> 269\u001b[0m         raise_client_exception(resp)\n\u001b[1;32m    270\u001b[0m \u001b[39melse\u001b[39;00m:\n\u001b[1;32m    271\u001b[0m     \u001b[39mbreak\u001b[39;00m\n",
      "File \u001b[0;32m~/valor/.env-velour/lib/python3.10/site-packages/valor/exceptions.py:178\u001b[0m, in \u001b[0;36mraise_client_exception\u001b[0;34m(resp)\u001b[0m\n\u001b[1;32m    176\u001b[0m             \u001b[39mraise\u001b[39;00m ClientException(resp)\n\u001b[1;32m    177\u001b[0m     \u001b[39mexcept\u001b[39;00m (\u001b[39mTypeError\u001b[39;00m, json\u001b[39m.\u001b[39mJSONDecodeError):\n\u001b[0;32m--> 178\u001b[0m         \u001b[39mraise\u001b[39;00m ClientException(resp)\n\u001b[1;32m    179\u001b[0m \u001b[39mexcept\u001b[39;00m (exceptions\u001b[39m.\u001b[39mJSONDecodeError, \u001b[39mKeyError\u001b[39;00m):\n\u001b[1;32m    180\u001b[0m     resp\u001b[39m.\u001b[39mraise_for_status()\n",
      "\u001b[0;31mClientException\u001b[0m: [{'type': 'value_error', 'loc': ['body', 0, 'datum', 'metadata'], 'msg': \"Value error, Metadata value '{'type': 'Box', 'coordinates': [[(-170.7603599457809, 68.84625981507392), (-170.7603599457809, 58.53538829807735), (-141.3435514691004, 58.53538829807735), (-141.3435514691004, 68.84625981507392), (-170.7603599457809, 68.84625981507392)]]}' failed validation for type 'geojson'. Validation error: Class 'box' is not a supported GeoJSON geometry type.\", 'input': {'month': {'type': 'date', 'value': '2024-01-01'}, 'region': {'type': 'geojson', 'value': {'type': 'Box', 'coordinates': [[[-170.7603599457809, 68.84625981507392], [-170.7603599457809, 58.53538829807735], [-141.3435514691004, 58.53538829807735], [-141.3435514691004, 68.84625981507392], [-170.7603599457809, 68.84625981507392]]]}}}, 'ctx': {'error': {}}, 'url': 'https://errors.pydantic.dev/2.6/v/value_error'}]"
     ]
    }
   ],
   "source": [
    "map_idx_to_month = {\n",
    "    1: \"january\",\n",
    "    2: \"february\",\n",
    "    3: \"march\",\n",
    "    4: \"april\",\n",
    "    5: \"may\",\n",
    "    6: \"june\",\n",
    "    7: \"july\",\n",
    "    8: \"august\",\n",
    "    9: \"september\",\n",
    "    10: \"october\",\n",
    "    11: \"november\",\n",
    "    12: \"december\"\n",
    "}\n",
    "\n",
    "vehicle = Label(key=\"class\", value=\"vehicle\")\n",
    "\n",
    "dataset3 = Dataset.create(\"dataset3\")\n",
    "for i in range(1, 13):\n",
    "    dataset3.add_groundtruth(\n",
    "        GroundTruth(\n",
    "            datum=Datum(\n",
    "                uid=f\"alaska_{map_idx_to_month[i]}\", \n",
    "                metadata={\n",
    "                    \"month\": datetime.date(2024, i, 1), \n",
    "                    \"region\": geojson_alaska,\n",
    "                }\n",
    "            ),\n",
    "            annotations=[\n",
    "                Annotation(\n",
    "                    labels=[vehicle],\n",
    "                ),\n",
    "            ],\n",
    "        )\n",
    "    )\n",
    "    dataset3.add_groundtruth(\n",
    "        GroundTruth(\n",
    "            datum=Datum(\n",
    "                uid=f\"austrailia_{map_idx_to_month[i]}\", \n",
    "                metadata={\n",
    "                    \"month\": datetime.date(2024, i, 1),\n",
    "                    \"region\": geojson_australia\n",
    "                }\n",
    "            ),\n",
    "            annotations=[\n",
    "                Annotation(\n",
    "                    labels=[vehicle],\n",
    "                ),\n",
    "            ],\n",
    "        )\n",
    "    )"
   ]
  },
  {
   "attachments": {},
   "cell_type": "markdown",
   "metadata": {},
   "source": [
    "Find datums where the region is experiencing summer.\n",
    "\n",
    "Northern Hemisphere (June - September)\n",
    "Southern Hemisphere (December - March)"
   ]
  },
  {
   "cell_type": "code",
   "execution_count": null,
   "metadata": {},
   "outputs": [],
   "source": [
    "march = datetime.date(2024, 3, 1)\n",
    "june = datetime.date(2024, 6, 1)\n",
    "september = datetime.date(2024, 9, 1)\n",
    "december = datetime.date(2024, 12, 1)\n",
    "\n",
    "summer_time = dataset3.get_datums(\n",
    "    Filter(\n",
    "        datums=Or(\n",
    "            And(\n",
    "                Datum.metadata[\"month\"] >= june,\n",
    "                Datum.metadata[\"month\"] <= september,\n",
    "                Datum.metadata[\"region\"].intersects(geojson_alaska)\n",
    "            ),\n",
    "            And(\n",
    "                Datum.metadata[\"month\"] >= december,\n",
    "                Datum.metadata[\"month\"] <= march,\n",
    "                Datum.metadata[\"region\"].intersects(geojson_alaska)\n",
    "            ),\n",
    "        )\n",
    "    )\n",
    ")\n",
    "assert len(swimmers_and_boats) == 1\n",
    "assert swimmers_and_boats[0].uid == \"uid4\""
   ]
  }
 ],
 "metadata": {
  "kernelspec": {
   "display_name": ".env-velour",
   "language": "python",
   "name": "python3"
  },
  "language_info": {
   "codemirror_mode": {
    "name": "ipython",
    "version": 3
   },
   "file_extension": ".py",
   "mimetype": "text/x-python",
   "name": "python",
   "nbconvert_exporter": "python",
   "pygments_lexer": "ipython3",
   "version": "3.10.12"
  },
  "orig_nbformat": 4
 },
 "nbformat": 4,
 "nbformat_minor": 2
}
