{
 "cells": [
  {
   "cell_type": "code",
   "execution_count": 1,
   "metadata": {},
   "outputs": [
    {
     "name": "stdout",
     "output_type": "stream",
     "text": [
      "Successfully connected to host at http://localhost:8000/\n"
     ]
    }
   ],
   "source": [
    "from valor import connect\n",
    "connect(\"http://localhost:8000\")"
   ]
  },
  {
   "cell_type": "code",
   "execution_count": 2,
   "metadata": {},
   "outputs": [],
   "source": [
    "import datetime\n",
    "\n",
    "from valor import (\n",
    "    Annotation,\n",
    "    Client,\n",
    "    Dataset,\n",
    "    Datum,\n",
    "    Filter,\n",
    "    GroundTruth,\n",
    "    Label,\n",
    ")\n",
    "from valor.schemas import And, Or, Box, Polygon, Point\n",
    "\n",
    "client = Client()"
   ]
  },
  {
   "attachments": {},
   "cell_type": "markdown",
   "metadata": {},
   "source": [
    "# Example - Swimmers and boats.\n",
    "\n",
    "This example demonstrates how to create and query a dataset containing images annotated with boats, swimmers, and fish."
   ]
  },
  {
   "cell_type": "code",
   "execution_count": 3,
   "metadata": {},
   "outputs": [],
   "source": [
    "# Define the data for the example\n",
    "contains_boat_swimmer = [\n",
    "    (\"uid1\", False, False),\n",
    "    (\"uid2\", True, False),\n",
    "    (\"uid3\", False, True),\n",
    "    (\"uid4\", True, True),\n",
    "]\n",
    "\n",
    "# Create a bounding box for annotations\n",
    "box = Box.from_extrema(0, 10, 0, 10)\n",
    "\n",
    "# Define labels for annotations\n",
    "swimmer_label = Label(key=\"class\", value=\"swimmer\")\n",
    "boat_label = Label(key=\"class\", value=\"boat\")\n",
    "fish_label = Label(key=\"class\", value=\"fish\")\n",
    "\n",
    "# Create a dataset for the images\n",
    "dataset1 = Dataset.create(\"dataset1\")\n",
    "\n",
    "# Add annotations to the dataset\n",
    "for uid, is_boat, is_swimmer in contains_boat_swimmer:\n",
    "    annotations = [\n",
    "        Annotation(\n",
    "            labels=[boat_label if is_boat else fish_label],\n",
    "            bounding_box=box,\n",
    "            is_instance=True,\n",
    "        ),\n",
    "        Annotation(\n",
    "            labels=[swimmer_label if is_swimmer else fish_label],\n",
    "            bounding_box=box,\n",
    "            is_instance=True,\n",
    "        ),\n",
    "    ]\n",
    "    dataset1.add_groundtruth(GroundTruth(datum=Datum(uid=uid), annotations=annotations))"
   ]
  },
  {
   "attachments": {},
   "cell_type": "markdown",
   "metadata": {},
   "source": [
    "Show all datums in the dataset."
   ]
  },
  {
   "cell_type": "code",
   "execution_count": 4,
   "metadata": {},
   "outputs": [
    {
     "data": {
      "text/plain": [
       "[Datum({'uid': 'uid4', 'metadata': {}}),\n",
       " Datum({'uid': 'uid3', 'metadata': {}}),\n",
       " Datum({'uid': 'uid2', 'metadata': {}}),\n",
       " Datum({'uid': 'uid1', 'metadata': {}})]"
      ]
     },
     "execution_count": 4,
     "metadata": {},
     "output_type": "execute_result"
    }
   ],
   "source": [
    "dataset1.get_datums()"
   ]
  },
  {
   "attachments": {},
   "cell_type": "markdown",
   "metadata": {},
   "source": [
    "Query the dataset for images containing just fish"
   ]
  },
  {
   "cell_type": "code",
   "execution_count": 5,
   "metadata": {},
   "outputs": [],
   "source": [
    "just_fish = dataset1.get_datums(\n",
    "    Filter(\n",
    "        datums=And(\n",
    "            Label.key == \"class\",\n",
    "            Label.value != \"boat\",\n",
    "            Label.value != \"swimmer\",\n",
    "        )\n",
    "    )\n",
    ")\n",
    "assert len(just_fish) == 1\n",
    "assert just_fish[0].uid == \"uid1\""
   ]
  },
  {
   "attachments": {},
   "cell_type": "markdown",
   "metadata": {},
   "source": [
    "Query the dataset for images containing no swimmers (only boats)"
   ]
  },
  {
   "cell_type": "code",
   "execution_count": 6,
   "metadata": {},
   "outputs": [],
   "source": [
    "no_swimmers = dataset1.get_datums(\n",
    "    Filter(\n",
    "        datums=And(\n",
    "            Label.key == \"class\",\n",
    "            Label.value == \"boat\",\n",
    "            Label.value != \"swimmer\",\n",
    "        )\n",
    "    )\n",
    ")\n",
    "assert len(no_swimmers) == 1\n",
    "assert no_swimmers[0].uid == \"uid2\""
   ]
  },
  {
   "attachments": {},
   "cell_type": "markdown",
   "metadata": {},
   "source": [
    "Query the dataset for images containing no boats (only swimmers)"
   ]
  },
  {
   "cell_type": "code",
   "execution_count": 7,
   "metadata": {},
   "outputs": [],
   "source": [
    "no_boats = dataset1.get_datums(\n",
    "    Filter(\n",
    "        datums=And(\n",
    "            Label.key == \"class\",\n",
    "            Label.value != \"boat\",\n",
    "            Label.value == \"swimmer\",\n",
    "        )\n",
    "    )\n",
    ")\n",
    "assert len(no_boats) == 1\n",
    "assert no_boats[0].uid == \"uid3\""
   ]
  },
  {
   "attachments": {},
   "cell_type": "markdown",
   "metadata": {},
   "source": [
    "Query the dataset for images contains either swimmers or boats but not both."
   ]
  },
  {
   "cell_type": "code",
   "execution_count": 8,
   "metadata": {},
   "outputs": [],
   "source": [
    "no_boats = dataset1.get_datums(\n",
    "    Filter(\n",
    "        datums=Or(\n",
    "            And(\n",
    "                Label.key == \"class\",\n",
    "                Label.value != \"boat\",\n",
    "                Label.value == \"swimmer\",\n",
    "            ),\n",
    "            And(\n",
    "                Label.key == \"class\",\n",
    "                Label.value == \"boat\",\n",
    "                Label.value != \"swimmer\",\n",
    "            )\n",
    "        )\n",
    "    )\n",
    ")\n",
    "assert len(no_boats) == 2\n",
    "uids = {datum.uid for datum in no_boats}\n",
    "assert \"uid2\" in uids\n",
    "assert \"uid3\" in uids"
   ]
  },
  {
   "attachments": {},
   "cell_type": "markdown",
   "metadata": {},
   "source": [
    "Query the dataset for images containing both swimmers and boats"
   ]
  },
  {
   "cell_type": "code",
   "execution_count": 9,
   "metadata": {},
   "outputs": [],
   "source": [
    "swimmers_and_boats = dataset1.get_datums(\n",
    "    Filter(\n",
    "        datums=And(\n",
    "            Label.key == \"class\",\n",
    "            Label.value == \"boat\",\n",
    "            Label.value == \"swimmer\",\n",
    "        )\n",
    "    )\n",
    ")\n",
    "assert len(swimmers_and_boats) == 1\n",
    "assert swimmers_and_boats[0].uid == \"uid4\""
   ]
  },
  {
   "attachments": {},
   "cell_type": "markdown",
   "metadata": {},
   "source": [
    "# Example - Swimmers w/ Boats of different sizes.\n",
    "\n",
    "This example demonstrates how to create and query a dataset containing images annotated with boats, swimmers, and fish.\n",
    "\n",
    "In this example, the boats are bounded by either a small bbox (5x5) or large bbox (10x10)."
   ]
  },
  {
   "cell_type": "code",
   "execution_count": 10,
   "metadata": {},
   "outputs": [],
   "source": [
    "contains_boat_swimmer = (\n",
    "    (\"uid1\", False, False),\n",
    "    (\"uid2\", True, False),\n",
    "    (\"uid3\", False, True),\n",
    "    (\"uid4\", True, True),\n",
    ")\n",
    "\n",
    "small_box = Box.from_extrema(0, 5, 0, 5)\n",
    "large_box = Box.from_extrema(0, 10, 0, 10)\n",
    "\n",
    "swimmer = Label(key=\"class\", value=\"swimmer\")\n",
    "boat = Label(key=\"class\", value=\"boat\")\n",
    "fish = Label(key=\"class\", value=\"fish\")\n",
    "\n",
    "dataset2 = Dataset.create(\"dataset2\")\n",
    "for uid, is_large_boat, is_swimmer in contains_boat_swimmer:\n",
    "    dataset2.add_groundtruth(\n",
    "        GroundTruth(\n",
    "            datum=Datum(uid=uid),\n",
    "            annotations=[\n",
    "                Annotation(\n",
    "                    labels=[boat],\n",
    "                    bounding_box=large_box if is_large_boat else small_box,\n",
    "                    is_instance=True,\n",
    "                ),\n",
    "                Annotation(\n",
    "                    labels=[swimmer if is_swimmer else fish],\n",
    "                    bounding_box=small_box,\n",
    "                    is_instance=True,\n",
    "                ),\n",
    "            ],\n",
    "        )\n",
    "    )"
   ]
  },
  {
   "attachments": {},
   "cell_type": "markdown",
   "metadata": {},
   "source": [
    "No swimmer, small boats"
   ]
  },
  {
   "cell_type": "code",
   "execution_count": 11,
   "metadata": {},
   "outputs": [],
   "source": [
    "no_swimmer_small_boats = dataset2.get_datums(\n",
    "    Filter(\n",
    "        datums=And(\n",
    "            Label.key == \"class\",\n",
    "            Label.value != \"swimmer\",\n",
    "        ),\n",
    "        annotations=And(\n",
    "            Label.key == \"class\",\n",
    "            Label.value == \"boat\",\n",
    "            Annotation.bounding_box.area < 50,\n",
    "        ),\n",
    "    )\n",
    ")\n",
    "assert len(no_swimmer_small_boats) == 1\n",
    "assert no_swimmer_small_boats[0].uid == \"uid1\""
   ]
  },
  {
   "attachments": {},
   "cell_type": "markdown",
   "metadata": {},
   "source": [
    "No swimmer, large boats"
   ]
  },
  {
   "cell_type": "code",
   "execution_count": 12,
   "metadata": {},
   "outputs": [],
   "source": [
    "no_swimmer_large_boats = dataset2.get_datums(\n",
    "    Filter(\n",
    "        datums=And(\n",
    "            Label.key == \"class\",\n",
    "            Label.value != \"swimmer\",\n",
    "        ),\n",
    "        annotations=And(\n",
    "            Label.key == \"class\",\n",
    "            Label.value == \"boat\",\n",
    "            Annotation.bounding_box.area > 50,\n",
    "        ),\n",
    "    )\n",
    ")\n",
    "assert len(no_swimmer_large_boats) == 1\n",
    "assert no_swimmer_large_boats[0].uid == \"uid2\""
   ]
  },
  {
   "attachments": {},
   "cell_type": "markdown",
   "metadata": {},
   "source": [
    "Swimmer with small boats"
   ]
  },
  {
   "cell_type": "code",
   "execution_count": 13,
   "metadata": {},
   "outputs": [],
   "source": [
    "swimmer_with_small_boats = dataset2.get_datums(\n",
    "    Filter(\n",
    "        datums=And(\n",
    "            Label.key == \"class\",\n",
    "            Label.value == \"swimmer\",\n",
    "        ),\n",
    "        annotations=And(\n",
    "            Label.key == \"class\",\n",
    "            Label.value == \"boat\",\n",
    "            Annotation.bounding_box.area < 50,\n",
    "        ),\n",
    "    )\n",
    ")\n",
    "assert len(swimmer_with_small_boats) == 1\n",
    "assert swimmer_with_small_boats[0].uid == \"uid3\""
   ]
  },
  {
   "attachments": {},
   "cell_type": "markdown",
   "metadata": {},
   "source": [
    "Swimmer with large boat"
   ]
  },
  {
   "cell_type": "code",
   "execution_count": 14,
   "metadata": {},
   "outputs": [],
   "source": [
    "swimmers_and_boats = dataset2.get_datums(\n",
    "    Filter(\n",
    "        datums=And(\n",
    "            Label.key == \"class\",\n",
    "            Label.value == \"swimmer\",\n",
    "        ),\n",
    "        annotations=And(\n",
    "            Label.key == \"class\",\n",
    "            Label.value == \"boat\",\n",
    "            Annotation.bounding_box.area > 50,\n",
    "        ),\n",
    "    )\n",
    ")\n",
    "assert len(swimmers_and_boats) == 1\n",
    "assert swimmers_and_boats[0].uid == \"uid4\""
   ]
  },
  {
   "attachments": {},
   "cell_type": "markdown",
   "metadata": {},
   "source": [
    "# Example - Geospatial + Time of Year\n",
    "\n",
    "This example demonstrates how to create and query a dataset containing images annotated with a time and region."
   ]
  },
  {
   "cell_type": "code",
   "execution_count": 15,
   "metadata": {},
   "outputs": [],
   "source": [
    "# regions\n",
    "geojson_alaska = Polygon(\n",
    "    [\n",
    "        [\n",
    "            (\n",
    "                -170.7603599457809,\n",
    "                68.84625981507392\n",
    "            ),\n",
    "            (\n",
    "                -170.7603599457809,\n",
    "                58.53538829807735\n",
    "            ),\n",
    "            (\n",
    "                -141.3435514691004,\n",
    "                58.53538829807735\n",
    "            ),\n",
    "            (\n",
    "                -141.3435514691004,\n",
    "                68.84625981507392\n",
    "            ),\n",
    "            (\n",
    "                -170.7603599457809,\n",
    "                68.84625981507392\n",
    "            )\n",
    "        ]\n",
    "    ]\n",
    ")\n",
    "geojson_australia = Polygon(\n",
    "    [\n",
    "        [\n",
    "            (\n",
    "                113.26697231702212,\n",
    "                -12.835622232181265\n",
    "            ),\n",
    "            (\n",
    "                113.26697231702212,\n",
    "                -40.757486033452935\n",
    "            ),\n",
    "            (\n",
    "                157.67091884462127,\n",
    "                -40.757486033452935\n",
    "            ),\n",
    "            (\n",
    "                157.67091884462127,\n",
    "                -12.835622232181265\n",
    "            ),\n",
    "            (\n",
    "                113.26697231702212,\n",
    "                -12.835622232181265\n",
    "            )\n",
    "        ]\n",
    "    ]\n",
    ")\n",
    "\n",
    "# cities\n",
    "geojson_austrailia_sydney = Point((151.27740157112845, -33.78747691475676))\n",
    "geojson_alaska_anchorage = Point((-149.75306358105365, 61.21554843271193))"
   ]
  },
  {
   "cell_type": "code",
   "execution_count": 16,
   "metadata": {},
   "outputs": [],
   "source": [
    "map_idx_to_month = {\n",
    "    1: \"january\",\n",
    "    2: \"february\",\n",
    "    3: \"march\",\n",
    "    4: \"april\",\n",
    "    5: \"may\",\n",
    "    6: \"june\",\n",
    "    7: \"july\",\n",
    "    8: \"august\",\n",
    "    9: \"september\",\n",
    "    10: \"october\",\n",
    "    11: \"november\",\n",
    "    12: \"december\"\n",
    "}\n",
    "\n",
    "vehicle = Label(key=\"class\", value=\"vehicle\")\n",
    "\n",
    "dataset3 = Dataset.create(\"dataset3\")\n",
    "for i in range(1, 13):\n",
    "    dataset3.add_groundtruth(\n",
    "        GroundTruth(\n",
    "            datum=Datum(\n",
    "                uid=f\"alaska_{map_idx_to_month[i]}\", \n",
    "                metadata={\n",
    "                    \"month\": datetime.date(2024, i, 1), \n",
    "                    \"region\": geojson_alaska,\n",
    "                }\n",
    "            ),\n",
    "            annotations=[\n",
    "                Annotation(\n",
    "                    labels=[vehicle],\n",
    "                ),\n",
    "            ],\n",
    "        )\n",
    "    )\n",
    "    dataset3.add_groundtruth(\n",
    "        GroundTruth(\n",
    "            datum=Datum(\n",
    "                uid=f\"austrailia_{map_idx_to_month[i]}\", \n",
    "                metadata={\n",
    "                    \"month\": datetime.date(2024, i, 1),\n",
    "                    \"region\": geojson_australia\n",
    "                }\n",
    "            ),\n",
    "            annotations=[\n",
    "                Annotation(\n",
    "                    labels=[vehicle],\n",
    "                ),\n",
    "            ],\n",
    "        )\n",
    "    )"
   ]
  },
  {
   "attachments": {},
   "cell_type": "markdown",
   "metadata": {},
   "source": [
    "Find datums where the region is experiencing summer.\n",
    "\n",
    "Northern Hemisphere (June - September)\n",
    "Southern Hemisphere (December - March)"
   ]
  },
  {
   "cell_type": "code",
   "execution_count": 21,
   "metadata": {},
   "outputs": [
    {
     "data": {
      "text/plain": [
       "[Datum({'uid': 'austrailia_december', 'metadata': {'month': {'type': 'date', 'value': '2024-12-01'}, 'region': {'type': 'geojson', 'value': {'type': 'Polygon', 'coordinates': [[(113.26697231702212, -12.835622232181265), (113.26697231702212, -40.757486033452935), (157.67091884462127, -40.757486033452935), (157.67091884462127, -12.835622232181265), (113.26697231702212, -12.835622232181265)]]}}}}),\n",
       " Datum({'uid': 'alaska_september', 'metadata': {'month': {'type': 'date', 'value': '2024-09-01'}, 'region': {'type': 'geojson', 'value': {'type': 'Polygon', 'coordinates': [[(-170.7603599457809, 68.84625981507392), (-170.7603599457809, 58.53538829807735), (-141.3435514691004, 58.53538829807735), (-141.3435514691004, 68.84625981507392), (-170.7603599457809, 68.84625981507392)]]}}}}),\n",
       " Datum({'uid': 'alaska_august', 'metadata': {'month': {'type': 'date', 'value': '2024-08-01'}, 'region': {'type': 'geojson', 'value': {'type': 'Polygon', 'coordinates': [[(-170.7603599457809, 68.84625981507392), (-170.7603599457809, 58.53538829807735), (-141.3435514691004, 58.53538829807735), (-141.3435514691004, 68.84625981507392), (-170.7603599457809, 68.84625981507392)]]}}}}),\n",
       " Datum({'uid': 'alaska_july', 'metadata': {'month': {'type': 'date', 'value': '2024-07-01'}, 'region': {'type': 'geojson', 'value': {'type': 'Polygon', 'coordinates': [[(-170.7603599457809, 68.84625981507392), (-170.7603599457809, 58.53538829807735), (-141.3435514691004, 58.53538829807735), (-141.3435514691004, 68.84625981507392), (-170.7603599457809, 68.84625981507392)]]}}}}),\n",
       " Datum({'uid': 'alaska_june', 'metadata': {'month': {'type': 'date', 'value': '2024-06-01'}, 'region': {'type': 'geojson', 'value': {'type': 'Polygon', 'coordinates': [[(-170.7603599457809, 68.84625981507392), (-170.7603599457809, 58.53538829807735), (-141.3435514691004, 58.53538829807735), (-141.3435514691004, 68.84625981507392), (-170.7603599457809, 68.84625981507392)]]}}}}),\n",
       " Datum({'uid': 'austrailia_march', 'metadata': {'month': {'type': 'date', 'value': '2024-03-01'}, 'region': {'type': 'geojson', 'value': {'type': 'Polygon', 'coordinates': [[(113.26697231702212, -12.835622232181265), (113.26697231702212, -40.757486033452935), (157.67091884462127, -40.757486033452935), (157.67091884462127, -12.835622232181265), (113.26697231702212, -12.835622232181265)]]}}}}),\n",
       " Datum({'uid': 'austrailia_february', 'metadata': {'month': {'type': 'date', 'value': '2024-02-01'}, 'region': {'type': 'geojson', 'value': {'type': 'Polygon', 'coordinates': [[(113.26697231702212, -12.835622232181265), (113.26697231702212, -40.757486033452935), (157.67091884462127, -40.757486033452935), (157.67091884462127, -12.835622232181265), (113.26697231702212, -12.835622232181265)]]}}}}),\n",
       " Datum({'uid': 'austrailia_january', 'metadata': {'month': {'type': 'date', 'value': '2024-01-01'}, 'region': {'type': 'geojson', 'value': {'type': 'Polygon', 'coordinates': [[(113.26697231702212, -12.835622232181265), (113.26697231702212, -40.757486033452935), (157.67091884462127, -40.757486033452935), (157.67091884462127, -12.835622232181265), (113.26697231702212, -12.835622232181265)]]}}}})]"
      ]
     },
     "execution_count": 21,
     "metadata": {},
     "output_type": "execute_result"
    }
   ],
   "source": [
    "march = datetime.date(2024, 3, 1)\n",
    "june = datetime.date(2024, 6, 1)\n",
    "september = datetime.date(2024, 9, 1)\n",
    "december = datetime.date(2024, 12, 1)\n",
    "\n",
    "summer_time = dataset3.get_datums(\n",
    "    Filter(\n",
    "        datums=Or(\n",
    "            And(\n",
    "                Datum.metadata[\"month\"] >= june,\n",
    "                Datum.metadata[\"month\"] <= september,\n",
    "                Datum.metadata[\"region\"].intersects(geojson_alaska)\n",
    "            ),\n",
    "            And(\n",
    "                Or(\n",
    "                    Datum.metadata[\"month\"] >= december,\n",
    "                    Datum.metadata[\"month\"] <= march,\n",
    "                ),\n",
    "                Datum.metadata[\"region\"].intersects(geojson_australia)\n",
    "            ),\n",
    "        )\n",
    "    )\n",
    ")\n",
    "summer_time"
   ]
  }
 ],
 "metadata": {
  "kernelspec": {
   "display_name": ".env-velour",
   "language": "python",
   "name": "python3"
  },
  "language_info": {
   "codemirror_mode": {
    "name": "ipython",
    "version": 3
   },
   "file_extension": ".py",
   "mimetype": "text/x-python",
   "name": "python",
   "nbconvert_exporter": "python",
   "pygments_lexer": "ipython3",
   "version": "3.10.12"
  },
  "orig_nbformat": 4
 },
 "nbformat": 4,
 "nbformat_minor": 2
}
