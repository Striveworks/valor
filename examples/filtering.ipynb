{
 "cells": [
  {
   "cell_type": "code",
   "execution_count": 1,
   "metadata": {},
   "outputs": [
    {
     "name": "stderr",
     "output_type": "stream",
     "text": [
      "WARNING:root:The Valor client version (0.27.2.dev39+g4b3249f7.d20240614) is newer than the Valor API version 0.27.2.dev37+g6c9eaddf\t==========================================================================================\n",
      "\t== Running with a mismatched client != API version may have unexpected results.\n",
      "\t== Please update your client to \u001b[1;0.27.2.dev37+g6c9eaddf\u001b[0;31m to avoid aberrant behavior.\n",
      "\t==========================================================================================\n",
      "\u001b[0m\n"
     ]
    },
    {
     "name": "stdout",
     "output_type": "stream",
     "text": [
      "Successfully connected to host at http://localhost:8000/\n"
     ]
    }
   ],
   "source": [
    "from valor import connect\n",
    "connect(\"http://localhost:8000\")"
   ]
  },
  {
   "cell_type": "code",
   "execution_count": 2,
   "metadata": {},
   "outputs": [],
   "source": [
    "from valor import (\n",
    "    Annotation,\n",
    "    Client,\n",
    "    Dataset,\n",
    "    Datum,\n",
    "    Filter,\n",
    "    GroundTruth,\n",
    "    Label,\n",
    ")\n",
    "from valor.schemas import And, Box\n",
    "\n",
    "client = Client()"
   ]
  },
  {
   "attachments": {},
   "cell_type": "markdown",
   "metadata": {},
   "source": [
    "# Example - Swimmers and boats.\n",
    "\n",
    "This example demonstrates how to create and query a dataset containing images annotated with boats, swimmers, and fish."
   ]
  },
  {
   "cell_type": "code",
   "execution_count": 3,
   "metadata": {},
   "outputs": [],
   "source": [
    "# Define the data for the example\n",
    "contains_boat_swimmer = [\n",
    "    (\"uid1\", False, False),\n",
    "    (\"uid2\", True, False),\n",
    "    (\"uid3\", False, True),\n",
    "    (\"uid4\", True, True),\n",
    "]\n",
    "\n",
    "# Create a bounding box for annotations\n",
    "box = Box.from_extrema(0, 10, 0, 10)\n",
    "\n",
    "# Define labels for annotations\n",
    "swimmer_label = Label(key=\"class\", value=\"swimmer\")\n",
    "boat_label = Label(key=\"class\", value=\"boat\")\n",
    "fish_label = Label(key=\"class\", value=\"fish\")\n",
    "\n",
    "# Create a dataset for the images\n",
    "dataset1 = Dataset.create(\"dataset1\")\n",
    "\n",
    "# Add annotations to the dataset\n",
    "for uid, is_boat, is_swimmer in contains_boat_swimmer:\n",
    "    annotations = [\n",
    "        Annotation(\n",
    "            labels=[boat_label if is_boat else fish_label],\n",
    "            bounding_box=box,\n",
    "            is_instance=True,\n",
    "        ),\n",
    "        Annotation(\n",
    "            labels=[swimmer_label if is_swimmer else fish_label],\n",
    "            bounding_box=box,\n",
    "            is_instance=True,\n",
    "        ),\n",
    "    ]\n",
    "    dataset1.add_groundtruth(GroundTruth(datum=Datum(uid=uid), annotations=annotations))"
   ]
  },
  {
   "attachments": {},
   "cell_type": "markdown",
   "metadata": {},
   "source": [
    "Show all datums in the dataset."
   ]
  },
  {
   "cell_type": "code",
   "execution_count": 4,
   "metadata": {},
   "outputs": [
    {
     "data": {
      "text/plain": [
       "[Datum({'uid': 'uid4', 'metadata': {}}),\n",
       " Datum({'uid': 'uid3', 'metadata': {}}),\n",
       " Datum({'uid': 'uid2', 'metadata': {}}),\n",
       " Datum({'uid': 'uid1', 'metadata': {}})]"
      ]
     },
     "execution_count": 4,
     "metadata": {},
     "output_type": "execute_result"
    }
   ],
   "source": [
    "dataset1.get_datums()"
   ]
  },
  {
   "attachments": {},
   "cell_type": "markdown",
   "metadata": {},
   "source": [
    "Query the dataset for images containing just fish"
   ]
  },
  {
   "cell_type": "code",
   "execution_count": 5,
   "metadata": {},
   "outputs": [],
   "source": [
    "just_fish = dataset1.get_datums(\n",
    "    Filter(\n",
    "        datums=And(\n",
    "            Label.key == \"class\",\n",
    "            Label.value != \"boat\",\n",
    "            Label.value != \"swimmer\",\n",
    "        )\n",
    "    )\n",
    ")\n",
    "assert len(just_fish) == 1\n",
    "assert just_fish[0].uid == \"uid1\""
   ]
  },
  {
   "attachments": {},
   "cell_type": "markdown",
   "metadata": {},
   "source": [
    "Query the dataset for images containing no swimmers (only boats)"
   ]
  },
  {
   "cell_type": "code",
   "execution_count": 6,
   "metadata": {},
   "outputs": [],
   "source": [
    "no_swimmers = dataset1.get_datums(\n",
    "    Filter(\n",
    "        datums=And(\n",
    "            Label.key == \"class\",\n",
    "            Label.value == \"boat\",\n",
    "            Label.value != \"swimmer\",\n",
    "        )\n",
    "    )\n",
    ")\n",
    "assert len(no_swimmers) == 1\n",
    "assert no_swimmers[0].uid == \"uid2\""
   ]
  },
  {
   "attachments": {},
   "cell_type": "markdown",
   "metadata": {},
   "source": [
    "Query the dataset for images containing no boats (only swimmers)"
   ]
  },
  {
   "cell_type": "code",
   "execution_count": 7,
   "metadata": {},
   "outputs": [],
   "source": [
    "no_boats = dataset1.get_datums(\n",
    "    Filter(\n",
    "        datums=And(\n",
    "            Label.key == \"class\",\n",
    "            Label.value != \"boat\",\n",
    "            Label.value == \"swimmer\",\n",
    "        )\n",
    "    )\n",
    ")\n",
    "assert len(no_boats) == 1\n",
    "assert no_boats[0].uid == \"uid3\""
   ]
  },
  {
   "attachments": {},
   "cell_type": "markdown",
   "metadata": {},
   "source": [
    "Query the dataset for images containing both swimmers and boats"
   ]
  },
  {
   "cell_type": "code",
   "execution_count": 8,
   "metadata": {},
   "outputs": [],
   "source": [
    "swimmers_and_boats = dataset1.get_datums(\n",
    "    Filter(\n",
    "        datums=And(\n",
    "            Label.key == \"class\",\n",
    "            Label.value == \"boat\",\n",
    "            Label.value == \"swimmer\",\n",
    "        )\n",
    "    )\n",
    ")\n",
    "assert len(swimmers_and_boats) == 1\n",
    "assert swimmers_and_boats[0].uid == \"uid4\""
   ]
  },
  {
   "attachments": {},
   "cell_type": "markdown",
   "metadata": {},
   "source": [
    "# Example - Swimmers w/ Boats of different sizes.\n",
    "\n",
    "This example demonstrates how to create and query a dataset containing images annotated with boats, swimmers, and fish.\n",
    "\n",
    "In this example, the boats are bounded by either a small bbox (5x5) or large bbox (10x10)."
   ]
  },
  {
   "cell_type": "code",
   "execution_count": 9,
   "metadata": {},
   "outputs": [],
   "source": [
    "contains_boat_swimmer = (\n",
    "    (\"uid1\", False, False),\n",
    "    (\"uid2\", True, False),\n",
    "    (\"uid3\", False, True),\n",
    "    (\"uid4\", True, True),\n",
    ")\n",
    "\n",
    "small_box = Box.from_extrema(0, 5, 0, 5)\n",
    "large_box = Box.from_extrema(0, 10, 0, 10)\n",
    "\n",
    "swimmer = Label(key=\"class\", value=\"swimmer\")\n",
    "boat = Label(key=\"class\", value=\"boat\")\n",
    "fish = Label(key=\"class\", value=\"fish\")\n",
    "\n",
    "dataset2 = Dataset.create(\"dataset2\")\n",
    "for uid, is_large_boat, is_swimmer in contains_boat_swimmer:\n",
    "    dataset2.add_groundtruth(\n",
    "        GroundTruth(\n",
    "            datum=Datum(uid=uid),\n",
    "            annotations=[\n",
    "                Annotation(\n",
    "                    labels=[boat],\n",
    "                    bounding_box=large_box if is_large_boat else small_box,\n",
    "                    is_instance=True,\n",
    "                ),\n",
    "                Annotation(\n",
    "                    labels=[swimmer if is_swimmer else fish],\n",
    "                    bounding_box=small_box,\n",
    "                    is_instance=True,\n",
    "                ),\n",
    "            ],\n",
    "        )\n",
    "    )"
   ]
  },
  {
   "attachments": {},
   "cell_type": "markdown",
   "metadata": {},
   "source": [
    "No swimmer, small boats"
   ]
  },
  {
   "cell_type": "code",
   "execution_count": 10,
   "metadata": {},
   "outputs": [],
   "source": [
    "no_swimmer_small_boats = dataset2.get_datums(\n",
    "    Filter(\n",
    "        datums=And(\n",
    "            Label.key == \"class\",\n",
    "            Label.value != \"swimmer\",\n",
    "        ),\n",
    "        annotations=And(\n",
    "            Label.key == \"class\",\n",
    "            Label.value == \"boat\",\n",
    "            Annotation.bounding_box.area < 50,\n",
    "        ),\n",
    "    )\n",
    ")\n",
    "assert len(no_swimmer_small_boats) == 1\n",
    "assert no_swimmer_small_boats[0].uid == \"uid1\""
   ]
  },
  {
   "attachments": {},
   "cell_type": "markdown",
   "metadata": {},
   "source": [
    "No swimmer, large boats"
   ]
  },
  {
   "cell_type": "code",
   "execution_count": 11,
   "metadata": {},
   "outputs": [],
   "source": [
    "no_swimmer_large_boats = dataset2.get_datums(\n",
    "    Filter(\n",
    "        datums=And(\n",
    "            Label.key == \"class\",\n",
    "            Label.value != \"swimmer\",\n",
    "        ),\n",
    "        annotations=And(\n",
    "            Label.key == \"class\",\n",
    "            Label.value == \"boat\",\n",
    "            Annotation.bounding_box.area > 50,\n",
    "        ),\n",
    "    )\n",
    ")\n",
    "assert len(no_swimmer_large_boats) == 1\n",
    "assert no_swimmer_large_boats[0].uid == \"uid2\""
   ]
  },
  {
   "attachments": {},
   "cell_type": "markdown",
   "metadata": {},
   "source": [
    "Swimmer with small boats"
   ]
  },
  {
   "cell_type": "code",
   "execution_count": 12,
   "metadata": {},
   "outputs": [],
   "source": [
    "swimmer_with_small_boats = dataset2.get_datums(\n",
    "    Filter(\n",
    "        datums=And(\n",
    "            Label.key == \"class\",\n",
    "            Label.value == \"swimmer\",\n",
    "        ),\n",
    "        annotations=And(\n",
    "            Label.key == \"class\",\n",
    "            Label.value == \"boat\",\n",
    "            Annotation.bounding_box.area < 50,\n",
    "        ),\n",
    "    )\n",
    ")\n",
    "assert len(swimmer_with_small_boats) == 1\n",
    "assert swimmer_with_small_boats[0].uid == \"uid3\""
   ]
  },
  {
   "attachments": {},
   "cell_type": "markdown",
   "metadata": {},
   "source": [
    "Swimmer with large boat"
   ]
  },
  {
   "cell_type": "code",
   "execution_count": 13,
   "metadata": {},
   "outputs": [],
   "source": [
    "swimmers_and_boats = dataset2.get_datums(\n",
    "    Filter(\n",
    "        datums=And(\n",
    "            Label.key == \"class\",\n",
    "            Label.value == \"swimmer\",\n",
    "        ),\n",
    "        annotations=And(\n",
    "            Label.key == \"class\",\n",
    "            Label.value == \"boat\",\n",
    "            Annotation.bounding_box.area > 50,\n",
    "        ),\n",
    "    )\n",
    ")\n",
    "assert len(swimmers_and_boats) == 1\n",
    "assert swimmers_and_boats[0].uid == \"uid4\""
   ]
  }
 ],
 "metadata": {
  "kernelspec": {
   "display_name": ".env-velour",
   "language": "python",
   "name": "python3"
  },
  "language_info": {
   "codemirror_mode": {
    "name": "ipython",
    "version": 3
   },
   "file_extension": ".py",
   "mimetype": "text/x-python",
   "name": "python",
   "nbconvert_exporter": "python",
   "pygments_lexer": "ipython3",
   "version": "3.10.12"
  },
  "orig_nbformat": 4
 },
 "nbformat": 4,
 "nbformat_minor": 2
}
