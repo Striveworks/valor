{
 "cells": [
  {
   "cell_type": "code",
   "execution_count": 1,
   "metadata": {},
   "outputs": [
    {
     "name": "stderr",
     "output_type": "stream",
     "text": [
      "/home/czaloom/valor/.env-velour/lib/python3.10/site-packages/tqdm/auto.py:21: TqdmWarning: IProgress not found. Please update jupyter and ipywidgets. See https://ipywidgets.readthedocs.io/en/stable/user_install.html\n",
      "  from .autonotebook import tqdm as notebook_tqdm\n"
     ]
    }
   ],
   "source": [
    "import numpy as np\n",
    "import pandas as pd\n",
    "from collections import defaultdict\n",
    "from scipy.spatial.distance import cdist\n",
    "from scipy.stats import ks_2samp, cramervonmises_2samp\n",
    "\n",
    "from datasets import load_dataset\n",
    "from transformers import AutoImageProcessor, AutoModel\n",
    "\n",
    "tiny_imagenet = load_dataset('zh-plus/tiny-imagenet', split='valid')\n",
    "processor = AutoImageProcessor.from_pretrained('facebook/dinov2-small')\n",
    "model = AutoModel.from_pretrained('facebook/dinov2-small')"
   ]
  },
  {
   "cell_type": "code",
   "execution_count": 2,
   "metadata": {},
   "outputs": [],
   "source": [
    "def embed(x):\n",
    "    inputs = processor(images=x, return_tensors=\"pt\")\n",
    "    outputs = model(**inputs)\n",
    "    retval = (\n",
    "        outputs\n",
    "        .last_hidden_state\n",
    "        .flatten()\n",
    "        .detach()\n",
    "        .numpy()\n",
    "    )\n",
    "    retval = retval[np.newaxis, :]\n",
    "    return retval"
   ]
  },
  {
   "cell_type": "code",
   "execution_count": 3,
   "metadata": {},
   "outputs": [],
   "source": [
    "def compute_distances(A, B):\n",
    "    return np.array(\n",
    "        [\n",
    "            cdist(a, b)\n",
    "            for a in A\n",
    "            for b in B\n",
    "        ]\n",
    "    )\n",
    "\n",
    "def compute_self_distances(A):\n",
    "    return np.array(\n",
    "        [\n",
    "            cdist(a, b)\n",
    "            for a_idx, a in enumerate(A)\n",
    "            for b_idx, b in enumerate(A)\n",
    "            if a_idx != b_idx\n",
    "        ]\n",
    "    )"
   ]
  },
  {
   "cell_type": "code",
   "execution_count": 4,
   "metadata": {},
   "outputs": [],
   "source": [
    "def compute_metrics(data, classes, func):\n",
    "    pvalues = defaultdict(dict)\n",
    "    statistics = defaultdict(dict)\n",
    "    \n",
    "    def cast_and_round(x):\n",
    "        x = float(x)\n",
    "        return round(x,3)\n",
    "\n",
    "    for i, query in enumerate(data):\n",
    "        for j, reference in enumerate(data):\n",
    "            reference_distance = compute_self_distances(reference)\n",
    "            if i == j:\n",
    "                # split the set in two and measure how similarly distributed it is.\n",
    "                split_idx = len(reference_distance) // 2\n",
    "                metric = func(reference_distance[:split_idx], reference_distance[split_idx:])\n",
    "            else:\n",
    "                query_distance = compute_distances(reference, query)\n",
    "                metric = func(reference_distance, query_distance)\n",
    "\n",
    "            label_i = classes[i]\n",
    "            label_j = classes[j]\n",
    "            pvalues[label_i][label_j] = cast_and_round(metric.pvalue)\n",
    "            statistics[label_i][label_j] = cast_and_round(metric.statistic)\n",
    "            \n",
    "    return (pvalues, statistics)\n",
    "\n",
    "def compute_cvm(data, classes):\n",
    "    return compute_metrics(data, classes, func=cramervonmises_2samp)\n",
    "\n",
    "def compute_ks(data, classes):\n",
    "    return compute_metrics(data, classes, func=ks_2samp)"
   ]
  },
  {
   "cell_type": "code",
   "execution_count": 5,
   "metadata": {},
   "outputs": [],
   "source": [
    "classes = {\n",
    "    0: \"fish\",\n",
    "    1: \"ground_spider\",\n",
    "    2: \"frog\",\n",
    "    5: \"snake\",\n",
    "    8: \"web_spider\",\n",
    "    19: \"penguin\"\n",
    "}\n",
    "\n",
    "embeddings = []\n",
    "for label in classes.keys():\n",
    "    embeddings.append(\n",
    "        [\n",
    "            embed(image['image'])\n",
    "            for image in tiny_imagenet \n",
    "            if image['label'] == label\n",
    "        ]\n",
    "    )"
   ]
  },
  {
   "cell_type": "code",
   "execution_count": 6,
   "metadata": {},
   "outputs": [
    {
     "data": {
      "text/plain": [
       "(1, 98688)"
      ]
     },
     "execution_count": 6,
     "metadata": {},
     "output_type": "execute_result"
    }
   ],
   "source": [
    "embeddings[0][0].shape"
   ]
  },
  {
   "cell_type": "code",
   "execution_count": 7,
   "metadata": {},
   "outputs": [
    {
     "name": "stderr",
     "output_type": "stream",
     "text": [
      "/tmp/ipykernel_1889/2270730367.py:6: DeprecationWarning: Conversion of an array with ndim > 0 to a scalar is deprecated, and will error in future. Ensure you extract a single element from your array before performing this operation. (Deprecated NumPy 1.25.)\n",
      "  x = float(x)\n"
     ]
    }
   ],
   "source": [
    "labels = list(classes.values())\n",
    "\n",
    "cvm_pvalues, cvm_statistics = compute_cvm(embeddings, labels)\n",
    "ks_pvalues, ks_statistics = compute_ks(embeddings, labels)"
   ]
  },
  {
   "cell_type": "code",
   "execution_count": 8,
   "metadata": {},
   "outputs": [],
   "source": [
    "col_ix = pd.MultiIndex.from_product([['Reference'], labels]) \n",
    "row_ix = pd.MultiIndex.from_product([['Query'], labels])"
   ]
  },
  {
   "cell_type": "code",
   "execution_count": 9,
   "metadata": {},
   "outputs": [
    {
     "name": "stdout",
     "output_type": "stream",
     "text": [
      "Cramer-Von Mises\n",
      " === statistic ===\n",
      "                    Reference                                             \\\n",
      "                         fish ground_spider     frog    snake web_spider   \n",
      "Query fish              0.294       277.493  214.820  283.315    297.393   \n",
      "      ground_spider   271.570         0.229   84.414  179.595    226.174   \n",
      "      frog            167.965        53.510    0.167  149.982    215.313   \n",
      "      snake           119.521        26.432   25.786    0.089    144.239   \n",
      "      web_spider      297.914       237.630  254.888  297.373      1.901   \n",
      "      penguin         131.408       151.044  129.168  163.965    198.624   \n",
      "\n",
      "                              \n",
      "                     penguin  \n",
      "Query fish           320.182  \n",
      "      ground_spider  336.562  \n",
      "      frog           307.253  \n",
      "      snake          216.062  \n",
      "      web_spider     357.284  \n",
      "      penguin          5.812  \n",
      " === p-values ===\n",
      "                    Reference                                               \n",
      "                         fish ground_spider   frog  snake web_spider penguin\n",
      "Query fish              0.141         0.000  0.000  0.000        0.0     0.0\n",
      "      ground_spider     0.000         0.218  0.000  0.000        0.0     0.0\n",
      "      frog              0.000         0.000  0.341  0.000        0.0     0.0\n",
      "      snake             0.000         0.000  0.000  0.644        0.0     0.0\n",
      "      web_spider        0.000         0.000  0.000  0.000        0.0     0.0\n",
      "      penguin           0.000         0.000  0.000  0.000        0.0     0.0\n"
     ]
    }
   ],
   "source": [
    "cvm_statistic_df = pd.DataFrame(cvm_statistics)\n",
    "cvm_statistic_df = cvm_statistic_df.set_index(row_ix)\n",
    "cvm_statistic_df.columns = col_ix\n",
    "\n",
    "cvm_pvalue_df = pd.DataFrame(cvm_pvalues)\n",
    "cvm_pvalue_df = cvm_pvalue_df.set_index(row_ix)\n",
    "cvm_pvalue_df.columns = col_ix\n",
    "\n",
    "print(\"Cramer-Von Mises\")\n",
    "print(\" === statistic ===\")\n",
    "print(cvm_statistic_df)\n",
    "print(\" === p-values ===\")\n",
    "print(cvm_pvalue_df)"
   ]
  },
  {
   "cell_type": "code",
   "execution_count": 10,
   "metadata": {},
   "outputs": [
    {
     "name": "stdout",
     "output_type": "stream",
     "text": [
      "Kolmgorov-Smirnov\n",
      " === statistic ===\n",
      "                    Reference                                               \n",
      "                         fish ground_spider   frog  snake web_spider penguin\n",
      "Query fish              0.047         0.702  0.616  0.712      0.726   0.763\n",
      "      ground_spider     0.694         0.038  0.365  0.544      0.619   0.787\n",
      "      frog              0.520         0.280  0.031  0.484      0.593   0.730\n",
      "      snake             0.440         0.216  0.207  0.026      0.491   0.599\n",
      "      web_spider        0.731         0.638  0.663  0.730      0.090   0.836\n",
      "      penguin           0.471         0.501  0.461  0.522      0.594   0.144\n",
      "\n",
      " === p-values ===\n",
      "                    Reference                                               \n",
      "                         fish ground_spider   frog  snake web_spider penguin\n",
      "Query fish              0.128         0.000  0.000  0.000        0.0     0.0\n",
      "      ground_spider     0.000         0.354  0.000  0.000        0.0     0.0\n",
      "      frog              0.000         0.000  0.598  0.000        0.0     0.0\n",
      "      snake             0.000         0.000  0.000  0.798        0.0     0.0\n",
      "      web_spider        0.000         0.000  0.000  0.000        0.0     0.0\n",
      "      penguin           0.000         0.000  0.000  0.000        0.0     0.0\n"
     ]
    }
   ],
   "source": [
    "ks_statistic_df = pd.DataFrame(ks_statistics)\n",
    "ks_statistic_df = ks_statistic_df.set_index(row_ix)\n",
    "ks_statistic_df.columns = col_ix\n",
    "\n",
    "ks_pvalue_df = pd.DataFrame(ks_pvalues)\n",
    "ks_pvalue_df = ks_pvalue_df.set_index(row_ix)\n",
    "ks_pvalue_df.columns = col_ix\n",
    "\n",
    "print(\"Kolmgorov-Smirnov\")\n",
    "print(\" === statistic ===\")\n",
    "print(ks_statistic_df)\n",
    "print()\n",
    "print(\" === p-values ===\")\n",
    "print(ks_pvalue_df)"
   ]
  }
 ],
 "metadata": {
  "kernelspec": {
   "display_name": ".env-velour",
   "language": "python",
   "name": "python3"
  },
  "language_info": {
   "codemirror_mode": {
    "name": "ipython",
    "version": 3
   },
   "file_extension": ".py",
   "mimetype": "text/x-python",
   "name": "python",
   "nbconvert_exporter": "python",
   "pygments_lexer": "ipython3",
   "version": "3.10.12"
  },
  "orig_nbformat": 4
 },
 "nbformat": 4,
 "nbformat_minor": 2
}
