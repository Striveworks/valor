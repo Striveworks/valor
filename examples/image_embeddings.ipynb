{
 "cells": [
  {
   "cell_type": "code",
   "execution_count": 1,
   "metadata": {},
   "outputs": [
    {
     "name": "stderr",
     "output_type": "stream",
     "text": [
      "/home/czaloom/valor/.env-velour/lib/python3.10/site-packages/tqdm/auto.py:21: TqdmWarning: IProgress not found. Please update jupyter and ipywidgets. See https://ipywidgets.readthedocs.io/en/stable/user_install.html\n",
      "  from .autonotebook import tqdm as notebook_tqdm\n"
     ]
    }
   ],
   "source": [
    "import numpy as np\n",
    "import pandas as pd\n",
    "from collections import defaultdict\n",
    "from scipy.spatial.distance import cdist\n",
    "from scipy.stats import ks_2samp, cramervonmises_2samp\n",
    "\n",
    "from datasets import load_dataset\n",
    "from transformers import AutoImageProcessor, AutoModel\n",
    "\n",
    "tiny_imagenet = load_dataset('zh-plus/tiny-imagenet', split='valid')\n",
    "processor = AutoImageProcessor.from_pretrained('facebook/dinov2-small')\n",
    "model = AutoModel.from_pretrained('facebook/dinov2-small')"
   ]
  },
  {
   "cell_type": "code",
   "execution_count": 2,
   "metadata": {},
   "outputs": [],
   "source": [
    "images0 = [image['image'] for image in tiny_imagenet if image['label'] == 0]\n",
    "images1 = [image['image'] for image in tiny_imagenet if image['label'] == 1]\n",
    "images2 = [image['image'] for image in tiny_imagenet if image['label'] == 2]"
   ]
  },
  {
   "cell_type": "code",
   "execution_count": 3,
   "metadata": {},
   "outputs": [],
   "source": [
    "def embed(x):\n",
    "    inputs = processor(images=x, return_tensors=\"pt\")\n",
    "    outputs = model(**inputs)\n",
    "    retval = (\n",
    "        outputs\n",
    "        .last_hidden_state\n",
    "        .flatten()\n",
    "        .detach()\n",
    "        .numpy()\n",
    "    )\n",
    "    retval = retval[np.newaxis, :]\n",
    "    return retval\n",
    "\n",
    "embeddings0 = [embed(x) for x in images0]\n",
    "embeddings1 = [embed(x) for x in images1]\n",
    "embeddings2 = [embed(x) for x in images2]"
   ]
  },
  {
   "cell_type": "code",
   "execution_count": 4,
   "metadata": {},
   "outputs": [
    {
     "data": {
      "text/plain": [
       "(1, 98688)"
      ]
     },
     "execution_count": 4,
     "metadata": {},
     "output_type": "execute_result"
    }
   ],
   "source": [
    "embeddings0[0].shape"
   ]
  },
  {
   "cell_type": "code",
   "execution_count": 5,
   "metadata": {},
   "outputs": [
    {
     "name": "stderr",
     "output_type": "stream",
     "text": [
      "/tmp/ipykernel_9358/3909239159.py:15: DeprecationWarning: Conversion of an array with ndim > 0 to a scalar is deprecated, and will error in future. Ensure you extract a single element from your array before performing this operation. (Deprecated NumPy 1.25.)\n",
      "  x = float(x)\n"
     ]
    }
   ],
   "source": [
    "def compute_distances(A, B):\n",
    "    return np.array(\n",
    "        [\n",
    "            cdist(a, b)\n",
    "            for a in A\n",
    "            for b in B\n",
    "        ]\n",
    "    )\n",
    "\n",
    "def compute_metrics(data, func = cramervonmises_2samp):\n",
    "    pvalues = defaultdict(dict)\n",
    "    statistics = defaultdict(dict)\n",
    "    \n",
    "    def cast_and_round(x):\n",
    "        x = float(x)\n",
    "        return round(x,3)\n",
    "\n",
    "    for i, query in enumerate(data):\n",
    "        for j, reference in enumerate(data):\n",
    "            reference_distance = compute_distances(reference, reference)\n",
    "            if i == j:\n",
    "                # split the set in two and measure how similarly distributed it is.\n",
    "                split_idx = len(reference_distance) // 2\n",
    "                metric = func(reference_distance[:split_idx], reference_distance[split_idx:])\n",
    "            else:\n",
    "                query_distance = compute_distances(reference, query)\n",
    "                metric = func(reference_distance, query_distance)\n",
    "            pvalues[i][j] = cast_and_round(metric.pvalue)\n",
    "            statistics[i][j] = cast_and_round(metric.statistic)\n",
    "    return (pvalues, statistics)\n",
    "\n",
    "def compute_cvm(data):\n",
    "    return compute_metrics(data, func=cramervonmises_2samp)\n",
    "\n",
    "def compute_ks(data):\n",
    "    return compute_metrics(data, func=ks_2samp)\n",
    "\n",
    "data = [embeddings0, embeddings1, embeddings2]\n",
    "cvm_pvalues, cvm_statistics = compute_cvm(data)\n",
    "ks_pvalues, ks_statistics = compute_ks(data)"
   ]
  },
  {
   "cell_type": "code",
   "execution_count": 6,
   "metadata": {},
   "outputs": [
    {
     "name": "stdout",
     "output_type": "stream",
     "text": [
      "Cramer-Von Mises\n",
      " === statistic ===\n",
      "        Reference                  \n",
      "                0        1        2\n",
      "Query 0     0.282  282.536  220.019\n",
      "      1   276.491    0.220   88.925\n",
      "      2   172.883   57.489    0.161\n",
      "\n",
      " === p-value ===\n",
      "        Reference              \n",
      "                0      1      2\n",
      "Query 0     0.152  0.000  0.000\n",
      "      1     0.000  0.233  0.000\n",
      "      2     0.000  0.000  0.359\n"
     ]
    }
   ],
   "source": [
    "col_ix = pd.MultiIndex.from_product([['Reference'], [0,1,2]]) \n",
    "row_ix = pd.MultiIndex.from_product([['Query'], [0,1,2]])\n",
    "\n",
    "query_cvm_statistic_df = pd.DataFrame(cvm_statistics)\n",
    "query_cvm_statistic_df = query_cvm_statistic_df.set_index(row_ix)\n",
    "query_cvm_statistic_df.columns = col_ix\n",
    "\n",
    "query_cvm_pvalue_df = pd.DataFrame(cvm_pvalues)\n",
    "query_cvm_pvalue_df = query_cvm_pvalue_df.set_index(row_ix)\n",
    "query_cvm_pvalue_df.columns = col_ix\n",
    "\n",
    "print(\"Cramer-Von Mises\")\n",
    "print(\" === statistic ===\")\n",
    "print(query_cvm_statistic_df)\n",
    "print()\n",
    "print(\" === p-value ===\")\n",
    "print(query_cvm_pvalue_df)"
   ]
  },
  {
   "cell_type": "code",
   "execution_count": 7,
   "metadata": {},
   "outputs": [
    {
     "name": "stdout",
     "output_type": "stream",
     "text": [
      "Kolmgorov-Smirnov\n",
      " === statistic ===\n",
      "        Reference              \n",
      "                0      1      2\n",
      "Query 0     0.046  0.706  0.620\n",
      "      1     0.697  0.037  0.372\n",
      "      2     0.525  0.288  0.030\n",
      "\n",
      " === p-value ===\n",
      "        Reference              \n",
      "                0      1      2\n",
      "Query 0     0.046  0.706  0.620\n",
      "      1     0.697  0.037  0.372\n",
      "      2     0.525  0.288  0.030\n"
     ]
    }
   ],
   "source": [
    "col_ix = pd.MultiIndex.from_product([['Reference'], [0,1,2]]) \n",
    "row_ix = pd.MultiIndex.from_product([['Query'], [0,1,2]])\n",
    "\n",
    "query_cvm_statistic_df = pd.DataFrame(ks_statistics)\n",
    "query_cvm_statistic_df = query_cvm_statistic_df.set_index(row_ix)\n",
    "query_cvm_statistic_df.columns = col_ix\n",
    "\n",
    "query_cvm_pvalue_df = pd.DataFrame(ks_statistics)\n",
    "query_cvm_pvalue_df = query_cvm_pvalue_df.set_index(row_ix)\n",
    "query_cvm_pvalue_df.columns = col_ix\n",
    "\n",
    "print(\"Kolmgorov-Smirnov\")\n",
    "print(\" === statistic ===\")\n",
    "print(query_cvm_statistic_df)\n",
    "print()\n",
    "print(\" === p-value ===\")\n",
    "print(query_cvm_pvalue_df)"
   ]
  }
 ],
 "metadata": {
  "kernelspec": {
   "display_name": ".env-velour",
   "language": "python",
   "name": "python3"
  },
  "language_info": {
   "codemirror_mode": {
    "name": "ipython",
    "version": 3
   },
   "file_extension": ".py",
   "mimetype": "text/x-python",
   "name": "python",
   "nbconvert_exporter": "python",
   "pygments_lexer": "ipython3",
   "version": "3.10.12"
  },
  "orig_nbformat": 4
 },
 "nbformat": 4,
 "nbformat_minor": 2
}
