{
 "cells": [
  {
   "cell_type": "code",
   "execution_count": 1,
   "id": "a4d0a509-7500-44ba-b951-3566d4a4fac1",
   "metadata": {},
   "outputs": [
    {
     "name": "stderr",
     "output_type": "stream",
     "text": [
      "/home/czaloom/velour/.env-velour/lib/python3.10/site-packages/tqdm/auto.py:21: TqdmWarning: IProgress not found. Please update jupyter and ipywidgets. See https://ipywidgets.readthedocs.io/en/stable/user_install.html\n",
      "  from .autonotebook import tqdm as notebook_tqdm\n"
     ]
    }
   ],
   "source": [
    "from io import BytesIO\n",
    "import json\n",
    "import PIL.Image\n",
    "import numpy as np\n",
    "import requests\n",
    "\n",
    "from velour.client import Client\n",
    "from velour.data_types import GroundTruthInstanceSegmentation, GroundTruthSemanticSegmentation, Image, Label\n",
    "from velour.viz import combined_segmentation_mask\n",
    "from velour.integrations.coco import upload_coco_panoptic\n",
    "from velour.metrics import Task"
   ]
  },
  {
   "cell_type": "code",
   "execution_count": 2,
   "id": "0acb1bd2-238e-4f7e-b246-dd881f020813",
   "metadata": {},
   "outputs": [],
   "source": [
    "from chariot.datasets import Dataset"
   ]
  },
  {
   "cell_type": "code",
   "execution_count": 3,
   "id": "d32c5d65-a49b-4440-9cd3-241501b89cf3",
   "metadata": {},
   "outputs": [
    {
     "name": "stdout",
     "output_type": "stream",
     "text": [
      "Succesfully connected to http://localhost:8000/.\n"
     ]
    }
   ],
   "source": [
    "client = Client(\"http://localhost:8000\")"
   ]
  },
  {
   "cell_type": "markdown",
   "id": "c6fdc5dc-94e4-42c4-8c3c-4f75b6ce50db",
   "metadata": {
    "tags": []
   },
   "source": [
    "# Dataset ingestion\n",
    "\n",
    "We assume the COCO panoptic evaluations from\n",
    "http://images.cocodataset.org/annotations/panoptic_annotations_trainval2017.zip have been downloaded and unzipped (including unzipping the file `panoptic_val2017.zip`) to `./coco`"
   ]
  },
  {
   "cell_type": "code",
   "execution_count": null,
   "id": "f5854a88-cdf3-48c6-bb3b-0fb065cd11bd",
   "metadata": {
    "tags": []
   },
   "outputs": [],
   "source": [
    "# creates a dataset object in velour\n",
    "dataset = client.create_image_dataset(\"coco2017-panoptic\")"
   ]
  },
  {
   "cell_type": "code",
   "execution_count": null,
   "id": "03075a85-d075-4eff-928d-69369d042287",
   "metadata": {},
   "outputs": [],
   "source": [
    "with open(\"./coco/annotations/panoptic_val2017.json\") as f:\n",
    "    annotations = json.load(f)\n",
    "    \n",
    "annotations[\"annotations\"] = annotations[\"annotations\"][:10]"
   ]
  },
  {
   "cell_type": "code",
   "execution_count": null,
   "id": "a9af91c2-f88d-4722-b988-a2da13eb042f",
   "metadata": {},
   "outputs": [],
   "source": [
    "# helper method to download underlying images from COCO\n",
    "image_id_to_coco_url = {str(img_dict[\"id\"]): img_dict[\"coco_url\"] for img_dict in annotations[\"images\"]}\n",
    "def download_image(img: Image) -> PIL.Image:\n",
    "    url = image_id_to_coco_url[img.uid]\n",
    "    img_data = BytesIO(requests.get(url).content)\n",
    "    return PIL.Image.open(img_data)"
   ]
  },
  {
   "cell_type": "code",
   "execution_count": null,
   "id": "cb100fb9-5cde-47a3-acb5-961b7c9bfb45",
   "metadata": {},
   "outputs": [],
   "source": [
    "upload_coco_panoptic(\n",
    "    dataset,\n",
    "    annotations=annotations,\n",
    "    masks_path=\"./coco/annotations/panoptic_val2017/\"\n",
    ")"
   ]
  },
  {
   "cell_type": "code",
   "execution_count": null,
   "id": "9c6e03d2-72fe-49b5-907d-cd67ba4e1dc7",
   "metadata": {},
   "outputs": [],
   "source": [
    "dataset.get_images()"
   ]
  },
  {
   "cell_type": "code",
   "execution_count": null,
   "id": "54f26aef-b5bb-4c6c-9c28-707ad5e40c76",
   "metadata": {},
   "outputs": [],
   "source": [
    "download_image(dataset.get_images()[0])"
   ]
  },
  {
   "cell_type": "code",
   "execution_count": null,
   "id": "5c3d5384-14fc-4093-8fea-040d4782e496",
   "metadata": {},
   "outputs": [],
   "source": [
    "instance_segs = dataset.get_groundtruth_instance_segmentations(\"139\")\n",
    "semantic_segs = dataset.get_groundtruth_semantic_segmentations(\"139\")"
   ]
  },
  {
   "cell_type": "code",
   "execution_count": null,
   "id": "737e3e25-aa4a-4934-ad5f-da770bffa44a",
   "metadata": {},
   "outputs": [],
   "source": [
    "instance_mask, instance_legend = combined_segmentation_mask(instance_segs, label_key=\"name\")"
   ]
  },
  {
   "cell_type": "code",
   "execution_count": null,
   "id": "9febaa28-6cfd-426b-b637-437bc5594687",
   "metadata": {},
   "outputs": [],
   "source": [
    "instance_mask"
   ]
  },
  {
   "cell_type": "code",
   "execution_count": null,
   "id": "fd651c08-c554-4fb2-9dab-4b44679c500d",
   "metadata": {},
   "outputs": [],
   "source": [
    "for k, v in instance_legend.items():\n",
    "    print(k)\n",
    "    display(v)"
   ]
  },
  {
   "cell_type": "code",
   "execution_count": null,
   "id": "ec1592a5-375a-4472-98d6-01f519ce2538",
   "metadata": {},
   "outputs": [],
   "source": [
    "semantic_mask, semantic_legend = combined_segmentation_mask(semantic_segs, label_key=\"name\")"
   ]
  },
  {
   "cell_type": "code",
   "execution_count": null,
   "id": "e68e5396-03b8-45ad-bed6-9c9c06315da2",
   "metadata": {},
   "outputs": [],
   "source": [
    "semantic_mask"
   ]
  },
  {
   "cell_type": "code",
   "execution_count": null,
   "id": "300e6751-68bb-482f-99b6-e0ee8b28c1ef",
   "metadata": {},
   "outputs": [],
   "source": [
    "for k, v in semantic_legend.items():\n",
    "    print(k)\n",
    "    display(v)"
   ]
  },
  {
   "cell_type": "markdown",
   "id": "8b4ea8d6-9916-4c9d-b913-b7e47d971f2d",
   "metadata": {},
   "source": [
    "# Model inference"
   ]
  },
  {
   "cell_type": "code",
   "execution_count": 4,
   "id": "01a65438-5e69-4577-9a7d-6d796fb164e0",
   "metadata": {},
   "outputs": [],
   "source": [
    "from chariot.client import connect\n",
    "from chariot.models import Model\n",
    "from tqdm.auto import tqdm\n",
    "\n",
    "from velour.integrations.chariot import create_model_from_chariot, parse_chariot_object_detections"
   ]
  },
  {
   "cell_type": "code",
   "execution_count": 5,
   "id": "b928fc11-f025-4785-8439-a3c2fb1c69bd",
   "metadata": {},
   "outputs": [],
   "source": [
    "connect(\"https://production.chariot.striveworks.us/\")"
   ]
  },
  {
   "cell_type": "code",
   "execution_count": null,
   "id": "97ac2e65-1277-4098-b196-0adb71ac3eb5",
   "metadata": {},
   "outputs": [],
   "source": [
    "dataset = client.get_dataset(\"coco2017-panoptic\")"
   ]
  },
  {
   "cell_type": "code",
   "execution_count": 13,
   "id": "43969bb6-102c-45fa-b6a0-0f01d840da2d",
   "metadata": {
    "tags": []
   },
   "outputs": [
    {
     "ename": "ClientException",
     "evalue": "Model with name 'chariot-fasterrcnnresnet-50fpn-v' does not exist.",
     "output_type": "error",
     "traceback": [
      "\u001b[0;31m---------------------------------------------------------------------------\u001b[0m",
      "\u001b[0;31mClientException\u001b[0m                           Traceback (most recent call last)",
      "Cell \u001b[0;32mIn[13], line 5\u001b[0m\n\u001b[1;32m      2\u001b[0m chariot_model \u001b[39m=\u001b[39m Model(name\u001b[39m=\u001b[39mmodel_name, project_name\u001b[39m=\u001b[39m\u001b[39m\"\u001b[39m\u001b[39mGlobal\u001b[39m\u001b[39m\"\u001b[39m)\n\u001b[1;32m      4\u001b[0m \u001b[39m# velour_model = create_model_from_chariot(client, chariot_model)\u001b[39;00m\n\u001b[0;32m----> 5\u001b[0m velour_model \u001b[39m=\u001b[39m client\u001b[39m.\u001b[39;49mget_model(\u001b[39m'\u001b[39;49m\u001b[39mchariot-fasterrcnnresnet-50fpn-v\u001b[39;49m\u001b[39m'\u001b[39;49m)\n",
      "File \u001b[0;32m~/velour/.env-velour/lib/python3.10/site-packages/velour/client.py:802\u001b[0m, in \u001b[0;36mClient.get_model\u001b[0;34m(self, name)\u001b[0m\n\u001b[1;32m    801\u001b[0m \u001b[39mdef\u001b[39;00m \u001b[39mget_model\u001b[39m(\u001b[39mself\u001b[39m, name: \u001b[39mstr\u001b[39m) \u001b[39m-\u001b[39m\u001b[39m>\u001b[39m ModelBase:\n\u001b[0;32m--> 802\u001b[0m     \u001b[39mreturn\u001b[39;00m \u001b[39mself\u001b[39;49m\u001b[39m.\u001b[39;49m_get_model_or_dataset(entity_type\u001b[39m=\u001b[39;49m\u001b[39m\"\u001b[39;49m\u001b[39mmodels\u001b[39;49m\u001b[39m\"\u001b[39;49m, name\u001b[39m=\u001b[39;49mname)\n",
      "File \u001b[0;32m~/velour/.env-velour/lib/python3.10/site-packages/velour/client.py:794\u001b[0m, in \u001b[0;36mClient._get_model_or_dataset\u001b[0;34m(self, entity_type, name)\u001b[0m\n\u001b[1;32m    791\u001b[0m \u001b[39mif\u001b[39;00m entity_type \u001b[39mnot\u001b[39;00m \u001b[39min\u001b[39;00m entity_types:\n\u001b[1;32m    792\u001b[0m     \u001b[39mraise\u001b[39;00m \u001b[39mValueError\u001b[39;00m(\u001b[39mf\u001b[39m\u001b[39m\"\u001b[39m\u001b[39mExpected `entity_type` to be in \u001b[39m\u001b[39m{\u001b[39;00mentity_types\u001b[39m}\u001b[39;00m\u001b[39m\"\u001b[39m)\n\u001b[0;32m--> 794\u001b[0m resp \u001b[39m=\u001b[39m \u001b[39mself\u001b[39;49m\u001b[39m.\u001b[39;49m_requests_get_rel_host(\u001b[39mf\u001b[39;49m\u001b[39m\"\u001b[39;49m\u001b[39m{\u001b[39;49;00mentity_type\u001b[39m}\u001b[39;49;00m\u001b[39m/\u001b[39;49m\u001b[39m{\u001b[39;49;00mname\u001b[39m}\u001b[39;49;00m\u001b[39m\"\u001b[39;49m)\u001b[39m.\u001b[39mjson()\n\u001b[1;32m    796\u001b[0m datum_type \u001b[39m=\u001b[39m DatumTypes\u001b[39m.\u001b[39minvert(resp[\u001b[39m\"\u001b[39m\u001b[39mtype\u001b[39m\u001b[39m\"\u001b[39m])\n\u001b[1;32m    797\u001b[0m class_ \u001b[39m=\u001b[39m \u001b[39mself\u001b[39m\u001b[39m.\u001b[39mdatum_type_and_entity_to_class[entity_type][datum_type]\n",
      "File \u001b[0;32m~/velour/.env-velour/lib/python3.10/site-packages/velour/client.py:719\u001b[0m, in \u001b[0;36mClient._requests_get_rel_host\u001b[0;34m(self, endpoint, *args, **kwargs)\u001b[0m\n\u001b[1;32m    718\u001b[0m \u001b[39mdef\u001b[39;00m \u001b[39m_requests_get_rel_host\u001b[39m(\u001b[39mself\u001b[39m, endpoint: \u001b[39mstr\u001b[39m, \u001b[39m*\u001b[39margs, \u001b[39m*\u001b[39m\u001b[39m*\u001b[39mkwargs):\n\u001b[0;32m--> 719\u001b[0m     \u001b[39mreturn\u001b[39;00m \u001b[39mself\u001b[39;49m\u001b[39m.\u001b[39;49m_requests_wrapper(\n\u001b[1;32m    720\u001b[0m         method_name\u001b[39m=\u001b[39;49m\u001b[39m\"\u001b[39;49m\u001b[39mget\u001b[39;49m\u001b[39m\"\u001b[39;49m, endpoint\u001b[39m=\u001b[39;49mendpoint, \u001b[39m*\u001b[39;49margs, \u001b[39m*\u001b[39;49m\u001b[39m*\u001b[39;49mkwargs\n\u001b[1;32m    721\u001b[0m     )\n",
      "File \u001b[0;32m~/velour/.env-velour/lib/python3.10/site-packages/velour/client.py:709\u001b[0m, in \u001b[0;36mClient._requests_wrapper\u001b[0;34m(self, method_name, endpoint, *args, **kwargs)\u001b[0m\n\u001b[1;32m    707\u001b[0m     \u001b[39mif\u001b[39;00m resp\u001b[39m.\u001b[39mstatus_code \u001b[39m==\u001b[39m \u001b[39m500\u001b[39m:\n\u001b[1;32m    708\u001b[0m         resp\u001b[39m.\u001b[39mraise_for_status()\n\u001b[0;32m--> 709\u001b[0m     \u001b[39mraise\u001b[39;00m ClientException(resp\u001b[39m.\u001b[39mjson()[\u001b[39m\"\u001b[39m\u001b[39mdetail\u001b[39m\u001b[39m\"\u001b[39m])\n\u001b[1;32m    711\u001b[0m \u001b[39mreturn\u001b[39;00m resp\n",
      "\u001b[0;31mClientException\u001b[0m: Model with name 'chariot-fasterrcnnresnet-50fpn-v' does not exist."
     ]
    }
   ],
   "source": [
    "model_name = \"fasterrcnnresnet-50fpn\"\n",
    "chariot_model = Model(name=model_name, project_name=\"Global\")\n",
    "\n",
    "# velour_model = create_model_from_chariot(client, chariot_model)\n",
    "velour_model = client.get_model('chariot-fasterrcnnresnet-50fpn-v1')"
   ]
  },
  {
   "cell_type": "code",
   "execution_count": 12,
   "id": "cae341dc-44b8-47e3-b99c-486c475b4c1c",
   "metadata": {
    "tags": []
   },
   "outputs": [
    {
     "name": "stderr",
     "output_type": "stream",
     "text": [
      "  0%|          | 0/1 [00:00<?, ?it/s]\n"
     ]
    },
    {
     "ename": "NameError",
     "evalue": "name 'dataset' is not defined",
     "output_type": "error",
     "traceback": [
      "\u001b[0;31m---------------------------------------------------------------------------\u001b[0m",
      "\u001b[0;31mNameError\u001b[0m                                 Traceback (most recent call last)",
      "Cell \u001b[0;32mIn[12], line 16\u001b[0m\n\u001b[1;32m     14\u001b[0m detections \u001b[39m=\u001b[39m [detection] \u001b[39m#chariot_model.detect(image)\u001b[39;00m\n\u001b[1;32m     15\u001b[0m velour_dets \u001b[39m=\u001b[39m parse_chariot_object_detections(detections[\u001b[39m0\u001b[39m], image_metadata, label_key\u001b[39m=\u001b[39m\u001b[39m\"\u001b[39m\u001b[39mname\u001b[39m\u001b[39m\"\u001b[39m)\n\u001b[0;32m---> 16\u001b[0m velour_model\u001b[39m.\u001b[39madd_predictions(dataset\u001b[39m=\u001b[39mdataset, predictions\u001b[39m=\u001b[39mvelour_dets)\n",
      "\u001b[0;31mNameError\u001b[0m: name 'dataset' is not defined"
     ]
    }
   ],
   "source": [
    "for image_metadata in tqdm(dataset.get_images()):\n",
    "    image = download_image(image_metadata)\n",
    "    detections = chariot_model.detect(image)\n",
    "    velour_dets = parse_chariot_object_detections(detections, image_metadata, label_key=\"name\")\n",
    "    velour_model.add_predictions(dataset=dataset, predictions=velour_dets)"
   ]
  },
  {
   "cell_type": "markdown",
   "id": "583f9282-70b7-4d5e-911a-810d7c3502e6",
   "metadata": {},
   "source": [
    "# Evaluation"
   ]
  },
  {
   "cell_type": "markdown",
   "id": "bffb60f0-516b-4a89-b159-0359285b35a6",
   "metadata": {},
   "source": [
    "for provenance, the dataset and inferences on the dataset must be finalized before evaluation can be done"
   ]
  },
  {
   "cell_type": "code",
   "execution_count": null,
   "id": "c8f4179d-0314-4d79-81f1-b9b309452250",
   "metadata": {},
   "outputs": [],
   "source": [
    "dataset.finalize()"
   ]
  },
  {
   "cell_type": "code",
   "execution_count": null,
   "id": "85404d81-b422-41c3-b7fc-4c6ba727eaf4",
   "metadata": {},
   "outputs": [],
   "source": [
    "velour_model.finalize_inferences(dataset)"
   ]
  },
  {
   "cell_type": "code",
   "execution_count": null,
   "id": "a2b78220-a479-4f2f-8134-a24fc2e8b782",
   "metadata": {},
   "outputs": [],
   "source": [
    "eval_job = velour_model.evaluate_ap(\n",
    "    dataset=dataset,\n",
    "    model_pred_task_type=Task.BBOX_OBJECT_DETECTION,\n",
    "    dataset_gt_task_type=Task.INSTANCE_SEGMENTATION,\n",
    ")"
   ]
  },
  {
   "cell_type": "code",
   "execution_count": null,
   "id": "1adefc71-c2c8-42f0-b0a9-2381263ae3f8",
   "metadata": {},
   "outputs": [],
   "source": [
    "eval_job.status()"
   ]
  },
  {
   "cell_type": "code",
   "execution_count": null,
   "id": "6fea2394-22bf-4928-9251-9daf98e719fb",
   "metadata": {},
   "outputs": [],
   "source": [
    "eval_job.status()"
   ]
  },
  {
   "cell_type": "code",
   "execution_count": null,
   "id": "557929a4-686c-4029-ba73-bf6e92362a76",
   "metadata": {},
   "outputs": [],
   "source": [
    "eval_job = velour_model.evaluate_ap(\n",
    "    dataset=dataset,\n",
    "    model_pred_task_type=Task.BBOX_OBJECT_DETECTION,\n",
    "    dataset_gt_task_type=Task.INSTANCE_SEGMENTATION,\n",
    "    max_area=300*30\n",
    ")"
   ]
  },
  {
   "cell_type": "code",
   "execution_count": null,
   "id": "49d427d5-4d6a-4612-a41f-2cfac69165a2",
   "metadata": {},
   "outputs": [],
   "source": [
    "eval_job.status()"
   ]
  },
  {
   "cell_type": "code",
   "execution_count": null,
   "id": "8a0b0cc1-93b6-4807-a63c-9cd9e0435a27",
   "metadata": {},
   "outputs": [],
   "source": [
    "eval_job.metrics()[:10]"
   ]
  },
  {
   "cell_type": "code",
   "execution_count": null,
   "id": "524f8978-a2d3-47b0-97c2-d5f4b5271668",
   "metadata": {},
   "outputs": [],
   "source": []
  }
 ],
 "metadata": {
  "kernelspec": {
   "display_name": "Python [conda env:velour]",
   "language": "python",
   "name": "conda-env-velour-py"
  },
  "language_info": {
   "codemirror_mode": {
    "name": "ipython",
    "version": 3
   },
   "file_extension": ".py",
   "mimetype": "text/x-python",
   "name": "python",
   "nbconvert_exporter": "python",
   "pygments_lexer": "ipython3",
   "version": "3.10.11"
  }
 },
 "nbformat": 4,
 "nbformat_minor": 5
}
