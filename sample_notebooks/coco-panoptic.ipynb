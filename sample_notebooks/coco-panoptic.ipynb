{
 "cells": [
  {
   "cell_type": "code",
   "execution_count": 1,
   "id": "a4d0a509-7500-44ba-b951-3566d4a4fac1",
   "metadata": {},
   "outputs": [
    {
     "name": "stderr",
     "output_type": "stream",
     "text": [
      "/home/czaloom/velour/.env-velour/lib/python3.10/site-packages/tqdm/auto.py:21: TqdmWarning: IProgress not found. Please update jupyter and ipywidgets. See https://ipywidgets.readthedocs.io/en/stable/user_install.html\n",
      "  from .autonotebook import tqdm as notebook_tqdm\n"
     ]
    }
   ],
   "source": [
    "from io import BytesIO\n",
    "import json\n",
    "import PIL.Image\n",
    "import numpy as np\n",
    "import requests\n",
    "\n",
    "from velour.client import Client, ClientException\n",
    "from velour.client import Dataset as VelourDataset, Model as VelourModel\n",
    "from velour.schemas import Image\n",
    "from velour.viz import combined_segmentation_mask\n",
    "from velour.integrations.coco import upload_coco_panoptic\n",
    "from velour.integrations.yolo import parse_yolo_object_detection, parse_yolo_image_segmentation\n",
    "from velour.metrics import Task\n",
    "\n",
    "from ultralytics import YOLO"
   ]
  },
  {
   "cell_type": "code",
   "execution_count": 2,
   "id": "0acb1bd2-238e-4f7e-b246-dd881f020813",
   "metadata": {},
   "outputs": [],
   "source": [
    "from chariot.datasets import Dataset as ChariotDataset"
   ]
  },
  {
   "cell_type": "code",
   "execution_count": 3,
   "id": "d32c5d65-a49b-4440-9cd3-241501b89cf3",
   "metadata": {},
   "outputs": [
    {
     "name": "stdout",
     "output_type": "stream",
     "text": [
      "Succesfully connected to http://localhost:8000/.\n"
     ]
    }
   ],
   "source": [
    "client = Client(\"http://localhost:8000\")"
   ]
  },
  {
   "cell_type": "markdown",
   "id": "c6fdc5dc-94e4-42c4-8c3c-4f75b6ce50db",
   "metadata": {
    "tags": []
   },
   "source": [
    "# Dataset ingestion\n",
    "\n",
    "We assume the COCO panoptic evaluations from\n",
    "http://images.cocodataset.org/annotations/panoptic_annotations_trainval2017.zip have been downloaded and unzipped (including unzipping the file `panoptic_val2017.zip`) to `./coco`"
   ]
  },
  {
   "cell_type": "code",
   "execution_count": 4,
   "id": "03075a85-d075-4eff-928d-69369d042287",
   "metadata": {},
   "outputs": [],
   "source": [
    "with open(\"./coco/annotations/panoptic_val2017.json\") as f:\n",
    "    annotations = json.load(f)\n",
    "    \n",
    "annotations[\"annotations\"] = annotations[\"annotations\"][:10]"
   ]
  },
  {
   "cell_type": "code",
   "execution_count": 5,
   "id": "a9af91c2-f88d-4722-b988-a2da13eb042f",
   "metadata": {},
   "outputs": [],
   "source": [
    "# helper method to download underlying images from COCO\n",
    "image_id_to_coco_url = {str(img_dict[\"id\"]): img_dict[\"coco_url\"] for img_dict in annotations[\"images\"]}\n",
    "def download_image(img: Image) -> PIL.Image:\n",
    "    url = image_id_to_coco_url[img.uid]\n",
    "    img_data = BytesIO(requests.get(url).content)\n",
    "    return PIL.Image.open(img_data)"
   ]
  },
  {
   "cell_type": "code",
   "execution_count": 11,
   "id": "cb100fb9-5cde-47a3-acb5-961b7c9bfb45",
   "metadata": {},
   "outputs": [
    {
     "name": "stderr",
     "output_type": "stream",
     "text": [
      "100%|██████████| 10/10 [00:05<00:00,  1.81it/s]\n"
     ]
    }
   ],
   "source": [
    "# creates a dataset object in velour\n",
    "try:\n",
    "    dataset = VelourDataset.create(client, \"coco2017-panoptic\")\n",
    "    upload_coco_panoptic(\n",
    "        dataset,\n",
    "        annotations=annotations,\n",
    "        masks_path=\"./coco/annotations/panoptic_val2017/\"\n",
    "    )\n",
    "except ClientException:\n",
    "    dataset = VelourDataset.get(client, \"coco2017-panoptic\")"
   ]
  },
  {
   "cell_type": "code",
   "execution_count": 14,
   "id": "1535e073",
   "metadata": {},
   "outputs": [
    {
     "data": {
      "text/plain": [
       "[Datum(uid='139', metadata=[MetaDatum(key='height', value=426.0), MetaDatum(key='width', value=640.0), MetaDatum(key='frame', value=0.0)]),\n",
       " Datum(uid='285', metadata=[MetaDatum(key='height', value=640.0), MetaDatum(key='width', value=586.0), MetaDatum(key='frame', value=0.0)]),\n",
       " Datum(uid='632', metadata=[MetaDatum(key='height', value=483.0), MetaDatum(key='width', value=640.0), MetaDatum(key='frame', value=0.0)]),\n",
       " Datum(uid='724', metadata=[MetaDatum(key='height', value=500.0), MetaDatum(key='width', value=375.0), MetaDatum(key='frame', value=0.0)]),\n",
       " Datum(uid='776', metadata=[MetaDatum(key='height', value=640.0), MetaDatum(key='width', value=428.0), MetaDatum(key='frame', value=0.0)]),\n",
       " Datum(uid='785', metadata=[MetaDatum(key='height', value=425.0), MetaDatum(key='width', value=640.0), MetaDatum(key='frame', value=0.0)]),\n",
       " Datum(uid='802', metadata=[MetaDatum(key='height', value=640.0), MetaDatum(key='width', value=424.0), MetaDatum(key='frame', value=0.0)]),\n",
       " Datum(uid='872', metadata=[MetaDatum(key='height', value=640.0), MetaDatum(key='width', value=621.0), MetaDatum(key='frame', value=0.0)]),\n",
       " Datum(uid='885', metadata=[MetaDatum(key='height', value=427.0), MetaDatum(key='width', value=640.0), MetaDatum(key='frame', value=0.0)]),\n",
       " Datum(uid='1000', metadata=[MetaDatum(key='height', value=480.0), MetaDatum(key='width', value=640.0), MetaDatum(key='frame', value=0.0)])]"
      ]
     },
     "execution_count": 14,
     "metadata": {},
     "output_type": "execute_result"
    }
   ],
   "source": [
    "dataset.get_datums()"
   ]
  },
  {
   "cell_type": "code",
   "execution_count": 15,
   "id": "9c6e03d2-72fe-49b5-907d-cd67ba4e1dc7",
   "metadata": {},
   "outputs": [
    {
     "data": {
      "text/plain": [
       "[Image(uid='139', height=426, width=640, frame=0, metadata={}),\n",
       " Image(uid='285', height=640, width=586, frame=0, metadata={}),\n",
       " Image(uid='632', height=483, width=640, frame=0, metadata={}),\n",
       " Image(uid='724', height=500, width=375, frame=0, metadata={}),\n",
       " Image(uid='776', height=640, width=428, frame=0, metadata={}),\n",
       " Image(uid='785', height=425, width=640, frame=0, metadata={}),\n",
       " Image(uid='802', height=640, width=424, frame=0, metadata={}),\n",
       " Image(uid='872', height=640, width=621, frame=0, metadata={}),\n",
       " Image(uid='885', height=427, width=640, frame=0, metadata={}),\n",
       " Image(uid='1000', height=480, width=640, frame=0, metadata={})]"
      ]
     },
     "execution_count": 15,
     "metadata": {},
     "output_type": "execute_result"
    }
   ],
   "source": [
    "dataset.get_images()"
   ]
  },
  {
   "cell_type": "code",
   "execution_count": 16,
   "id": "54f26aef-b5bb-4c6c-9c28-707ad5e40c76",
   "metadata": {},
   "outputs": [
    {
     "ename": "ConnectionError",
     "evalue": "HTTPConnectionPool(host='images.cocodataset.org', port=80): Max retries exceeded with url: /val2017/000000000139.jpg (Caused by NameResolutionError(\"<urllib3.connection.HTTPConnection object at 0x7f61611379a0>: Failed to resolve 'images.cocodataset.org' ([Errno -3] Temporary failure in name resolution)\"))",
     "output_type": "error",
     "traceback": [
      "\u001b[0;31m---------------------------------------------------------------------------\u001b[0m",
      "\u001b[0;31mgaierror\u001b[0m                                  Traceback (most recent call last)",
      "File \u001b[0;32m~/velour/.env-velour/lib/python3.10/site-packages/urllib3/connection.py:200\u001b[0m, in \u001b[0;36mHTTPConnection._new_conn\u001b[0;34m(self)\u001b[0m\n\u001b[1;32m    199\u001b[0m \u001b[39mtry\u001b[39;00m:\n\u001b[0;32m--> 200\u001b[0m     sock \u001b[39m=\u001b[39m connection\u001b[39m.\u001b[39;49mcreate_connection(\n\u001b[1;32m    201\u001b[0m         (\u001b[39mself\u001b[39;49m\u001b[39m.\u001b[39;49m_dns_host, \u001b[39mself\u001b[39;49m\u001b[39m.\u001b[39;49mport),\n\u001b[1;32m    202\u001b[0m         \u001b[39mself\u001b[39;49m\u001b[39m.\u001b[39;49mtimeout,\n\u001b[1;32m    203\u001b[0m         source_address\u001b[39m=\u001b[39;49m\u001b[39mself\u001b[39;49m\u001b[39m.\u001b[39;49msource_address,\n\u001b[1;32m    204\u001b[0m         socket_options\u001b[39m=\u001b[39;49m\u001b[39mself\u001b[39;49m\u001b[39m.\u001b[39;49msocket_options,\n\u001b[1;32m    205\u001b[0m     )\n\u001b[1;32m    206\u001b[0m \u001b[39mexcept\u001b[39;00m socket\u001b[39m.\u001b[39mgaierror \u001b[39mas\u001b[39;00m e:\n",
      "File \u001b[0;32m~/velour/.env-velour/lib/python3.10/site-packages/urllib3/util/connection.py:60\u001b[0m, in \u001b[0;36mcreate_connection\u001b[0;34m(address, timeout, source_address, socket_options)\u001b[0m\n\u001b[1;32m     58\u001b[0m     \u001b[39mraise\u001b[39;00m LocationParseError(\u001b[39mf\u001b[39m\u001b[39m\"\u001b[39m\u001b[39m'\u001b[39m\u001b[39m{\u001b[39;00mhost\u001b[39m}\u001b[39;00m\u001b[39m'\u001b[39m\u001b[39m, label empty or too long\u001b[39m\u001b[39m\"\u001b[39m) \u001b[39mfrom\u001b[39;00m \u001b[39mNone\u001b[39;00m\n\u001b[0;32m---> 60\u001b[0m \u001b[39mfor\u001b[39;00m res \u001b[39min\u001b[39;00m socket\u001b[39m.\u001b[39;49mgetaddrinfo(host, port, family, socket\u001b[39m.\u001b[39;49mSOCK_STREAM):\n\u001b[1;32m     61\u001b[0m     af, socktype, proto, canonname, sa \u001b[39m=\u001b[39m res\n",
      "File \u001b[0;32m/usr/lib/python3.10/socket.py:955\u001b[0m, in \u001b[0;36mgetaddrinfo\u001b[0;34m(host, port, family, type, proto, flags)\u001b[0m\n\u001b[1;32m    954\u001b[0m addrlist \u001b[39m=\u001b[39m []\n\u001b[0;32m--> 955\u001b[0m \u001b[39mfor\u001b[39;00m res \u001b[39min\u001b[39;00m _socket\u001b[39m.\u001b[39;49mgetaddrinfo(host, port, family, \u001b[39mtype\u001b[39;49m, proto, flags):\n\u001b[1;32m    956\u001b[0m     af, socktype, proto, canonname, sa \u001b[39m=\u001b[39m res\n",
      "\u001b[0;31mgaierror\u001b[0m: [Errno -3] Temporary failure in name resolution",
      "\nThe above exception was the direct cause of the following exception:\n",
      "\u001b[0;31mNameResolutionError\u001b[0m                       Traceback (most recent call last)",
      "File \u001b[0;32m~/velour/.env-velour/lib/python3.10/site-packages/urllib3/connectionpool.py:790\u001b[0m, in \u001b[0;36mHTTPConnectionPool.urlopen\u001b[0;34m(self, method, url, body, headers, retries, redirect, assert_same_host, timeout, pool_timeout, release_conn, chunked, body_pos, preload_content, decode_content, **response_kw)\u001b[0m\n\u001b[1;32m    789\u001b[0m \u001b[39m# Make the request on the HTTPConnection object\u001b[39;00m\n\u001b[0;32m--> 790\u001b[0m response \u001b[39m=\u001b[39m \u001b[39mself\u001b[39;49m\u001b[39m.\u001b[39;49m_make_request(\n\u001b[1;32m    791\u001b[0m     conn,\n\u001b[1;32m    792\u001b[0m     method,\n\u001b[1;32m    793\u001b[0m     url,\n\u001b[1;32m    794\u001b[0m     timeout\u001b[39m=\u001b[39;49mtimeout_obj,\n\u001b[1;32m    795\u001b[0m     body\u001b[39m=\u001b[39;49mbody,\n\u001b[1;32m    796\u001b[0m     headers\u001b[39m=\u001b[39;49mheaders,\n\u001b[1;32m    797\u001b[0m     chunked\u001b[39m=\u001b[39;49mchunked,\n\u001b[1;32m    798\u001b[0m     retries\u001b[39m=\u001b[39;49mretries,\n\u001b[1;32m    799\u001b[0m     response_conn\u001b[39m=\u001b[39;49mresponse_conn,\n\u001b[1;32m    800\u001b[0m     preload_content\u001b[39m=\u001b[39;49mpreload_content,\n\u001b[1;32m    801\u001b[0m     decode_content\u001b[39m=\u001b[39;49mdecode_content,\n\u001b[1;32m    802\u001b[0m     \u001b[39m*\u001b[39;49m\u001b[39m*\u001b[39;49mresponse_kw,\n\u001b[1;32m    803\u001b[0m )\n\u001b[1;32m    805\u001b[0m \u001b[39m# Everything went great!\u001b[39;00m\n",
      "File \u001b[0;32m~/velour/.env-velour/lib/python3.10/site-packages/urllib3/connectionpool.py:496\u001b[0m, in \u001b[0;36mHTTPConnectionPool._make_request\u001b[0;34m(self, conn, method, url, body, headers, retries, timeout, chunked, response_conn, preload_content, decode_content, enforce_content_length)\u001b[0m\n\u001b[1;32m    495\u001b[0m \u001b[39mtry\u001b[39;00m:\n\u001b[0;32m--> 496\u001b[0m     conn\u001b[39m.\u001b[39;49mrequest(\n\u001b[1;32m    497\u001b[0m         method,\n\u001b[1;32m    498\u001b[0m         url,\n\u001b[1;32m    499\u001b[0m         body\u001b[39m=\u001b[39;49mbody,\n\u001b[1;32m    500\u001b[0m         headers\u001b[39m=\u001b[39;49mheaders,\n\u001b[1;32m    501\u001b[0m         chunked\u001b[39m=\u001b[39;49mchunked,\n\u001b[1;32m    502\u001b[0m         preload_content\u001b[39m=\u001b[39;49mpreload_content,\n\u001b[1;32m    503\u001b[0m         decode_content\u001b[39m=\u001b[39;49mdecode_content,\n\u001b[1;32m    504\u001b[0m         enforce_content_length\u001b[39m=\u001b[39;49menforce_content_length,\n\u001b[1;32m    505\u001b[0m     )\n\u001b[1;32m    507\u001b[0m \u001b[39m# We are swallowing BrokenPipeError (errno.EPIPE) since the server is\u001b[39;00m\n\u001b[1;32m    508\u001b[0m \u001b[39m# legitimately able to close the connection after sending a valid response.\u001b[39;00m\n\u001b[1;32m    509\u001b[0m \u001b[39m# With this behaviour, the received response is still readable.\u001b[39;00m\n",
      "File \u001b[0;32m~/velour/.env-velour/lib/python3.10/site-packages/urllib3/connection.py:388\u001b[0m, in \u001b[0;36mHTTPConnection.request\u001b[0;34m(self, method, url, body, headers, chunked, preload_content, decode_content, enforce_content_length)\u001b[0m\n\u001b[1;32m    387\u001b[0m     \u001b[39mself\u001b[39m\u001b[39m.\u001b[39mputheader(header, value)\n\u001b[0;32m--> 388\u001b[0m \u001b[39mself\u001b[39;49m\u001b[39m.\u001b[39;49mendheaders()\n\u001b[1;32m    390\u001b[0m \u001b[39m# If we're given a body we start sending that in chunks.\u001b[39;00m\n",
      "File \u001b[0;32m/usr/lib/python3.10/http/client.py:1277\u001b[0m, in \u001b[0;36mHTTPConnection.endheaders\u001b[0;34m(self, message_body, encode_chunked)\u001b[0m\n\u001b[1;32m   1276\u001b[0m     \u001b[39mraise\u001b[39;00m CannotSendHeader()\n\u001b[0;32m-> 1277\u001b[0m \u001b[39mself\u001b[39;49m\u001b[39m.\u001b[39;49m_send_output(message_body, encode_chunked\u001b[39m=\u001b[39;49mencode_chunked)\n",
      "File \u001b[0;32m/usr/lib/python3.10/http/client.py:1037\u001b[0m, in \u001b[0;36mHTTPConnection._send_output\u001b[0;34m(self, message_body, encode_chunked)\u001b[0m\n\u001b[1;32m   1036\u001b[0m \u001b[39mdel\u001b[39;00m \u001b[39mself\u001b[39m\u001b[39m.\u001b[39m_buffer[:]\n\u001b[0;32m-> 1037\u001b[0m \u001b[39mself\u001b[39;49m\u001b[39m.\u001b[39;49msend(msg)\n\u001b[1;32m   1039\u001b[0m \u001b[39mif\u001b[39;00m message_body \u001b[39mis\u001b[39;00m \u001b[39mnot\u001b[39;00m \u001b[39mNone\u001b[39;00m:\n\u001b[1;32m   1040\u001b[0m \n\u001b[1;32m   1041\u001b[0m     \u001b[39m# create a consistent interface to message_body\u001b[39;00m\n",
      "File \u001b[0;32m/usr/lib/python3.10/http/client.py:975\u001b[0m, in \u001b[0;36mHTTPConnection.send\u001b[0;34m(self, data)\u001b[0m\n\u001b[1;32m    974\u001b[0m \u001b[39mif\u001b[39;00m \u001b[39mself\u001b[39m\u001b[39m.\u001b[39mauto_open:\n\u001b[0;32m--> 975\u001b[0m     \u001b[39mself\u001b[39;49m\u001b[39m.\u001b[39;49mconnect()\n\u001b[1;32m    976\u001b[0m \u001b[39melse\u001b[39;00m:\n",
      "File \u001b[0;32m~/velour/.env-velour/lib/python3.10/site-packages/urllib3/connection.py:236\u001b[0m, in \u001b[0;36mHTTPConnection.connect\u001b[0;34m(self)\u001b[0m\n\u001b[1;32m    235\u001b[0m \u001b[39mdef\u001b[39;00m \u001b[39mconnect\u001b[39m(\u001b[39mself\u001b[39m) \u001b[39m-\u001b[39m\u001b[39m>\u001b[39m \u001b[39mNone\u001b[39;00m:\n\u001b[0;32m--> 236\u001b[0m     \u001b[39mself\u001b[39m\u001b[39m.\u001b[39msock \u001b[39m=\u001b[39m \u001b[39mself\u001b[39;49m\u001b[39m.\u001b[39;49m_new_conn()\n\u001b[1;32m    237\u001b[0m     \u001b[39mif\u001b[39;00m \u001b[39mself\u001b[39m\u001b[39m.\u001b[39m_tunnel_host:\n\u001b[1;32m    238\u001b[0m         \u001b[39m# If we're tunneling it means we're connected to our proxy.\u001b[39;00m\n",
      "File \u001b[0;32m~/velour/.env-velour/lib/python3.10/site-packages/urllib3/connection.py:207\u001b[0m, in \u001b[0;36mHTTPConnection._new_conn\u001b[0;34m(self)\u001b[0m\n\u001b[1;32m    206\u001b[0m \u001b[39mexcept\u001b[39;00m socket\u001b[39m.\u001b[39mgaierror \u001b[39mas\u001b[39;00m e:\n\u001b[0;32m--> 207\u001b[0m     \u001b[39mraise\u001b[39;00m NameResolutionError(\u001b[39mself\u001b[39m\u001b[39m.\u001b[39mhost, \u001b[39mself\u001b[39m, e) \u001b[39mfrom\u001b[39;00m \u001b[39me\u001b[39;00m\n\u001b[1;32m    208\u001b[0m \u001b[39mexcept\u001b[39;00m SocketTimeout \u001b[39mas\u001b[39;00m e:\n",
      "\u001b[0;31mNameResolutionError\u001b[0m: <urllib3.connection.HTTPConnection object at 0x7f61611379a0>: Failed to resolve 'images.cocodataset.org' ([Errno -3] Temporary failure in name resolution)",
      "\nThe above exception was the direct cause of the following exception:\n",
      "\u001b[0;31mMaxRetryError\u001b[0m                             Traceback (most recent call last)",
      "File \u001b[0;32m~/velour/.env-velour/lib/python3.10/site-packages/requests/adapters.py:486\u001b[0m, in \u001b[0;36mHTTPAdapter.send\u001b[0;34m(self, request, stream, timeout, verify, cert, proxies)\u001b[0m\n\u001b[1;32m    485\u001b[0m \u001b[39mtry\u001b[39;00m:\n\u001b[0;32m--> 486\u001b[0m     resp \u001b[39m=\u001b[39m conn\u001b[39m.\u001b[39;49murlopen(\n\u001b[1;32m    487\u001b[0m         method\u001b[39m=\u001b[39;49mrequest\u001b[39m.\u001b[39;49mmethod,\n\u001b[1;32m    488\u001b[0m         url\u001b[39m=\u001b[39;49murl,\n\u001b[1;32m    489\u001b[0m         body\u001b[39m=\u001b[39;49mrequest\u001b[39m.\u001b[39;49mbody,\n\u001b[1;32m    490\u001b[0m         headers\u001b[39m=\u001b[39;49mrequest\u001b[39m.\u001b[39;49mheaders,\n\u001b[1;32m    491\u001b[0m         redirect\u001b[39m=\u001b[39;49m\u001b[39mFalse\u001b[39;49;00m,\n\u001b[1;32m    492\u001b[0m         assert_same_host\u001b[39m=\u001b[39;49m\u001b[39mFalse\u001b[39;49;00m,\n\u001b[1;32m    493\u001b[0m         preload_content\u001b[39m=\u001b[39;49m\u001b[39mFalse\u001b[39;49;00m,\n\u001b[1;32m    494\u001b[0m         decode_content\u001b[39m=\u001b[39;49m\u001b[39mFalse\u001b[39;49;00m,\n\u001b[1;32m    495\u001b[0m         retries\u001b[39m=\u001b[39;49m\u001b[39mself\u001b[39;49m\u001b[39m.\u001b[39;49mmax_retries,\n\u001b[1;32m    496\u001b[0m         timeout\u001b[39m=\u001b[39;49mtimeout,\n\u001b[1;32m    497\u001b[0m         chunked\u001b[39m=\u001b[39;49mchunked,\n\u001b[1;32m    498\u001b[0m     )\n\u001b[1;32m    500\u001b[0m \u001b[39mexcept\u001b[39;00m (ProtocolError, \u001b[39mOSError\u001b[39;00m) \u001b[39mas\u001b[39;00m err:\n",
      "File \u001b[0;32m~/velour/.env-velour/lib/python3.10/site-packages/urllib3/connectionpool.py:844\u001b[0m, in \u001b[0;36mHTTPConnectionPool.urlopen\u001b[0;34m(self, method, url, body, headers, retries, redirect, assert_same_host, timeout, pool_timeout, release_conn, chunked, body_pos, preload_content, decode_content, **response_kw)\u001b[0m\n\u001b[1;32m    842\u001b[0m     new_e \u001b[39m=\u001b[39m ProtocolError(\u001b[39m\"\u001b[39m\u001b[39mConnection aborted.\u001b[39m\u001b[39m\"\u001b[39m, new_e)\n\u001b[0;32m--> 844\u001b[0m retries \u001b[39m=\u001b[39m retries\u001b[39m.\u001b[39;49mincrement(\n\u001b[1;32m    845\u001b[0m     method, url, error\u001b[39m=\u001b[39;49mnew_e, _pool\u001b[39m=\u001b[39;49m\u001b[39mself\u001b[39;49m, _stacktrace\u001b[39m=\u001b[39;49msys\u001b[39m.\u001b[39;49mexc_info()[\u001b[39m2\u001b[39;49m]\n\u001b[1;32m    846\u001b[0m )\n\u001b[1;32m    847\u001b[0m retries\u001b[39m.\u001b[39msleep()\n",
      "File \u001b[0;32m~/velour/.env-velour/lib/python3.10/site-packages/urllib3/util/retry.py:515\u001b[0m, in \u001b[0;36mRetry.increment\u001b[0;34m(self, method, url, response, error, _pool, _stacktrace)\u001b[0m\n\u001b[1;32m    514\u001b[0m     reason \u001b[39m=\u001b[39m error \u001b[39mor\u001b[39;00m ResponseError(cause)\n\u001b[0;32m--> 515\u001b[0m     \u001b[39mraise\u001b[39;00m MaxRetryError(_pool, url, reason) \u001b[39mfrom\u001b[39;00m \u001b[39mreason\u001b[39;00m  \u001b[39m# type: ignore[arg-type]\u001b[39;00m\n\u001b[1;32m    517\u001b[0m log\u001b[39m.\u001b[39mdebug(\u001b[39m\"\u001b[39m\u001b[39mIncremented Retry for (url=\u001b[39m\u001b[39m'\u001b[39m\u001b[39m%s\u001b[39;00m\u001b[39m'\u001b[39m\u001b[39m): \u001b[39m\u001b[39m%r\u001b[39;00m\u001b[39m\"\u001b[39m, url, new_retry)\n",
      "\u001b[0;31mMaxRetryError\u001b[0m: HTTPConnectionPool(host='images.cocodataset.org', port=80): Max retries exceeded with url: /val2017/000000000139.jpg (Caused by NameResolutionError(\"<urllib3.connection.HTTPConnection object at 0x7f61611379a0>: Failed to resolve 'images.cocodataset.org' ([Errno -3] Temporary failure in name resolution)\"))",
      "\nDuring handling of the above exception, another exception occurred:\n",
      "\u001b[0;31mConnectionError\u001b[0m                           Traceback (most recent call last)",
      "Cell \u001b[0;32mIn[16], line 1\u001b[0m\n\u001b[0;32m----> 1\u001b[0m download_image(dataset\u001b[39m.\u001b[39;49mget_images()[\u001b[39m0\u001b[39;49m])\n",
      "Cell \u001b[0;32mIn[5], line 5\u001b[0m, in \u001b[0;36mdownload_image\u001b[0;34m(img)\u001b[0m\n\u001b[1;32m      3\u001b[0m \u001b[39mdef\u001b[39;00m \u001b[39mdownload_image\u001b[39m(img: Image) \u001b[39m-\u001b[39m\u001b[39m>\u001b[39m PIL\u001b[39m.\u001b[39mImage:\n\u001b[1;32m      4\u001b[0m     url \u001b[39m=\u001b[39m image_id_to_coco_url[img\u001b[39m.\u001b[39muid]\n\u001b[0;32m----> 5\u001b[0m     img_data \u001b[39m=\u001b[39m BytesIO(requests\u001b[39m.\u001b[39;49mget(url)\u001b[39m.\u001b[39mcontent)\n\u001b[1;32m      6\u001b[0m     \u001b[39mreturn\u001b[39;00m PIL\u001b[39m.\u001b[39mImage\u001b[39m.\u001b[39mopen(img_data)\n",
      "File \u001b[0;32m~/velour/.env-velour/lib/python3.10/site-packages/requests/api.py:73\u001b[0m, in \u001b[0;36mget\u001b[0;34m(url, params, **kwargs)\u001b[0m\n\u001b[1;32m     62\u001b[0m \u001b[39mdef\u001b[39;00m \u001b[39mget\u001b[39m(url, params\u001b[39m=\u001b[39m\u001b[39mNone\u001b[39;00m, \u001b[39m*\u001b[39m\u001b[39m*\u001b[39mkwargs):\n\u001b[1;32m     63\u001b[0m \u001b[39m    \u001b[39m\u001b[39mr\u001b[39m\u001b[39m\"\"\"Sends a GET request.\u001b[39;00m\n\u001b[1;32m     64\u001b[0m \n\u001b[1;32m     65\u001b[0m \u001b[39m    :param url: URL for the new :class:`Request` object.\u001b[39;00m\n\u001b[0;32m   (...)\u001b[0m\n\u001b[1;32m     70\u001b[0m \u001b[39m    :rtype: requests.Response\u001b[39;00m\n\u001b[1;32m     71\u001b[0m \u001b[39m    \"\"\"\u001b[39;00m\n\u001b[0;32m---> 73\u001b[0m     \u001b[39mreturn\u001b[39;00m request(\u001b[39m\"\u001b[39;49m\u001b[39mget\u001b[39;49m\u001b[39m\"\u001b[39;49m, url, params\u001b[39m=\u001b[39;49mparams, \u001b[39m*\u001b[39;49m\u001b[39m*\u001b[39;49mkwargs)\n",
      "File \u001b[0;32m~/velour/.env-velour/lib/python3.10/site-packages/requests/api.py:59\u001b[0m, in \u001b[0;36mrequest\u001b[0;34m(method, url, **kwargs)\u001b[0m\n\u001b[1;32m     55\u001b[0m \u001b[39m# By using the 'with' statement we are sure the session is closed, thus we\u001b[39;00m\n\u001b[1;32m     56\u001b[0m \u001b[39m# avoid leaving sockets open which can trigger a ResourceWarning in some\u001b[39;00m\n\u001b[1;32m     57\u001b[0m \u001b[39m# cases, and look like a memory leak in others.\u001b[39;00m\n\u001b[1;32m     58\u001b[0m \u001b[39mwith\u001b[39;00m sessions\u001b[39m.\u001b[39mSession() \u001b[39mas\u001b[39;00m session:\n\u001b[0;32m---> 59\u001b[0m     \u001b[39mreturn\u001b[39;00m session\u001b[39m.\u001b[39;49mrequest(method\u001b[39m=\u001b[39;49mmethod, url\u001b[39m=\u001b[39;49murl, \u001b[39m*\u001b[39;49m\u001b[39m*\u001b[39;49mkwargs)\n",
      "File \u001b[0;32m~/velour/.env-velour/lib/python3.10/site-packages/requests/sessions.py:589\u001b[0m, in \u001b[0;36mSession.request\u001b[0;34m(self, method, url, params, data, headers, cookies, files, auth, timeout, allow_redirects, proxies, hooks, stream, verify, cert, json)\u001b[0m\n\u001b[1;32m    584\u001b[0m send_kwargs \u001b[39m=\u001b[39m {\n\u001b[1;32m    585\u001b[0m     \u001b[39m\"\u001b[39m\u001b[39mtimeout\u001b[39m\u001b[39m\"\u001b[39m: timeout,\n\u001b[1;32m    586\u001b[0m     \u001b[39m\"\u001b[39m\u001b[39mallow_redirects\u001b[39m\u001b[39m\"\u001b[39m: allow_redirects,\n\u001b[1;32m    587\u001b[0m }\n\u001b[1;32m    588\u001b[0m send_kwargs\u001b[39m.\u001b[39mupdate(settings)\n\u001b[0;32m--> 589\u001b[0m resp \u001b[39m=\u001b[39m \u001b[39mself\u001b[39;49m\u001b[39m.\u001b[39;49msend(prep, \u001b[39m*\u001b[39;49m\u001b[39m*\u001b[39;49msend_kwargs)\n\u001b[1;32m    591\u001b[0m \u001b[39mreturn\u001b[39;00m resp\n",
      "File \u001b[0;32m~/velour/.env-velour/lib/python3.10/site-packages/requests/sessions.py:703\u001b[0m, in \u001b[0;36mSession.send\u001b[0;34m(self, request, **kwargs)\u001b[0m\n\u001b[1;32m    700\u001b[0m start \u001b[39m=\u001b[39m preferred_clock()\n\u001b[1;32m    702\u001b[0m \u001b[39m# Send the request\u001b[39;00m\n\u001b[0;32m--> 703\u001b[0m r \u001b[39m=\u001b[39m adapter\u001b[39m.\u001b[39;49msend(request, \u001b[39m*\u001b[39;49m\u001b[39m*\u001b[39;49mkwargs)\n\u001b[1;32m    705\u001b[0m \u001b[39m# Total elapsed time of the request (approximately)\u001b[39;00m\n\u001b[1;32m    706\u001b[0m elapsed \u001b[39m=\u001b[39m preferred_clock() \u001b[39m-\u001b[39m start\n",
      "File \u001b[0;32m~/velour/.env-velour/lib/python3.10/site-packages/requests/adapters.py:519\u001b[0m, in \u001b[0;36mHTTPAdapter.send\u001b[0;34m(self, request, stream, timeout, verify, cert, proxies)\u001b[0m\n\u001b[1;32m    515\u001b[0m     \u001b[39mif\u001b[39;00m \u001b[39misinstance\u001b[39m(e\u001b[39m.\u001b[39mreason, _SSLError):\n\u001b[1;32m    516\u001b[0m         \u001b[39m# This branch is for urllib3 v1.22 and later.\u001b[39;00m\n\u001b[1;32m    517\u001b[0m         \u001b[39mraise\u001b[39;00m SSLError(e, request\u001b[39m=\u001b[39mrequest)\n\u001b[0;32m--> 519\u001b[0m     \u001b[39mraise\u001b[39;00m \u001b[39mConnectionError\u001b[39;00m(e, request\u001b[39m=\u001b[39mrequest)\n\u001b[1;32m    521\u001b[0m \u001b[39mexcept\u001b[39;00m ClosedPoolError \u001b[39mas\u001b[39;00m e:\n\u001b[1;32m    522\u001b[0m     \u001b[39mraise\u001b[39;00m \u001b[39mConnectionError\u001b[39;00m(e, request\u001b[39m=\u001b[39mrequest)\n",
      "\u001b[0;31mConnectionError\u001b[0m: HTTPConnectionPool(host='images.cocodataset.org', port=80): Max retries exceeded with url: /val2017/000000000139.jpg (Caused by NameResolutionError(\"<urllib3.connection.HTTPConnection object at 0x7f61611379a0>: Failed to resolve 'images.cocodataset.org' ([Errno -3] Temporary failure in name resolution)\"))"
     ]
    }
   ],
   "source": [
    "download_image(dataset.get_images()[0])"
   ]
  },
  {
   "cell_type": "code",
   "execution_count": 19,
   "id": "5c3d5384-14fc-4093-8fea-040d4782e496",
   "metadata": {},
   "outputs": [],
   "source": [
    "gts = dataset.get_groundtruth(\"139\")"
   ]
  },
  {
   "cell_type": "code",
   "execution_count": 20,
   "id": "0b6ee4ed",
   "metadata": {},
   "outputs": [
    {
     "data": {
      "text/plain": [
       "GroundTruth(datum=Datum(uid='139', metadata=[MetaDatum(key='height', value=426.0), MetaDatum(key='width', value=640.0), MetaDatum(key='frame', value=0.0)]), annotations=[Annotation(task_type=<TaskType.INSTANCE_SEGMENTATION: 'instance_segmentation'>, labels=[Label(key='supercategory', value='person'), Label(key='name', value='person'), Label(key='iscrowd', value='0')], metadata=[MetaDatum(key='height', value=426.0), MetaDatum(key='width', value=640.0)], bounding_box=None, polygon=None, multipolygon=None, raster=Raster(mask='iVBORw0KGgoAAAANSUhEUgAAAoAAAAGqAQAAAACzachDAAABlklEQVR4nO3aQVLCQBCF4Q6klGWW7shJrBwtS4/hUTiKCw+QleUCGS/ASxXtk2rg/7ap/PZImWHACAAAAAAAAAAAAAAAAAAAAAAAANyd/eztde2gLm1SwU2M3mAfgze4i503OETvDY76Ui6Yv0/Yt3aln/SH4GwNLvpSkSV/u4MrigSP7uCKdHByB5V0cHQHlVzwFHIPKDJhhNxUstto5tI6tUvV+R2qG+tMaA927qCSD87uoJAPTu6gUCg4OoPy/WupJT9YUJ5Sykw4uIOjOxghp8wFp/QYQmutLecv1XiVu5M5+PRlDr4s5uDHe+Yubdu2rTVxPMtM2P+4n9ifmZtWPXuXfN3nYU7nXnLTa04u+Sg3+xpPG4IPEpSf3GSDb2sfBmV03r/lfyC35jKv8g0Eb+AAXj84u4MCwQtM7qBwv0H5ZWaZCW8hOLiDwj0HxUGg0IT1gxx8CgbFnYUmJFgwKN61F5qQYMXg7A6eR5CgdlJnszIT2oMt4uCcI0L/B2LWqzsIAAAAAAAAAAAAAAAAAABQ1S+J7TLLX7cJwgAAAABJRU5ErkJggg==', height=426, width=640)), Annotation(task_type=<TaskType.INSTANCE_SEGMENTATION: 'instance_segmentation'>, labels=[Label(key='supercategory', value='person'), Label(key='name', value='person'), Label(key='iscrowd', value='0')], metadata=[MetaDatum(key='height', value=426.0), MetaDatum(key='width', value=640.0)], bounding_box=None, polygon=None, multipolygon=None, raster=Raster(mask='iVBORw0KGgoAAAANSUhEUgAAAoAAAAGqAQAAAACzachDAAAArElEQVR4nO3UsQ3CMBCGUQdRULJBMgIjMBqjISZKSRERNsjpxF9QvNee/MmFfWMAAAAAAAAAAAAAAAAAQNO0hoPz53h+6gaXYt4O3tPBimDtmQ6OqX3i2Lwfz/s3jAcL/WD6L48tHFze4WClv23WcHBc08FCP3hJBwv94DkdLPSDxYk/uGHaHt82hXbwkQ5WBGuv4tn03dJBAAAAAAAAAAAAAAAAAAAAAIBffQFQGA5YSj3VyQAAAABJRU5ErkJggg==', height=426, width=640)), Annotation(task_type=<TaskType.INSTANCE_SEGMENTATION: 'instance_segmentation'>, labels=[Label(key='iscrowd', value='0'), Label(key='supercategory', value='furniture'), Label(key='name', value='chair')], metadata=[MetaDatum(key='height', value=426.0), MetaDatum(key='width', value=640.0)], bounding_box=None, polygon=None, multipolygon=None, raster=Raster(mask='iVBORw0KGgoAAAANSUhEUgAAAoAAAAGqAQAAAACzachDAAABCElEQVR4nO3WzU3DQBCA0QlCghtUgCiEA6VRGqW4A3LMwWSpYEdkNFJW1nvXUb6Mf2Q7AgAAAAAAAAAAAAAAAAAAAAAAap627uDYp7OH5v86avC5O5hpD1acfpLbphQc4zodrn8OK8H0N0tsKLhm8NQafMyGqxzy4sE9YrQGU4J3Cy7+kpqvVwymDhtc/JN4/qgpBlOlYLZibcPX9D11u2tylUv2+JjOSof8lczWuMrrB/fuPS7xNp2tccjrBy/dwe5P4tRBg+fuYKYU3JJHYiU4v2eKwfjuDmaO+U4ZEfHZGUwJ/te5Oxjv3cEpwfsFt84lIuJlOilu+FtcBAAAAAAAAAAAAG71B2oGHwON6Jj9AAAAAElFTkSuQmCC', height=426, width=640)), Annotation(task_type=<TaskType.INSTANCE_SEGMENTATION: 'instance_segmentation'>, labels=[Label(key='iscrowd', value='0'), Label(key='supercategory', value='furniture'), Label(key='name', value='chair')], metadata=[MetaDatum(key='height', value=426.0), MetaDatum(key='width', value=640.0)], bounding_box=None, polygon=None, multipolygon=None, raster=Raster(mask='iVBORw0KGgoAAAANSUhEUgAAAoAAAAGqAQAAAACzachDAAABeklEQVR4nO3Zy03DUBSE4XESESSQcAkpISWkFDrBpVCKl5SREiJWICUcNkZiY2WOONIN1v+tR3Nfjh+KBAAAAAAAAAAAAAAAAAAAAAAAAAAAAAAAAAC36VRdGNWNER9udGXmNtWFNgr/PvBylnz7hV11oY3CGYM0lBYmUEjhL4fqQheF83bVha7yQk9EHM1ouyX3pcNGxNmM2jNcx2DlvDeCkCRdnBftzKFYWfsxWjqqxurCoyRzvzOHYoUb7WFC6lAGI+p9FL5L0ufDxYh6M4xO0psV9eyll7PWpYXb0Sv0lryXym9fX+YB2oVh5hpd2M/VhQmZQmsbrUL7U9QtnG4O93WFCe0K3X1s8zq3ltSNenSyTQ+lry60tCnMPEwWsuSJ9ZxqOsNdWeFdYtRlnXJt4Uqy/rHwZzjaA1833VkPZYUZFM7bmH/GtZnhdEUPZYXleknbn6/mK6wZnhKDZ5b8mshe92TmFvRLAQAAAAAAAAAAAAAAAP6fb7NFLf6OkwKmAAAAAElFTkSuQmCC', height=426, width=640)), Annotation(task_type=<TaskType.INSTANCE_SEGMENTATION: 'instance_segmentation'>, labels=[Label(key='iscrowd', value='0'), Label(key='supercategory', value='furniture'), Label(key='name', value='chair')], metadata=[MetaDatum(key='height', value=426.0), MetaDatum(key='width', value=640.0)], bounding_box=None, polygon=None, multipolygon=None, raster=Raster(mask='iVBORw0KGgoAAAANSUhEUgAAAoAAAAGqAQAAAACzachDAAAAZUlEQVR4nO3PsQnAMAxFQeO4SOkBsv+MLlxkAxVCEEPu2g8PqTUAAAAAAAAAAAAAAAAAAAAAgH96invXDsaeKVYHRzSmLhQ8MLiKg3c0lr+cMr8+AAAAAAAAAAAAAAAAAAAA4AgvUQYDQBwfwuAAAAAASUVORK5CYII=', height=426, width=640)), Annotation(task_type=<TaskType.INSTANCE_SEGMENTATION: 'instance_segmentation'>, labels=[Label(key='iscrowd', value='0'), Label(key='supercategory', value='furniture'), Label(key='name', value='chair')], metadata=[MetaDatum(key='height', value=426.0), MetaDatum(key='width', value=640.0)], bounding_box=None, polygon=None, multipolygon=None, raster=Raster(mask='iVBORw0KGgoAAAANSUhEUgAAAoAAAAGqAQAAAACzachDAAAAYUlEQVR4nO3RsQ2AMAxE0SgUrJH9p2AynAmQTsgSBe/V1r/CYwAAAAAAAAAAAAAAAAAAAAAA/MbZHTyqruhw5s3VHcx8Fry7gzHBR9U9nL8ZAAAAAAAAAAAAAAAAAACAtzaSUwX2sV8lIQAAAABJRU5ErkJggg==', height=426, width=640)), Annotation(task_type=<TaskType.INSTANCE_SEGMENTATION: 'instance_segmentation'>, labels=[Label(key='iscrowd', value='0'), Label(key='supercategory', value='furniture'), Label(key='name', value='chair')], metadata=[MetaDatum(key='height', value=426.0), MetaDatum(key='width', value=640.0)], bounding_box=None, polygon=None, multipolygon=None, raster=Raster(mask='iVBORw0KGgoAAAANSUhEUgAAAoAAAAGqAQAAAACzachDAAABTElEQVR4nO3ZQU7CQBSA4ama6E5uIEfhaOrJWHgQjtC4QqOMa42Zl6mPtJbv23b4eW0npEApAAAAAAAAAAAAAAAAAAAAAAD/wHBsHb3q7j2cJo/yu1pzJxyC4/2nnB2MXjD/hOnBm+xgKSV329wFx+e/hpvsYKQ7uM0ORrqDu+xgZPnBbrXWsXV8+ac8JThmB5sEBQXPENyGK6JHlW+GU3nqGyAK1nqqtR5aa3qvYfREPPtNOU9wkx1sEhT8oT5mv/19rblPX6/xkr5g3b0NQ9dHaOT2WMr12FrReZffwxWdwfg+r2xjnyvY/A4++4Thrp59wssMtn+QXMKE+cHmXlzEhIJ/DtbsYNvswXD9lAmfs4NN6wzus4NN6wwesoNN6wyO2cGmRQST/70NTPll6SMzWErwPDf7KS8/+JkdfOlcDwAAAAAAAABwOb4A4lgtmSJmPL0AAAAASUVORK5CYII=', height=426, width=640)), Annotation(task_type=<TaskType.INSTANCE_SEGMENTATION: 'instance_segmentation'>, labels=[Label(key='iscrowd', value='0'), Label(key='supercategory', value='furniture'), Label(key='name', value='potted plant')], metadata=[MetaDatum(key='height', value=426.0), MetaDatum(key='width', value=640.0)], bounding_box=None, polygon=None, multipolygon=None, raster=Raster(mask='iVBORw0KGgoAAAANSUhEUgAAAoAAAAGqAQAAAACzachDAAAA40lEQVR4nO3WPQ6CQBCA0fUnamlp6VE8kkex9DiWHodYEUPEE8hmzIAxvNfPl9ksAUoBAAAAAAAAAAAAAICZWI4+IPj74Do7GCb4h8FNdjBMUHCE4D47GCb4f8FddjD8WZ78yM/s4CI7mG57jd/zcLA9BCcqR+5KNFixapvgxPCG2y58zbVbXjbJwdn9EnfZwVd28IvXzXCwL/d9tDjstWiCE5UjP8IrVIKX7GDps4PZbuUcnKhueP9uk09O4Td2dcMmO9hmB6MqwWN2MG7qBxsAAAAAAAAAAAAAAAAAAAAAGN8bukEV3H1YFzYAAAAASUVORK5CYII=', height=426, width=640)), Annotation(task_type=<TaskType.INSTANCE_SEGMENTATION: 'instance_segmentation'>, labels=[Label(key='iscrowd', value='0'), Label(key='supercategory', value='furniture'), Label(key='name', value='dining table')], metadata=[MetaDatum(key='height', value=426.0), MetaDatum(key='width', value=640.0)], bounding_box=None, polygon=None, multipolygon=None, raster=Raster(mask='iVBORw0KGgoAAAANSUhEUgAAAoAAAAGqAQAAAACzachDAAABJklEQVR4nO3XMU7DMBSA4ReExIIQIyM3KTdrj5axx8jAKRBghiJRBidOeCJp9X1LK9X6Eyu2lUYAAAAAAAAAAAAAAAAAAAAAAABcln0pfcu4mxnNXSml9BEPEd3nn4N947g5d9gUnh2MiOp0lwZHpQeb7cpJRNynPOVW6wWHn6+PKcHfSmrwfezH9ZZN7Espp8XyFBO7pdVdGaaDc6b89v15G9FVB21iYb/mBYfpIUunfMGHwxxnh2BX3X7bn7Lg/wbr5/7CYJMrCx6yr56+l7vD9JgreyiCCcGX7GCDOcH6G9LC4JncV+JRgusFD9nBKsH1gn12sEpwveCQHaxaNdg0dukdbv/P43N2sGpp8JgdrBIUFBTcXvAj++IAAAAAAAAAAIz5Aja1MB+HR/J7AAAAAElFTkSuQmCC', height=426, width=640)), Annotation(task_type=<TaskType.INSTANCE_SEGMENTATION: 'instance_segmentation'>, labels=[Label(key='iscrowd', value='0'), Label(key='supercategory', value='electronic'), Label(key='name', value='tv')], metadata=[MetaDatum(key='height', value=426.0), MetaDatum(key='width', value=640.0)], bounding_box=None, polygon=None, multipolygon=None, raster=Raster(mask='iVBORw0KGgoAAAANSUhEUgAAAoAAAAGqAQAAAACzachDAAAAyklEQVR4nO3YMW7CQBCG0YkdCbocCY5ObgI3cJlIgaWwXJBtgJnCiPcq7xaf/m0dAQAAAAAAAAAAAAAAAPDqdu2nMjdExKa1dqgMRkTsWvsrCu6Xz7Fk6HB7zA8dupuxTbXBJEFBQUFBQUHBlQWn6mDKGwYjWueYya3/yYKCgoKCgoLrDh6rgymCgs8EP6qDxT1BQcH1BA+Z4Gd387vN9PqF37ne/4XnfvGDbhee0r3Z1/w35FJTW4xTbQ8AAAAAAAAAAAAAAAC4xxVggjQirIwrAgAAAABJRU5ErkJggg==', height=426, width=640)), Annotation(task_type=<TaskType.INSTANCE_SEGMENTATION: 'instance_segmentation'>, labels=[Label(key='iscrowd', value='0'), Label(key='supercategory', value='electronic'), Label(key='name', value='tv')], metadata=[MetaDatum(key='height', value=426.0), MetaDatum(key='width', value=640.0)], bounding_box=None, polygon=None, multipolygon=None, raster=Raster(mask='iVBORw0KGgoAAAANSUhEUgAAAoAAAAGqAQAAAACzachDAAAAsElEQVR4nO3YMQ7CMBBFwe8IKccIJwGOxsGBUEBICtKtUBRmKldPaxeW7AQAAAAAAAAAAAAAAAAAAACAfzCMb7euOi0ouKPgsTo4ExQU/GHwUh2cCQruMthqMuO0uG9/y4KCgqsWN8JGJxQU3GWw+7qsISgouOpQHVzYfrDIefp2flQV+ylY9E5J2mu2sewMx3atSn0MlWeYJOmrg2nVweRUHQQAAAAAAAAAAAAAkuQJBPoqD3OX3cUAAAAASUVORK5CYII=', height=426, width=640)), Annotation(task_type=<TaskType.INSTANCE_SEGMENTATION: 'instance_segmentation'>, labels=[Label(key='iscrowd', value='0'), Label(key='supercategory', value='appliance'), Label(key='name', value='microwave')], metadata=[MetaDatum(key='height', value=426.0), MetaDatum(key='width', value=640.0)], bounding_box=None, polygon=None, multipolygon=None, raster=Raster(mask='iVBORw0KGgoAAAANSUhEUgAAAoAAAAGqAQAAAACzachDAAAAYklEQVR4nO3QMQ6AIBBFQWK4F97/RFZovRQ2awKRme43L9ktBQAAAAAAAAAAAAAAAAAAAGAr7Yr7yAbP+nFwLOSD731BwSnBtLvHvf7J6/0QAAAAAAAAAAAAAAAAAAAA+JUHZp8Dl7CvLHsAAAAASUVORK5CYII=', height=426, width=640)), Annotation(task_type=<TaskType.INSTANCE_SEGMENTATION: 'instance_segmentation'>, labels=[Label(key='iscrowd', value='0'), Label(key='supercategory', value='appliance'), Label(key='name', value='refrigerator')], metadata=[MetaDatum(key='height', value=426.0), MetaDatum(key='width', value=640.0)], bounding_box=None, polygon=None, multipolygon=None, raster=Raster(mask='iVBORw0KGgoAAAANSUhEUgAAAoAAAAGqAQAAAACzachDAAAAlklEQVR4nO3aPQqAMAyA0foDXtujeSRHJ+teXbQBq7w3Zvgga0hKAAAAAAAAAAAAAAAAAPBvwxodzEt0cIsO7uWor0x20cE0RwdLgoKCgoKCgoKCgoKNB+sMOZej9lduLzhHB0uCbwfH6OAFQUFBQUFBQUFBQUFBQUHBLwbrTOe3hIszxB2nrwQAAAAAAAAAAAAAAB46ANR9DIkDjrlRAAAAAElFTkSuQmCC', height=426, width=640)), Annotation(task_type=<TaskType.INSTANCE_SEGMENTATION: 'instance_segmentation'>, labels=[Label(key='iscrowd', value='0'), Label(key='supercategory', value='indoor'), Label(key='name', value='book')], metadata=[MetaDatum(key='height', value=426.0), MetaDatum(key='width', value=640.0)], bounding_box=None, polygon=None, multipolygon=None, raster=Raster(mask='iVBORw0KGgoAAAANSUhEUgAAAoAAAAGqAQAAAACzachDAAAAg0lEQVR4nO3RwQmDABBE0UUE20pnsTRLkVSRQ4g2MYcJea+Azyw7AwAAAAAAAAAAAAAAAAAAAAAAAAAAAAAA8Oe2PR18zyzJ4GfCwREsDK7tC7/p4AgWBpf2hVc6OIKFrvqFz194imBdcA8Hj/6TBQuDj3Dw7D85HXxFawAAAAAAEHcDemUJmpWt5/kAAAAASUVORK5CYII=', height=426, width=640)), Annotation(task_type=<TaskType.INSTANCE_SEGMENTATION: 'instance_segmentation'>, labels=[Label(key='iscrowd', value='0'), Label(key='supercategory', value='indoor'), Label(key='name', value='book')], metadata=[MetaDatum(key='height', value=426.0), MetaDatum(key='width', value=640.0)], bounding_box=None, polygon=None, multipolygon=None, raster=Raster(mask='iVBORw0KGgoAAAANSUhEUgAAAoAAAAGqAQAAAACzachDAAAAkElEQVR4nO3QsQ3CUBBEwcUEbovOoDRK+WUQIExEQspafNBMAU97lwAAAAAAAAAAAAAAAAAAAAAAAAAAAAAAAOxpTZKlWRzNWJL1lvLCtuM9OywU/PPgox3M0g6+ooLzBLd2sG/L5D/cJ1h1zi+cPHnwMv3CdvDaDkbwc6fZF452MILzOYxvLwAAAAAAAN48ASolCfII6SOaAAAAAElFTkSuQmCC', height=426, width=640)), Annotation(task_type=<TaskType.INSTANCE_SEGMENTATION: 'instance_segmentation'>, labels=[Label(key='iscrowd', value='0'), Label(key='supercategory', value='indoor'), Label(key='name', value='clock')], metadata=[MetaDatum(key='height', value=426.0), MetaDatum(key='width', value=640.0)], bounding_box=None, polygon=None, multipolygon=None, raster=Raster(mask='iVBORw0KGgoAAAANSUhEUgAAAoAAAAGqAQAAAACzachDAAAAjklEQVR4nO3QsQ0CMRBE0QUSAoIrgVIohVKuNEq5kJCQAAkaOCerCYz0XjiSv2xXAQAAAAAAAAAAQMdp3d+P3eBlsLeDyy0cvF/DwVrSwYF+8By8RVXV97O/T/Tk+YP+cL7gmg4+0sF6h4PbKxx8bt2TA4dwDwAAAAAAAAAAAAAAAAAAAAAAAAAAAOAP/AAjWgpmLIMfVwAAAABJRU5ErkJggg==', height=426, width=640)), Annotation(task_type=<TaskType.INSTANCE_SEGMENTATION: 'instance_segmentation'>, labels=[Label(key='iscrowd', value='0'), Label(key='supercategory', value='indoor'), Label(key='name', value='vase')], metadata=[MetaDatum(key='height', value=426.0), MetaDatum(key='width', value=640.0)], bounding_box=None, polygon=None, multipolygon=None, raster=Raster(mask='iVBORw0KGgoAAAANSUhEUgAAAoAAAAGqAQAAAACzachDAAAAeklEQVR4nO3SwQmAMAxA0epBPDmPYzmioziIiBNIicSA8N615CeHtgYAAAAAAAAAAAAAAAAAAMBHpujA2HlfXx7yZLiiE50Ll/AJneCWHYyrDu7ZwbjyYPY/jKsOHtnBuPLgmb1wzg4CAAAAAAAAAAAAAAAAAAAAwO/dVOUFfKZo7F4AAAAASUVORK5CYII=', height=426, width=640)), Annotation(task_type=<TaskType.INSTANCE_SEGMENTATION: 'instance_segmentation'>, labels=[Label(key='iscrowd', value='0'), Label(key='supercategory', value='indoor'), Label(key='name', value='vase')], metadata=[MetaDatum(key='height', value=426.0), MetaDatum(key='width', value=640.0)], bounding_box=None, polygon=None, multipolygon=None, raster=Raster(mask='iVBORw0KGgoAAAANSUhEUgAAAoAAAAGqAQAAAACzachDAAABMUlEQVR4nO3YMWrDQBRF0ZEwsUotwTuJl6alaSleQsoQjCeN4hHEgRC/YiDnVL+6fEZiQCoFAAAAAAAAAAAAAAAAAAAAAAAAAAAAAACAmPHb8KQhHTysodCX49s2pDacpnCwvISD87Bkg3ep4CnUuXut25Da8JwOllsqtKnv29DrUx5KfMO3bHB8MIWEgod0sAkFp3LJBptQcE4Hm1DwlA42oeA5HYyrdd2mTs9waM+50w3Hh2NGJtiuw9yGczQ4tbHTM5zTwZ1M8NSOsdMNz+lgXK31uo19nuGwm/vccPxhjkQjwd112OkZxoPX0l6dPjf8h8FbKaUsweCe4N/U3dznhoKCgr+ypIM7gj0Fl3SwhIPZH+NrGzPBS/pP+zH9JfXRxkywLiX8rbdmMgAAz/kE+2QiqXhcubsAAAAASUVORK5CYII=', height=426, width=640)), Annotation(task_type=<TaskType.INSTANCE_SEGMENTATION: 'instance_segmentation'>, labels=[Label(key='iscrowd', value='0'), Label(key='supercategory', value='indoor'), Label(key='name', value='vase')], metadata=[MetaDatum(key='height', value=426.0), MetaDatum(key='width', value=640.0)], bounding_box=None, polygon=None, multipolygon=None, raster=Raster(mask='iVBORw0KGgoAAAANSUhEUgAAAoAAAAGqAQAAAACzachDAAAAaklEQVR4nO3P0QmAMAxF0dbJOpk4mpvVEQzysCLnfIebpDUAAAAAAAAAAAAAAAAAAAAA/mMvzGzppYIvB3s6WCF44wgHC73VL3892NvIBksWB890cGSDs3IhAAAAAAAAAAAAAAAAAAAAj12R4QSqGQlWagAAAABJRU5ErkJggg==', height=426, width=640)), Annotation(task_type=<TaskType.INSTANCE_SEGMENTATION: 'instance_segmentation'>, labels=[Label(key='iscrowd', value='0'), Label(key='supercategory', value='indoor'), Label(key='name', value='vase')], metadata=[MetaDatum(key='height', value=426.0), MetaDatum(key='width', value=640.0)], bounding_box=None, polygon=None, multipolygon=None, raster=Raster(mask='iVBORw0KGgoAAAANSUhEUgAAAoAAAAGqAQAAAACzachDAAAAZ0lEQVR4nO3NQQ2AMBREwQYDRQJS6l9FbXDDAdkmPxzKzHnztjUAAAAAAAAAAAAAAAAAAAD4p5mMjrzXo9VC8KwOZgTfXLM4mBH8NDiqg5mF4D2qzwEAAAAAAAAAAAAAAAAAAADYwQMDsQOXG45iggAAAABJRU5ErkJggg==', height=426, width=640)), Annotation(task_type=<TaskType.SEMANTIC_SEGMENTATION: 'semantic_segmentation'>, labels=[Label(key='iscrowd', value='0'), Label(key='supercategory', value='floor'), Label(key='name', value='floor-wood')], metadata=[MetaDatum(key='height', value=426.0), MetaDatum(key='width', value=640.0)], bounding_box=None, polygon=None, multipolygon=None, raster=Raster(mask='iVBORw0KGgoAAAANSUhEUgAAAoAAAAGqAQAAAACzachDAAAFJklEQVR4nO2ava7jRBiGX+dkcSSkJOVW2HAFiAYqYu7klFtQ0CBtgRR3UIB2LyGXQMEFTHEkVjScS/BBuYActEg5u3GGwj8Z29/82lqC9D2NxzPjx9/M+Gc8CcAwDMMwDMMwDMMwDMMwDMMwDMMwDMMwDMMwDMMwDMMwDMMwDMMwDMMwDMMwDMMwDMMwDMMwDMMwDMMwDMMwDPN/ZbabyrSoNvFJkY+3xkLdGy+MjsJax05WbRYAvpTy95OprqcwkVLK8X2YAji0KZVAYVFt1vXu6Ag/TgEAcTEsChLGbwEAqyNRFiR89wIAXh2osiCh3OXdjDmZdCc6PjSpMwDg5rBuygIizPFJk4zPdeK+LfUULgEgMtUIiHAu0ymECyAHAGy+IkqFv7BpaSRms8xQy2OU5xmw/v7c7l+iwlPeJt0iTJvEp+dbZMh7xU+LS9q1yRmAz5AIzCYZ5ef1NrUf5xjhLeZ11bWlppvwWQ6gulzmwNlU1U04Q46NKABgUXWhth/dhBnwRSdjjfa9EiL8DkhE75otBhdPhcuFvQQSyF5m0s+ocYnwn14wOVmrxiHC5MW3AM6W0W1wiDB96SJyEkb1a+1QbcRo4dexFEgGnixYKIDPN0W7qzxT9FKTMAKwEnTRTneQaZQ/6ux1YloudQc53SlzdOZDqamuSbgg8jT3h5tw3dvPbTKbMAiTMNXkr0OFLQsHkYNwmTWp1lSMEn6Tq3tH4LZOUqPvIvy1n5EP6/gI+6+hi874DNULQ0pshSramzdUaJzQmIXbHIDjG6RC/V4ZCivfkii50QkPhpOtpJQFBJI8lgP+lPLHYa6Uhd63kVJKkQgkxQ11KI0q7DZsIwAgvU2RPsd4Vu0pD9hKosk6hM0nj5DylbvwQPoSpcYpcrfJbh+21+tKPY185rUsoV70zaBsOmFHXh+p5e0wb9NrxIpomFuTqwi3oneC1z4RDtl6xWOOcApf5zqcAZt8XPu6zIj53zjhqhgvEarwMN7X4YPObZzJphamUwvXUwtVIusc1wGphDVJhNFhYqH6Yp6kyerCzTQRKnOR67xT1D680giLqYUK0wjF1EKFaS5sZS5ynX2otvI6I1S/QP7jCB9SMludnfoJi7+sVbyEZSZzWx2vC/shRUz9DlUqM2gfYTkHvRKkCn2avAfsSyM+EVYL2MRnb2CEjwAAmZlreQhfV5s3FonzzPxEHVF9Pp+DhKI5IumeZNUVOg/KpeNvLnfa4xoAcA6ZLN1d1GmbvB9KXIXq4O7blKBqulGox2ybXMLn2oeddaDm21oS7XNs8kNn7+96S60VOQrTzp7px1G3JvfbVt/QT8TSpFuE/ZU0ww3tOCh9Y/WcDY9wwJO2xFGY9zPSkcIBe22J240yPG4rpaReWI7CfHBcrBEGT0WUH709hWVG5+/oBW37ItedRrg/vaeisUZYZkJT8PIP8kcB23CISEp6DTOmQ7f4joh1Qrq3bE1+A+3qLr1maRGWGfZ4azmpu/CIPVDOfykfhLvR1IGPP1d1fvAJ0SQ81HWo/6/ocLr17qcSNiLyqRIiFB4iJ2EWIDS+pFx/NlK5zo9HZ2EeIPxwfVgGyIzC+/W0QvlbmE/7cMhxQ854rWgGpZwjOk85KHeAzMPGhWzwCQA2Qf+/pSO8A4DC611ijLCaQVP/cg2MsFr7eLcLEZKjHDK6DVSE+gl0oPCnMUKiyWXQn20biAjvhlkeDCMcFyARof6DIVC4GyccNJn6qPbh+l+j/wIg/GK2agp2AAAAAABJRU5ErkJggg==', height=426, width=640)), Annotation(task_type=<TaskType.SEMANTIC_SEGMENTATION: 'semantic_segmentation'>, labels=[Label(key='iscrowd', value='0'), Label(key='supercategory', value='plant'), Label(key='name', value='flower')], metadata=[MetaDatum(key='height', value=426.0), MetaDatum(key='width', value=640.0)], bounding_box=None, polygon=None, multipolygon=None, raster=Raster(mask='iVBORw0KGgoAAAANSUhEUgAAAoAAAAGqAQAAAACzachDAAAA6UlEQVR4nO3WMUrEUBSF4WiEsbCwtzBLcWmDtYtwKe7A1jJLSKk4+lzC3AsHIvp99eF/CYFHpgkAAAAAAAAAAAAAAAAg5SkdfA337sexsLrsJB/SwSUdvE0HKxrBJR2saQW3dLBi3+CaDi7pYEUr+JwOVjSCazq41ac1h/GSDc5jLaz2vQ+v08GweXwXVq0nvMgGr6bp2Dn+rMMYb9HgPMbp/Kr3lQvrPW+bm3SwphF8TwdPSzj4VVr9sT8HwV8YfAwHt8po11f+GOHgZ2XUCd41tkW1KxEAAAAAAAAAAAAAAAAAAACAf+UH0Fcc8hX4rZ8AAAAASUVORK5CYII=', height=426, width=640)), Annotation(task_type=<TaskType.SEMANTIC_SEGMENTATION: 'semantic_segmentation'>, labels=[Label(key='iscrowd', value='0'), Label(key='supercategory', value='furniture-stuff'), Label(key='name', value='light')], metadata=[MetaDatum(key='height', value=426.0), MetaDatum(key='width', value=640.0)], bounding_box=None, polygon=None, multipolygon=None, raster=Raster(mask='iVBORw0KGgoAAAANSUhEUgAAAoAAAAGqAQAAAACzachDAAACGUlEQVR4nO3ZQU7DMBCF4QkFtWxIbkAX3IADtEfiBJCjRZykCw4QsapEG7MgSNSpnBlnChH6v00FSl4ntWNbtgiAWapsl18prrn2DjRRBBaugYvaFDf+Zcu2Cm6/4U3Yy+ruVj5qp8CVXEtVvBrSZKxLLILIgy0wVWFlixoPzJIKXDt/Vxm+We5KVLjPKiMReMgKTL2oQXNRLNUojSFH5d65UaTNqeJXO3ZWv0k2YNBcFEk+8rb/rA2BSYu+lRvDPckKj/XX5zq3ooF+fGjLRn1Lutu897lP+TVFHkv7r5jWt4u+S469KUdrBaOvXi0ilpdmNLAREZGVX+BOHaUMbEUkd345q3BuZQnbKeWcs7RVqGB85nH33UsIQTtLK+aUt3flhXob3wpt/iZwJ/qlkyqwVYapFYaOqKow1PnFnFfqu41SCJ1v4KZ79g1ctr55AABARF5MuzoKIVr4TF1wDjZMpgYO7v8na2wCLx249Q48RWCOtWtgF28VOVTYTI/4ybYPrxBPAe6tPJn3nDIwu0lqYHbD15X3qzc4W3V45Mo18BBvSc+ulQfbOQ4Vnu6KOQS2roHh4iP2HMfD079nN3y5r7HdB4dVfHI6u3e58g4U7ylgHf9jdss58Z4CxHv42tnPJtMK7z192TifOkjpeoYocoHjIAAAAAAAAAAAAAAAAAAAAAAAAAAAAAAAAAAAAAAAAAAAAEDvE4uMlc2DlIzIAAAAAElFTkSuQmCC', height=426, width=640)), Annotation(task_type=<TaskType.SEMANTIC_SEGMENTATION: 'semantic_segmentation'>, labels=[Label(key='iscrowd', value='0'), Label(key='supercategory', value='furniture-stuff'), Label(key='name', value='shelf')], metadata=[MetaDatum(key='height', value=426.0), MetaDatum(key='width', value=640.0)], bounding_box=None, polygon=None, multipolygon=None, raster=Raster(mask='iVBORw0KGgoAAAANSUhEUgAAAoAAAAGqAQAAAACzachDAAACN0lEQVR4nO3bzW3bQBCG4Y9REOsQwB1EBlJIXEpKcAEBxHTiElwCS3AFAX3zKSCcHATD0OQQOD/grODMjGIZep/jCny1JK0VKdASAAAAAAAAAAAAAAAAAAAAAAAAAByr0407/CocvDg5rw1KV9XBt4lt59ZmD954ZoauTNDdNhwc/uVdMsLBsTrYEg5O1cGWcNBfGnIzrP2kuLWMhVWvh42jGA5udV0bbAkHrbk8hIuTOxzf5d4fThxD/yslHhy+FwcbEsFl3SwkSStzhzO7PFYH31UHXZlgVx10xYNTdbCBIMGXHWxcfh3QDAkeYLBxTXxAMzzG4Lfq7+Wv7mg8uPWH40H/ag4AACDtvDo4xC95Glu6l34J9+8ra0vJKq/V1lNtcG25oH9S+upgwiw4SNLQuCKPBE1LdUO4Nw9+6d3hePBWuTsGdyqLyuDD8HiT9CmR/dNqo85MZrEz7ezyRiZZdMWZB8+WxbdxK3sU2ny2X922/dpTzHY5++He/+KQfXhh/8cwiyBBggSfP9hXB2t0v75F7Tqy/X+d4RTZ/mX/2RxhMPQwyK7gm+rgfXUwZFew9bxdODhVB0N2BcfqYMiO4N1Q8g6/18Or2PazgW3zpSdp73Lwhq8dDP6Osf+znL21dWb4uW+9Egv+7N1Fj6FnZR9sXIfWGn/Hzm4kXb6uC46Xo8bbWK/h1PrY8tpyYtJFZXBR+HOfJGlbHfT/yyERrD0jkvSxOggAAAAAAAAAAAAAwF9+APWcj5v3vInGAAAAAElFTkSuQmCC', height=426, width=640)), Annotation(task_type=<TaskType.SEMANTIC_SEGMENTATION: 'semantic_segmentation'>, labels=[Label(key='iscrowd', value='0'), Label(key='supercategory', value='window'), Label(key='name', value='window-other')], metadata=[MetaDatum(key='height', value=426.0), MetaDatum(key='width', value=640.0)], bounding_box=None, polygon=None, multipolygon=None, raster=Raster(mask='iVBORw0KGgoAAAANSUhEUgAAAoAAAAGqAQAAAACzachDAAAEKUlEQVR4nO2aQY7jRBSG/3QaEkRDLLGYWSDiI7BkgdS+AVfoI7CYBSvi3XAEln0UIyFmO0cwaCSGFWbUEiPU5LGwHSeO86peVU1nRP/fxmVX+XO5XLarng0QQgghhBBCCCGEEEIeC18ay1+4CvyZWnhTJxbii2TCdVMAwMwmVFhLvQJEbHupp/w0a8z1U4WLm5XVp7EWERHZ2vZyX2Uj/wfhI2zDV6mFT5MJ83bxNpmwY5laaMQtTH7KRs4gfP8vSnLhZWqhEQopfHfCudRphcDn8cLiYG0eLxzxVSrhXbd8USUSNn3i60TCuk/M69OFLMKBLI0wNxzSS1jvUldphAPzIrHQa2ZqasMfkgiNmIQfphb6TAhMwvvUQp+holuYHa7m0cK94VwD4BtHNU2DpRoAFjeRwlGJDD9GCgH01awAuC5NwJ2yHL+/QoT7PXBRrm+jhQeowSbPCXjbhkW7ZaEVf8inTXkqIwsUhmHq2HkS4buMimTtQp39nfed4vOmP28N79xFbMImtdAHi9BranHei1K0i59meSJhR6VlWoRed7W5hrfRwtEIyRif3KeNi8s9ACx2KWyMHwdGwu1YuBEptb3eixl9mViot6FLONH39E8sLuFsYmBdxginKOKEwwjW6+DmOyVeeEy+iRBO1S8rq3DhFDNtkBN4652OM4UIr/DZzyczjTHgjo8/OZkVdsrKyyBEeKH1TZdwetqkTKZOC7WHShMiPGZouTqN0AuL8FmfkCKNsOoT/yiFDMJfX/YpbcYc1IYvlbygDzRVhLBpF4dznTJC2DG0mmR6SZewy1+i782/vYkTHlE7hg7m52HlyA/pNlq/fvB72fgt2C2cfDSrRzGfcuHI14VvjsO4VVSYZXHtqI9V+LreW8n7RBkuzF5/f7e7Lpla1E+4xG1zMawAcP5lpQsvIa8+GFa6PYpwIYBCbzKj8B5YjivkCN54dOzcucEozNxFLEKf4I9JOIyMug4ZFbq/nBhbOuYtuvAC+HTfDgDb6BhsPd6QPCAZ8YA9uG/9rndIDZtIYdUtd01XRwmHBtuNCaqpct7CgV0bllHCYe+mW4ZGlmYiIsALAYCVSB/fnEV9QionYo/6F1LnKWdHTaaOldxC429flvFhDQDYLNUvSEoNJZ/e/p1+WOWU8y6/GG3/PVQ4FvmhCKv9lbfD1jroQG1flnouUi+B1d+yLQAAG/klRigiUl+1wnbzWp7HCkVy4En/5/i1hHabPUrgj/yvbiU46jzbVXCbA1g3fYbP3w6TrARzEWza58zaGEecqmKrWLSR8Gv7lOUEi/ZyXOsBdgNz22/yPlfZJHQ/vv796FuLkGhk564AGVOeuwJOinNX4OEpzl0BQgghhBBCCCGEEEIIIYQQQgghhBBCCCGEEEIIIYQQQgghhBBCHjv/Afym/bqpBvl3AAAAAElFTkSuQmCC', height=426, width=640)), Annotation(task_type=<TaskType.SEMANTIC_SEGMENTATION: 'semantic_segmentation'>, labels=[Label(key='iscrowd', value='0'), Label(key='supercategory', value='ceiling'), Label(key='name', value='ceiling-merged')], metadata=[MetaDatum(key='height', value=426.0), MetaDatum(key='width', value=640.0)], bounding_box=None, polygon=None, multipolygon=None, raster=Raster(mask='iVBORw0KGgoAAAANSUhEUgAAAoAAAAGqAQAAAACzachDAAADp0lEQVR4nO2ZPW7bMBiGX1UF5M05QFF77Q2Koqh1scICeoEOPUCOIhQdAmTJAToIQVBkqxx0sFDL7GDrh9RHmyKJTu+zxCKlJx+pjz+mARPlTzGRAcDWXwgArybCUvw3ThSisPIXAkAyKVnWQbJphH+8fQ1EYestvLOUbzzf8RFyhHjwDPAFgPRSkB78hCeVEKFnJ54fE4TItavaUfh0+iM0GclRE94cXrsIzyYpQrV2DGpMA7sQj7nmdxIuLgnVQ/+xLZx0fYA21H6rVKuU2i9/469DVpdXhFm5UWqPTNXJL5cpckhdywts8hTY44BafXJp8VP/SexD4JynbbLGz6u2u3FeWIXInVP6A74PF3bhD0cdWvU5dxG2eeUmPODb6EoaehMup3azGF/ZI/QkgnAfW/igXUXoQ10RIcLqgt7C/43QmLjChcbyHtzk1pivnCIs7FXPT/Y6Oxc2J5l5r1OElbWmnawlTsJ6l1tq7iclTsLdV1vNO5fHJSy9+GV6p1PaANleKjVTBghMbCllHCOUd/LSw44Rii0WB1BIk8XWOQoXUqG4QQpp8nOAUOQ2tlDEUdiInRggROO0cZ8hxNEsyI2vH3OF5o07UTeD1NxUr1QVU3jAMlCY6cIKmexznG3MGVFZ+94zsR+tNZ7CW2uNc5O1r+XS3H/GL7EvbBecI9Tm5wtPuffhevh47aunG8mQhEUU4bDY13F8w1gpIwm70WxMZKtCu5yR2N15zoteXJnnMu5spVeyCuiDVGhxepp6BuaM5XY9LXvjEdiInZk0iQqJEFjCOAt7O7ll5vRV6Dv4tJJvcyfTX/JGTZo836jrA/sQWIyF773jGliN0rBfWavRDbPXlJHwo1QfsJ1LyxjC9fBRDHB+hP3il5VxhD2WLehc4abzZLV3KBrr7sN2tHOK4V4OK2AcYR8dsNWEni8l7cVmjaew3yxN9vKeQvsvJKERxhJGj3DSdaFC+2mY71guPJ+z0o2UA7CJkdjY2Sq8p68kjyy0Hdn5C9exhT1VuAJAN4EdY73lEXm4AkA/xcKYsf0jLLQ/EYSl95MWNkqpTbQ1BQDQJNW0MGSk7BFvkQJQo5Z++Qtp8s3pWLGMJDwduxzNoRcSYY1mMVmtAodeswBqbWcX/Xc9f7KutVm0M4OOwGM6QgghhBBCCCGEEEIIIYQQQgghhBBCCCGEEEIIIYQQQgghhBBCCCGEEEIIIYQQQgghhBBCCCGEEEIIIYQQcp1/zPud/30oEB8AAAAASUVORK5CYII=', height=426, width=640)), Annotation(task_type=<TaskType.SEMANTIC_SEGMENTATION: 'semantic_segmentation'>, labels=[Label(key='iscrowd', value='0'), Label(key='supercategory', value='furniture-stuff'), Label(key='name', value='cabinet-merged')], metadata=[MetaDatum(key='height', value=426.0), MetaDatum(key='width', value=640.0)], bounding_box=None, polygon=None, multipolygon=None, raster=Raster(mask='iVBORw0KGgoAAAANSUhEUgAAAoAAAAGqAQAAAACzachDAAAESElEQVR4nO2czW7bRhRGvxmqkRZuJWQVFEVF5Am8zCKA+Sh9jG4KM+/VBYEESNBVXiAAHXjRJQNkIQG0bxeypCE1tCneTwUj37NJONAcX3J+OeQQMAzDMAzDMAzj2fGCLUxyrm8qNVPnMYNHkhGVS5F8XnKFIjyh3/zzG1vo2UKXk4XI2MIUtAu5FBERAVxdEHS70qjgk0umcF5MMCMId6cs9VJWBJ1z9/uDNSFEXo3eCkPjilEfE9mzAtR9o78IDlZAUmqFlVJwIGweOiy4QlFX7pZwqdSdoh6GB4y23IowxVRrlEbFnqsHQCfBwXqW1MBXSRVC/6ZxOAHwu0IHTD4HB9O/3wPAK43QTSO9qlMIfax70XQ50YqdFArhXRZJTRXCaOqCLVS0wdN2DjsUA/T/FKEJTfiEMGMLyZjwhxFWbKECE55KWLKFqUZYRFIXGmE5PHNc+C9bSMaEpxJWbKECr7tvigkrtvAbW4icLSw4q3wNpEU5XLWpNpr72aiQaNxWbJpx11JcShbihmMM2vJNRjGGbBeMpWAZr2S77M5iE+P90z/szfUxEfa6NPMjIpSqz6+ujhD2Wkpw0vdBnxPJ2cL6wHg4SAncbT8hEHnCGBn1/tJMD2PC/vGxSaiPLB+EBzVMM3OYAHCFQtAmEZF+jaUn01i710+WSrawhUYYnXGMKsINC7awhV7YupJ64YQtbGHCsxT6Rw8H0HorZISnbEITPgehhnnstmuEp9y6V6FHOHn6J52sAOD2rpmonn19SXnC74q8UZLYnbC2UNZM4T3uForshzip8ZYtpL7m62I31iNsy89KGO1YxjQETKPrMYoI46vVCuElWxhHIcxoQTwwZxcKnYQd4UU0dUylzHg3ugm9lFNF3ijjH1OiC/KjitCEJjShCU347IUFWdjc3kEQzj6SZjk/i9Sbx/qhUBHhy2jqKEuZJSzJQofoNpERnXJHzhFFOH5hxz7Y4cI/Bufs4GGTJLFziGPCI8jZwg7OWViwhR2cs7BkCzs4Z2HFFnZwzsKOefDJI5zmXOG1ekLfeISRED77EkZ4VeOI9fOOP76N8Kp4+I/2Te9thNk24XXOEAaPRrQ7I4bXw473gw+Ek2zwnwiYBV/GKHvmcY/NDy81j+qb+BLA9YegVMojckfalV/mAPxin5IeG9M6awjxJwC3D6v3pxK2y+Iyawlbl+/oF+T/wbvQqO4Pb94Anx4T9n95YQHgsAwPhL/0FiI6lKpOeZ1GEqWGC3fj9C+UeRVLdQLX6KhFWUweA2rKU0LqUOqB/C7nCjsn9IOYAD8R97cAHviV6YNnP0B07fNl1EMqJjShCU1oQhOa0IRnLWStitA4ufCbest/8zMJhVbXEhJ8obAi6EIhx7cXlhwfyPHthAXLB7ZvI8x5PrB9YPtAvX4AwN0JD9XHdgzDMAzDMAzDMAzDMAzDMAzDMAzDMH4U/gNdKLFtVkdnCAAAAABJRU5ErkJggg==', height=426, width=640)), Annotation(task_type=<TaskType.SEMANTIC_SEGMENTATION: 'semantic_segmentation'>, labels=[Label(key='iscrowd', value='0'), Label(key='supercategory', value='furniture-stuff'), Label(key='name', value='table-merged')], metadata=[MetaDatum(key='height', value=426.0), MetaDatum(key='width', value=640.0)], bounding_box=None, polygon=None, multipolygon=None, raster=Raster(mask='iVBORw0KGgoAAAANSUhEUgAAAoAAAAGqAQAAAACzachDAAABcklEQVR4nO3XP2rDMBiGcbkJ/QMBe+zW0BNkCt3i3qqjtl6hx8lR0htobGjxl8F1bYIMib8X6uH5LVYEeiJjO8QhAAAAAAAAAAAAAAAAAAAAAAAAAAAAAAAAAAAAAAAAAAAAAAAAAAAAAABwlZU6WMRNuFEG7VBqg/HxU1gr087sIxSyYNGEEOxZ1gtPZmb2rduhtQfZRel2Jr3K0qCpgx2CDlEdDPMMvomDi3ez5CqcKc3MrH1Idu3Yt8NNe2gGU75g7Vqd0Z6lNSFoTjn36+wKdouLzJyMK7hUB3MIzilYK4OxH87rlH8yc7mb/VIPTWbSs8PtlzgYc5OOYFGLg2eiO5hfqtlhrQ6uJf+xB7dw1Q81O1z1IU1w0Q9Ft83e9Qz/urNe+vvkCN8PxmX3mjKr38O1Olirg3nTg8tKHBxZOf2N/vZ4zfdc4CU/PT34qg7u1cER04MHdXAEwf8MJnVwxPRgpQ4mdbBSB5M6OEIePAE81VQOiASqAQAAAABJRU5ErkJggg==', height=426, width=640)), Annotation(task_type=<TaskType.SEMANTIC_SEGMENTATION: 'semantic_segmentation'>, labels=[Label(key='iscrowd', value='0'), Label(key='supercategory', value='wall'), Label(key='name', value='wall-other-merged')], metadata=[MetaDatum(key='height', value=426.0), MetaDatum(key='width', value=640.0)], bounding_box=None, polygon=None, multipolygon=None, raster=Raster(mask='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', height=426, width=640)), Annotation(task_type=<TaskType.SEMANTIC_SEGMENTATION: 'semantic_segmentation'>, labels=[Label(key='iscrowd', value='0'), Label(key='supercategory', value='textile'), Label(key='name', value='rug-merged')], metadata=[MetaDatum(key='height', value=426.0), MetaDatum(key='width', value=640.0)], bounding_box=None, polygon=None, multipolygon=None, raster=Raster(mask='iVBORw0KGgoAAAANSUhEUgAAAoAAAAGqAQAAAACzachDAAACSElEQVR4nO3YMXIaMRTG8UeUCS48NmUKJnAElymYMUfhDm7SsTNpcqxNlWtsupSbLs5seCkIGLNP0pOgy/9X4V3pm0/I1oJFAAAAAAAAAAAAAAAAAAAAAAAAAAAAAAAAAAAAAAAAAAAAAAAAAAAAAAAA/gOLLjvkTVHg8kNlk4ig2lw1cKH665p5QVU1N6jkPZyLiPSZQZOCQBUR0UyFgob3+wZtQYW0rapqdlv8Sw6Da4p/yavDiy45zN3wWFD+vE2Nczc8FpTQpcZ5G052L6+TFb0NT0+F0DgnpeipPjHQ2XDx6qe76l5H+loXH+nblNMtEUn+QfuWfH5oJf6gnb8254nPN1cOjM9z7nJzfqG7MHBkXjnvQEeaywK3o8DYOVu7ZJk2tYGhta9vagNXkcC5fYhlA0O7jtz4ku1ietyJiDyOtzmyLbmG0/Z37JY9NRf4UX7EbiWfVTFBdZBbe8mDOSPZ8EbmImF4Cot1TZuxu6d9l89Gv1jDpPt/U7+ZgXW7LCIiDwUlkoGHoOjxXBq4LghyBbYVgclnSvoT+s+ZdbX6PIy5ILArD2ySge21A23RwJCbOfRlgQ/2+Be7zP0zk21vPY1PPJcFbnXIBH4tyguqu0xgY8+MvIcrkUmT3pd1SWBo4zMy7MCViMjyNjlzWRC4/8T7fuYslQ/cf8t5t6kJNI+v7D8WRES+L83LVsOpu44z8NMlgcaSg++Bax/YVsPV+FKBcUNnQf+meL8wzOzL48CNM7C3L4+WfP7FM8q/KZe5euBfiwNRwqnZQjcAAAAASUVORK5CYII=', height=426, width=640))], dataset_name='coco2017-panoptic')"
      ]
     },
     "execution_count": 20,
     "metadata": {},
     "output_type": "execute_result"
    }
   ],
   "source": [
    "gts"
   ]
  },
  {
   "cell_type": "code",
   "execution_count": 18,
   "id": "737e3e25-aa4a-4934-ad5f-da770bffa44a",
   "metadata": {},
   "outputs": [
    {
     "ename": "TypeError",
     "evalue": "'GroundTruth' object is not iterable",
     "output_type": "error",
     "traceback": [
      "\u001b[0;31m---------------------------------------------------------------------------\u001b[0m",
      "\u001b[0;31mTypeError\u001b[0m                                 Traceback (most recent call last)",
      "Cell \u001b[0;32mIn[18], line 1\u001b[0m\n\u001b[0;32m----> 1\u001b[0m instance_mask, instance_legend \u001b[39m=\u001b[39m combined_segmentation_mask(instance_segs, label_key\u001b[39m=\u001b[39;49m\u001b[39m\"\u001b[39;49m\u001b[39mname\u001b[39;49m\u001b[39m\"\u001b[39;49m)\n",
      "File \u001b[0;32m~/velour/.env-velour/lib/python3.10/site-packages/velour/viz.py:86\u001b[0m, in \u001b[0;36mcombined_segmentation_mask\u001b[0;34m(segs, label_key)\u001b[0m\n\u001b[1;32m     57\u001b[0m \u001b[39mdef\u001b[39;00m \u001b[39mcombined_segmentation_mask\u001b[39m(\n\u001b[1;32m     58\u001b[0m     segs: List[Union[_GroundTruthSegmentation, _PredictedSegmentation]],\n\u001b[1;32m     59\u001b[0m     label_key: \u001b[39mstr\u001b[39m,\n\u001b[1;32m     60\u001b[0m ) \u001b[39m-\u001b[39m\u001b[39m>\u001b[39m Tuple[Image\u001b[39m.\u001b[39mImage, Dict[\u001b[39mstr\u001b[39m, Image\u001b[39m.\u001b[39mImage]]:\n\u001b[1;32m     61\u001b[0m \u001b[39m    \u001b[39m\u001b[39m\"\"\"Creates a combined segmentation mask from a list of segmentations\u001b[39;00m\n\u001b[1;32m     62\u001b[0m \n\u001b[1;32m     63\u001b[0m \u001b[39m    segs\u001b[39;00m\n\u001b[0;32m   (...)\u001b[0m\n\u001b[1;32m     83\u001b[0m \u001b[39m        if segs is empty\u001b[39;00m\n\u001b[1;32m     84\u001b[0m \u001b[39m    \"\"\"\u001b[39;00m\n\u001b[0;32m---> 86\u001b[0m     \u001b[39mif\u001b[39;00m \u001b[39mlen\u001b[39m(\u001b[39mset\u001b[39m([seg\u001b[39m.\u001b[39mimage\u001b[39m.\u001b[39muid \u001b[39mfor\u001b[39;00m seg \u001b[39min\u001b[39;00m segs])) \u001b[39m>\u001b[39m \u001b[39m1\u001b[39m:\n\u001b[1;32m     87\u001b[0m         \u001b[39mraise\u001b[39;00m \u001b[39mRuntimeError\u001b[39;00m(\n\u001b[1;32m     88\u001b[0m             \u001b[39m\"\u001b[39m\u001b[39mExpected all segmentation to belong to the same image\u001b[39m\u001b[39m\"\u001b[39m\n\u001b[1;32m     89\u001b[0m         )\n\u001b[1;32m     91\u001b[0m     \u001b[39mif\u001b[39;00m \u001b[39mlen\u001b[39m(segs) \u001b[39m==\u001b[39m \u001b[39m0\u001b[39m:\n",
      "\u001b[0;31mTypeError\u001b[0m: 'GroundTruth' object is not iterable"
     ]
    }
   ],
   "source": [
    "instance_mask, instance_legend = combined_segmentation_mask(instance_segs, label_key=\"name\")"
   ]
  },
  {
   "cell_type": "code",
   "execution_count": null,
   "id": "9febaa28-6cfd-426b-b637-437bc5594687",
   "metadata": {},
   "outputs": [],
   "source": [
    "instance_mask"
   ]
  },
  {
   "cell_type": "code",
   "execution_count": null,
   "id": "fd651c08-c554-4fb2-9dab-4b44679c500d",
   "metadata": {},
   "outputs": [],
   "source": [
    "for k, v in instance_legend.items():\n",
    "    print(k)\n",
    "    display(v)"
   ]
  },
  {
   "cell_type": "code",
   "execution_count": null,
   "id": "ec1592a5-375a-4472-98d6-01f519ce2538",
   "metadata": {},
   "outputs": [],
   "source": [
    "semantic_mask, semantic_legend = combined_segmentation_mask(semantic_segs, label_key=\"name\")"
   ]
  },
  {
   "cell_type": "code",
   "execution_count": null,
   "id": "e68e5396-03b8-45ad-bed6-9c9c06315da2",
   "metadata": {},
   "outputs": [],
   "source": [
    "semantic_mask"
   ]
  },
  {
   "cell_type": "code",
   "execution_count": null,
   "id": "300e6751-68bb-482f-99b6-e0ee8b28c1ef",
   "metadata": {},
   "outputs": [],
   "source": [
    "for k, v in semantic_legend.items():\n",
    "    print(k)\n",
    "    display(v)"
   ]
  },
  {
   "cell_type": "markdown",
   "id": "8b4ea8d6-9916-4c9d-b913-b7e47d971f2d",
   "metadata": {},
   "source": [
    "# Model inference"
   ]
  },
  {
   "cell_type": "code",
   "execution_count": null,
   "id": "01a65438-5e69-4577-9a7d-6d796fb164e0",
   "metadata": {},
   "outputs": [],
   "source": [
    "from chariot.client import connect\n",
    "from chariot.models import Model\n",
    "from tqdm.auto import tqdm\n",
    "\n",
    "from velour.integrations.chariot import create_model_from_chariot, parse_chariot_object_detections"
   ]
  },
  {
   "cell_type": "code",
   "execution_count": null,
   "id": "b928fc11-f025-4785-8439-a3c2fb1c69bd",
   "metadata": {},
   "outputs": [],
   "source": [
    "connect(\"https://production.chariot.striveworks.us/\")"
   ]
  },
  {
   "cell_type": "code",
   "execution_count": null,
   "id": "97ac2e65-1277-4098-b196-0adb71ac3eb5",
   "metadata": {},
   "outputs": [],
   "source": [
    "dataset = client.get_dataset(\"coco2017-panoptic\")"
   ]
  },
  {
   "cell_type": "code",
   "execution_count": null,
   "id": "43969bb6-102c-45fa-b6a0-0f01d840da2d",
   "metadata": {
    "tags": []
   },
   "outputs": [],
   "source": [
    "model_name = \"fasterrcnnresnet-50fpn\"\n",
    "chariot_model = Model(name=model_name, project_name=\"Global\")\n",
    "\n",
    "try:\n",
    "    velour_chariot_model = create_model_from_chariot(client, chariot_model)\n",
    "except ClientException:\n",
    "    velour_chariot_model = client.get_model('chariot-'+model_name+'-v'+str(chariot_model.version))\n",
    "\n",
    "\n",
    "try:\n",
    "    for image_metadata in tqdm(dataset.get_images()):\n",
    "        image = download_image(image_metadata)    \n",
    "        \n",
    "        # Chariot Inference\n",
    "        detections = chariot_model.detect(image)\n",
    "        velour_dets = parse_chariot_object_detections(detections, image_metadata, label_key=\"name\") \n",
    "\n",
    "        velour_chariot_model.add_predictions(dataset=dataset, predictions=velour_dets, show_progress_bar=False)\n",
    "except ClientException:\n",
    "    print(\"Velour Chariot model already finalized.\")\n",
    "    "
   ]
  },
  {
   "cell_type": "code",
   "execution_count": null,
   "id": "cae341dc-44b8-47e3-b99c-486c475b4c1c",
   "metadata": {
    "tags": []
   },
   "outputs": [],
   "source": [
    "model_name = \"yolov8n-seg\"\n",
    "yolo_model = YOLO(f\"{model_name}.pt\")\n",
    "\n",
    "try:\n",
    "    velour_yolo_model = client.create_image_model(model_name + \"\")\n",
    "except ClientException:\n",
    "    velour_yolo_model = client.get_model(model_name + '')\n",
    "\n",
    "try:\n",
    "    for image_metadata in tqdm(dataset.get_images()):\n",
    "        \n",
    "        # YOLO Inference (before)\n",
    "        image = download_image(image_metadata)\n",
    "        results = yolo_model(image, verbose=False)\n",
    "\n",
    "        velour_dets = parse_yolo_object_detection(results[0], uid=image_metadata.uid, label_key='name')\n",
    "        velour_yolo_model.add_predictions(dataset=dataset, predictions=velour_dets, show_progress_bar=False)\n",
    "\n",
    "except ClientException:\n",
    "    print(\"Velour YOLO model already finalized.\")"
   ]
  },
  {
   "cell_type": "code",
   "execution_count": null,
   "id": "92993647",
   "metadata": {},
   "outputs": [],
   "source": [
    "print(velour_dets[0].scored_labels)"
   ]
  },
  {
   "cell_type": "code",
   "execution_count": null,
   "id": "7a37ebaf",
   "metadata": {},
   "outputs": [],
   "source": [
    "datums = []\n",
    "def bulk_inference():\n",
    "    pass\n",
    "def parse_bulk_inference():\n",
    "    pass\n",
    "def convert_to_bulk_inference_format():\n",
    "    pass\n",
    "model = None\n",
    "class Datum:\n",
    "    pass\n",
    "yolo: callable = None\n",
    "parse_coco_panoptic = bulk_inference\n",
    "coco_to_velour = None\n",
    "yolo_to_velour = None\n",
    "\n",
    "\"\"\"\n",
    "\n",
    "\"\"\"\n",
    "\n",
    "with open(\"./coco/annotations/panoptic_val2017.json\") as f:\n",
    "    datums = json.load(f)\n",
    "\n",
    "## Dataset Creation\n",
    "dataset = client.create_dataset(\"coco2017-panoptic\")        # NOTE: Dataset/Model will determine type based on the data uploaded to it. \n",
    "dataset.metadata[\"href\"] = \"some url\"\n",
    "dataset.metadata[\"description\"] = \"the coco dataset\"\n",
    "dataset.metadata[\"project\"] = \"some project id\"\n",
    "dataset.metadata[\"can be anything\"] = 123\n",
    "\n",
    "## Ground Truth\n",
    "for image in annotations:\n",
    "\n",
    "    # Create Datum\n",
    "    datum = dataset.create_datum(image.uid)\n",
    "    datum.metadata[\"type\"] = \"image\"\n",
    "    datum.metadata[\"lens_zoom\"] = 0.4\n",
    "\n",
    "    # GroundTruths (Custom)\n",
    "    gts = [                                                 # This for-loop is what a parsing integration abstracts\n",
    "        coco_to_velour(detection)                           # NOTE: Still need some form of object conversion\n",
    "        for detection in image\n",
    "    ]\n",
    "    dataset.add_groundtruths(datum, gts)\n",
    "\n",
    "dataset.finalize()\n",
    "\n",
    "## Model Creation\n",
    "model = client.create_model(\"yolov8n-seg\")\n",
    "model.metadata[\"href\"] = \"some url\"\n",
    "model.metadata[\"description\"] = \"yolo\"\n",
    "\n",
    "## Inference\n",
    "for datum in tqdm(dataset.get_images()):\n",
    "\n",
    "        # 3rd-Party Inference\n",
    "        image = download_image(datum)\n",
    "        results = yolo(image, verbose=False)\n",
    " \n",
    "        # Predictions (Custom)\n",
    "        preds = [                                           # This for-loop is what a parsing integration abstracts\n",
    "            yolo_to_velour(detection)                       # NOTE: Still need some form of object conversion\n",
    "            for detection in results                \n",
    "        ]\n",
    "        model.add_predictions(datum, preds)\n",
    "\n",
    "model.finalize()"
   ]
  },
  {
   "cell_type": "markdown",
   "id": "583f9282-70b7-4d5e-911a-810d7c3502e6",
   "metadata": {},
   "source": [
    "# Evaluation"
   ]
  },
  {
   "cell_type": "markdown",
   "id": "bffb60f0-516b-4a89-b159-0359285b35a6",
   "metadata": {},
   "source": [
    "for provenance, the dataset and inferences on the dataset must be finalized before evaluation can be done"
   ]
  },
  {
   "cell_type": "code",
   "execution_count": null,
   "id": "c8f4179d-0314-4d79-81f1-b9b309452250",
   "metadata": {},
   "outputs": [],
   "source": [
    "dataset.finalize()\n",
    "velour_chariot_model.finalize_inferences(dataset)\n",
    "velour_yolo_model.finalize_inferences(dataset)"
   ]
  },
  {
   "cell_type": "code",
   "execution_count": null,
   "id": "85404d81-b422-41c3-b7fc-4c6ba727eaf4",
   "metadata": {},
   "outputs": [],
   "source": [
    "import time\n",
    "\n",
    "def evaluate_ap(dataset, model, max_area=None):\n",
    "    eval_job = model.evaluate_ap(\n",
    "        dataset=dataset,\n",
    "        model_pred_task_type=Task.BBOX_OBJECT_DETECTION,\n",
    "        dataset_gt_task_type=Task.INSTANCE_SEGMENTATION,\n",
    "        label_key=\"name\",\n",
    "        max_area=max_area,\n",
    "    )\n",
    "\n",
    "    while eval_job.status() == 'Processing':\n",
    "        time.sleep(1)\n",
    "    \n",
    "    return eval_job"
   ]
  },
  {
   "cell_type": "code",
   "execution_count": null,
   "id": "a2b78220-a479-4f2f-8134-a24fc2e8b782",
   "metadata": {},
   "outputs": [],
   "source": [
    "job1 = evaluate_ap(dataset, velour_chariot_model)\n",
    "job2 = evaluate_ap(dataset, velour_chariot_model, max_area=30*300)"
   ]
  },
  {
   "cell_type": "code",
   "execution_count": null,
   "id": "1adefc71-c2c8-42f0-b0a9-2381263ae3f8",
   "metadata": {},
   "outputs": [],
   "source": [
    "job3 = evaluate_ap(dataset, velour_yolo_model)\n",
    "job4 = evaluate_ap(dataset, velour_yolo_model, max_area=30*300)"
   ]
  },
  {
   "cell_type": "code",
   "execution_count": null,
   "id": "8a0b0cc1-93b6-4807-a63c-9cd9e0435a27",
   "metadata": {},
   "outputs": [],
   "source": [
    "print(job1.metrics()[:2])"
   ]
  },
  {
   "cell_type": "code",
   "execution_count": null,
   "id": "1054a222",
   "metadata": {},
   "outputs": [],
   "source": [
    "print(job2.metrics()[:2])"
   ]
  },
  {
   "cell_type": "code",
   "execution_count": null,
   "id": "ea6e3abb",
   "metadata": {},
   "outputs": [],
   "source": [
    "# print(job3.metrics()[:2])\n",
    "for m in job3.metrics():\n",
    "    print(m)"
   ]
  },
  {
   "cell_type": "code",
   "execution_count": null,
   "id": "9b50dbc9",
   "metadata": {},
   "outputs": [],
   "source": [
    "print(job4.metrics()[:2])"
   ]
  },
  {
   "attachments": {},
   "cell_type": "markdown",
   "id": "ade3e294",
   "metadata": {},
   "source": [
    "# Metadata"
   ]
  },
  {
   "cell_type": "code",
   "execution_count": null,
   "id": "9dd0c0f2",
   "metadata": {},
   "outputs": [],
   "source": [
    "from velour.client import Client\n",
    "from velour.data_types import Label\n",
    "client = Client(\"http://localhost:8000\")\n",
    "\n",
    "velour_coco = client.get_dataset(\"coco2017-panoptic\")\n",
    "\n",
    "model_name = \"yolov8n-seg\"\n",
    "velour_yolo = client.get_model(model_name + '')\n",
    "\n",
    "model_name = \"fasterrcnnresnet-50fpn\"\n",
    "velour_chariot = client.get_model('chariot-'+model_name+'-v'+str('1'))"
   ]
  },
  {
   "cell_type": "code",
   "execution_count": null,
   "id": "99183b27",
   "metadata": {},
   "outputs": [],
   "source": [
    "print(velour_coco.name)\n",
    "print(velour_coco.description)\n",
    "print(velour_coco.href)\n",
    "info = velour_coco.get_info()\n",
    "print(info.number_of_classifications)\n",
    "print(info.number_of_bounding_boxes)\n",
    "print(info.number_of_bounding_polygons)\n",
    "print(info.number_of_segmentations)\n",
    "print(info.annotation_type)\n",
    "print(info.associated_models)"
   ]
  },
  {
   "cell_type": "code",
   "execution_count": null,
   "id": "98ff7e91",
   "metadata": {},
   "outputs": [],
   "source": [
    "print(velour_yolo.name)\n",
    "print(velour_yolo.description)\n",
    "print(velour_yolo.href)\n",
    "info = velour_yolo.get_info()\n",
    "print(info.number_of_classifications)\n",
    "print(info.number_of_bounding_boxes)\n",
    "print(info.number_of_bounding_polygons)\n",
    "print(info.number_of_segmentations)\n",
    "print(info.annotation_type)\n",
    "print(info.associated_datasets)"
   ]
  },
  {
   "cell_type": "code",
   "execution_count": null,
   "id": "fb36cb1e",
   "metadata": {},
   "outputs": [],
   "source": [
    "print(velour_chariot.name)\n",
    "print(velour_chariot.description)\n",
    "print(velour_chariot.href)\n",
    "info = velour_chariot.get_info()\n",
    "print(info.number_of_classifications)\n",
    "print(info.number_of_bounding_boxes)\n",
    "print(info.number_of_bounding_polygons)\n",
    "print(info.number_of_segmentations)\n",
    "print(info.annotation_type)\n",
    "print(info.associated_datasets)"
   ]
  },
  {
   "cell_type": "code",
   "execution_count": null,
   "id": "a79b58bb",
   "metadata": {},
   "outputs": [],
   "source": [
    "distribution = velour_coco.get_label_distribution()\n",
    "\n",
    "label_person = Label(key='name', value='person')\n",
    "label = Label(key='supercategory', value='furniture')\n",
    "\n",
    "count = distribution[label_person]\n",
    "\n",
    "print(count)"
   ]
  },
  {
   "cell_type": "code",
   "execution_count": null,
   "id": "c68ed238",
   "metadata": {},
   "outputs": [],
   "source": [
    "distribution = velour_yolo.get_label_distribution()\n",
    "\n",
    "label = Label(key='name', value='tv')\n",
    "\n",
    "info = distribution[label]\n",
    "\n",
    "print(info['count'])\n",
    "print(info['scores'])"
   ]
  },
  {
   "cell_type": "code",
   "execution_count": null,
   "id": "9dcc5cd6",
   "metadata": {},
   "outputs": [],
   "source": [
    "labels = velour_coco.get_labels()\n",
    "\n",
    "for label in labels:\n",
    "    print(label)"
   ]
  },
  {
   "cell_type": "code",
   "execution_count": null,
   "id": "7890e093",
   "metadata": {},
   "outputs": [],
   "source": [
    "labels = velour_yolo.get_labels()\n",
    "\n",
    "for label in labels:\n",
    "    print(label)"
   ]
  }
 ],
 "metadata": {
  "kernelspec": {
   "display_name": ".env-velour",
   "language": "python",
   "name": "python3"
  },
  "language_info": {
   "codemirror_mode": {
    "name": "ipython",
    "version": 3
   },
   "file_extension": ".py",
   "mimetype": "text/x-python",
   "name": "python",
   "nbconvert_exporter": "python",
   "pygments_lexer": "ipython3",
   "version": "3.10.6"
  }
 },
 "nbformat": 4,
 "nbformat_minor": 5
}
