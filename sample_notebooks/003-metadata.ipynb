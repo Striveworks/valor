{
 "cells": [
  {
   "attachments": {},
   "cell_type": "markdown",
   "metadata": {},
   "source": [
    "# Metadata\n",
    "\n",
    "Velour uses metadata to "
   ]
  },
  {
   "cell_type": "code",
   "execution_count": null,
   "metadata": {},
   "outputs": [],
   "source": [
    "from velour.client import Client, ClientException, Dataset, Model\n",
    "from velour.coretypes import Datum, Annotation, Label, GroundTruth, Prediction\n",
    "from velour.enums import TaskType"
   ]
  },
  {
   "cell_type": "code",
   "execution_count": null,
   "metadata": {},
   "outputs": [],
   "source": [
    "# Exploring metadata\n",
    "ds2 = Dataset.create(\n",
    "    client,\n",
    "    name=\"myDataset2\",\n",
    "    metadata={\n",
    "        \"someAttribute1\": \"someStringValue1\",\n",
    "        \"someAttribute2\": 12.34,\n",
    "    }\n",
    ")\n",
    "\n",
    "# Exploring geospatial\n",
    "ds3 = Dataset.create(\n",
    "    client,\n",
    "    \"myDataset3\",\n",
    "    geospatial={\n",
    "        ... # GeoJSON\n",
    "    }\n",
    ")"
   ]
  }
 ],
 "metadata": {
  "language_info": {
   "name": "python"
  },
  "orig_nbformat": 4
 },
 "nbformat": 4,
 "nbformat_minor": 2
}
