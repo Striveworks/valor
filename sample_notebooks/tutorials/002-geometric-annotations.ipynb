{
 "cells": [
  {
   "attachments": {},
   "cell_type": "markdown",
   "metadata": {},
   "source": [
    "# Geometric Annotations"
   ]
  },
  {
   "attachments": {},
   "cell_type": "markdown",
   "metadata": {},
   "source": [
    "Velour defines schemas for supported geometric types."
   ]
  },
  {
   "cell_type": "code",
   "execution_count": 15,
   "metadata": {},
   "outputs": [],
   "source": [
    "from velour.coretypes import Annotation, Label\n",
    "from velour.enums import TaskType\n",
    "from velour.schemas import (\n",
    "    Point,\n",
    "    BasicPolygon,\n",
    "    BoundingBox,\n",
    "    Polygon,\n",
    "    MultiPolygon,\n",
    "    Raster\n",
    ")"
   ]
  },
  {
   "attachments": {},
   "cell_type": "markdown",
   "metadata": {},
   "source": [
    "## Creating Geometries"
   ]
  },
  {
   "attachments": {},
   "cell_type": "markdown",
   "metadata": {},
   "source": [
    "#### `velour.schemas.Point`"
   ]
  },
  {
   "cell_type": "code",
   "execution_count": 16,
   "metadata": {},
   "outputs": [],
   "source": [
    "point = Point(1,2)"
   ]
  },
  {
   "attachments": {},
   "cell_type": "markdown",
   "metadata": {},
   "source": [
    "#### `velour.schemas.BasicPolygon`"
   ]
  },
  {
   "cell_type": "code",
   "execution_count": 17,
   "metadata": {},
   "outputs": [],
   "source": [
    "basic_polygon = BasicPolygon(\n",
    "    points=[\n",
    "        Point(0,0),\n",
    "        Point(0,1),\n",
    "        Point(1,0),\n",
    "    ]\n",
    ")"
   ]
  },
  {
   "attachments": {},
   "cell_type": "markdown",
   "metadata": {},
   "source": [
    "#### `velour.schemas.BoundingBox`"
   ]
  },
  {
   "cell_type": "code",
   "execution_count": 18,
   "metadata": {},
   "outputs": [],
   "source": [
    "box1 = BoundingBox(\n",
    "    polygon=BasicPolygon(\n",
    "        points=[\n",
    "            Point(0,0),\n",
    "            Point(0,1),\n",
    "            Point(1,1),\n",
    "            Point(1,0),\n",
    "        ]\n",
    "    ),\n",
    ")\n",
    "\n",
    "box2 = BoundingBox.from_extrema(\n",
    "    xmin=0, xmax=1,\n",
    "    ymin=0, ymax=1,\n",
    ")"
   ]
  },
  {
   "attachments": {},
   "cell_type": "markdown",
   "metadata": {},
   "source": [
    "#### `velour.schemas.Polygon`"
   ]
  },
  {
   "cell_type": "code",
   "execution_count": 19,
   "metadata": {},
   "outputs": [],
   "source": [
    "polygon1 = Polygon(\n",
    "    boundary=box1.polygon,\n",
    ")\n",
    "\n",
    "polygon2 = Polygon(\n",
    "    boundary=box1.polygon,\n",
    "    holes=[basic_polygon],\n",
    ")"
   ]
  },
  {
   "attachments": {},
   "cell_type": "markdown",
   "metadata": {},
   "source": [
    "#### `velour.schemas.MultiPolygon`"
   ]
  },
  {
   "cell_type": "code",
   "execution_count": 20,
   "metadata": {},
   "outputs": [],
   "source": [
    "multipolygon = MultiPolygon(polygons=[])"
   ]
  },
  {
   "attachments": {},
   "cell_type": "markdown",
   "metadata": {},
   "source": [
    "#### `velour.schemas.Raster`"
   ]
  },
  {
   "cell_type": "code",
   "execution_count": 21,
   "metadata": {},
   "outputs": [],
   "source": [
    "raster = Raster(mask=\"\")"
   ]
  },
  {
   "attachments": {},
   "cell_type": "markdown",
   "metadata": {},
   "source": [
    "## Creating an Annotation"
   ]
  },
  {
   "cell_type": "code",
   "execution_count": 22,
   "metadata": {},
   "outputs": [],
   "source": [
    "annotation = Annotation(\n",
    "    task_type=TaskType.DETECTION,\n",
    "    labels=[Label(key=\"k1\", value=\"v1\")],\n",
    "    bounding_box=box2,\n",
    "    polygon=polygon1,\n",
    "    multipolygon=multipolygon,\n",
    "    raster=raster,\n",
    ")"
   ]
  }
 ],
 "metadata": {
  "kernelspec": {
   "display_name": ".env-velour",
   "language": "python",
   "name": "python3"
  },
  "language_info": {
   "codemirror_mode": {
    "name": "ipython",
    "version": 3
   },
   "file_extension": ".py",
   "mimetype": "text/x-python",
   "name": "python",
   "nbconvert_exporter": "python",
   "pygments_lexer": "ipython3",
   "version": "3.11.5"
  },
  "orig_nbformat": 4
 },
 "nbformat": 4,
 "nbformat_minor": 2
}
