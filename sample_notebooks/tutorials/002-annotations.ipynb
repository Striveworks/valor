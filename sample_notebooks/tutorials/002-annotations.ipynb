{
 "cells": [
  {
   "attachments": {},
   "cell_type": "markdown",
   "metadata": {},
   "source": [
    "# Annotations"
   ]
  },
  {
   "attachments": {},
   "cell_type": "markdown",
   "metadata": {},
   "source": [
    "Velour defines schemas for supported geometric types."
   ]
  },
  {
   "cell_type": "code",
   "execution_count": 2,
   "metadata": {},
   "outputs": [],
   "source": [
    "import numpy as np\n",
    "\n",
    "from velour.coretypes import Annotation, Label\n",
    "from velour.enums import TaskType\n",
    "from velour.schemas import (\n",
    "    Point,\n",
    "    BasicPolygon,\n",
    "    BoundingBox,\n",
    "    Polygon,\n",
    "    MultiPolygon,\n",
    "    Raster\n",
    ")"
   ]
  },
  {
   "attachments": {},
   "cell_type": "markdown",
   "metadata": {},
   "source": [
    "`velour.coretypes.Annotation` requires at minimum `task_type` and a list of `labels` (which can be empty). \n",
    "\n",
    "If you are working with classifications this is enough to get started. However, for object-detection and segmentation tasks the need for a geometric annotation is necessary. We have provided a basic implementation of bounding boxes, polygons and rasters enabling the evaluation of the most common computer vision tasks.\n",
    "\n",
    "```\n",
    "class Annotation:\n",
    "    def __init__(\n",
    "        self,\n",
    "        task_type: TaskType,\n",
    "        labels: List[Label],\n",
    "        metadata: Dict[str, Union[int, float, str]] = None,\n",
    "        bounding_box: BoundingBox = None,\n",
    "        polygon: Polygon = None,\n",
    "        multipolygon: MultiPolygon = None,\n",
    "        raster: Raster = None,\n",
    "        jsonb: Dict = None,\n",
    "    ):\n",
    "        ...\n",
    "```"
   ]
  },
  {
   "attachments": {},
   "cell_type": "markdown",
   "metadata": {},
   "source": [
    "# Create Classification Annotations\n",
    "\n"
   ]
  },
  {
   "cell_type": "code",
   "execution_count": 14,
   "metadata": {},
   "outputs": [
    {
     "ename": "AttributeError",
     "evalue": "CL",
     "output_type": "error",
     "traceback": [
      "\u001b[0;31m---------------------------------------------------------------------------\u001b[0m",
      "\u001b[0;31mAttributeError\u001b[0m                            Traceback (most recent call last)",
      "Cell \u001b[0;32mIn[14], line 2\u001b[0m\n\u001b[1;32m      1\u001b[0m annotation \u001b[39m=\u001b[39m Annotation(\n\u001b[0;32m----> 2\u001b[0m     task_type\u001b[39m=\u001b[39mTaskType\u001b[39m.\u001b[39;49mCL\n\u001b[1;32m      3\u001b[0m )\n",
      "File \u001b[0;32m~/.pyenv/versions/3.11.5/lib/python3.11/enum.py:784\u001b[0m, in \u001b[0;36mEnumType.__getattr__\u001b[0;34m(cls, name)\u001b[0m\n\u001b[1;32m    782\u001b[0m     \u001b[39mreturn\u001b[39;00m \u001b[39mcls\u001b[39m\u001b[39m.\u001b[39m_member_map_[name]\n\u001b[1;32m    783\u001b[0m \u001b[39mexcept\u001b[39;00m \u001b[39mKeyError\u001b[39;00m:\n\u001b[0;32m--> 784\u001b[0m     \u001b[39mraise\u001b[39;00m \u001b[39mAttributeError\u001b[39;00m(name) \u001b[39mfrom\u001b[39;00m \u001b[39mNone\u001b[39;00m\n",
      "\u001b[0;31mAttributeError\u001b[0m: CL"
     ]
    }
   ],
   "source": [
    "annotation = Annotation(\n",
    "    task_type=TaskType.CLASSIFICATION,\n",
    "    labels=[\n",
    "        Label(key=\"class\", value=\"dog\"),\n",
    "        Label(key=\"category\", value=\"animal\"),\n",
    "    ]\n",
    ")"
   ]
  },
  {
   "attachments": {},
   "cell_type": "markdown",
   "metadata": {},
   "source": [
    "## Creating Geometric Annotations\n",
    "\n",
    "Geometric annotations are typically used by computer vision tasks and represent the segmentation of a 2D grid by a geometric shape."
   ]
  },
  {
   "attachments": {},
   "cell_type": "markdown",
   "metadata": {},
   "source": [
    "#### `velour.schemas.Point`"
   ]
  },
  {
   "cell_type": "code",
   "execution_count": 3,
   "metadata": {},
   "outputs": [],
   "source": [
    "point = Point(1,2)"
   ]
  },
  {
   "attachments": {},
   "cell_type": "markdown",
   "metadata": {},
   "source": [
    "#### `velour.schemas.BasicPolygon`"
   ]
  },
  {
   "cell_type": "code",
   "execution_count": 4,
   "metadata": {},
   "outputs": [],
   "source": [
    "basic_polygon = BasicPolygon(\n",
    "    points=[\n",
    "        Point(0,0),\n",
    "        Point(0,1),\n",
    "        Point(1,0),\n",
    "    ]\n",
    ")"
   ]
  },
  {
   "attachments": {},
   "cell_type": "markdown",
   "metadata": {},
   "source": [
    "#### `velour.schemas.BoundingBox`"
   ]
  },
  {
   "cell_type": "code",
   "execution_count": 5,
   "metadata": {},
   "outputs": [],
   "source": [
    "box1 = BoundingBox(\n",
    "    polygon=BasicPolygon(\n",
    "        points=[\n",
    "            Point(0,0),\n",
    "            Point(0,1),\n",
    "            Point(1,1),\n",
    "            Point(1,0),\n",
    "        ]\n",
    "    ),\n",
    ")\n",
    "\n",
    "box2 = BoundingBox.from_extrema(\n",
    "    xmin=0, xmax=1,\n",
    "    ymin=0, ymax=1,\n",
    ")"
   ]
  },
  {
   "attachments": {},
   "cell_type": "markdown",
   "metadata": {},
   "source": [
    "#### `velour.schemas.Polygon`"
   ]
  },
  {
   "cell_type": "code",
   "execution_count": 6,
   "metadata": {},
   "outputs": [],
   "source": [
    "polygon1 = Polygon(\n",
    "    boundary=box1.polygon,\n",
    ")\n",
    "\n",
    "polygon2 = Polygon(\n",
    "    boundary=box1.polygon,\n",
    "    holes=[basic_polygon],\n",
    ")"
   ]
  },
  {
   "attachments": {},
   "cell_type": "markdown",
   "metadata": {},
   "source": [
    "#### `velour.schemas.MultiPolygon`"
   ]
  },
  {
   "cell_type": "code",
   "execution_count": 7,
   "metadata": {},
   "outputs": [],
   "source": [
    "multipolygon = MultiPolygon(polygons=[])"
   ]
  },
  {
   "attachments": {},
   "cell_type": "markdown",
   "metadata": {},
   "source": [
    "#### `velour.schemas.Raster`"
   ]
  },
  {
   "cell_type": "code",
   "execution_count": 11,
   "metadata": {},
   "outputs": [],
   "source": [
    "raster1 = Raster(mask=\"\")\n",
    "\n",
    "raster2 = Raster.from_numpy(np.ones((10,10)) == 1)"
   ]
  },
  {
   "attachments": {},
   "cell_type": "markdown",
   "metadata": {},
   "source": [
    "Using these geometry primitives we can construct a complete description of an annotation."
   ]
  },
  {
   "cell_type": "code",
   "execution_count": 12,
   "metadata": {},
   "outputs": [],
   "source": [
    "# Bounding box annotation\n",
    "annotation = Annotation(\n",
    "    task_type=TaskType.DETECTION,\n",
    "    labels=[Label(key=\"k1\", value=\"v1\")],\n",
    "    bounding_box=box2,\n",
    ")\n",
    "\n",
    "# Polygon annotation\n",
    "annotation = Annotation(\n",
    "    task_type=TaskType.DETECTION,\n",
    "    labels=[Label(key=\"k1\", value=\"v1\")],\n",
    "    polygon=polygon1,\n",
    ")\n",
    "\n",
    "# Mulitpolygon annotation\n",
    "annotation = Annotation(\n",
    "    task_type=TaskType.DETECTION,\n",
    "    labels=[Label(key=\"k1\", value=\"v1\")],\n",
    "    multipolygon=multipolygon,\n",
    ")\n",
    "\n",
    "# Raster annotation\n",
    "annotation = Annotation(\n",
    "    task_type=TaskType.DETECTION,\n",
    "    labels=[Label(key=\"k1\", value=\"v1\")],\n",
    "    raster=raster1,\n",
    ")"
   ]
  },
  {
   "attachments": {},
   "cell_type": "markdown",
   "metadata": {},
   "source": [
    "You can also define multiple types of geometries per annotation allowing models that output multiple "
   ]
  },
  {
   "cell_type": "code",
   "execution_count": 13,
   "metadata": {},
   "outputs": [],
   "source": [
    "annotation = Annotation(\n",
    "    task_type=TaskType.DETECTION,\n",
    "    labels=[Label(key=\"k1\", value=\"v1\")],\n",
    "    bounding_box=box1,\n",
    "    polygon=polygon1,\n",
    "    multipolygon=multipolygon,\n",
    "    raster=raster1,\n",
    ")"
   ]
  }
 ],
 "metadata": {
  "kernelspec": {
   "display_name": ".env-velour",
   "language": "python",
   "name": "python3"
  },
  "language_info": {
   "codemirror_mode": {
    "name": "ipython",
    "version": 3
   },
   "file_extension": ".py",
   "mimetype": "text/x-python",
   "name": "python",
   "nbconvert_exporter": "python",
   "pygments_lexer": "ipython3",
   "version": "3.11.5"
  },
  "orig_nbformat": 4
 },
 "nbformat": 4,
 "nbformat_minor": 2
}
