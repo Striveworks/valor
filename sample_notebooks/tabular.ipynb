{
 "cells": [
  {
   "cell_type": "markdown",
   "id": "0644bdbe-38da-478e-8673-802a5cb59da0",
   "metadata": {},
   "source": [
    "# Tabular data example"
   ]
  },
  {
   "cell_type": "code",
   "execution_count": 1,
   "id": "f9daebe8-0bb4-41eb-8359-9cadaa4a7779",
   "metadata": {},
   "outputs": [],
   "source": [
    "from velour.client import Client, TabularDataset, TabularModel\n",
    "from velour.data_types import Label, ScoredLabel\n",
    "\n",
    "from sklearn.model_selection import train_test_split\n",
    "from sklearn.datasets import load_breast_cancer\n",
    "from sklearn.linear_model import LogisticRegression\n",
    "from sklearn.preprocessing import StandardScaler\n",
    "from sklearn.pipeline import make_pipeline"
   ]
  },
  {
   "cell_type": "code",
   "execution_count": 2,
   "id": "1f27d7ab-acb1-461d-9ad8-7684c95526a9",
   "metadata": {},
   "outputs": [
    {
     "name": "stdout",
     "output_type": "stream",
     "text": [
      "Succesfully connected to http://localhost:8000/.\n"
     ]
    }
   ],
   "source": [
    "from velour.client import Client\n",
    "\n",
    "client = Client(\"http://localhost:8000\")"
   ]
  },
  {
   "cell_type": "code",
   "execution_count": 3,
   "id": "b2c72cd1-50f7-4e85-9e25-d0ed35b1d1e0",
   "metadata": {},
   "outputs": [],
   "source": [
    "dset = load_breast_cancer()\n",
    "X, y, target_names = dset[\"data\"], dset[\"target\"], dset[\"target_names\"]\n",
    "X_train, X_test, y_train, y_test = train_test_split(X, y)\n",
    "\n",
    "pipe = make_pipeline(StandardScaler(), LogisticRegression())"
   ]
  },
  {
   "cell_type": "code",
   "execution_count": 4,
   "id": "17924b71-8899-42cb-9160-2d41ee0e580a",
   "metadata": {},
   "outputs": [
    {
     "data": {
      "text/plain": [
       "((426, 30), array([0, 1, 1, 1]), array(['malignant', 'benign'], dtype='<U9'))"
      ]
     },
     "execution_count": 4,
     "metadata": {},
     "output_type": "execute_result"
    }
   ],
   "source": [
    "X_train.shape, y_train[:4], target_names"
   ]
  },
  {
   "cell_type": "code",
   "execution_count": 5,
   "id": "1acd3e50-e345-4a63-b43a-10ce479e6673",
   "metadata": {},
   "outputs": [
    {
     "data": {
      "text/html": [
       "<style>#sk-container-id-1 {color: black;background-color: white;}#sk-container-id-1 pre{padding: 0;}#sk-container-id-1 div.sk-toggleable {background-color: white;}#sk-container-id-1 label.sk-toggleable__label {cursor: pointer;display: block;width: 100%;margin-bottom: 0;padding: 0.3em;box-sizing: border-box;text-align: center;}#sk-container-id-1 label.sk-toggleable__label-arrow:before {content: \"▸\";float: left;margin-right: 0.25em;color: #696969;}#sk-container-id-1 label.sk-toggleable__label-arrow:hover:before {color: black;}#sk-container-id-1 div.sk-estimator:hover label.sk-toggleable__label-arrow:before {color: black;}#sk-container-id-1 div.sk-toggleable__content {max-height: 0;max-width: 0;overflow: hidden;text-align: left;background-color: #f0f8ff;}#sk-container-id-1 div.sk-toggleable__content pre {margin: 0.2em;color: black;border-radius: 0.25em;background-color: #f0f8ff;}#sk-container-id-1 input.sk-toggleable__control:checked~div.sk-toggleable__content {max-height: 200px;max-width: 100%;overflow: auto;}#sk-container-id-1 input.sk-toggleable__control:checked~label.sk-toggleable__label-arrow:before {content: \"▾\";}#sk-container-id-1 div.sk-estimator input.sk-toggleable__control:checked~label.sk-toggleable__label {background-color: #d4ebff;}#sk-container-id-1 div.sk-label input.sk-toggleable__control:checked~label.sk-toggleable__label {background-color: #d4ebff;}#sk-container-id-1 input.sk-hidden--visually {border: 0;clip: rect(1px 1px 1px 1px);clip: rect(1px, 1px, 1px, 1px);height: 1px;margin: -1px;overflow: hidden;padding: 0;position: absolute;width: 1px;}#sk-container-id-1 div.sk-estimator {font-family: monospace;background-color: #f0f8ff;border: 1px dotted black;border-radius: 0.25em;box-sizing: border-box;margin-bottom: 0.5em;}#sk-container-id-1 div.sk-estimator:hover {background-color: #d4ebff;}#sk-container-id-1 div.sk-parallel-item::after {content: \"\";width: 100%;border-bottom: 1px solid gray;flex-grow: 1;}#sk-container-id-1 div.sk-label:hover label.sk-toggleable__label {background-color: #d4ebff;}#sk-container-id-1 div.sk-serial::before {content: \"\";position: absolute;border-left: 1px solid gray;box-sizing: border-box;top: 0;bottom: 0;left: 50%;z-index: 0;}#sk-container-id-1 div.sk-serial {display: flex;flex-direction: column;align-items: center;background-color: white;padding-right: 0.2em;padding-left: 0.2em;position: relative;}#sk-container-id-1 div.sk-item {position: relative;z-index: 1;}#sk-container-id-1 div.sk-parallel {display: flex;align-items: stretch;justify-content: center;background-color: white;position: relative;}#sk-container-id-1 div.sk-item::before, #sk-container-id-1 div.sk-parallel-item::before {content: \"\";position: absolute;border-left: 1px solid gray;box-sizing: border-box;top: 0;bottom: 0;left: 50%;z-index: -1;}#sk-container-id-1 div.sk-parallel-item {display: flex;flex-direction: column;z-index: 1;position: relative;background-color: white;}#sk-container-id-1 div.sk-parallel-item:first-child::after {align-self: flex-end;width: 50%;}#sk-container-id-1 div.sk-parallel-item:last-child::after {align-self: flex-start;width: 50%;}#sk-container-id-1 div.sk-parallel-item:only-child::after {width: 0;}#sk-container-id-1 div.sk-dashed-wrapped {border: 1px dashed gray;margin: 0 0.4em 0.5em 0.4em;box-sizing: border-box;padding-bottom: 0.4em;background-color: white;}#sk-container-id-1 div.sk-label label {font-family: monospace;font-weight: bold;display: inline-block;line-height: 1.2em;}#sk-container-id-1 div.sk-label-container {text-align: center;}#sk-container-id-1 div.sk-container {/* jupyter's `normalize.less` sets `[hidden] { display: none; }` but bootstrap.min.css set `[hidden] { display: none !important; }` so we also need the `!important` here to be able to override the default hidden behavior on the sphinx rendered scikit-learn.org. See: https://github.com/scikit-learn/scikit-learn/issues/21755 */display: inline-block !important;position: relative;}#sk-container-id-1 div.sk-text-repr-fallback {display: none;}</style><div id=\"sk-container-id-1\" class=\"sk-top-container\"><div class=\"sk-text-repr-fallback\"><pre>Pipeline(steps=[(&#x27;standardscaler&#x27;, StandardScaler()),\n",
       "                (&#x27;logisticregression&#x27;, LogisticRegression())])</pre><b>In a Jupyter environment, please rerun this cell to show the HTML representation or trust the notebook. <br />On GitHub, the HTML representation is unable to render, please try loading this page with nbviewer.org.</b></div><div class=\"sk-container\" hidden><div class=\"sk-item sk-dashed-wrapped\"><div class=\"sk-label-container\"><div class=\"sk-label sk-toggleable\"><input class=\"sk-toggleable__control sk-hidden--visually\" id=\"sk-estimator-id-1\" type=\"checkbox\" ><label for=\"sk-estimator-id-1\" class=\"sk-toggleable__label sk-toggleable__label-arrow\">Pipeline</label><div class=\"sk-toggleable__content\"><pre>Pipeline(steps=[(&#x27;standardscaler&#x27;, StandardScaler()),\n",
       "                (&#x27;logisticregression&#x27;, LogisticRegression())])</pre></div></div></div><div class=\"sk-serial\"><div class=\"sk-item\"><div class=\"sk-estimator sk-toggleable\"><input class=\"sk-toggleable__control sk-hidden--visually\" id=\"sk-estimator-id-2\" type=\"checkbox\" ><label for=\"sk-estimator-id-2\" class=\"sk-toggleable__label sk-toggleable__label-arrow\">StandardScaler</label><div class=\"sk-toggleable__content\"><pre>StandardScaler()</pre></div></div></div><div class=\"sk-item\"><div class=\"sk-estimator sk-toggleable\"><input class=\"sk-toggleable__control sk-hidden--visually\" id=\"sk-estimator-id-3\" type=\"checkbox\" ><label for=\"sk-estimator-id-3\" class=\"sk-toggleable__label sk-toggleable__label-arrow\">LogisticRegression</label><div class=\"sk-toggleable__content\"><pre>LogisticRegression()</pre></div></div></div></div></div></div></div>"
      ],
      "text/plain": [
       "Pipeline(steps=[('standardscaler', StandardScaler()),\n",
       "                ('logisticregression', LogisticRegression())])"
      ]
     },
     "execution_count": 5,
     "metadata": {},
     "output_type": "execute_result"
    }
   ],
   "source": [
    "pipe.fit(X_train, y_train)"
   ]
  },
  {
   "cell_type": "code",
   "execution_count": 6,
   "id": "62614d98-ff13-4df4-a646-401686024777",
   "metadata": {},
   "outputs": [],
   "source": [
    "y_train_probs = pipe.predict_proba(X_train)\n",
    "y_test_probs = pipe.predict_proba(X_test)"
   ]
  },
  {
   "cell_type": "code",
   "execution_count": 7,
   "id": "f44da676-9584-4048-a6ca-0ffd2133d0b7",
   "metadata": {},
   "outputs": [
    {
     "data": {
      "text/plain": [
       "array([[9.95261940e-01, 4.73805997e-03],\n",
       "       [1.46927840e-03, 9.98530722e-01],\n",
       "       [2.46585889e-05, 9.99975341e-01],\n",
       "       [7.72618678e-04, 9.99227381e-01]])"
      ]
     },
     "execution_count": 7,
     "metadata": {},
     "output_type": "execute_result"
    }
   ],
   "source": [
    "y_train_probs[:4]"
   ]
  },
  {
   "cell_type": "markdown",
   "id": "8f56b6d4-1d93-4bc6-9fa8-c7a379da7793",
   "metadata": {
    "tags": []
   },
   "source": [
    "## Dataset ingestion\n",
    "\n",
    "We now ingest the groundtruth labels into velour. For each sample, velour expects a list of `Label` objects. Each `Label` has a key and value. Allowing key/value labels and having a single row be annotated by multiple labels supports multi-label classification.\n",
    "\n",
    "In this example there's just a single label per element and we'll set the class key to \"class\". The `add_groundtruth` method returns the ids of the newly created groundtruth."
   ]
  },
  {
   "cell_type": "code",
   "execution_count": 8,
   "id": "a3ada950-2d06-49af-8865-a2ba56f79903",
   "metadata": {},
   "outputs": [],
   "source": [
    "velour_train_dataset = client.create_tabular_dataset(\"breast-cancer-train\")\n",
    "\n",
    "_ = velour_train_dataset.add_groundtruth(\n",
    "    [[Label(key=\"class\", value=target_names[t])] for t in y_train]\n",
    ")\n",
    "\n",
    "velour_test_dataset = client.create_tabular_dataset(\"breast-cancer-test\")\n",
    "\n",
    "_ = velour_test_dataset.add_groundtruth(\n",
    "    [[Label(key=\"class\", value=target_names[t])] for t in y_test]\n",
    ")"
   ]
  },
  {
   "cell_type": "markdown",
   "id": "b7afc2c0-27b1-4eb4-8dad-5a78f72fabb6",
   "metadata": {},
   "source": [
    "## Model inference ingestion\n",
    "\n",
    "Now we create a velour model and post the predictions on the two datasets. Each prediction should be a list of `ScoredLabel`, which consist of a label and a confidence score. The confidence scores over all of the classes in a key must sum to (approximately) 1."
   ]
  },
  {
   "cell_type": "code",
   "execution_count": 9,
   "id": "cd50d4af-c1b3-421e-b625-0000d52b1fd6",
   "metadata": {},
   "outputs": [],
   "source": [
    "velour_model = client.create_tabular_model(\"breast-cancer-linear-model\")\n",
    "# velour_model = client.get_model(\"breast-cancer-linear-model\")"
   ]
  },
  {
   "cell_type": "code",
   "execution_count": 10,
   "id": "ea24dd77-5dde-4e78-aa9f-df88b2026578",
   "metadata": {},
   "outputs": [],
   "source": [
    "# add the train predictions\n",
    "_ = velour_model.add_predictions(\n",
    "    dataset=velour_train_dataset,\n",
    "    predictions=[\n",
    "        [ScoredLabel(label=Label(key=\"class\", value=target_names[i]), score=p)\n",
    "         for i, p in enumerate(prob)]\n",
    "        for prob in y_train_probs\n",
    "    ]\n",
    ")\n",
    "\n",
    "# add the test predictions\n",
    "_ = velour_model.add_predictions(\n",
    "    dataset=velour_test_dataset,\n",
    "    predictions=[\n",
    "        [ScoredLabel(label=Label(key=\"class\", value=target_names[i]), score=p)\n",
    "         for i, p in enumerate(prob)]\n",
    "        for prob in y_test_probs\n",
    "    ]\n",
    ")"
   ]
  },
  {
   "cell_type": "code",
   "execution_count": 11,
   "id": "67f7cfd2-4784-466d-90b8-32c813fb7997",
   "metadata": {},
   "outputs": [],
   "source": [
    "for dset in [velour_train_dataset, velour_test_dataset]:\n",
    "    dset.finalize()\n",
    "    velour_model.finalize_inferences(dset)"
   ]
  },
  {
   "cell_type": "code",
   "execution_count": 12,
   "id": "4ba0e545-4eaa-4f6b-8d62-f3a63018e168",
   "metadata": {},
   "outputs": [],
   "source": [
    "train_eval_job = velour_model.evaluate_classification(velour_train_dataset)\n",
    "test_eval_job = velour_model.evaluate_classification(velour_test_dataset)"
   ]
  },
  {
   "cell_type": "code",
   "execution_count": 13,
   "id": "751fb1c9-3cde-4458-933e-78a10af7dbea",
   "metadata": {},
   "outputs": [
    {
     "data": {
      "text/plain": [
       "'Processing'"
      ]
     },
     "execution_count": 13,
     "metadata": {},
     "output_type": "execute_result"
    }
   ],
   "source": [
    "train_eval_job.status()"
   ]
  },
  {
   "cell_type": "code",
   "execution_count": 15,
   "id": "ac5f7bb7-7b05-401d-bcac-16378ff6b63b",
   "metadata": {},
   "outputs": [
    {
     "data": {
      "text/plain": [
       "'Done'"
      ]
     },
     "execution_count": 15,
     "metadata": {},
     "output_type": "execute_result"
    }
   ],
   "source": [
    "train_eval_job.status()"
   ]
  },
  {
   "cell_type": "code",
   "execution_count": 16,
   "id": "0a2149cf-2107-41fd-91ca-24a9fd5b143e",
   "metadata": {},
   "outputs": [
    {
     "data": {
      "text/plain": [
       "[{'type': 'Accuracy',\n",
       "  'parameters': {'label_key': 'class'},\n",
       "  'value': 0.9929577464788732},\n",
       " {'type': 'ROCAUC',\n",
       "  'parameters': {'label_key': 'class'},\n",
       "  'value': 0.997331007874848},\n",
       " {'type': 'Precision',\n",
       "  'value': 0.9888059701492538,\n",
       "  'label': {'key': 'class', 'value': 'benign'}},\n",
       " {'type': 'Recall',\n",
       "  'value': 1.0,\n",
       "  'label': {'key': 'class', 'value': 'benign'}},\n",
       " {'type': 'F1',\n",
       "  'value': 0.9943714821763603,\n",
       "  'label': {'key': 'class', 'value': 'benign'}},\n",
       " {'type': 'Precision',\n",
       "  'value': 1.0,\n",
       "  'label': {'key': 'class', 'value': 'malignant'}},\n",
       " {'type': 'Recall',\n",
       "  'value': 0.9813664596273292,\n",
       "  'label': {'key': 'class', 'value': 'malignant'}},\n",
       " {'type': 'F1',\n",
       "  'value': 0.9905956112852665,\n",
       "  'label': {'key': 'class', 'value': 'malignant'}}]"
      ]
     },
     "execution_count": 16,
     "metadata": {},
     "output_type": "execute_result"
    }
   ],
   "source": [
    "train_eval_job.metrics()"
   ]
  },
  {
   "cell_type": "code",
   "execution_count": 17,
   "id": "3dea85d9-621b-426c-9860-76df3be4a652",
   "metadata": {},
   "outputs": [
    {
     "data": {
      "text/plain": [
       "[{'type': 'Accuracy',\n",
       "  'parameters': {'label_key': 'class'},\n",
       "  'value': 0.9790209790209791},\n",
       " {'type': 'ROCAUC',\n",
       "  'parameters': {'label_key': 'class'},\n",
       "  'value': 0.997331007874848},\n",
       " {'type': 'Precision',\n",
       "  'value': 0.978494623655914,\n",
       "  'label': {'key': 'class', 'value': 'benign'}},\n",
       " {'type': 'Recall',\n",
       "  'value': 0.9891304347826086,\n",
       "  'label': {'key': 'class', 'value': 'benign'}},\n",
       " {'type': 'F1',\n",
       "  'value': 0.9837837837837837,\n",
       "  'label': {'key': 'class', 'value': 'benign'}},\n",
       " {'type': 'Precision',\n",
       "  'value': 0.98,\n",
       "  'label': {'key': 'class', 'value': 'malignant'}},\n",
       " {'type': 'Recall',\n",
       "  'value': 0.9607843137254902,\n",
       "  'label': {'key': 'class', 'value': 'malignant'}},\n",
       " {'type': 'F1',\n",
       "  'value': 0.9702970297029702,\n",
       "  'label': {'key': 'class', 'value': 'malignant'}}]"
      ]
     },
     "execution_count": 17,
     "metadata": {},
     "output_type": "execute_result"
    }
   ],
   "source": [
    "test_eval_job.metrics()"
   ]
  },
  {
   "cell_type": "code",
   "execution_count": 18,
   "id": "10540153-e77f-4267-963f-b6bee33a28d6",
   "metadata": {},
   "outputs": [],
   "source": [
    "settings_and_dfs = velour_model.get_metric_dataframes()"
   ]
  },
  {
   "cell_type": "code",
   "execution_count": 19,
   "id": "a86f6efd-8cd6-4374-9d2c-bdfe2acddb47",
   "metadata": {},
   "outputs": [],
   "source": [
    "settings = settings_and_dfs[0][\"settings\"]\n",
    "df = settings_and_dfs[0][\"df\"]"
   ]
  },
  {
   "cell_type": "code",
   "execution_count": 20,
   "id": "4080460b-cc95-4187-ad08-11d7e850862b",
   "metadata": {},
   "outputs": [
    {
     "name": "stdout",
     "output_type": "stream",
     "text": [
      "{'model_pred_task_type': 'Classification', 'dataset_gt_task_type': 'Classification'}\n"
     ]
    }
   ],
   "source": [
    "print(settings)"
   ]
  },
  {
   "cell_type": "code",
   "execution_count": 21,
   "id": "aa3b5681-bbfe-4588-a60d-81092fbc18f1",
   "metadata": {},
   "outputs": [
    {
     "data": {
      "text/html": [
       "<div>\n",
       "<style scoped>\n",
       "    .dataframe tbody tr th:only-of-type {\n",
       "        vertical-align: middle;\n",
       "    }\n",
       "\n",
       "    .dataframe tbody tr th {\n",
       "        vertical-align: top;\n",
       "    }\n",
       "\n",
       "    .dataframe thead tr th {\n",
       "        text-align: left;\n",
       "    }\n",
       "\n",
       "    .dataframe thead tr:last-of-type th {\n",
       "        text-align: right;\n",
       "    }\n",
       "</style>\n",
       "<table border=\"1\" class=\"dataframe\">\n",
       "  <thead>\n",
       "    <tr>\n",
       "      <th></th>\n",
       "      <th></th>\n",
       "      <th></th>\n",
       "      <th colspan=\"2\" halign=\"left\">value</th>\n",
       "    </tr>\n",
       "    <tr>\n",
       "      <th></th>\n",
       "      <th></th>\n",
       "      <th>dataset</th>\n",
       "      <th>breast-cancer-test</th>\n",
       "      <th>breast-cancer-train</th>\n",
       "    </tr>\n",
       "    <tr>\n",
       "      <th>type</th>\n",
       "      <th>parameters</th>\n",
       "      <th>label</th>\n",
       "      <th></th>\n",
       "      <th></th>\n",
       "    </tr>\n",
       "  </thead>\n",
       "  <tbody>\n",
       "    <tr>\n",
       "      <th>Accuracy</th>\n",
       "      <th>{\"label_key\": \"class\"}</th>\n",
       "      <th>n/a</th>\n",
       "      <td>0.979021</td>\n",
       "      <td>0.992958</td>\n",
       "    </tr>\n",
       "    <tr>\n",
       "      <th rowspan=\"2\" valign=\"top\">F1</th>\n",
       "      <th rowspan=\"2\" valign=\"top\">\"n/a\"</th>\n",
       "      <th>class: benign</th>\n",
       "      <td>0.983784</td>\n",
       "      <td>0.994371</td>\n",
       "    </tr>\n",
       "    <tr>\n",
       "      <th>class: malignant</th>\n",
       "      <td>0.970297</td>\n",
       "      <td>0.990596</td>\n",
       "    </tr>\n",
       "    <tr>\n",
       "      <th rowspan=\"2\" valign=\"top\">Precision</th>\n",
       "      <th rowspan=\"2\" valign=\"top\">\"n/a\"</th>\n",
       "      <th>class: benign</th>\n",
       "      <td>0.978495</td>\n",
       "      <td>0.988806</td>\n",
       "    </tr>\n",
       "    <tr>\n",
       "      <th>class: malignant</th>\n",
       "      <td>0.980000</td>\n",
       "      <td>1.000000</td>\n",
       "    </tr>\n",
       "    <tr>\n",
       "      <th>ROCAUC</th>\n",
       "      <th>{\"label_key\": \"class\"}</th>\n",
       "      <th>n/a</th>\n",
       "      <td>0.997331</td>\n",
       "      <td>0.997331</td>\n",
       "    </tr>\n",
       "    <tr>\n",
       "      <th rowspan=\"2\" valign=\"top\">Recall</th>\n",
       "      <th rowspan=\"2\" valign=\"top\">\"n/a\"</th>\n",
       "      <th>class: benign</th>\n",
       "      <td>0.989130</td>\n",
       "      <td>1.000000</td>\n",
       "    </tr>\n",
       "    <tr>\n",
       "      <th>class: malignant</th>\n",
       "      <td>0.960784</td>\n",
       "      <td>0.981366</td>\n",
       "    </tr>\n",
       "  </tbody>\n",
       "</table>\n",
       "</div>"
      ],
      "text/plain": [
       "                                                               value  \\\n",
       "dataset                                           breast-cancer-test   \n",
       "type      parameters             label                                 \n",
       "Accuracy  {\"label_key\": \"class\"} n/a                        0.979021   \n",
       "F1        \"n/a\"                  class: benign              0.983784   \n",
       "                                 class: malignant           0.970297   \n",
       "Precision \"n/a\"                  class: benign              0.978495   \n",
       "                                 class: malignant           0.980000   \n",
       "ROCAUC    {\"label_key\": \"class\"} n/a                        0.997331   \n",
       "Recall    \"n/a\"                  class: benign              0.989130   \n",
       "                                 class: malignant           0.960784   \n",
       "\n",
       "                                                                       \n",
       "dataset                                           breast-cancer-train  \n",
       "type      parameters             label                                 \n",
       "Accuracy  {\"label_key\": \"class\"} n/a                         0.992958  \n",
       "F1        \"n/a\"                  class: benign               0.994371  \n",
       "                                 class: malignant            0.990596  \n",
       "Precision \"n/a\"                  class: benign               0.988806  \n",
       "                                 class: malignant            1.000000  \n",
       "ROCAUC    {\"label_key\": \"class\"} n/a                         0.997331  \n",
       "Recall    \"n/a\"                  class: benign               1.000000  \n",
       "                                 class: malignant            0.981366  "
      ]
     },
     "execution_count": 21,
     "metadata": {},
     "output_type": "execute_result"
    }
   ],
   "source": [
    "df"
   ]
  },
  {
   "cell_type": "markdown",
   "id": "22e447e7-0da4-49ae-af0a-8baa1446b4e7",
   "metadata": {},
   "source": [
    "## Sanity check scikit-learn classification report"
   ]
  },
  {
   "cell_type": "code",
   "execution_count": 22,
   "id": "8d84a09d-9f10-42c0-92cb-6fbf53f11f85",
   "metadata": {},
   "outputs": [],
   "source": [
    "from sklearn.metrics import classification_report"
   ]
  },
  {
   "cell_type": "code",
   "execution_count": 23,
   "id": "347c180e-9913-4aa4-994e-de507da32d72",
   "metadata": {},
   "outputs": [],
   "source": [
    "y_train_preds = pipe.predict(X_train)"
   ]
  },
  {
   "cell_type": "code",
   "execution_count": 24,
   "id": "4c279575-7540-443b-8b45-f246569cba3c",
   "metadata": {},
   "outputs": [
    {
     "name": "stdout",
     "output_type": "stream",
     "text": [
      "              precision    recall  f1-score   support\n",
      "\n",
      "   malignant   1.000000  0.981366  0.990596       161\n",
      "      benign   0.988806  1.000000  0.994371       265\n",
      "\n",
      "    accuracy                       0.992958       426\n",
      "   macro avg   0.994403  0.990683  0.992484       426\n",
      "weighted avg   0.993037  0.992958  0.992944       426\n",
      "\n"
     ]
    }
   ],
   "source": [
    "print(classification_report(y_train, y_train_preds, digits=6, target_names=target_names))"
   ]
  },
  {
   "cell_type": "code",
   "execution_count": null,
   "id": "a5620a81-d355-4257-906d-cba59817e70e",
   "metadata": {},
   "outputs": [],
   "source": []
  }
 ],
 "metadata": {
  "kernelspec": {
   "display_name": "Python [conda env:velour]",
   "language": "python",
   "name": "conda-env-velour-py"
  },
  "language_info": {
   "codemirror_mode": {
    "name": "ipython",
    "version": 3
   },
   "file_extension": ".py",
   "mimetype": "text/x-python",
   "name": "python",
   "nbconvert_exporter": "python",
   "pygments_lexer": "ipython3",
   "version": "3.10.11"
  }
 },
 "nbformat": 4,
 "nbformat_minor": 5
}
