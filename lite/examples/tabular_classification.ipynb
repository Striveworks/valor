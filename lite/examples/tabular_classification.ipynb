{
 "cells": [
  {
   "attachments": {},
   "cell_type": "markdown",
   "id": "0644bdbe-38da-478e-8673-802a5cb59da0",
   "metadata": {},
   "source": [
    "# Evaluating Tabular Classifications\n",
    "\n",
    "## Introduction\n",
    "\n",
    "In this notebook, we'll walk-through a detailed example of how you can use Valor to evaluate classifications made on a tabular dataset. This example uses `sklearn`'s breast cancer dataset to make a binary prediction about whether a woman has breast cancer, based on a table of descriptive features, such as mean radius and mean texture.\n",
    "\n",
    "For a conceptual introduction to Valor, [check out our project overview](https://striveworks.github.io/valor/). For a higher-level example notebook, [check out our \"Getting Started\" notebook](https://github.com/Striveworks/valor/blob/main/examples/getting_started.ipynb)."
   ]
  },
  {
   "cell_type": "markdown",
   "id": "8e18d9c3",
   "metadata": {},
   "source": [
    "## Defining Our Datasets\n",
    "\n",
    "We start by fetching our dataset, dividing it into test/train splits, and uploading both sets to Valor."
   ]
  },
  {
   "cell_type": "code",
   "execution_count": 1,
   "id": "f9daebe8-0bb4-41eb-8359-9cadaa4a7779",
   "metadata": {},
   "outputs": [],
   "source": [
    "%matplotlib inline\n",
    "\n",
    "import matplotlib.pyplot as plt\n",
    "import pandas as pd\n",
    "from tqdm import tqdm\n",
    "\n",
    "from sklearn.model_selection import train_test_split\n",
    "from sklearn.datasets import load_breast_cancer\n",
    "from sklearn.linear_model import LogisticRegression\n",
    "from sklearn.preprocessing import StandardScaler\n",
    "from sklearn.pipeline import make_pipeline\n",
    "from sklearn.metrics import classification_report\n",
    "\n",
    "from valor_lite.classification import DataLoader, Classification, MetricType"
   ]
  },
  {
   "cell_type": "code",
   "execution_count": 2,
   "id": "b2c72cd1-50f7-4e85-9e25-d0ed35b1d1e0",
   "metadata": {},
   "outputs": [
    {
     "data": {
      "text/plain": [
       "array(['mean radius', 'mean texture', 'mean perimeter', 'mean area',\n",
       "       'mean smoothness', 'mean compactness', 'mean concavity',\n",
       "       'mean concave points', 'mean symmetry', 'mean fractal dimension',\n",
       "       'radius error', 'texture error', 'perimeter error', 'area error',\n",
       "       'smoothness error', 'compactness error', 'concavity error',\n",
       "       'concave points error', 'symmetry error',\n",
       "       'fractal dimension error', 'worst radius', 'worst texture',\n",
       "       'worst perimeter', 'worst area', 'worst smoothness',\n",
       "       'worst compactness', 'worst concavity', 'worst concave points',\n",
       "       'worst symmetry', 'worst fractal dimension'], dtype='<U23')"
      ]
     },
     "execution_count": 2,
     "metadata": {},
     "output_type": "execute_result"
    }
   ],
   "source": [
    "# load data from sklearn\n",
    "dset = load_breast_cancer()\n",
    "dset.feature_names"
   ]
  },
  {
   "cell_type": "code",
   "execution_count": 3,
   "id": "d6a8d343",
   "metadata": {},
   "outputs": [
    {
     "data": {
      "text/plain": [
       "((426, 30), array([1, 0, 1, 1]), array(['malignant', 'benign'], dtype='<U9'))"
      ]
     },
     "execution_count": 3,
     "metadata": {},
     "output_type": "execute_result"
    }
   ],
   "source": [
    "# split datasets\n",
    "X, y, target_names = dset[\"data\"], dset[\"target\"], dset[\"target_names\"]\n",
    "X_train, X_test, y_train, y_test = train_test_split(X, y)\n",
    "\n",
    "# show an example input\n",
    "X_train.shape, y_train[:4], target_names"
   ]
  },
  {
   "attachments": {},
   "cell_type": "markdown",
   "id": "8e85ac3c",
   "metadata": {},
   "source": [
    "### Create GroundTruths"
   ]
  },
  {
   "cell_type": "code",
   "execution_count": 4,
   "id": "5c5311dd",
   "metadata": {},
   "outputs": [],
   "source": [
    "# format training groundtruths\n",
    "training_groundtruths = [\n",
    "    (f\"train{i}\", target_names[t])\n",
    "    for i, t in enumerate(y_train)\n",
    "]\n",
    "\n",
    "# format testing groundtruths\n",
    "testing_groundtruths = [\n",
    "    (f\"test{i}\", target_names[t])\n",
    "    for i, t in enumerate(y_test)\n",
    "]"
   ]
  },
  {
   "cell_type": "markdown",
   "id": "68ea0e42",
   "metadata": {},
   "source": [
    "## Defining Our Model\n",
    "\n",
    "Now that our `Datasets` have been defined, we can describe our model in Valor using the `Model` object."
   ]
  },
  {
   "cell_type": "code",
   "execution_count": 5,
   "id": "8f43e61c",
   "metadata": {},
   "outputs": [
    {
     "data": {
      "text/plain": [
       "array([[1.62985741e-01, 8.37014259e-01],\n",
       "       [9.97912849e-01, 2.08715099e-03],\n",
       "       [1.69422482e-02, 9.83057752e-01],\n",
       "       [3.15327300e-04, 9.99684673e-01]])"
      ]
     },
     "execution_count": 5,
     "metadata": {},
     "output_type": "execute_result"
    }
   ],
   "source": [
    "# fit an sklearn model to our data\n",
    "pipe = make_pipeline(StandardScaler(), LogisticRegression())\n",
    "pipe.fit(X_train, y_train)\n",
    "\n",
    "# get predictions on both of our datasets\n",
    "y_train_probs = pipe.predict_proba(X_train)\n",
    "y_test_probs = pipe.predict_proba(X_test)\n",
    "\n",
    "# show an example output\n",
    "y_train_probs[:4]"
   ]
  },
  {
   "attachments": {},
   "cell_type": "markdown",
   "id": "61de269b",
   "metadata": {},
   "source": [
    "### Create Predictions"
   ]
  },
  {
   "cell_type": "code",
   "execution_count": 6,
   "id": "5a224345",
   "metadata": {},
   "outputs": [],
   "source": [
    "\n",
    "# define our predictions\n",
    "training_predictions = [\n",
    "    (\n",
    "        f\"train{i}\",\n",
    "        [\n",
    "            (target_names[j], p)\n",
    "            for j, p in enumerate(prob)\n",
    "        ],\n",
    "    )\n",
    "    for i, prob in enumerate(y_train_probs)\n",
    "]\n",
    "testing_predictions = [\n",
    "    (\n",
    "        f\"test{i}\",\n",
    "        [\n",
    "            (target_names[j], p)\n",
    "            for j, p in enumerate(prob)\n",
    "        ],\n",
    "    )\n",
    "    for i, prob in enumerate(y_test_probs)\n",
    "]"
   ]
  },
  {
   "attachments": {},
   "cell_type": "markdown",
   "id": "b9f3c2f5",
   "metadata": {},
   "source": [
    "## Create Classifications"
   ]
  },
  {
   "cell_type": "code",
   "execution_count": 7,
   "id": "22eed507",
   "metadata": {},
   "outputs": [],
   "source": [
    "training_clfs = [\n",
    "    Classification(\n",
    "        uid=gt[0],\n",
    "        groundtruth=gt[1],\n",
    "        predictions=[\n",
    "            plabel\n",
    "            for plabel, _ in pd[1]\n",
    "        ],\n",
    "        scores=[\n",
    "            score\n",
    "            for _, score in pd[1]\n",
    "        ]\n",
    "    )\n",
    "    for gt, pd in zip(training_groundtruths, training_predictions)\n",
    "    if gt[0] == pd[0]\n",
    "]\n",
    "\n",
    "testing_clfs = [\n",
    "    Classification(\n",
    "        uid=gt[0],\n",
    "        groundtruth=gt[1],\n",
    "        predictions=[\n",
    "            plabel\n",
    "            for plabel, _ in pd[1]\n",
    "        ],\n",
    "        scores=[\n",
    "            score\n",
    "            for _, score in pd[1]\n",
    "        ]\n",
    "    )\n",
    "    for gt, pd in zip(testing_groundtruths, testing_predictions)\n",
    "    if gt[0] == pd[0]\n",
    "]"
   ]
  },
  {
   "attachments": {},
   "cell_type": "markdown",
   "id": "2b78f442",
   "metadata": {},
   "source": [
    "## Evaluating Performance\n",
    "\n",
    "With our `Dataset` and `Model` defined, we're ready to evaluate our performance and display the results. Note that we use the `wait_for_completion` method since all evaluations run as background tasks; this method ensures that the evaluation finishes before we display the results."
   ]
  },
  {
   "cell_type": "code",
   "execution_count": 8,
   "id": "73d34560",
   "metadata": {},
   "outputs": [],
   "source": [
    "training_loader = DataLoader()\n",
    "training_loader.add_data(training_clfs)\n",
    "training_evaluator = training_loader.finalize()\n",
    "\n",
    "testing_loader = DataLoader()\n",
    "testing_loader.add_data(testing_clfs)\n",
    "testing_evaluator = testing_loader.finalize()"
   ]
  },
  {
   "attachments": {},
   "cell_type": "markdown",
   "id": "678f1347",
   "metadata": {},
   "source": [
    "# Validate with sklearn\n",
    "\n",
    "As a brief sanity check, we can check Valor's outputs against `sklearn's` own classification report."
   ]
  },
  {
   "cell_type": "code",
   "execution_count": 9,
   "id": "347c180e-9913-4aa4-994e-de507da32d72",
   "metadata": {},
   "outputs": [
    {
     "name": "stdout",
     "output_type": "stream",
     "text": [
      "              precision    recall  f1-score   support\n",
      "\n",
      "   malignant   0.993865  0.970060  0.981818       167\n",
      "      benign   0.980989  0.996139  0.988506       259\n",
      "\n",
      "    accuracy                       0.985915       426\n",
      "   macro avg   0.987427  0.983099  0.985162       426\n",
      "weighted avg   0.986036  0.985915  0.985884       426\n",
      "\n"
     ]
    }
   ],
   "source": [
    "y_train_preds = pipe.predict(X_train)\n",
    "print(classification_report(y_train, y_train_preds, digits=6, target_names=target_names))"
   ]
  },
  {
   "cell_type": "code",
   "execution_count": 10,
   "id": "4ba0e545-4eaa-4f6b-8d62-f3a63018e168",
   "metadata": {},
   "outputs": [],
   "source": [
    "metrics = training_evaluator.evaluate()"
   ]
  },
  {
   "cell_type": "code",
   "execution_count": 11,
   "id": "17eeea58",
   "metadata": {},
   "outputs": [
    {
     "data": {
      "text/plain": [
       "[Precision(value=[0.9809885931558935], score_thresholds=[0.0], hardmax=True, label='benign'),\n",
       " Precision(value=[0.9938650306748467], score_thresholds=[0.0], hardmax=True, label='malignant')]"
      ]
     },
     "execution_count": 11,
     "metadata": {},
     "output_type": "execute_result"
    }
   ],
   "source": [
    "metrics[MetricType.Precision]"
   ]
  },
  {
   "cell_type": "code",
   "execution_count": 12,
   "id": "880aa6b0",
   "metadata": {},
   "outputs": [
    {
     "data": {
      "text/plain": [
       "[Recall(value=[0.9961389961389961], score_thresholds=[0.0], hardmax=True, label='benign'),\n",
       " Recall(value=[0.9700598802395209], score_thresholds=[0.0], hardmax=True, label='malignant')]"
      ]
     },
     "execution_count": 12,
     "metadata": {},
     "output_type": "execute_result"
    }
   ],
   "source": [
    "metrics[MetricType.Recall]"
   ]
  },
  {
   "cell_type": "code",
   "execution_count": 13,
   "id": "e7015afc",
   "metadata": {},
   "outputs": [
    {
     "data": {
      "text/plain": [
       "[F1(value=[0.9885057471264367], score_thresholds=[0.0], hardmax=True, label='benign'),\n",
       " F1(value=[0.9818181818181819], score_thresholds=[0.0], hardmax=True, label='malignant')]"
      ]
     },
     "execution_count": 13,
     "metadata": {},
     "output_type": "execute_result"
    }
   ],
   "source": [
    "metrics[MetricType.F1]"
   ]
  },
  {
   "attachments": {},
   "cell_type": "markdown",
   "id": "a098888c",
   "metadata": {},
   "source": [
    "## Now, lets plot the Precision-Recall curve."
   ]
  },
  {
   "cell_type": "code",
   "execution_count": 18,
   "id": "6bffad6e",
   "metadata": {},
   "outputs": [
    {
     "name": "stdout",
     "output_type": "stream",
     "text": [
      "[Precision(value=[0.9809885931558935, 0.9809885931558935, 0.9809885931558935, 0.9809885931558935, 0.9809885931558935, 0.9809885931558935, 0.9809885931558935, 0.9809885931558935, 0.9809885931558935, 0.9809885931558935, 0.9809885931558935, 0.9809885931558935, 0.9809885931558935, 0.9809885931558935, 0.9809885931558935, 0.9809885931558935, 0.9809885931558935, 0.9809885931558935, 0.9809885931558935, 0.9809885931558935, 0.9809885931558935, 0.9809885931558935, 0.9809885931558935, 0.9809885931558935, 0.9809885931558935, 0.9809885931558935, 0.9809885931558935, 0.9809885931558935, 0.9809885931558935, 0.9809885931558935, 0.9809885931558935, 0.9809885931558935, 0.9809885931558935, 0.9809885931558935, 0.9809885931558935, 0.9809885931558935, 0.9809885931558935, 0.9809885931558935, 0.9809885931558935, 0.9809885931558935, 0.9809885931558935, 0.9809885931558935, 0.9809885931558935, 0.9809885931558935, 0.9809885931558935, 0.9809885931558935, 0.9809885931558935, 0.9809885931558935, 0.9809885931558935, 0.9809885931558935, 0.9809885931558935, 0.9809885931558935, 0.9809885931558935, 0.9809160305343512, 0.9808429118773946, 0.9808429118773946, 0.9808429118773946, 0.9808429118773946, 0.9807692307692307, 0.9845559845559846, 0.9845559845559846, 0.9845559845559846, 0.9844961240310077, 0.9844357976653697, 0.9844357976653697, 0.984375, 0.984313725490196, 0.984313725490196, 0.984313725490196, 0.984251968503937, 0.984251968503937, 0.984251968503937, 0.9841897233201581, 0.9841269841269841, 0.9841269841269841, 0.9840637450199203, 0.9840637450199203, 0.9840637450199203, 0.984, 0.984, 0.9879032258064516, 0.9878542510121457, 0.9878542510121457, 0.9918032786885246, 0.9958677685950413, 0.99581589958159, 0.99581589958159, 0.9957627118644068, 0.9957264957264957, 0.9956896551724138, 0.9956521739130435, 0.9956140350877193, 0.9955947136563876, 0.9955357142857143, 0.9954337899543378, 0.9953488372093023, 0.9950738916256158, 0.9947643979057592, 0.9941860465116279], score_thresholds=[0.01, 0.02, 0.03, 0.04, 0.05, 0.06, 0.07, 0.08, 0.09, 0.1, 0.11, 0.12, 0.13, 0.14, 0.15, 0.16, 0.17, 0.18, 0.19, 0.2, 0.21, 0.22, 0.23, 0.24, 0.25, 0.26, 0.27, 0.28, 0.29, 0.3, 0.31, 0.32, 0.33, 0.34, 0.35, 0.36, 0.37, 0.38, 0.39, 0.4, 0.41, 0.42, 0.43, 0.44, 0.45, 0.46, 0.47, 0.48, 0.49, 0.5, 0.51, 0.52, 0.53, 0.54, 0.55, 0.56, 0.57, 0.58, 0.59, 0.6, 0.61, 0.62, 0.63, 0.64, 0.65, 0.66, 0.67, 0.68, 0.69, 0.7, 0.71, 0.72, 0.73, 0.74, 0.75, 0.76, 0.77, 0.78, 0.79, 0.8, 0.81, 0.82, 0.83, 0.84, 0.85, 0.86, 0.87, 0.88, 0.89, 0.9, 0.91, 0.92, 0.93, 0.94, 0.95, 0.96, 0.97, 0.98, 0.99], hardmax=True, label='benign'), Precision(value=[0.9938650306748467, 0.9938650306748467, 0.9938650306748467, 0.9938650306748467, 0.9938650306748467, 0.9938650306748467, 0.9938650306748467, 0.9938650306748467, 0.9938650306748467, 0.9938650306748467, 0.9938650306748467, 0.9938650306748467, 0.9938650306748467, 0.9938650306748467, 0.9938650306748467, 0.9938650306748467, 0.9938650306748467, 0.9938650306748467, 0.9938650306748467, 0.9938650306748467, 0.9938650306748467, 0.9938650306748467, 0.9938650306748467, 0.9938650306748467, 0.9938650306748467, 0.9938650306748467, 0.9938650306748467, 0.9938650306748467, 0.9938650306748467, 0.9938650306748467, 0.9938650306748467, 0.9938650306748467, 0.9938650306748467, 0.9938650306748467, 0.9938650306748467, 0.9938650306748467, 0.9938650306748467, 0.9938650306748467, 0.9938650306748467, 0.9938650306748467, 0.9938650306748467, 0.9938650306748467, 0.9938650306748467, 0.9938650306748467, 0.9938650306748467, 0.9938650306748467, 0.9938650306748467, 0.9938650306748467, 0.9938650306748467, 0.9938650306748467, 0.9938650306748467, 0.9938650306748467, 0.9938650306748467, 0.9938650306748467, 0.9938650306748467, 0.9938650306748467, 0.9938650306748467, 1.0, 1.0, 1.0, 1.0, 1.0, 1.0, 1.0, 1.0, 1.0, 1.0, 1.0, 1.0, 1.0, 1.0, 1.0, 1.0, 1.0, 1.0, 1.0, 1.0, 1.0, 1.0, 1.0, 1.0, 1.0, 1.0, 1.0, 1.0, 1.0, 1.0, 1.0, 1.0, 1.0, 1.0, 1.0, 1.0, 1.0, 1.0, 1.0, 1.0, 1.0, 1.0], score_thresholds=[0.01, 0.02, 0.03, 0.04, 0.05, 0.06, 0.07, 0.08, 0.09, 0.1, 0.11, 0.12, 0.13, 0.14, 0.15, 0.16, 0.17, 0.18, 0.19, 0.2, 0.21, 0.22, 0.23, 0.24, 0.25, 0.26, 0.27, 0.28, 0.29, 0.3, 0.31, 0.32, 0.33, 0.34, 0.35, 0.36, 0.37, 0.38, 0.39, 0.4, 0.41, 0.42, 0.43, 0.44, 0.45, 0.46, 0.47, 0.48, 0.49, 0.5, 0.51, 0.52, 0.53, 0.54, 0.55, 0.56, 0.57, 0.58, 0.59, 0.6, 0.61, 0.62, 0.63, 0.64, 0.65, 0.66, 0.67, 0.68, 0.69, 0.7, 0.71, 0.72, 0.73, 0.74, 0.75, 0.76, 0.77, 0.78, 0.79, 0.8, 0.81, 0.82, 0.83, 0.84, 0.85, 0.86, 0.87, 0.88, 0.89, 0.9, 0.91, 0.92, 0.93, 0.94, 0.95, 0.96, 0.97, 0.98, 0.99], hardmax=True, label='malignant')]\n"
     ]
    }
   ],
   "source": [
    "metrics = training_evaluator.evaluate(score_thresholds=[x / 100.0 for x in range(1, 100)])\n",
    "\n",
    "precisions = metrics[MetricType.Precision]\n",
    "recalls = metrics[MetricType.Recall]\n",
    "\n",
    "print(precisions)\n",
    "\n"
   ]
  },
  {
   "cell_type": "code",
   "execution_count": null,
   "id": "7170d824",
   "metadata": {},
   "outputs": [],
   "source": [
    "plt.rcParams['figure.figsize'] = [5, 5]\n",
    "plt.figure()\n",
    "for r, p in zip(recalls, precisions):  \n",
    "    if r.label != p.label:\n",
    "        raise ValueError  \n",
    "    plt.scatter(r.value, p.value, label=r.label[1])\n",
    "plt.title(\"Training Precision-Recall Curve\")\n",
    "plt.legend()\n",
    "plt.show()"
   ]
  },
  {
   "cell_type": "code",
   "execution_count": 20,
   "id": "0167bd25",
   "metadata": {},
   "outputs": [
    {
     "data": {
      "image/png": "[encoded data removed]",
      "text/plain": [
       "<Figure size 500x500 with 1 Axes>"
      ]
     },
     "metadata": {},
     "output_type": "display_data"
    }
   ],
   "source": [
    "metrics = testing_evaluator.evaluate(score_thresholds=[x / 100.0 for x in range(1, 100)])\n",
    "\n",
    "precisions = metrics[MetricType.Precision]\n",
    "recalls = metrics[MetricType.Recall]\n",
    "\n",
    "plt.rcParams['figure.figsize'] = [5, 5]\n",
    "plt.figure()\n",
    "for r, p in zip(recalls, precisions):\n",
    "    if r.label != p.label:\n",
    "        raise ValueError  \n",
    "    plt.plot(r.value, p.value, label=r.label)\n",
    "plt.title(\"Testing Precision-Recall Curve\")\n",
    "plt.legend()\n",
    "plt.show()"
   ]
  },
  {
   "attachments": {},
   "cell_type": "markdown",
   "id": "2c170663",
   "metadata": {},
   "source": [
    "## Use pandas to display the confusion matrix."
   ]
  },
  {
   "cell_type": "code",
   "execution_count": 16,
   "id": "186a01f6",
   "metadata": {},
   "outputs": [
    {
     "data": {
      "text/html": [
       "<div>\n",
       "<style scoped>\n",
       "    .dataframe tbody tr th:only-of-type {\n",
       "        vertical-align: middle;\n",
       "    }\n",
       "\n",
       "    .dataframe tbody tr th {\n",
       "        vertical-align: top;\n",
       "    }\n",
       "\n",
       "    .dataframe thead th {\n",
       "        text-align: right;\n",
       "    }\n",
       "</style>\n",
       "<table border=\"1\" class=\"dataframe\">\n",
       "  <thead>\n",
       "    <tr style=\"text-align: right;\">\n",
       "      <th></th>\n",
       "      <th>benign</th>\n",
       "      <th>malignant</th>\n",
       "    </tr>\n",
       "  </thead>\n",
       "  <tbody>\n",
       "    <tr>\n",
       "      <th>benign</th>\n",
       "      <td>97</td>\n",
       "      <td>0</td>\n",
       "    </tr>\n",
       "    <tr>\n",
       "      <th>malignant</th>\n",
       "      <td>1</td>\n",
       "      <td>45</td>\n",
       "    </tr>\n",
       "  </tbody>\n",
       "</table>\n",
       "</div>"
      ],
      "text/plain": [
       "           benign  malignant\n",
       "benign         97          0\n",
       "malignant       1         45"
      ]
     },
     "execution_count": 16,
     "metadata": {},
     "output_type": "execute_result"
    }
   ],
   "source": [
    "metrics = testing_evaluator.evaluate(\n",
    "    metrics_to_return=[MetricType.ConfusionMatrix],\n",
    "    score_thresholds=[0.0]\n",
    ")\n",
    "\n",
    "cm = metrics[MetricType.ConfusionMatrix][0]\n",
    "pd.DataFrame(\n",
    "    {\n",
    "        gt: {\n",
    "            pd: cm.confusion_matrix[gt][pd][\"count\"]\n",
    "            for pd in cm.confusion_matrix[gt]\n",
    "        }\n",
    "        for gt in cm.confusion_matrix\n",
    "    }\n",
    ")\n"
   ]
  },
  {
   "cell_type": "code",
   "execution_count": 17,
   "id": "eb952d72",
   "metadata": {},
   "outputs": [
    {
     "data": {
      "text/plain": [
       "{'benign': {'count': 0, 'examples': []},\n",
       " 'malignant': {'count': 0, 'examples': []}}"
      ]
     },
     "execution_count": 17,
     "metadata": {},
     "output_type": "execute_result"
    }
   ],
   "source": [
    "cm.missing_predictions"
   ]
  }
 ],
 "metadata": {
  "kernelspec": {
   "display_name": ".env-valor",
   "language": "python",
   "name": "python3"
  },
  "language_info": {
   "codemirror_mode": {
    "name": "ipython",
    "version": 3
   },
   "file_extension": ".py",
   "mimetype": "text/x-python",
   "name": "python",
   "nbconvert_exporter": "python",
   "pygments_lexer": "ipython3",
   "version": "3.10.12"
  }
 },
 "nbformat": 4,
 "nbformat_minor": 5
}
