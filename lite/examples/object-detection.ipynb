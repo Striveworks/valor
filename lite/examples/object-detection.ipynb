{
  "cells": [
    {
      "attachments": {},
      "cell_type": "markdown",
      "id": "38ec8ecc",
      "metadata": {},
      "source": [
        "# Object Detection Example\n",
        "\n",
        "## Introduction\n",
        "\n",
        "In this notebook, we'll walk through a detailed example of how you can use Valor to evaluate object detections made on [the COCO Panoptic dataset](https://cocodataset.org/#home). We'll use Ultralytics' `YOLOv8` model to predict what objects exist in various COCO photographs and compare performance between bounding box and image segmentation results.\n",
        "\n",
        "For a conceptual introduction to Valor, [check out our project overview](https://striveworks.github.io/valor/). For a higher-level example notebook, [check out our \"Getting Started\" notebook](https://github.com/Striveworks/valor/blob/main/examples/getting_started.ipynb)."
      ]
    },
    {
      "cell_type": "markdown",
      "id": "ff9b26ec",
      "metadata": {},
      "source": [
        "## Defining Our Datasets\n",
        "\n",
        "We start by fetching our dataset and uploading it to Valor."
      ]
    },
    {
      "cell_type": "code",
      "execution_count": 1,
      "id": "a4d0a509-7500-44ba-b951-3566d4a4fac1",
      "metadata": {},
      "outputs": [],
      "source": [
        "%matplotlib inline\n",
        "\n",
        "import os\n",
        "import json\n",
        "import builtins\n",
        "import requests\n",
        "\n",
        "from tqdm import tqdm\n",
        "from pathlib import Path\n",
        "import pandas as pd\n",
        "import matplotlib.pyplot as plt\n",
        "\n",
        "from valor_lite.object_detection import DataLoader, MetricType"
      ]
    },
    {
      "cell_type": "code",
      "execution_count": 2,
      "id": "3ea11c76",
      "metadata": {},
      "outputs": [
        {
          "name": "stdout",
          "output_type": "stream",
          "text": [
            "gt_objdet_coco_bbox.jsonl already exists locally.\n",
            "pd_objdet_yolo_bbox.jsonl already exists locally.\n"
          ]
        }
      ],
      "source": [
        "def download_data_if_not_exists(\n",
        "    file_name: str,\n",
        "    file_path: Path,\n",
        "    url: str,\n",
        "):\n",
        "    \"\"\"Download the data from a public bucket if it doesn't exist locally.\"\"\"\n",
        "\n",
        "    if not os.path.exists(file_path):\n",
        "        response = requests.get(url, stream=True)\n",
        "        if response.status_code == 200:\n",
        "            total_size = int(response.headers.get(\"content-length\", 0))\n",
        "            with open(file_path, \"wb\") as f:\n",
        "                with tqdm(\n",
        "                    total=total_size,\n",
        "                    unit=\"B\",\n",
        "                    unit_scale=True,\n",
        "                    unit_divisor=1024,\n",
        "                    desc=file_name,\n",
        "                ) as pbar:\n",
        "                    for chunk in response.iter_content(chunk_size=1024):\n",
        "                        if chunk:\n",
        "                            f.write(chunk)\n",
        "                            pbar.update(1024)\n",
        "        else:\n",
        "            raise RuntimeError(response)\n",
        "    else:\n",
        "        print(f\"{file_name} already exists locally.\")\n",
        "\n",
        "    # sort file by datum uid\n",
        "    with open(file_path, \"r\") as f:\n",
        "        lines = [x for x in f]\n",
        "    with open(file_path, \"w\") as f:\n",
        "        for line in sorted(\n",
        "            lines, key=lambda x: int(json.loads(x)[\"datum\"][\"uid\"])\n",
        "        ):\n",
        "            f.write(line)\n",
        "\n",
        "groundtruth_file = \"gt_objdet_coco_bbox.jsonl\"\n",
        "prediction_file = \"pd_objdet_yolo_bbox.jsonl\"\n",
        "\n",
        "# cache data locally\n",
        "current_directory = Path(os.getcwd())\n",
        "for filename in [groundtruth_file, prediction_file]:\n",
        "    file_path = current_directory / Path(filename)\n",
        "    url = f\"https://pub-fae71003f78140bdaedf32a7c8d331d2.r2.dev/{filename}\"\n",
        "    download_data_if_not_exists(\n",
        "        file_name=filename, file_path=file_path, url=url\n",
        "    )\n",
        "\n",
        "gt_path = current_directory / Path(groundtruth_file)\n",
        "pd_path = current_directory / Path(prediction_file)\n",
        "\n",
        "gf = builtins.open(gt_path, \"r\")\n",
        "groundtruths = [\n",
        "    json.loads(gline)\n",
        "    for gline in gf\n",
        "]\n",
        "gf.close()\n",
        "\n",
        "pf = builtins.open(pd_path, \"r\")\n",
        "predictions = [\n",
        "    json.loads(pline)\n",
        "    for pline in pf\n",
        "]\n",
        "pf.close()"
      ]
    },
    {
      "attachments": {},
      "cell_type": "markdown",
      "id": "db64b6c6",
      "metadata": {},
      "source": [
        "# Creating an Evaluator"
      ]
    },
    {
      "attachments": {},
      "cell_type": "markdown",
      "id": "94798123",
      "metadata": {},
      "source": [
        "This block utilizes `get_instance_groundtruths` from `integrations/coco_integration.py` to download, extract, and upload the COCO Panoptic validation dataset to Valor."
      ]
    },
    {
      "cell_type": "code",
      "execution_count": 3,
      "id": "89ddd815",
      "metadata": {},
      "outputs": [
        {
          "name": "stderr",
          "output_type": "stream",
          "text": [
            "5000it [00:00, 5733.27it/s]\n"
          ]
        }
      ],
      "source": [
        "loader = DataLoader()\n",
        "loader.add_bounding_boxes_from_valor_dict(zip(groundtruths, predictions), show_progress=True)\n",
        "evaluator = loader.finalize()"
      ]
    },
    {
      "cell_type": "code",
      "execution_count": 4,
      "id": "b2c78827",
      "metadata": {},
      "outputs": [
        {
          "data": {
            "text/plain": [
              "{'n_datums': 5000,\n",
              " 'n_groundtruths': 36536,\n",
              " 'n_predictions': 27092,\n",
              " 'n_labels': 159,\n",
              " 'ignored_prediction_labels': ['tv',\n",
              "  'chair',\n",
              "  'person',\n",
              "  'clock',\n",
              "  'refrigerator',\n",
              "  'potted plant',\n",
              "  'vase',\n",
              "  'dining table',\n",
              "  'bear',\n",
              "  'bed',\n",
              "  'bottle',\n",
              "  'stop sign',\n",
              "  'teddy bear',\n",
              "  'skis',\n",
              "  'oven',\n",
              "  'tennis racket',\n",
              "  'sports ball',\n",
              "  'handbag',\n",
              "  'bird',\n",
              "  'cell phone',\n",
              "  'sandwich',\n",
              "  'cup',\n",
              "  'mouse',\n",
              "  'laptop',\n",
              "  'keyboard',\n",
              "  'car',\n",
              "  'truck',\n",
              "  'traffic light',\n",
              "  'bus',\n",
              "  'cat',\n",
              "  'airplane',\n",
              "  'zebra',\n",
              "  'apple',\n",
              "  'baseball bat',\n",
              "  'wine glass',\n",
              "  'bowl',\n",
              "  'knife',\n",
              "  'spoon',\n",
              "  'snowboard',\n",
              "  'backpack',\n",
              "  'banana',\n",
              "  'donut',\n",
              "  'broccoli',\n",
              "  'skateboard',\n",
              "  'bench',\n",
              "  'carrot',\n",
              "  'couch',\n",
              "  'book',\n",
              "  'remote',\n",
              "  'tie',\n",
              "  'surfboard',\n",
              "  'toilet',\n",
              "  'orange',\n",
              "  'sheep',\n",
              "  'train',\n",
              "  'baseball glove',\n",
              "  'elephant',\n",
              "  'frisbee',\n",
              "  'umbrella',\n",
              "  'horse',\n",
              "  'kite',\n",
              "  'microwave',\n",
              "  'cake',\n",
              "  'motorcycle',\n",
              "  'fork',\n",
              "  'pizza',\n",
              "  'cow',\n",
              "  'dog',\n",
              "  'fire hydrant',\n",
              "  'bicycle',\n",
              "  'sink',\n",
              "  'suitcase',\n",
              "  'giraffe',\n",
              "  'boat',\n",
              "  'hot dog',\n",
              "  'parking meter',\n",
              "  'toothbrush',\n",
              "  'toaster',\n",
              "  'scissors'],\n",
              " 'missing_prediction_labels': ['name_person',\n",
              "  'name_chair',\n",
              "  'name_potted plant',\n",
              "  'name_dining table',\n",
              "  'name_tv',\n",
              "  'name_microwave',\n",
              "  'name_refrigerator',\n",
              "  'name_book',\n",
              "  'name_clock',\n",
              "  'name_vase',\n",
              "  'name_bear',\n",
              "  'name_bed',\n",
              "  'name_car',\n",
              "  'name_truck',\n",
              "  'name_stop sign',\n",
              "  'name_teddy bear',\n",
              "  'name_skis',\n",
              "  'name_oven',\n",
              "  'name_sports ball',\n",
              "  'name_baseball glove',\n",
              "  'name_tennis racket',\n",
              "  'name_backpack',\n",
              "  'name_handbag',\n",
              "  'name_boat',\n",
              "  'name_bird',\n",
              "  'name_cell phone',\n",
              "  'name_train',\n",
              "  'name_bowl',\n",
              "  'name_sandwich',\n",
              "  'name_surfboard',\n",
              "  'name_laptop',\n",
              "  'name_mouse',\n",
              "  'name_keyboard',\n",
              "  'name_bus',\n",
              "  'name_cat',\n",
              "  'name_airplane',\n",
              "  'name_zebra',\n",
              "  'name_traffic light',\n",
              "  'name_tie',\n",
              "  'name_apple',\n",
              "  'name_baseball bat',\n",
              "  'name_wine glass',\n",
              "  'name_cup',\n",
              "  'name_knife',\n",
              "  'name_cake',\n",
              "  'name_spoon',\n",
              "  'name_banana',\n",
              "  'name_donut',\n",
              "  'name_bottle',\n",
              "  'name_toilet',\n",
              "  'name_sink',\n",
              "  'name_broccoli',\n",
              "  'name_skateboard',\n",
              "  'name_fork',\n",
              "  'name_carrot',\n",
              "  'name_couch',\n",
              "  'name_remote',\n",
              "  'name_bicycle',\n",
              "  'name_scissors',\n",
              "  'name_sheep',\n",
              "  'name_bench',\n",
              "  'name_orange',\n",
              "  'name_elephant',\n",
              "  'name_frisbee',\n",
              "  'name_umbrella',\n",
              "  'name_horse',\n",
              "  'name_motorcycle',\n",
              "  'name_dog',\n",
              "  'name_kite',\n",
              "  'name_pizza',\n",
              "  'name_fire hydrant',\n",
              "  'name_suitcase',\n",
              "  'name_cow',\n",
              "  'name_giraffe',\n",
              "  'name_hot dog',\n",
              "  'name_snowboard',\n",
              "  'name_parking meter',\n",
              "  'name_toothbrush',\n",
              "  'name_toaster',\n",
              "  'name_hair drier']}"
            ]
          },
          "execution_count": 4,
          "metadata": {},
          "output_type": "execute_result"
        }
      ],
      "source": [
        "evaluator.metadata"
      ]
    },
    {
      "attachments": {},
      "cell_type": "markdown",
      "id": "3e8e7aab",
      "metadata": {},
      "source": [
        "## Evaluating Performance\n",
        "\n",
        "With our `Dataset` and `Model` defined, we're ready to evaluate our performance and display the results. Note that we use the `wait_for_completion` method since all evaluations run as background tasks; this method ensures that the evaluation finishes before we display the results.\n",
        "\n",
        "Sometimes, we may only want to calculate metrics for a subset of our data (i.e., we may only want to see how well our model performed at a specific type of detection). To accomplish this task, we can use the `filters` parameter of `evaluation_detection` to specify what types of data to evaluate performance for.\n",
        "\n",
        "We will be running and comparing two different evaluations investigating the performance difference of YOLOv8's bounding box and raster outputs."
      ]
    },
    {
      "cell_type": "code",
      "execution_count": 5,
      "id": "50f5d932",
      "metadata": {},
      "outputs": [],
      "source": [
        "metrics = evaluator.compute_metrics(\n",
        "    iou_thresholds=[0.25],\n",
        ")"
      ]
    },
    {
      "attachments": {},
      "cell_type": "markdown",
      "id": "fa229c76",
      "metadata": {},
      "source": [
        "### Average Precision (AP)"
      ]
    },
    {
      "cell_type": "code",
      "execution_count": 6,
      "id": "81dce63d",
      "metadata": {},
      "outputs": [
        {
          "data": {
            "text/plain": [
              "[AP(value=0.0, iou_threshold=0.25, label='name_person'),\n",
              " AP(value=0.0, iou_threshold=0.25, label='name_chair'),\n",
              " AP(value=0.0, iou_threshold=0.25, label='name_potted plant'),\n",
              " AP(value=0.0, iou_threshold=0.25, label='name_dining table'),\n",
              " AP(value=0.0, iou_threshold=0.25, label='name_tv'),\n",
              " AP(value=0.0, iou_threshold=0.25, label='name_microwave'),\n",
              " AP(value=0.0, iou_threshold=0.25, label='name_refrigerator'),\n",
              " AP(value=0.0, iou_threshold=0.25, label='name_book'),\n",
              " AP(value=0.0, iou_threshold=0.25, label='name_clock'),\n",
              " AP(value=0.0, iou_threshold=0.25, label='name_vase'),\n",
              " AP(value=0.0, iou_threshold=0.25, label='name_bear'),\n",
              " AP(value=0.0, iou_threshold=0.25, label='name_bed'),\n",
              " AP(value=0.0, iou_threshold=0.25, label='name_car'),\n",
              " AP(value=0.0, iou_threshold=0.25, label='name_truck'),\n",
              " AP(value=0.0, iou_threshold=0.25, label='name_stop sign'),\n",
              " AP(value=0.0, iou_threshold=0.25, label='name_teddy bear'),\n",
              " AP(value=0.0, iou_threshold=0.25, label='name_skis'),\n",
              " AP(value=0.0, iou_threshold=0.25, label='name_oven'),\n",
              " AP(value=0.0, iou_threshold=0.25, label='name_sports ball'),\n",
              " AP(value=0.0, iou_threshold=0.25, label='name_baseball glove'),\n",
              " AP(value=0.0, iou_threshold=0.25, label='name_tennis racket'),\n",
              " AP(value=0.0, iou_threshold=0.25, label='name_backpack'),\n",
              " AP(value=0.0, iou_threshold=0.25, label='name_handbag'),\n",
              " AP(value=0.0, iou_threshold=0.25, label='name_boat'),\n",
              " AP(value=0.0, iou_threshold=0.25, label='name_bird'),\n",
              " AP(value=0.0, iou_threshold=0.25, label='name_cell phone'),\n",
              " AP(value=0.0, iou_threshold=0.25, label='name_train'),\n",
              " AP(value=0.0, iou_threshold=0.25, label='name_bowl'),\n",
              " AP(value=0.0, iou_threshold=0.25, label='name_sandwich'),\n",
              " AP(value=0.0, iou_threshold=0.25, label='name_surfboard'),\n",
              " AP(value=0.0, iou_threshold=0.25, label='name_laptop'),\n",
              " AP(value=0.0, iou_threshold=0.25, label='name_mouse'),\n",
              " AP(value=0.0, iou_threshold=0.25, label='name_keyboard'),\n",
              " AP(value=0.0, iou_threshold=0.25, label='name_bus'),\n",
              " AP(value=0.0, iou_threshold=0.25, label='name_cat'),\n",
              " AP(value=0.0, iou_threshold=0.25, label='name_airplane'),\n",
              " AP(value=0.0, iou_threshold=0.25, label='name_zebra'),\n",
              " AP(value=0.0, iou_threshold=0.25, label='name_traffic light'),\n",
              " AP(value=0.0, iou_threshold=0.25, label='name_tie'),\n",
              " AP(value=0.0, iou_threshold=0.25, label='name_apple'),\n",
              " AP(value=0.0, iou_threshold=0.25, label='name_baseball bat'),\n",
              " AP(value=0.0, iou_threshold=0.25, label='name_wine glass'),\n",
              " AP(value=0.0, iou_threshold=0.25, label='name_cup'),\n",
              " AP(value=0.0, iou_threshold=0.25, label='name_knife'),\n",
              " AP(value=0.0, iou_threshold=0.25, label='name_cake'),\n",
              " AP(value=0.0, iou_threshold=0.25, label='name_spoon'),\n",
              " AP(value=0.0, iou_threshold=0.25, label='name_banana'),\n",
              " AP(value=0.0, iou_threshold=0.25, label='name_donut'),\n",
              " AP(value=0.0, iou_threshold=0.25, label='name_bottle'),\n",
              " AP(value=0.0, iou_threshold=0.25, label='name_toilet'),\n",
              " AP(value=0.0, iou_threshold=0.25, label='name_sink'),\n",
              " AP(value=0.0, iou_threshold=0.25, label='name_broccoli'),\n",
              " AP(value=0.0, iou_threshold=0.25, label='name_skateboard'),\n",
              " AP(value=0.0, iou_threshold=0.25, label='name_fork'),\n",
              " AP(value=0.0, iou_threshold=0.25, label='name_carrot'),\n",
              " AP(value=0.0, iou_threshold=0.25, label='name_couch'),\n",
              " AP(value=0.0, iou_threshold=0.25, label='name_remote'),\n",
              " AP(value=0.0, iou_threshold=0.25, label='name_bicycle'),\n",
              " AP(value=0.0, iou_threshold=0.25, label='name_scissors'),\n",
              " AP(value=0.0, iou_threshold=0.25, label='name_sheep'),\n",
              " AP(value=0.0, iou_threshold=0.25, label='name_bench'),\n",
              " AP(value=0.0, iou_threshold=0.25, label='name_orange'),\n",
              " AP(value=0.0, iou_threshold=0.25, label='name_elephant'),\n",
              " AP(value=0.0, iou_threshold=0.25, label='name_frisbee'),\n",
              " AP(value=0.0, iou_threshold=0.25, label='name_umbrella'),\n",
              " AP(value=0.0, iou_threshold=0.25, label='name_horse'),\n",
              " AP(value=0.0, iou_threshold=0.25, label='name_motorcycle'),\n",
              " AP(value=0.0, iou_threshold=0.25, label='name_dog'),\n",
              " AP(value=0.0, iou_threshold=0.25, label='name_kite'),\n",
              " AP(value=0.0, iou_threshold=0.25, label='name_pizza'),\n",
              " AP(value=0.0, iou_threshold=0.25, label='name_fire hydrant'),\n",
              " AP(value=0.0, iou_threshold=0.25, label='name_suitcase'),\n",
              " AP(value=0.0, iou_threshold=0.25, label='name_cow'),\n",
              " AP(value=0.0, iou_threshold=0.25, label='name_giraffe'),\n",
              " AP(value=0.0, iou_threshold=0.25, label='name_hot dog'),\n",
              " AP(value=0.0, iou_threshold=0.25, label='name_snowboard'),\n",
              " AP(value=0.0, iou_threshold=0.25, label='name_parking meter'),\n",
              " AP(value=0.0, iou_threshold=0.25, label='name_toothbrush'),\n",
              " AP(value=0.0, iou_threshold=0.25, label='name_toaster'),\n",
              " AP(value=0.0, iou_threshold=0.25, label='name_hair drier')]"
            ]
          },
          "execution_count": 6,
          "metadata": {},
          "output_type": "execute_result"
        }
      ],
      "source": [
        "metrics[MetricType.AP]"
      ]
    },
    {
      "attachments": {},
      "cell_type": "markdown",
      "id": "2934f1e6",
      "metadata": {},
      "source": [
        "### Mean Average Precision (mAP)"
      ]
    },
    {
      "cell_type": "code",
      "execution_count": 7,
      "id": "8a3bc015",
      "metadata": {},
      "outputs": [
        {
          "data": {
            "text/plain": [
              "[mAP(value=0.0, iou_threshold=0.25)]"
            ]
          },
          "execution_count": 7,
          "metadata": {},
          "output_type": "execute_result"
        }
      ],
      "source": [
        "metrics[MetricType.mAP]"
      ]
    },
    {
      "attachments": {},
      "cell_type": "markdown",
      "id": "54deaee6",
      "metadata": {},
      "source": [
        "### Precision-Recall Curve"
      ]
    },
    {
      "cell_type": "code",
      "execution_count": 8,
      "id": "ec56ab6e",
      "metadata": {},
      "outputs": [
        {
          "name": "stderr",
          "output_type": "stream",
          "text": [
            "/tmp/ipykernel_9692/1273825816.py:9: UserWarning: No artists with labels found to put in legend.  Note that artists whose label start with an underscore are ignored when legend() is called with no argument.\n",
            "  plt.legend()\n"
          ]
        },
        {
          "data": {
            "image/png": "[encoded data removed]",
            "text/plain": [
              "<Figure size 2400x2400 with 1 Axes>"
            ]
          },
          "metadata": {},
          "output_type": "display_data"
        }
      ],
      "source": [
        "plt.rcParams['figure.figsize'] = [15, 15]\n",
        "plt.figure()\n",
        "recall = [x / 100 for x in range(0,101)]\n",
        "for curve in metrics[MetricType.PrecisionRecallCurve]:\n",
        "    if curve.label[0] != \"name\":\n",
        "        continue\n",
        "    plt.plot(recall, curve.precision, label=curve.label[1])\n",
        "plt.title(\"Precision-Recall Curve\")\n",
        "plt.legend()\n",
        "plt.show()"
      ]
    },
    {
      "attachments": {},
      "cell_type": "markdown",
      "id": "ed8b3067",
      "metadata": {},
      "source": [
        "### Confusion Matrix"
      ]
    },
    {
      "cell_type": "code",
      "execution_count": 9,
      "id": "d698dcde",
      "metadata": {},
      "outputs": [
        {
          "ename": "AttributeError",
          "evalue": "'ConfusionMatrix' object has no attribute 'label_key'",
          "output_type": "error",
          "traceback": [
            "\u001b[0;31m---------------------------------------------------------------------------\u001b[0m",
            "\u001b[0;31mAttributeError\u001b[0m                            Traceback (most recent call last)",
            "Cell \u001b[0;32mIn[9], line 5\u001b[0m\n\u001b[1;32m      1\u001b[0m matrices \u001b[39m=\u001b[39m evaluator\u001b[39m.\u001b[39mcompute_confusion_matrix(\n\u001b[1;32m      2\u001b[0m     score_thresholds\u001b[39m=\u001b[39m[\u001b[39m0.25\u001b[39m],\n\u001b[1;32m      3\u001b[0m     iou_thresholds\u001b[39m=\u001b[39m[\u001b[39m0.25\u001b[39m],\n\u001b[1;32m      4\u001b[0m )\n\u001b[0;32m----> 5\u001b[0m metric \u001b[39m=\u001b[39m [m \u001b[39mfor\u001b[39;00m m \u001b[39min\u001b[39;00m matrices \u001b[39mif\u001b[39;00m m\u001b[39m.\u001b[39mlabel_key \u001b[39m==\u001b[39m \u001b[39m'\u001b[39m\u001b[39mname\u001b[39m\u001b[39m'\u001b[39m][\u001b[39m0\u001b[39m]\n",
            "Cell \u001b[0;32mIn[9], line 5\u001b[0m, in \u001b[0;36m<listcomp>\u001b[0;34m(.0)\u001b[0m\n\u001b[1;32m      1\u001b[0m matrices \u001b[39m=\u001b[39m evaluator\u001b[39m.\u001b[39mcompute_confusion_matrix(\n\u001b[1;32m      2\u001b[0m     score_thresholds\u001b[39m=\u001b[39m[\u001b[39m0.25\u001b[39m],\n\u001b[1;32m      3\u001b[0m     iou_thresholds\u001b[39m=\u001b[39m[\u001b[39m0.25\u001b[39m],\n\u001b[1;32m      4\u001b[0m )\n\u001b[0;32m----> 5\u001b[0m metric \u001b[39m=\u001b[39m [m \u001b[39mfor\u001b[39;00m m \u001b[39min\u001b[39;00m matrices \u001b[39mif\u001b[39;00m m\u001b[39m.\u001b[39;49mlabel_key \u001b[39m==\u001b[39m \u001b[39m'\u001b[39m\u001b[39mname\u001b[39m\u001b[39m'\u001b[39m][\u001b[39m0\u001b[39m]\n",
            "\u001b[0;31mAttributeError\u001b[0m: 'ConfusionMatrix' object has no attribute 'label_key'"
          ]
        }
      ],
      "source": [
        "matrices = evaluator.compute_confusion_matrix(\n",
        "    score_thresholds=[0.25],\n",
        "    iou_thresholds=[0.25],\n",
        ")\n",
        "metric = matrices[0]"
      ]
    },
    {
      "cell_type": "code",
      "execution_count": null,
      "id": "c30102c2",
      "metadata": {},
      "outputs": [],
      "source": [
        "cm = {\n",
        "    gt: {\n",
        "        pd: metric.confusion_matrix[gt][pd][\"count\"]\n",
        "        for pd in metric.confusion_matrix[gt]\n",
        "    }\n",
        "    for gt in metric.confusion_matrix\n",
        "}\n",
        "pd.DataFrame(cm)"
      ]
    },
    {
      "attachments": {},
      "cell_type": "markdown",
      "id": "98edc4dd",
      "metadata": {},
      "source": [
        "### Hallucinations"
      ]
    },
    {
      "cell_type": "code",
      "execution_count": null,
      "id": "2c3e8e72",
      "metadata": {},
      "outputs": [],
      "source": [
        "metric.hallucinations"
      ]
    },
    {
      "attachments": {},
      "cell_type": "markdown",
      "id": "415335e4",
      "metadata": {},
      "source": [
        "### Ground Truths Missing Predictions"
      ]
    },
    {
      "cell_type": "code",
      "execution_count": null,
      "id": "06627925",
      "metadata": {},
      "outputs": [],
      "source": [
        "metric.missing_predictions"
      ]
    }
  ],
  "metadata": {
    "kernelspec": {
      "display_name": ".env-valor",
      "language": "python",
      "name": "python3"
    },
    "language_info": {
      "codemirror_mode": {
        "name": "ipython",
        "version": 3
      },
      "file_extension": ".py",
      "mimetype": "text/x-python",
      "name": "python",
      "nbconvert_exporter": "python",
      "pygments_lexer": "ipython3",
      "version": "3.10.12"
    }
  },
  "nbformat": 4,
  "nbformat_minor": 5
}
