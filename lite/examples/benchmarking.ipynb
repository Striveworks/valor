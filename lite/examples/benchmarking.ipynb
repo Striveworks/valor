{
 "cells": [
  {
   "cell_type": "code",
   "execution_count": 1,
   "metadata": {},
   "outputs": [],
   "source": [
    "from valor_lite.profiling import Benchmark\n",
    "\n",
    "b = Benchmark(\n",
    "    time_limit=5.0,  # 5s\n",
    "    memory_limit=8 * (1024 ** 3),  # 8 GB\n",
    "    repeat=1,\n",
    "    verbose=True,\n",
    ")"
   ]
  },
  {
   "attachments": {},
   "cell_type": "markdown",
   "metadata": {},
   "source": [
    "# Semantic Segmentation"
   ]
  },
  {
   "cell_type": "code",
   "execution_count": 2,
   "metadata": {},
   "outputs": [],
   "source": [
    "from valor_lite.semantic_segmentation.benchmark import (\n",
    "    benchmark_add_data as semseg_add_data,\n",
    "    benchmark_finalize as semseg_finalize,\n",
    "    benchmark_evaluate as semseg_evaluate,\n",
    ")"
   ]
  },
  {
   "cell_type": "code",
   "execution_count": 3,
   "metadata": {},
   "outputs": [],
   "source": [
    "n_datums = [\n",
    "    10000,\n",
    "    1000,\n",
    "    100,\n",
    "    10,\n",
    "    1,\n",
    "]\n",
    "\n",
    "n_labels = [\n",
    "    1000,\n",
    "    100,\n",
    "    10,\n",
    "    3,\n",
    "]\n",
    "\n",
    "shapes = [\n",
    "    (10000, 10000),\n",
    "    (2500, 2500),\n",
    "    (1000, 1000),\n",
    "    (100, 100),\n",
    "]"
   ]
  },
  {
   "cell_type": "code",
   "execution_count": 4,
   "metadata": {},
   "outputs": [
    {
     "name": "stderr",
     "output_type": "stream",
     "text": [
      " 69%|██████▉   | 11/16 [00:46<00:21,  4.26s/it]"
     ]
    },
    {
     "name": "stdout",
     "output_type": "stream",
     "text": [
      "=====================================================================\n",
      "Details\n",
      "{\n",
      "    \"benchmark\": \"benchmark_add_data\",\n",
      "    \"limits\": {\n",
      "        \"memory_limit\": \"8.0 GB\",\n",
      "        \"time_limit\": \"5.0 seconds\",\n",
      "        \"repeat\": 1\n",
      "    },\n",
      "    \"passed\": 8,\n",
      "    \"failed\": 8,\n",
      "    \"total\": 16\n",
      "}\n",
      "\n",
      "Passed\n",
      "  complexity    |     runtime     |    n_labels     |      shape     \n",
      "---------------------------------------------------------------------\n",
      "   300000000    |     1.5151      |        3        | (10000, 10000) \n",
      "   62500000     |     0.5952      |       10        |  (2500, 2500)  \n",
      "   10000000     |     0.0911      |       10        |  (1000, 1000)  \n",
      "    1000000     |     0.0582      |       100       |   (100, 100)   \n",
      "\n",
      "Failed\n",
      "  complexity    |      error      |    n_labels     |      shape      |       msg      \n",
      "---------------------------------------------------------------------------------------\n",
      " 100000000000   |   MemoryError   |      1000       | (10000, 10000)  | Unable to allocate 186. GiB for an array with shape (1001, 20000, 10000) and data type bool\n",
      "  10000000000   |   MemoryError   |       100       | (10000, 10000)  | Unable to allocate 18.8 GiB for an array with shape (101, 20000, 10000) and data type bool\n",
      "  6250000000    |   MemoryError   |      1000       |  (2500, 2500)   | Unable to allocate 11.7 GiB for an array with shape (1001, 5000, 2500) and data type bool\n",
      "  1000000000    |   MemoryError   |       10        | (10000, 10000)  | Unable to allocate 9.31 GiB for an array with shape (10, 10, 100000000) and data type bool\n",
      "  1000000000    |   MemoryError   |      1000       |  (1000, 1000)   | Unable to allocate 931. GiB for an array with shape (1000, 1000, 1000000) and data type bool\n",
      "   625000000    |   MemoryError   |       100       |  (2500, 2500)   | Unable to allocate 58.2 GiB for an array with shape (100, 100, 6250000) and data type bool\n",
      "   100000000    |   MemoryError   |       100       |  (1000, 1000)   | Unable to allocate 9.31 GiB for an array with shape (100, 100, 1000000) and data type bool\n",
      "   10000000     |   MemoryError   |      1000       |   (100, 100)    | Unable to allocate 9.31 GiB for an array with shape (1000, 1000, 10000) and data type bool\n"
     ]
    },
    {
     "name": "stderr",
     "output_type": "stream",
     "text": [
      "\n"
     ]
    }
   ],
   "source": [
    "_ = b.run(\n",
    "    benchmark=semseg_add_data,\n",
    "    n_labels=n_labels,\n",
    "    shape=shapes,\n",
    ")"
   ]
  },
  {
   "cell_type": "code",
   "execution_count": 5,
   "metadata": {},
   "outputs": [
    {
     "name": "stderr",
     "output_type": "stream",
     "text": [
      " 20%|██        | 4/20 [02:35<10:22, 38.92s/it]"
     ]
    },
    {
     "name": "stdout",
     "output_type": "stream",
     "text": [
      "=====================================================================\n",
      "Details\n",
      "{\n",
      "    \"benchmark\": \"benchmark_finalize\",\n",
      "    \"limits\": {\n",
      "        \"memory_limit\": \"8.0 GB\",\n",
      "        \"time_limit\": \"5.0 seconds\",\n",
      "        \"repeat\": 1\n",
      "    },\n",
      "    \"passed\": 18,\n",
      "    \"failed\": 2,\n",
      "    \"total\": 20\n",
      "}\n",
      "\n",
      "Passed\n",
      "  complexity    |     runtime     |    n_datums     |    n_labels    \n",
      "---------------------------------------------------------------------\n",
      "    1000000     |     1.1142      |      10000      |       100      \n",
      "    100000      |     0.1748      |       100       |      1000      \n",
      "    100000      |     0.1086      |      1000       |       100      \n",
      "\n",
      "Failed\n",
      "  complexity    |      error      |    n_datums     |    n_labels     |       msg      \n",
      "---------------------------------------------------------------------------------------\n",
      "   10000000     |   MemoryError   |      10000      |      1000       | Unable to allocate 7.63 MiB for an array with shape (1000, 1000) and data type int64\n",
      "    1000000     |   MemoryError   |      1000       |      1000       |                \n"
     ]
    },
    {
     "name": "stderr",
     "output_type": "stream",
     "text": [
      "\n"
     ]
    }
   ],
   "source": [
    "_ = b.run(\n",
    "    benchmark=semseg_finalize,\n",
    "    n_datums=n_datums,\n",
    "    n_labels=n_labels,\n",
    ")"
   ]
  },
  {
   "cell_type": "code",
   "execution_count": 6,
   "metadata": {},
   "outputs": [
    {
     "name": "stderr",
     "output_type": "stream",
     "text": [
      " 20%|██        | 4/20 [02:25<09:40, 36.28s/it]"
     ]
    },
    {
     "name": "stdout",
     "output_type": "stream",
     "text": [
      "=====================================================================\n",
      "Details\n",
      "{\n",
      "    \"benchmark\": \"benchmark_evaluate\",\n",
      "    \"limits\": {\n",
      "        \"memory_limit\": \"8.0 GB\",\n",
      "        \"time_limit\": \"5.0 seconds\",\n",
      "        \"repeat\": 1\n",
      "    },\n",
      "    \"passed\": 18,\n",
      "    \"failed\": 2,\n",
      "    \"total\": 20\n",
      "}\n",
      "\n",
      "Passed\n",
      "  complexity    |     runtime     |    n_datums     |    n_labels    \n",
      "---------------------------------------------------------------------\n",
      "    1000000     |     0.0537      |      10000      |       100      \n",
      "    100000      |     0.0815      |       100       |      1000      \n",
      "    100000      |     0.0137      |      1000       |       100      \n",
      "\n",
      "Failed\n",
      "  complexity    |      error      |    n_datums     |    n_labels     |       msg      \n",
      "---------------------------------------------------------------------------------------\n",
      "   10000000     |   MemoryError   |      10000      |      1000       | Unable to allocate 23.8 MiB for an array with shape (1000, 1000, 25) and data type bool\n",
      "    1000000     |   MemoryError   |      1000       |      1000       | Unable to allocate 3.73 GiB for an array with shape (1000, 1001, 1001) and data type int32\n"
     ]
    },
    {
     "name": "stderr",
     "output_type": "stream",
     "text": [
      "\n"
     ]
    }
   ],
   "source": [
    "_ = b.run(\n",
    "    benchmark=semseg_evaluate,\n",
    "    n_datums=n_datums,\n",
    "    n_labels=n_labels,\n",
    ")"
   ]
  }
 ],
 "metadata": {
  "kernelspec": {
   "display_name": ".env-valor",
   "language": "python",
   "name": "python3"
  },
  "language_info": {
   "codemirror_mode": {
    "name": "ipython",
    "version": 3
   },
   "file_extension": ".py",
   "mimetype": "text/x-python",
   "name": "python",
   "nbconvert_exporter": "python",
   "pygments_lexer": "ipython3",
   "version": "3.10.15"
  },
  "orig_nbformat": 4
 },
 "nbformat": 4,
 "nbformat_minor": 2
}
