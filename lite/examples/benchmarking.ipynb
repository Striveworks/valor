{
 "cells": [
  {
   "cell_type": "code",
   "execution_count": null,
   "metadata": {},
   "outputs": [],
   "source": [
    "from valor_lite.profiling import Benchmark\n",
    "\n",
    "b = Benchmark(\n",
    "    time_limit=5.0,  # 5s\n",
    "    memory_limit=8 * (1024 ** 3),  # 8 GB\n",
    "    repeat=1,\n",
    "    verbose=True,\n",
    ")"
   ]
  },
  {
   "attachments": {},
   "cell_type": "markdown",
   "metadata": {},
   "source": [
    "# Semantic Segmentation"
   ]
  },
  {
   "cell_type": "code",
   "execution_count": null,
   "metadata": {},
   "outputs": [],
   "source": [
    "from valor_lite.semantic_segmentation.benchmark import (\n",
    "    benchmark_add_data as semseg_add_data,\n",
    "    benchmark_finalize as semseg_finalize,\n",
    "    benchmark_evaluate as semseg_evaluate,\n",
    ")"
   ]
  },
  {
   "cell_type": "code",
   "execution_count": null,
   "metadata": {},
   "outputs": [],
   "source": [
    "n_datums = [\n",
    "    10000,\n",
    "    1000,\n",
    "    100,\n",
    "    10,\n",
    "    1,\n",
    "]\n",
    "\n",
    "n_labels = [\n",
    "    1000,\n",
    "    100,\n",
    "    10,\n",
    "    3,\n",
    "]\n",
    "\n",
    "shapes = [\n",
    "    (10000, 10000),\n",
    "    (2500, 2500),\n",
    "    (1000, 1000),\n",
    "    (100, 100),\n",
    "]"
   ]
  },
  {
   "cell_type": "code",
   "execution_count": null,
   "metadata": {},
   "outputs": [],
   "source": [
    "_ = b.run(\n",
    "    benchmark=semseg_add_data,\n",
    "    n_labels=n_labels,\n",
    "    shape=shapes,\n",
    ")"
   ]
  },
  {
   "cell_type": "code",
   "execution_count": null,
   "metadata": {},
   "outputs": [],
   "source": [
    "_ = b.run(\n",
    "    benchmark=semseg_finalize,\n",
    "    n_datums=n_datums,\n",
    "    n_labels=n_labels,\n",
    ")"
   ]
  },
  {
   "cell_type": "code",
   "execution_count": null,
   "metadata": {},
   "outputs": [],
   "source": [
    "_ = b.run(\n",
    "    benchmark=semseg_evaluate,\n",
    "    n_datums=n_datums,\n",
    "    n_labels=n_labels,\n",
    ")"
   ]
  }
 ],
 "metadata": {
  "kernelspec": {
   "display_name": ".env-valor",
   "language": "python",
   "name": "python3"
  },
  "language_info": {
   "codemirror_mode": {
    "name": "ipython",
    "version": 3
   },
   "file_extension": ".py",
   "mimetype": "text/x-python",
   "name": "python",
   "nbconvert_exporter": "python",
   "pygments_lexer": "ipython3",
   "version": "3.10.15"
  },
  "orig_nbformat": 4
 },
 "nbformat": 4,
 "nbformat_minor": 2
}
