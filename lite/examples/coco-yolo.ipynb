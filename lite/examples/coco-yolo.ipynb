{
  "cells": [
    {
      "attachments": {},
      "cell_type": "markdown",
      "id": "38ec8ecc",
      "metadata": {},
      "source": [
        "# Object Detection Example\n",
        "\n",
        "## Introduction\n",
        "\n",
        "In this notebook, we'll walk through a detailed example of how you can use Valor to evaluate object detections made on [the COCO Panoptic dataset](https://cocodataset.org/#home). We'll use Ultralytics' `YOLOv8` model to predict what objects exist in various COCO photographs and compare performance between bounding box and image segmentation results.\n",
        "\n",
        "For a conceptual introduction to Valor, [check out our project overview](https://striveworks.github.io/valor/). For a higher-level example notebook, [check out our \"Getting Started\" notebook](https://github.com/Striveworks/valor/blob/main/examples/getting_started.ipynb).\n",
        "\n",
        "Before using this notebook, please ensure that the Valor service is running on your machine (for start-up instructions, [click here](https://striveworks.github.io/valor/getting_started/)). To connect to a non-local instance of Valor, update `client = Client(\"http://0.0.0.0:8000\")` in the first code block to point to the correct URL."
      ]
    },
    {
      "cell_type": "markdown",
      "id": "ff9b26ec",
      "metadata": {},
      "source": [
        "## Defining Our Datasets\n",
        "\n",
        "We start by fetching our dataset and uploading it to Valor."
      ]
    },
    {
      "cell_type": "code",
      "execution_count": 9,
      "id": "a4d0a509-7500-44ba-b951-3566d4a4fac1",
      "metadata": {},
      "outputs": [],
      "source": [
        "%matplotlib inline\n",
        "\n",
        "import os\n",
        "import json\n",
        "import builtins\n",
        "import requests\n",
        "\n",
        "from tqdm import tqdm\n",
        "from pathlib import Path\n",
        "import pandas as pd\n",
        "import matplotlib.pyplot as plt\n",
        "\n",
        "from valor_lite.detection import DataLoader, MetricType"
      ]
    },
    {
      "attachments": {},
      "cell_type": "markdown",
      "id": "a28f5e66",
      "metadata": {},
      "source": [
        "The modules included in `./integrations` are helper modules that demonstrate how to ingest datasets and model inferences into Valor. The depth of each integration varies depending on the use case. \n",
        "\n",
        "The `coco_integration` is designed to download, extract, and upload all in one command as you are starting off with all the the data. \n",
        "\n",
        "The `yolo_integration` is much simpler; it is a collection of parser functions that convert YOLO model results into Valor types."
      ]
    },
    {
      "cell_type": "code",
      "execution_count": 2,
      "id": "3ea11c76",
      "metadata": {},
      "outputs": [
        {
          "name": "stdout",
          "output_type": "stream",
          "text": [
            "gt_objdet_coco_bbox.jsonl already exists locally.\n",
            "pd_objdet_yolo_bbox.jsonl already exists locally.\n"
          ]
        }
      ],
      "source": [
        "def download_data_if_not_exists(\n",
        "    file_name: str,\n",
        "    file_path: Path,\n",
        "    url: str,\n",
        "):\n",
        "    \"\"\"Download the data from a public bucket if it doesn't exist locally.\"\"\"\n",
        "\n",
        "    if not os.path.exists(file_path):\n",
        "        response = requests.get(url, stream=True)\n",
        "        if response.status_code == 200:\n",
        "            total_size = int(response.headers.get(\"content-length\", 0))\n",
        "            with open(file_path, \"wb\") as f:\n",
        "                with tqdm(\n",
        "                    total=total_size,\n",
        "                    unit=\"B\",\n",
        "                    unit_scale=True,\n",
        "                    unit_divisor=1024,\n",
        "                    desc=file_name,\n",
        "                ) as pbar:\n",
        "                    for chunk in response.iter_content(chunk_size=1024):\n",
        "                        if chunk:\n",
        "                            f.write(chunk)\n",
        "                            pbar.update(1024)\n",
        "        else:\n",
        "            raise RuntimeError(response)\n",
        "    else:\n",
        "        print(f\"{file_name} already exists locally.\")\n",
        "\n",
        "    # sort file by datum uid\n",
        "    with open(file_path, \"r\") as f:\n",
        "        lines = [x for x in f]\n",
        "    with open(file_path, \"w\") as f:\n",
        "        for line in sorted(\n",
        "            lines, key=lambda x: int(json.loads(x)[\"datum\"][\"uid\"])\n",
        "        ):\n",
        "            f.write(line)\n",
        "\n",
        "groundtruth_file = \"gt_objdet_coco_bbox.jsonl\"\n",
        "prediction_file = \"pd_objdet_yolo_bbox.jsonl\"\n",
        "\n",
        "# cache data locally\n",
        "current_directory = Path(os.getcwd())\n",
        "for filename in [groundtruth_file, prediction_file]:\n",
        "    file_path = current_directory / Path(filename)\n",
        "    url = f\"https://pub-fae71003f78140bdaedf32a7c8d331d2.r2.dev/{filename}\"\n",
        "    download_data_if_not_exists(\n",
        "        file_name=filename, file_path=file_path, url=url\n",
        "    )\n",
        "\n",
        "gt_path = current_directory / Path(groundtruth_file)\n",
        "pd_path = current_directory / Path(prediction_file)\n",
        "\n",
        "gf = builtins.open(gt_path, \"r\")\n",
        "groundtruths = [\n",
        "    json.loads(gline)\n",
        "    for gline in gf\n",
        "]\n",
        "gf.close()\n",
        "\n",
        "pf = builtins.open(pd_path, \"r\")\n",
        "predictions = [\n",
        "    json.loads(pline)\n",
        "    for pline in pf\n",
        "]\n",
        "pf.close()"
      ]
    },
    {
      "attachments": {},
      "cell_type": "markdown",
      "id": "db64b6c6",
      "metadata": {},
      "source": [
        "# Creating an Evaluator"
      ]
    },
    {
      "attachments": {},
      "cell_type": "markdown",
      "id": "94798123",
      "metadata": {},
      "source": [
        "This block utilizes `get_instance_groundtruths` from `integrations/coco_integration.py` to download, extract, and upload the COCO Panoptic validation dataset to Valor."
      ]
    },
    {
      "cell_type": "code",
      "execution_count": 3,
      "id": "89ddd815",
      "metadata": {},
      "outputs": [
        {
          "name": "stderr",
          "output_type": "stream",
          "text": [
            "5000it [00:01, 3138.18it/s]\n"
          ]
        }
      ],
      "source": [
        "loader = DataLoader()\n",
        "loader.add_data_from_valor_dict(groundtruths, predictions, show_progress=True)\n",
        "evaluator = loader.finalize()"
      ]
    },
    {
      "cell_type": "code",
      "execution_count": 4,
      "id": "b2c78827",
      "metadata": {},
      "outputs": [
        {
          "data": {
            "text/plain": [
              "{'n_datums': 5000,\n",
              " 'n_groundtruths': 36536,\n",
              " 'n_predictions': 27092,\n",
              " 'n_labels': 94,\n",
              " 'ignored_prediction_labels': [],\n",
              " 'missing_prediction_labels': [('supercategory', 'appliance'),\n",
              "  ('supercategory', 'furniture'),\n",
              "  ('supercategory', 'accessory'),\n",
              "  ('supercategory', 'electronic'),\n",
              "  ('supercategory', 'person'),\n",
              "  ('supercategory', 'kitchen'),\n",
              "  ('iscrowd', '0'),\n",
              "  ('supercategory', 'indoor'),\n",
              "  ('supercategory', 'food'),\n",
              "  ('supercategory', 'animal'),\n",
              "  ('iscrowd', '1'),\n",
              "  ('supercategory', 'outdoor'),\n",
              "  ('supercategory', 'vehicle'),\n",
              "  ('supercategory', 'sports'),\n",
              "  ('name', 'hair drier')]}"
            ]
          },
          "execution_count": 4,
          "metadata": {},
          "output_type": "execute_result"
        }
      ],
      "source": [
        "evaluator.metadata"
      ]
    },
    {
      "attachments": {},
      "cell_type": "markdown",
      "id": "3e8e7aab",
      "metadata": {},
      "source": [
        "## Evaluating Performance\n",
        "\n",
        "With our `Dataset` and `Model` defined, we're ready to evaluate our performance and display the results. Note that we use the `wait_for_completion` method since all evaluations run as background tasks; this method ensures that the evaluation finishes before we display the results.\n",
        "\n",
        "Sometimes, we may only want to calculate metrics for a subset of our data (i.e., we may only want to see how well our model performed at a specific type of detection). To accomplish this task, we can use the `filters` parameter of `evaluation_detection` to specify what types of data to evaluate performance for.\n",
        "\n",
        "We will be running and comparing two different evaluations investigating the performance difference of YOLOv8's bounding box and raster outputs."
      ]
    },
    {
      "cell_type": "code",
      "execution_count": 5,
      "id": "50f5d932",
      "metadata": {},
      "outputs": [],
      "source": [
        "metrics = evaluator.evaluate()"
      ]
    },
    {
      "cell_type": "code",
      "execution_count": 6,
      "id": "81dce63d",
      "metadata": {},
      "outputs": [
        {
          "data": {
            "text/plain": [
              "[AR(value=0.0, score_threshold=0.5, ious=[0.5, 0.75, 0.9], label=('supercategory', 'appliance')),\n",
              " AR(value=0.0, score_threshold=0.5, ious=[0.5, 0.75, 0.9], label=('name', 'microwave')),\n",
              " AR(value=0.013732833957553058, score_threshold=0.5, ious=[0.5, 0.75, 0.9], label=('name', 'clock')),\n",
              " AR(value=0.0, score_threshold=0.5, ious=[0.5, 0.75, 0.9], label=('supercategory', 'furniture')),\n",
              " AR(value=0.02921455938697318, score_threshold=0.5, ious=[0.5, 0.75, 0.9], label=('name', 'dining table')),\n",
              " AR(value=0.0, score_threshold=0.5, ious=[0.5, 0.75, 0.9], label=('supercategory', 'electronic')),\n",
              " AR(value=0.00028760425654299687, score_threshold=0.5, ious=[0.5, 0.75, 0.9], label=('name', 'book')),\n",
              " AR(value=0.011423203951155954, score_threshold=0.5, ious=[0.5, 0.75, 0.9], label=('name', 'person')),\n",
              " AR(value=0.0, score_threshold=0.5, ious=[0.5, 0.75, 0.9], label=('supercategory', 'person')),\n",
              " AR(value=0.0024509803921568627, score_threshold=0.5, ious=[0.5, 0.75, 0.9], label=('name', 'vase')),\n",
              " AR(value=0.007936507936507936, score_threshold=0.5, ious=[0.5, 0.75, 0.9], label=('name', 'refrigerator')),\n",
              " AR(value=0.0, score_threshold=0.5, ious=[0.5, 0.75, 0.9], label=('iscrowd', '0')),\n",
              " AR(value=0.0, score_threshold=0.5, ious=[0.5, 0.75, 0.9], label=('supercategory', 'indoor')),\n",
              " AR(value=0.003386004514672686, score_threshold=0.5, ious=[0.5, 0.75, 0.9], label=('name', 'chair')),\n",
              " AR(value=0.018583042973286876, score_threshold=0.5, ious=[0.5, 0.75, 0.9], label=('name', 'tv')),\n",
              " AR(value=0.0029325513196480943, score_threshold=0.5, ious=[0.5, 0.75, 0.9], label=('name', 'potted plant')),\n",
              " AR(value=0.056338028169014086, score_threshold=0.5, ious=[0.5, 0.75, 0.9], label=('name', 'bear')),\n",
              " AR(value=0.0, score_threshold=0.5, ious=[0.5, 0.75, 0.9], label=('supercategory', 'animal')),\n",
              " AR(value=0.0, score_threshold=0.5, ious=[0.5, 0.75, 0.9], label=('iscrowd', '1')),\n",
              " AR(value=0.000326797385620915, score_threshold=0.5, ious=[0.5, 0.75, 0.9], label=('name', 'bottle')),\n",
              " AR(value=0.01875, score_threshold=0.5, ious=[0.5, 0.75, 0.9], label=('name', 'bed')),\n",
              " AR(value=0.0, score_threshold=0.5, ious=[0.5, 0.75, 0.9], label=('supercategory', 'outdoor')),\n",
              " AR(value=0.001563314226159458, score_threshold=0.5, ious=[0.5, 0.75, 0.9], label=('name', 'car')),\n",
              " AR(value=0.011965811965811965, score_threshold=0.5, ious=[0.5, 0.75, 0.9], label=('name', 'truck')),\n",
              " AR(value=0.0, score_threshold=0.5, ious=[0.5, 0.75, 0.9], label=('supercategory', 'vehicle')),\n",
              " AR(value=0.04888888888888889, score_threshold=0.5, ious=[0.5, 0.75, 0.9], label=('name', 'stop sign')),\n",
              " AR(value=0.0331588132635253, score_threshold=0.5, ious=[0.5, 0.75, 0.9], label=('name', 'teddy bear')),\n",
              " AR(value=0.0, score_threshold=0.5, ious=[0.5, 0.75, 0.9], label=('name', 'skis')),\n",
              " AR(value=0.0, score_threshold=0.5, ious=[0.5, 0.75, 0.9], label=('supercategory', 'sports')),\n",
              " AR(value=0.011820330969267141, score_threshold=0.5, ious=[0.5, 0.75, 0.9], label=('name', 'oven')),\n",
              " AR(value=0.0012674271229404308, score_threshold=0.5, ious=[0.5, 0.75, 0.9], label=('name', 'sports ball')),\n",
              " AR(value=0.006756756756756757, score_threshold=0.5, ious=[0.5, 0.75, 0.9], label=('name', 'baseball glove')),\n",
              " AR(value=0.0044444444444444444, score_threshold=0.5, ious=[0.5, 0.75, 0.9], label=('name', 'tennis racket')),\n",
              " AR(value=0.0, score_threshold=0.5, ious=[0.5, 0.75, 0.9], label=('name', 'handbag')),\n",
              " AR(value=0.000925925925925926, score_threshold=0.5, ious=[0.5, 0.75, 0.9], label=('name', 'backpack')),\n",
              " AR(value=0.0, score_threshold=0.5, ious=[0.5, 0.75, 0.9], label=('supercategory', 'accessory')),\n",
              " AR(value=0.0012771392081736908, score_threshold=0.5, ious=[0.5, 0.75, 0.9], label=('name', 'cell phone')),\n",
              " AR(value=0.0015503875968992248, score_threshold=0.5, ious=[0.5, 0.75, 0.9], label=('name', 'boat')),\n",
              " AR(value=0.00607441154138193, score_threshold=0.5, ious=[0.5, 0.75, 0.9], label=('name', 'bird')),\n",
              " AR(value=0.03880070546737213, score_threshold=0.5, ious=[0.5, 0.75, 0.9], label=('name', 'train')),\n",
              " AR(value=0.03155818540433925, score_threshold=0.5, ious=[0.5, 0.75, 0.9], label=('name', 'sandwich')),\n",
              " AR(value=0.01288244766505636, score_threshold=0.5, ious=[0.5, 0.75, 0.9], label=('name', 'bowl')),\n",
              " AR(value=0.0, score_threshold=0.5, ious=[0.5, 0.75, 0.9], label=('supercategory', 'kitchen')),\n",
              " AR(value=0.005780346820809248, score_threshold=0.5, ious=[0.5, 0.75, 0.9], label=('name', 'cup')),\n",
              " AR(value=0.0, score_threshold=0.5, ious=[0.5, 0.75, 0.9], label=('supercategory', 'food')),\n",
              " AR(value=0.0024968789013732834, score_threshold=0.5, ious=[0.5, 0.75, 0.9], label=('name', 'surfboard')),\n",
              " AR(value=0.002178649237472767, score_threshold=0.5, ious=[0.5, 0.75, 0.9], label=('name', 'keyboard')),\n",
              " AR(value=0.04678362573099415, score_threshold=0.5, ious=[0.5, 0.75, 0.9], label=('name', 'laptop')),\n",
              " AR(value=0.0, score_threshold=0.5, ious=[0.5, 0.75, 0.9], label=('name', 'mouse')),\n",
              " AR(value=0.0005232862375719519, score_threshold=0.5, ious=[0.5, 0.75, 0.9], label=('name', 'traffic light')),\n",
              " AR(value=0.020531400966183572, score_threshold=0.5, ious=[0.5, 0.75, 0.9], label=('name', 'bus')),\n",
              " AR(value=0.04040404040404041, score_threshold=0.5, ious=[0.5, 0.75, 0.9], label=('name', 'cat')),\n",
              " AR(value=0.006993006993006993, score_threshold=0.5, ious=[0.5, 0.75, 0.9], label=('name', 'airplane')),\n",
              " AR(value=0.04477611940298507, score_threshold=0.5, ious=[0.5, 0.75, 0.9], label=('name', 'zebra')),\n",
              " AR(value=0.0013227513227513227, score_threshold=0.5, ious=[0.5, 0.75, 0.9], label=('name', 'tie')),\n",
              " AR(value=0.005625879043600562, score_threshold=0.5, ious=[0.5, 0.75, 0.9], label=('name', 'apple')),\n",
              " AR(value=0.00228310502283105, score_threshold=0.5, ious=[0.5, 0.75, 0.9], label=('name', 'baseball bat')),\n",
              " AR(value=0.006389776357827476, score_threshold=0.5, ious=[0.5, 0.75, 0.9], label=('name', 'cake')),\n",
              " AR(value=0.0, score_threshold=0.5, ious=[0.5, 0.75, 0.9], label=('name', 'knife')),\n",
              " AR(value=0.0029411764705882353, score_threshold=0.5, ious=[0.5, 0.75, 0.9], label=('name', 'wine glass')),\n",
              " AR(value=0.0, score_threshold=0.5, ious=[0.5, 0.75, 0.9], label=('name', 'spoon')),\n",
              " AR(value=0.0, score_threshold=0.5, ious=[0.5, 0.75, 0.9], label=('name', 'snowboard')),\n",
              " AR(value=0.014970059880239521, score_threshold=0.5, ious=[0.5, 0.75, 0.9], label=('name', 'donut')),\n",
              " AR(value=0.003527336860670194, score_threshold=0.5, ious=[0.5, 0.75, 0.9], label=('name', 'banana')),\n",
              " AR(value=0.01303538175046555, score_threshold=0.5, ious=[0.5, 0.75, 0.9], label=('name', 'toilet')),\n",
              " AR(value=0.0, score_threshold=0.5, ious=[0.5, 0.75, 0.9], label=('name', 'sink')),\n",
              " AR(value=0.010615711252653927, score_threshold=0.5, ious=[0.5, 0.75, 0.9], label=('name', 'broccoli')),\n",
              " AR(value=0.002457002457002457, score_threshold=0.5, ious=[0.5, 0.75, 0.9], label=('name', 'bench')),\n",
              " AR(value=0.00931098696461825, score_threshold=0.5, ious=[0.5, 0.75, 0.9], label=('name', 'skateboard')),\n",
              " AR(value=0.00273224043715847, score_threshold=0.5, ious=[0.5, 0.75, 0.9], label=('name', 'carrot')),\n",
              " AR(value=0.0015503875968992248, score_threshold=0.5, ious=[0.5, 0.75, 0.9], label=('name', 'fork')),\n",
              " AR(value=0.005398110661268556, score_threshold=0.5, ious=[0.5, 0.75, 0.9], label=('name', 'couch')),\n",
              " AR(value=0.0, score_threshold=0.5, ious=[0.5, 0.75, 0.9], label=('name', 'remote')),\n",
              " AR(value=0.007383966244725738, score_threshold=0.5, ious=[0.5, 0.75, 0.9], label=('name', 'bicycle')),\n",
              " AR(value=0.019047619047619046, score_threshold=0.5, ious=[0.5, 0.75, 0.9], label=('name', 'scissors')),\n",
              " AR(value=0.01056338028169014, score_threshold=0.5, ious=[0.5, 0.75, 0.9], label=('name', 'orange')),\n",
              " AR(value=0.013850415512465375, score_threshold=0.5, ious=[0.5, 0.75, 0.9], label=('name', 'sheep')),\n",
              " AR(value=0.03529411764705882, score_threshold=0.5, ious=[0.5, 0.75, 0.9], label=('name', 'elephant')),\n",
              " AR(value=0.002898550724637681, score_threshold=0.5, ious=[0.5, 0.75, 0.9], label=('name', 'frisbee')),\n",
              " AR(value=0.011299435028248588, score_threshold=0.5, ious=[0.5, 0.75, 0.9], label=('name', 'umbrella')),\n",
              " AR(value=0.02442002442002442, score_threshold=0.5, ious=[0.5, 0.75, 0.9], label=('name', 'horse')),\n",
              " AR(value=0.04012345679012346, score_threshold=0.5, ious=[0.5, 0.75, 0.9], label=('name', 'dog')),\n",
              " AR(value=0.018867924528301886, score_threshold=0.5, ious=[0.5, 0.75, 0.9], label=('name', 'motorcycle')),\n",
              " AR(value=0.005952380952380952, score_threshold=0.5, ious=[0.5, 0.75, 0.9], label=('name', 'kite')),\n",
              " AR(value=0.0270906949352179, score_threshold=0.5, ious=[0.5, 0.75, 0.9], label=('name', 'pizza')),\n",
              " AR(value=0.011524822695035462, score_threshold=0.5, ious=[0.5, 0.75, 0.9], label=('name', 'cow')),\n",
              " AR(value=0.0033003300330033004, score_threshold=0.5, ious=[0.5, 0.75, 0.9], label=('name', 'fire hydrant')),\n",
              " AR(value=0.007856341189674524, score_threshold=0.5, ious=[0.5, 0.75, 0.9], label=('name', 'suitcase')),\n",
              " AR(value=0.035919540229885055, score_threshold=0.5, ious=[0.5, 0.75, 0.9], label=('name', 'giraffe')),\n",
              " AR(value=0.008264462809917356, score_threshold=0.5, ious=[0.5, 0.75, 0.9], label=('name', 'hot dog')),\n",
              " AR(value=0.0, score_threshold=0.5, ious=[0.5, 0.75, 0.9], label=('name', 'parking meter')),\n",
              " AR(value=0.0, score_threshold=0.5, ious=[0.5, 0.75, 0.9], label=('name', 'toothbrush')),\n",
              " AR(value=0.0, score_threshold=0.5, ious=[0.5, 0.75, 0.9], label=('name', 'toaster')),\n",
              " AR(value=0.0, score_threshold=0.5, ious=[0.5, 0.75, 0.9], label=('name', 'hair drier'))]"
            ]
          },
          "execution_count": 6,
          "metadata": {},
          "output_type": "execute_result"
        }
      ],
      "source": [
        "metrics[MetricType.AR]"
      ]
    },
    {
      "cell_type": "code",
      "execution_count": 7,
      "id": "8a3bc015",
      "metadata": {},
      "outputs": [
        {
          "data": {
            "text/plain": [
              "[mAR(value=0.011576985171305032, score_threshold=0.5, ious=[0.5, 0.75, 0.9], label_key='name')]"
            ]
          },
          "execution_count": 7,
          "metadata": {},
          "output_type": "execute_result"
        }
      ],
      "source": [
        "metrics[MetricType.mAR]"
      ]
    },
    {
      "cell_type": "code",
      "execution_count": 11,
      "id": "ec56ab6e",
      "metadata": {},
      "outputs": [
        {
          "data": {
            "image/png": "[encoded data removed]",
            "text/plain": [
              "<Figure size 640x480 with 1 Axes>"
            ]
          },
          "metadata": {},
          "output_type": "display_data"
        }
      ],
      "source": [
        "dining_table = metrics[MetricType.PrecisionRecallCurve][4]\n",
        "\n",
        "precision = dining_table.precision\n",
        "recall = [x / 100 for x in range(0,101)]\n",
        "\n",
        "plt.plot(recall, precision)\n",
        "plt.title(\"Precision-Recall Curve\")\n",
        "plt.show()"
      ]
    }
  ],
  "metadata": {
    "kernelspec": {
      "display_name": ".env-valor",
      "language": "python",
      "name": "python3"
    },
    "language_info": {
      "codemirror_mode": {
        "name": "ipython",
        "version": 3
      },
      "file_extension": ".py",
      "mimetype": "text/x-python",
      "name": "python",
      "nbconvert_exporter": "python",
      "pygments_lexer": "ipython3",
      "version": "3.10.12"
    }
  },
  "nbformat": 4,
  "nbformat_minor": 5
}
